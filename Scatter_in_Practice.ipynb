{
  "nbformat": 4,
  "nbformat_minor": 0,
  "metadata": {
    "colab": {
      "name": "Scatter_in_Practice.ipynb",
      "version": "0.3.2",
      "provenance": [],
      "include_colab_link": true
    },
    "kernelspec": {
      "name": "python3",
      "display_name": "Python 3"
    }
  },
  "cells": [
    {
      "cell_type": "markdown",
      "metadata": {
        "id": "view-in-github",
        "colab_type": "text"
      },
      "source": [
        "<a href=\"https://colab.research.google.com/github/chawlaKat/Notebook-Noodlings/blob/master/Scatter_in_Practice.ipynb\" target=\"_parent\"><img src=\"https://colab.research.google.com/assets/colab-badge.svg\" alt=\"Open In Colab\"/></a>"
      ]
    },
    {
      "cell_type": "code",
      "metadata": {
        "id": "j7X1v8epO4Rh",
        "colab_type": "code",
        "colab": {
          "base_uri": "https://localhost:8080/",
          "height": 173
        },
        "outputId": "1f460689-cada-408d-a15c-e694d0b0944c"
      },
      "source": [
        "pip install liac-arff"
      ],
      "execution_count": 3,
      "outputs": [
        {
          "output_type": "stream",
          "text": [
            "Collecting liac-arff\n",
            "  Downloading https://files.pythonhosted.org/packages/e9/35/fbc9217cfa91d98888b43e1a19c03a50d716108c58494c558c65e308f372/liac-arff-2.4.0.tar.gz\n",
            "Building wheels for collected packages: liac-arff\n",
            "  Building wheel for liac-arff (setup.py) ... \u001b[?25l\u001b[?25hdone\n",
            "  Stored in directory: /root/.cache/pip/wheels/d1/6a/e7/529dc54d76ecede4346164a09ae3168df358945612710f5203\n",
            "Successfully built liac-arff\n",
            "Installing collected packages: liac-arff\n",
            "Successfully installed liac-arff-2.4.0\n"
          ],
          "name": "stdout"
        }
      ]
    },
    {
      "cell_type": "code",
      "metadata": {
        "id": "kQYZsmM2RT-t",
        "colab_type": "code",
        "colab": {}
      },
      "source": [
        "import bark_to_byte as bb\n",
        "import scatterable as sc\n",
        "import altair as alt"
      ],
      "execution_count": 0,
      "outputs": []
    },
    {
      "cell_type": "code",
      "metadata": {
        "id": "3vHq64PIRZbP",
        "colab_type": "code",
        "colab": {}
      },
      "source": [
        "alg_source = bb.arff_to_dataframe('algorithm_runs.arff')"
      ],
      "execution_count": 0,
      "outputs": []
    },
    {
      "cell_type": "code",
      "metadata": {
        "id": "u-FyKVHRRmmi",
        "colab_type": "code",
        "outputId": "562a8192-4163-4d9f-a797-97ad1204b70b",
        "colab": {
          "base_uri": "https://localhost:8080/",
          "height": 309
        }
      },
      "source": [
        "alg_rekeyed = alg_source.set_index('instance_id')\n",
        "alg_joined = alg_rekeyed.join(alg_rekeyed, lsuffix='_x', rsuffix='_y')\n",
        "alg_joined.reset_index(inplace = True)\n",
        "alg_joined.head()"
      ],
      "execution_count": 11,
      "outputs": [
        {
          "output_type": "execute_result",
          "data": {
            "text/html": [
              "<div>\n",
              "<style scoped>\n",
              "    .dataframe tbody tr th:only-of-type {\n",
              "        vertical-align: middle;\n",
              "    }\n",
              "\n",
              "    .dataframe tbody tr th {\n",
              "        vertical-align: top;\n",
              "    }\n",
              "\n",
              "    .dataframe thead th {\n",
              "        text-align: right;\n",
              "    }\n",
              "</style>\n",
              "<table border=\"1\" class=\"dataframe\">\n",
              "  <thead>\n",
              "    <tr style=\"text-align: right;\">\n",
              "      <th></th>\n",
              "      <th>instance_id</th>\n",
              "      <th>repetition_x</th>\n",
              "      <th>algorithm_x</th>\n",
              "      <th>solution_quality_x</th>\n",
              "      <th>runstatus_x</th>\n",
              "      <th>repetition_y</th>\n",
              "      <th>algorithm_y</th>\n",
              "      <th>solution_quality_y</th>\n",
              "      <th>runstatus_y</th>\n",
              "    </tr>\n",
              "  </thead>\n",
              "  <tbody>\n",
              "    <tr>\n",
              "      <th>0</th>\n",
              "      <td>a280_n1395_bounded-strongly-corr_01.ttp</td>\n",
              "      <td>1.0</td>\n",
              "      <td>S1</td>\n",
              "      <td>0.75696</td>\n",
              "      <td>ok</td>\n",
              "      <td>1.0</td>\n",
              "      <td>S1</td>\n",
              "      <td>0.756960</td>\n",
              "      <td>ok</td>\n",
              "    </tr>\n",
              "    <tr>\n",
              "      <th>1</th>\n",
              "      <td>a280_n1395_bounded-strongly-corr_01.ttp</td>\n",
              "      <td>1.0</td>\n",
              "      <td>S1</td>\n",
              "      <td>0.75696</td>\n",
              "      <td>ok</td>\n",
              "      <td>1.0</td>\n",
              "      <td>S2</td>\n",
              "      <td>0.969272</td>\n",
              "      <td>ok</td>\n",
              "    </tr>\n",
              "    <tr>\n",
              "      <th>2</th>\n",
              "      <td>a280_n1395_bounded-strongly-corr_01.ttp</td>\n",
              "      <td>1.0</td>\n",
              "      <td>S1</td>\n",
              "      <td>0.75696</td>\n",
              "      <td>ok</td>\n",
              "      <td>1.0</td>\n",
              "      <td>S3</td>\n",
              "      <td>0.767275</td>\n",
              "      <td>ok</td>\n",
              "    </tr>\n",
              "    <tr>\n",
              "      <th>3</th>\n",
              "      <td>a280_n1395_bounded-strongly-corr_01.ttp</td>\n",
              "      <td>1.0</td>\n",
              "      <td>S1</td>\n",
              "      <td>0.75696</td>\n",
              "      <td>ok</td>\n",
              "      <td>1.0</td>\n",
              "      <td>S4</td>\n",
              "      <td>0.756756</td>\n",
              "      <td>ok</td>\n",
              "    </tr>\n",
              "    <tr>\n",
              "      <th>4</th>\n",
              "      <td>a280_n1395_bounded-strongly-corr_01.ttp</td>\n",
              "      <td>1.0</td>\n",
              "      <td>S1</td>\n",
              "      <td>0.75696</td>\n",
              "      <td>ok</td>\n",
              "      <td>1.0</td>\n",
              "      <td>S5</td>\n",
              "      <td>1.000000</td>\n",
              "      <td>ok</td>\n",
              "    </tr>\n",
              "  </tbody>\n",
              "</table>\n",
              "</div>"
            ],
            "text/plain": [
              "                               instance_id  ...  runstatus_y\n",
              "0  a280_n1395_bounded-strongly-corr_01.ttp  ...           ok\n",
              "1  a280_n1395_bounded-strongly-corr_01.ttp  ...           ok\n",
              "2  a280_n1395_bounded-strongly-corr_01.ttp  ...           ok\n",
              "3  a280_n1395_bounded-strongly-corr_01.ttp  ...           ok\n",
              "4  a280_n1395_bounded-strongly-corr_01.ttp  ...           ok\n",
              "\n",
              "[5 rows x 9 columns]"
            ]
          },
          "metadata": {
            "tags": []
          },
          "execution_count": 11
        }
      ]
    },
    {
      "cell_type": "code",
      "metadata": {
        "id": "uWFmo7HxSFST",
        "colab_type": "code",
        "colab": {}
      },
      "source": [
        "graph = sc.create_comparative_scatter(alg_joined, 'instance_id', \n",
        "                                      'algorithm_x', 'algorithm_y', \n",
        "                                      'solution_quality_x', 'solution_quality_y',\n",
        "                                      'runstatus_x', 'runstatus_y',\n",
        "                                      ['#ffe200', '#f5ffff', '#6600db', '#11182b'])"
      ],
      "execution_count": 0,
      "outputs": []
    },
    {
      "cell_type": "code",
      "metadata": {
        "id": "n9KFXelRSnW_",
        "colab_type": "code",
        "colab": {}
      },
      "source": [
        "alt.data_transformers.disable_max_rows()\n",
        "graph"
      ],
      "execution_count": 0,
      "outputs": []
    },
    {
      "cell_type": "code",
      "metadata": {
        "id": "aXACzMIdSn6Y",
        "colab_type": "code",
        "colab": {}
      },
      "source": [
        ""
      ],
      "execution_count": 0,
      "outputs": []
    }
  ]
}