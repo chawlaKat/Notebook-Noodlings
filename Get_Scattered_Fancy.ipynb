{
  "nbformat": 4,
  "nbformat_minor": 0,
  "metadata": {
    "colab": {
      "name": "Get_Scattered_Fancy.ipynb",
      "version": "0.3.2",
      "provenance": [],
      "include_colab_link": true
    },
    "kernelspec": {
      "name": "python3",
      "display_name": "Python 3"
    }
  },
  "cells": [
    {
      "cell_type": "markdown",
      "metadata": {
        "id": "view-in-github",
        "colab_type": "text"
      },
      "source": [
        "<a href=\"https://colab.research.google.com/github/chawlaKat/Notebook-Noodlings/blob/master/Get_Scattered_Fancy.ipynb\" target=\"_parent\"><img src=\"https://colab.research.google.com/assets/colab-badge.svg\" alt=\"Open In Colab\"/></a>"
      ]
    },
    {
      "cell_type": "markdown",
      "metadata": {
        "id": "XeuG4xsM10Ko",
        "colab_type": "text"
      },
      "source": [
        "[insert intro here]\n",
        "\n",
        "get_scattered got too long\n",
        "\n",
        "im trying to make a decent-looking interactive scatter plot from .arff data"
      ]
    },
    {
      "cell_type": "code",
      "metadata": {
        "id": "PN_8F9XFzcQp",
        "colab_type": "code",
        "colab": {
          "base_uri": "https://localhost:8080/",
          "height": 173
        },
        "outputId": "0baf7f25-6b8f-42a5-d567-dbec1966ba19"
      },
      "source": [
        "pip install liac_arff"
      ],
      "execution_count": 2,
      "outputs": [
        {
          "output_type": "stream",
          "text": [
            "Collecting liac_arff\n",
            "  Downloading https://files.pythonhosted.org/packages/e9/35/fbc9217cfa91d98888b43e1a19c03a50d716108c58494c558c65e308f372/liac-arff-2.4.0.tar.gz\n",
            "Building wheels for collected packages: liac-arff\n",
            "  Building wheel for liac-arff (setup.py) ... \u001b[?25l\u001b[?25hdone\n",
            "  Stored in directory: /root/.cache/pip/wheels/d1/6a/e7/529dc54d76ecede4346164a09ae3168df358945612710f5203\n",
            "Successfully built liac-arff\n",
            "Installing collected packages: liac-arff\n",
            "Successfully installed liac-arff-2.4.0\n"
          ],
          "name": "stdout"
        }
      ]
    },
    {
      "cell_type": "code",
      "metadata": {
        "id": "xGUCRjhU2E9p",
        "colab_type": "code",
        "colab": {}
      },
      "source": [
        "import bark_to_byte as bb\n",
        "import altair as alt\n",
        "import pandas as pd"
      ],
      "execution_count": 0,
      "outputs": []
    },
    {
      "cell_type": "code",
      "metadata": {
        "id": "AseI55eO2OkF",
        "colab_type": "code",
        "colab": {}
      },
      "source": [
        "algSource = bb.arff_to_dataframe('abstracted_algorithm_runs.arff')"
      ],
      "execution_count": 0,
      "outputs": []
    },
    {
      "cell_type": "code",
      "metadata": {
        "id": "QhCXPoyt2fe5",
        "colab_type": "code",
        "colab": {}
      },
      "source": [
        "alg_rekeyed = algSource.set_index('instance_id')\n",
        "alg_joined = alg_rekeyed.join(alg_rekeyed, lsuffix='_x', rsuffix='_y')\n",
        "alg_joined.reset_index(inplace=True)"
      ],
      "execution_count": 0,
      "outputs": []
    },
    {
      "cell_type": "code",
      "metadata": {
        "id": "emf6sfHG4SMT",
        "colab_type": "code",
        "colab": {}
      },
      "source": [
        "four_colors = ['#ffe200', '#f5ffff', '#6600db', '#11182b']\n",
        "three_colors = ['#dd1f75', '#fda900', '#2a4dac']\n",
        "three_colors_alt = ['#6754ad', '#ffffff', '#2d5d00']"
      ],
      "execution_count": 0,
      "outputs": []
    },
    {
      "cell_type": "code",
      "metadata": {
        "id": "wMWjTEwO2gLn",
        "colab_type": "code",
        "colab": {}
      },
      "source": [
        "def make_graph(data_source, x_axis, y_axis, point_marker = 'circle'):\n",
        "  \n",
        "  if(point_marker == 'circle'):\n",
        "      new_graph = alt.Chart(data_source).mark_circle(size=60).encode(\n",
        "          x = x_axis,\n",
        "          y = y_axis\n",
        "      )\n",
        "      \n",
        "  elif(point_marker == 'rect'):\n",
        "      new_graph = alt.Chart(data_source).mark_rect().encode(\n",
        "          x = x_axis,\n",
        "          y = y_axis\n",
        "      )\n",
        "      \n",
        "  elif(point_marker == 'bar'):\n",
        "      new_graph = alt.Chart(data_source).mark_bar().encode(\n",
        "          x = x_axis,\n",
        "          y = y_axis\n",
        "      )\n",
        "    \n",
        "  else:\n",
        "      new_graph = alt.Chart(data_source).mark_point().encode(\n",
        "          x = x_axis,\n",
        "          y = y_axis\n",
        "      )\n",
        "  \n",
        "  return new_graph"
      ],
      "execution_count": 0,
      "outputs": []
    },
    {
      "cell_type": "code",
      "metadata": {
        "id": "OZXDC89t2o7J",
        "colab_type": "code",
        "colab": {}
      },
      "source": [
        "def make_dropdown(data_source, column, name_prefix):\n",
        "  opts = list(data_source[column].unique())\n",
        "  dropdown = alt.binding_select(options = opts)\n",
        "  select = alt.selection_single(fields = [column],\n",
        "                                bind = dropdown,\n",
        "                                name = name_prefix\n",
        "                               )\n",
        "  \n",
        "  return select"
      ],
      "execution_count": 0,
      "outputs": []
    },
    {
      "cell_type": "code",
      "metadata": {
        "id": "bxLlK_o75Afl",
        "colab_type": "code",
        "colab": {}
      },
      "source": [
        "def make_color_scheme(data_source, column, colors):\n",
        "  scheme_domain = list(data_source[column].unique())\n",
        "  scheme_range = colors\n",
        "  \n",
        "  scheme_scale = alt.Scale(domain = scheme_domain,\n",
        "                    range = scheme_range)\n",
        "  \n",
        "  color_scheme = alt.Color(column,\n",
        "                           legend = None,\n",
        "                           scale = scheme_scale)\n",
        "  \n",
        "  return color_scheme"
      ],
      "execution_count": 0,
      "outputs": []
    },
    {
      "cell_type": "markdown",
      "metadata": {
        "id": "U0xxLyIu5ALH",
        "colab_type": "text"
      },
      "source": [
        ""
      ]
    },
    {
      "cell_type": "code",
      "metadata": {
        "id": "ZySo8xez2uR2",
        "colab_type": "code",
        "colab": {
          "base_uri": "https://localhost:8080/",
          "height": 424
        },
        "outputId": "90656055-ee8c-4b27-e8d2-cb540c1cdd79"
      },
      "source": [
        "algChart = make_graph(algSource, 'algorithm', 'sum(runtime)', 'bar')\n",
        "\n",
        "algChart"
      ],
      "execution_count": 15,
      "outputs": [
        {
          "output_type": "execute_result",
          "data": {
            "text/plain": [
              "Chart({\n",
              "  data:    instance_id  repetition       algorithm   runtime runstatus\n",
              "  0   Instance_0         1.0     algorithm_0  3600.000    memout\n",
              "  1   Instance_0         1.0     algorithm_1  3600.000    memout\n",
              "  2   Instance_0         1.0  id_algorithm_0   311.863        ok\n",
              "  3   Instance_0         1.0  id_algorithm_1  3600.000   timeout\n",
              "  4   Instance_1         1.0     algorithm_0  3600.000    memout\n",
              "  5   Instance_1         1.0     algorithm_1  3600.000    memout\n",
              "  6   Instance_1         1.0  id_algorithm_0    78.121        ok\n",
              "  7   Instance_1         1.0  id_algorithm_1   600.402        ok\n",
              "  8   Instance_2         1.0     algorithm_0  3600.000    memout\n",
              "  9   Instance_2         1.0     algorithm_1  3600.000    memout\n",
              "  10  Instance_2         1.0  id_algorithm_0     0.012        ok\n",
              "  11  Instance_2         1.0  id_algorithm_1    60.720        ok\n",
              "  12  Instance_3         1.0     algorithm_0  3600.000    memout\n",
              "  13  Instance_3         1.0     algorithm_1    92.986        ok\n",
              "  14  Instance_3         1.0  id_algorithm_0  2031.039        ok\n",
              "  15  Instance_3         1.0  id_algorithm_1   141.857        ok\n",
              "  16  Instance_4         1.0     algorithm_0  3600.000    memout\n",
              "  17  Instance_4         1.0     algorithm_1  3600.000    memout\n",
              "  18  Instance_4         1.0  id_algorithm_0   422.530        ok\n",
              "  19  Instance_4         1.0  id_algorithm_1  3600.000   timeout\n",
              "  20  Instance_5         1.0     algorithm_0   182.019        ok\n",
              "  21  Instance_5         1.0     algorithm_1  3600.000    memout\n",
              "  22  Instance_5         1.0  id_algorithm_0    66.988        ok\n",
              "  23  Instance_5         1.0  id_algorithm_1   249.488        ok,\n",
              "  encoding: FacetedEncoding({\n",
              "    x: X({\n",
              "      field: 'algorithm',\n",
              "      type: 'nominal'\n",
              "    }),\n",
              "    y: Y({\n",
              "      aggregate: 'sum',\n",
              "      field: 'runtime',\n",
              "      type: 'quantitative'\n",
              "    })\n",
              "  }),\n",
              "  mark: 'bar'\n",
              "})"
            ],
            "text/html": [
              "<!DOCTYPE html>\n",
              "<html>\n",
              "<head>\n",
              "  <style>\n",
              "    .vega-actions a {\n",
              "        margin-right: 12px;\n",
              "        color: #757575;\n",
              "        font-weight: normal;\n",
              "        font-size: 13px;\n",
              "    }\n",
              "    .error {\n",
              "        color: red;\n",
              "    }\n",
              "  </style>\n",
              "  <script type=\"text/javascript\" src=\"https://cdn.jsdelivr.net/npm//vega@5\"></script>\n",
              "  <script type=\"text/javascript\" src=\"https://cdn.jsdelivr.net/npm//vega-lite@3.3.0\"></script>\n",
              "  <script type=\"text/javascript\" src=\"https://cdn.jsdelivr.net/npm//vega-embed@4\"></script>\n",
              "</head>\n",
              "<body>\n",
              "  <div id=\"altair-viz\"></div>\n",
              "  <script>\n",
              "      var spec = {\"config\": {\"view\": {\"width\": 400, \"height\": 300}, \"mark\": {\"tooltip\": null}}, \"data\": {\"name\": \"data-c4275514345efec21b7aeb848c42e09b\"}, \"mark\": \"bar\", \"encoding\": {\"x\": {\"type\": \"nominal\", \"field\": \"algorithm\"}, \"y\": {\"type\": \"quantitative\", \"aggregate\": \"sum\", \"field\": \"runtime\"}}, \"$schema\": \"https://vega.github.io/schema/vega-lite/v3.3.0.json\", \"datasets\": {\"data-c4275514345efec21b7aeb848c42e09b\": [{\"instance_id\": \"Instance_0\", \"repetition\": 1.0, \"algorithm\": \"algorithm_0\", \"runtime\": 3600.0, \"runstatus\": \"memout\"}, {\"instance_id\": \"Instance_0\", \"repetition\": 1.0, \"algorithm\": \"algorithm_1\", \"runtime\": 3600.0, \"runstatus\": \"memout\"}, {\"instance_id\": \"Instance_0\", \"repetition\": 1.0, \"algorithm\": \"id_algorithm_0\", \"runtime\": 311.863, \"runstatus\": \"ok\"}, {\"instance_id\": \"Instance_0\", \"repetition\": 1.0, \"algorithm\": \"id_algorithm_1\", \"runtime\": 3600.0, \"runstatus\": \"timeout\"}, {\"instance_id\": \"Instance_1\", \"repetition\": 1.0, \"algorithm\": \"algorithm_0\", \"runtime\": 3600.0, \"runstatus\": \"memout\"}, {\"instance_id\": \"Instance_1\", \"repetition\": 1.0, \"algorithm\": \"algorithm_1\", \"runtime\": 3600.0, \"runstatus\": \"memout\"}, {\"instance_id\": \"Instance_1\", \"repetition\": 1.0, \"algorithm\": \"id_algorithm_0\", \"runtime\": 78.121, \"runstatus\": \"ok\"}, {\"instance_id\": \"Instance_1\", \"repetition\": 1.0, \"algorithm\": \"id_algorithm_1\", \"runtime\": 600.402, \"runstatus\": \"ok\"}, {\"instance_id\": \"Instance_2\", \"repetition\": 1.0, \"algorithm\": \"algorithm_0\", \"runtime\": 3600.0, \"runstatus\": \"memout\"}, {\"instance_id\": \"Instance_2\", \"repetition\": 1.0, \"algorithm\": \"algorithm_1\", \"runtime\": 3600.0, \"runstatus\": \"memout\"}, {\"instance_id\": \"Instance_2\", \"repetition\": 1.0, \"algorithm\": \"id_algorithm_0\", \"runtime\": 0.012, \"runstatus\": \"ok\"}, {\"instance_id\": \"Instance_2\", \"repetition\": 1.0, \"algorithm\": \"id_algorithm_1\", \"runtime\": 60.72, \"runstatus\": \"ok\"}, {\"instance_id\": \"Instance_3\", \"repetition\": 1.0, \"algorithm\": \"algorithm_0\", \"runtime\": 3600.0, \"runstatus\": \"memout\"}, {\"instance_id\": \"Instance_3\", \"repetition\": 1.0, \"algorithm\": \"algorithm_1\", \"runtime\": 92.986, \"runstatus\": \"ok\"}, {\"instance_id\": \"Instance_3\", \"repetition\": 1.0, \"algorithm\": \"id_algorithm_0\", \"runtime\": 2031.039, \"runstatus\": \"ok\"}, {\"instance_id\": \"Instance_3\", \"repetition\": 1.0, \"algorithm\": \"id_algorithm_1\", \"runtime\": 141.857, \"runstatus\": \"ok\"}, {\"instance_id\": \"Instance_4\", \"repetition\": 1.0, \"algorithm\": \"algorithm_0\", \"runtime\": 3600.0, \"runstatus\": \"memout\"}, {\"instance_id\": \"Instance_4\", \"repetition\": 1.0, \"algorithm\": \"algorithm_1\", \"runtime\": 3600.0, \"runstatus\": \"memout\"}, {\"instance_id\": \"Instance_4\", \"repetition\": 1.0, \"algorithm\": \"id_algorithm_0\", \"runtime\": 422.53, \"runstatus\": \"ok\"}, {\"instance_id\": \"Instance_4\", \"repetition\": 1.0, \"algorithm\": \"id_algorithm_1\", \"runtime\": 3600.0, \"runstatus\": \"timeout\"}, {\"instance_id\": \"Instance_5\", \"repetition\": 1.0, \"algorithm\": \"algorithm_0\", \"runtime\": 182.019, \"runstatus\": \"ok\"}, {\"instance_id\": \"Instance_5\", \"repetition\": 1.0, \"algorithm\": \"algorithm_1\", \"runtime\": 3600.0, \"runstatus\": \"memout\"}, {\"instance_id\": \"Instance_5\", \"repetition\": 1.0, \"algorithm\": \"id_algorithm_0\", \"runtime\": 66.988, \"runstatus\": \"ok\"}, {\"instance_id\": \"Instance_5\", \"repetition\": 1.0, \"algorithm\": \"id_algorithm_1\", \"runtime\": 249.488, \"runstatus\": \"ok\"}]}};\n",
              "      var embedOpt = {\"mode\": \"vega-lite\"};\n",
              "\n",
              "      function showError(el, error){\n",
              "          el.innerHTML = ('<div class=\"error\" style=\"color:red;\">'\n",
              "                          + '<p>JavaScript Error: ' + error.message + '</p>'\n",
              "                          + \"<p>This usually means there's a typo in your chart specification. \"\n",
              "                          + \"See the javascript console for the full traceback.</p>\"\n",
              "                          + '</div>');\n",
              "          throw error;\n",
              "      }\n",
              "      const el = document.getElementById('altair-viz');\n",
              "      vegaEmbed(\"#altair-viz\", spec, embedOpt)\n",
              "        .catch(error => showError(el, error));\n",
              "\n",
              "  </script>\n",
              "</body>\n",
              "</html>"
            ]
          },
          "metadata": {
            "tags": []
          },
          "execution_count": 15
        }
      ]
    },
    {
      "cell_type": "code",
      "metadata": {
        "id": "sXB3fNN33GCd",
        "colab_type": "code",
        "colab": {
          "base_uri": "https://localhost:8080/",
          "height": 443
        },
        "outputId": "c0fcb86c-a4cf-4559-9d17-b11ef65c0bf4"
      },
      "source": [
        "instance_dropdown = make_dropdown(algSource, 'instance_id', 'in_id')\n",
        "\n",
        "algDropdown = algChart.add_selection(\n",
        "    instance_dropdown).transform_filter(\n",
        "    instance_dropdown)\n",
        "\n",
        "algDropdown"
      ],
      "execution_count": 18,
      "outputs": [
        {
          "output_type": "execute_result",
          "data": {
            "text/plain": [
              "Chart({\n",
              "  data:    instance_id  repetition       algorithm   runtime runstatus\n",
              "  0   Instance_0         1.0     algorithm_0  3600.000    memout\n",
              "  1   Instance_0         1.0     algorithm_1  3600.000    memout\n",
              "  2   Instance_0         1.0  id_algorithm_0   311.863        ok\n",
              "  3   Instance_0         1.0  id_algorithm_1  3600.000   timeout\n",
              "  4   Instance_1         1.0     algorithm_0  3600.000    memout\n",
              "  5   Instance_1         1.0     algorithm_1  3600.000    memout\n",
              "  6   Instance_1         1.0  id_algorithm_0    78.121        ok\n",
              "  7   Instance_1         1.0  id_algorithm_1   600.402        ok\n",
              "  8   Instance_2         1.0     algorithm_0  3600.000    memout\n",
              "  9   Instance_2         1.0     algorithm_1  3600.000    memout\n",
              "  10  Instance_2         1.0  id_algorithm_0     0.012        ok\n",
              "  11  Instance_2         1.0  id_algorithm_1    60.720        ok\n",
              "  12  Instance_3         1.0     algorithm_0  3600.000    memout\n",
              "  13  Instance_3         1.0     algorithm_1    92.986        ok\n",
              "  14  Instance_3         1.0  id_algorithm_0  2031.039        ok\n",
              "  15  Instance_3         1.0  id_algorithm_1   141.857        ok\n",
              "  16  Instance_4         1.0     algorithm_0  3600.000    memout\n",
              "  17  Instance_4         1.0     algorithm_1  3600.000    memout\n",
              "  18  Instance_4         1.0  id_algorithm_0   422.530        ok\n",
              "  19  Instance_4         1.0  id_algorithm_1  3600.000   timeout\n",
              "  20  Instance_5         1.0     algorithm_0   182.019        ok\n",
              "  21  Instance_5         1.0     algorithm_1  3600.000    memout\n",
              "  22  Instance_5         1.0  id_algorithm_0    66.988        ok\n",
              "  23  Instance_5         1.0  id_algorithm_1   249.488        ok,\n",
              "  encoding: FacetedEncoding({\n",
              "    x: X({\n",
              "      field: 'algorithm',\n",
              "      type: 'nominal'\n",
              "    }),\n",
              "    y: Y({\n",
              "      aggregate: 'sum',\n",
              "      field: 'runtime',\n",
              "      type: 'quantitative'\n",
              "    })\n",
              "  }),\n",
              "  mark: 'bar',\n",
              "  selection: {'in_id': SelectionDef({\n",
              "    bind: BindRadioSelect({\n",
              "      input: 'select',\n",
              "      options: ['Instance_0', 'Instance_1', 'Instance_2', 'Instance_3', 'Instance_4', 'Instance_5']\n",
              "    }),\n",
              "    fields: ['instance_id'],\n",
              "    type: 'single'\n",
              "  })},\n",
              "  transform: [FilterTransform({\n",
              "    filter: {'selection': 'in_id'}\n",
              "  })]\n",
              "})"
            ],
            "text/html": [
              "<!DOCTYPE html>\n",
              "<html>\n",
              "<head>\n",
              "  <style>\n",
              "    .vega-actions a {\n",
              "        margin-right: 12px;\n",
              "        color: #757575;\n",
              "        font-weight: normal;\n",
              "        font-size: 13px;\n",
              "    }\n",
              "    .error {\n",
              "        color: red;\n",
              "    }\n",
              "  </style>\n",
              "  <script type=\"text/javascript\" src=\"https://cdn.jsdelivr.net/npm//vega@5\"></script>\n",
              "  <script type=\"text/javascript\" src=\"https://cdn.jsdelivr.net/npm//vega-lite@3.3.0\"></script>\n",
              "  <script type=\"text/javascript\" src=\"https://cdn.jsdelivr.net/npm//vega-embed@4\"></script>\n",
              "</head>\n",
              "<body>\n",
              "  <div id=\"altair-viz\"></div>\n",
              "  <script>\n",
              "      var spec = {\"config\": {\"view\": {\"width\": 400, \"height\": 300}, \"mark\": {\"tooltip\": null}}, \"data\": {\"name\": \"data-c4275514345efec21b7aeb848c42e09b\"}, \"mark\": \"bar\", \"encoding\": {\"x\": {\"type\": \"nominal\", \"field\": \"algorithm\"}, \"y\": {\"type\": \"quantitative\", \"aggregate\": \"sum\", \"field\": \"runtime\"}}, \"selection\": {\"in_id\": {\"type\": \"single\", \"fields\": [\"instance_id\"], \"bind\": {\"input\": \"select\", \"options\": [\"Instance_0\", \"Instance_1\", \"Instance_2\", \"Instance_3\", \"Instance_4\", \"Instance_5\"]}}}, \"transform\": [{\"filter\": {\"selection\": \"in_id\"}}], \"$schema\": \"https://vega.github.io/schema/vega-lite/v3.3.0.json\", \"datasets\": {\"data-c4275514345efec21b7aeb848c42e09b\": [{\"instance_id\": \"Instance_0\", \"repetition\": 1.0, \"algorithm\": \"algorithm_0\", \"runtime\": 3600.0, \"runstatus\": \"memout\"}, {\"instance_id\": \"Instance_0\", \"repetition\": 1.0, \"algorithm\": \"algorithm_1\", \"runtime\": 3600.0, \"runstatus\": \"memout\"}, {\"instance_id\": \"Instance_0\", \"repetition\": 1.0, \"algorithm\": \"id_algorithm_0\", \"runtime\": 311.863, \"runstatus\": \"ok\"}, {\"instance_id\": \"Instance_0\", \"repetition\": 1.0, \"algorithm\": \"id_algorithm_1\", \"runtime\": 3600.0, \"runstatus\": \"timeout\"}, {\"instance_id\": \"Instance_1\", \"repetition\": 1.0, \"algorithm\": \"algorithm_0\", \"runtime\": 3600.0, \"runstatus\": \"memout\"}, {\"instance_id\": \"Instance_1\", \"repetition\": 1.0, \"algorithm\": \"algorithm_1\", \"runtime\": 3600.0, \"runstatus\": \"memout\"}, {\"instance_id\": \"Instance_1\", \"repetition\": 1.0, \"algorithm\": \"id_algorithm_0\", \"runtime\": 78.121, \"runstatus\": \"ok\"}, {\"instance_id\": \"Instance_1\", \"repetition\": 1.0, \"algorithm\": \"id_algorithm_1\", \"runtime\": 600.402, \"runstatus\": \"ok\"}, {\"instance_id\": \"Instance_2\", \"repetition\": 1.0, \"algorithm\": \"algorithm_0\", \"runtime\": 3600.0, \"runstatus\": \"memout\"}, {\"instance_id\": \"Instance_2\", \"repetition\": 1.0, \"algorithm\": \"algorithm_1\", \"runtime\": 3600.0, \"runstatus\": \"memout\"}, {\"instance_id\": \"Instance_2\", \"repetition\": 1.0, \"algorithm\": \"id_algorithm_0\", \"runtime\": 0.012, \"runstatus\": \"ok\"}, {\"instance_id\": \"Instance_2\", \"repetition\": 1.0, \"algorithm\": \"id_algorithm_1\", \"runtime\": 60.72, \"runstatus\": \"ok\"}, {\"instance_id\": \"Instance_3\", \"repetition\": 1.0, \"algorithm\": \"algorithm_0\", \"runtime\": 3600.0, \"runstatus\": \"memout\"}, {\"instance_id\": \"Instance_3\", \"repetition\": 1.0, \"algorithm\": \"algorithm_1\", \"runtime\": 92.986, \"runstatus\": \"ok\"}, {\"instance_id\": \"Instance_3\", \"repetition\": 1.0, \"algorithm\": \"id_algorithm_0\", \"runtime\": 2031.039, \"runstatus\": \"ok\"}, {\"instance_id\": \"Instance_3\", \"repetition\": 1.0, \"algorithm\": \"id_algorithm_1\", \"runtime\": 141.857, \"runstatus\": \"ok\"}, {\"instance_id\": \"Instance_4\", \"repetition\": 1.0, \"algorithm\": \"algorithm_0\", \"runtime\": 3600.0, \"runstatus\": \"memout\"}, {\"instance_id\": \"Instance_4\", \"repetition\": 1.0, \"algorithm\": \"algorithm_1\", \"runtime\": 3600.0, \"runstatus\": \"memout\"}, {\"instance_id\": \"Instance_4\", \"repetition\": 1.0, \"algorithm\": \"id_algorithm_0\", \"runtime\": 422.53, \"runstatus\": \"ok\"}, {\"instance_id\": \"Instance_4\", \"repetition\": 1.0, \"algorithm\": \"id_algorithm_1\", \"runtime\": 3600.0, \"runstatus\": \"timeout\"}, {\"instance_id\": \"Instance_5\", \"repetition\": 1.0, \"algorithm\": \"algorithm_0\", \"runtime\": 182.019, \"runstatus\": \"ok\"}, {\"instance_id\": \"Instance_5\", \"repetition\": 1.0, \"algorithm\": \"algorithm_1\", \"runtime\": 3600.0, \"runstatus\": \"memout\"}, {\"instance_id\": \"Instance_5\", \"repetition\": 1.0, \"algorithm\": \"id_algorithm_0\", \"runtime\": 66.988, \"runstatus\": \"ok\"}, {\"instance_id\": \"Instance_5\", \"repetition\": 1.0, \"algorithm\": \"id_algorithm_1\", \"runtime\": 249.488, \"runstatus\": \"ok\"}]}};\n",
              "      var embedOpt = {\"mode\": \"vega-lite\"};\n",
              "\n",
              "      function showError(el, error){\n",
              "          el.innerHTML = ('<div class=\"error\" style=\"color:red;\">'\n",
              "                          + '<p>JavaScript Error: ' + error.message + '</p>'\n",
              "                          + \"<p>This usually means there's a typo in your chart specification. \"\n",
              "                          + \"See the javascript console for the full traceback.</p>\"\n",
              "                          + '</div>');\n",
              "          throw error;\n",
              "      }\n",
              "      const el = document.getElementById('altair-viz');\n",
              "      vegaEmbed(\"#altair-viz\", spec, embedOpt)\n",
              "        .catch(error => showError(el, error));\n",
              "\n",
              "  </script>\n",
              "</body>\n",
              "</html>"
            ]
          },
          "metadata": {
            "tags": []
          },
          "execution_count": 18
        }
      ]
    },
    {
      "cell_type": "code",
      "metadata": {
        "id": "AJ-pj5UV338Z",
        "colab_type": "code",
        "colab": {
          "base_uri": "https://localhost:8080/",
          "height": 199
        },
        "outputId": "c67d98fd-e421-4c19-b98b-757b4f07ac7b"
      },
      "source": [
        "alg_legend = make_graph(alg_joined, 'algorithm_x', 'algorithm_y', 'rect')\n",
        "\n",
        "alg_legend"
      ],
      "execution_count": 20,
      "outputs": [
        {
          "output_type": "execute_result",
          "data": {
            "text/plain": [
              "Chart({\n",
              "  data:    instance_id  repetition_x  ... runtime_y  runstatus_y\n",
              "  0   Instance_0           1.0  ...  3600.000       memout\n",
              "  1   Instance_0           1.0  ...  3600.000       memout\n",
              "  2   Instance_0           1.0  ...   311.863           ok\n",
              "  3   Instance_0           1.0  ...  3600.000      timeout\n",
              "  4   Instance_0           1.0  ...  3600.000       memout\n",
              "  5   Instance_0           1.0  ...  3600.000       memout\n",
              "  6   Instance_0           1.0  ...   311.863           ok\n",
              "  7   Instance_0           1.0  ...  3600.000      timeout\n",
              "  8   Instance_0           1.0  ...  3600.000       memout\n",
              "  9   Instance_0           1.0  ...  3600.000       memout\n",
              "  10  Instance_0           1.0  ...   311.863           ok\n",
              "  11  Instance_0           1.0  ...  3600.000      timeout\n",
              "  12  Instance_0           1.0  ...  3600.000       memout\n",
              "  13  Instance_0           1.0  ...  3600.000       memout\n",
              "  14  Instance_0           1.0  ...   311.863           ok\n",
              "  15  Instance_0           1.0  ...  3600.000      timeout\n",
              "  16  Instance_1           1.0  ...  3600.000       memout\n",
              "  17  Instance_1           1.0  ...  3600.000       memout\n",
              "  18  Instance_1           1.0  ...    78.121           ok\n",
              "  19  Instance_1           1.0  ...   600.402           ok\n",
              "  20  Instance_1           1.0  ...  3600.000       memout\n",
              "  21  Instance_1           1.0  ...  3600.000       memout\n",
              "  22  Instance_1           1.0  ...    78.121           ok\n",
              "  23  Instance_1           1.0  ...   600.402           ok\n",
              "  24  Instance_1           1.0  ...  3600.000       memout\n",
              "  25  Instance_1           1.0  ...  3600.000       memout\n",
              "  26  Instance_1           1.0  ...    78.121           ok\n",
              "  27  Instance_1           1.0  ...   600.402           ok\n",
              "  28  Instance_1           1.0  ...  3600.000       memout\n",
              "  29  Instance_1           1.0  ...  3600.000       memout\n",
              "  ..         ...           ...  ...       ...          ...\n",
              "  66  Instance_4           1.0  ...   422.530           ok\n",
              "  67  Instance_4           1.0  ...  3600.000      timeout\n",
              "  68  Instance_4           1.0  ...  3600.000       memout\n",
              "  69  Instance_4           1.0  ...  3600.000       memout\n",
              "  70  Instance_4           1.0  ...   422.530           ok\n",
              "  71  Instance_4           1.0  ...  3600.000      timeout\n",
              "  72  Instance_4           1.0  ...  3600.000       memout\n",
              "  73  Instance_4           1.0  ...  3600.000       memout\n",
              "  74  Instance_4           1.0  ...   422.530           ok\n",
              "  75  Instance_4           1.0  ...  3600.000      timeout\n",
              "  76  Instance_4           1.0  ...  3600.000       memout\n",
              "  77  Instance_4           1.0  ...  3600.000       memout\n",
              "  78  Instance_4           1.0  ...   422.530           ok\n",
              "  79  Instance_4           1.0  ...  3600.000      timeout\n",
              "  80  Instance_5           1.0  ...   182.019           ok\n",
              "  81  Instance_5           1.0  ...  3600.000       memout\n",
              "  82  Instance_5           1.0  ...    66.988           ok\n",
              "  83  Instance_5           1.0  ...   249.488           ok\n",
              "  84  Instance_5           1.0  ...   182.019           ok\n",
              "  85  Instance_5           1.0  ...  3600.000       memout\n",
              "  86  Instance_5           1.0  ...    66.988           ok\n",
              "  87  Instance_5           1.0  ...   249.488           ok\n",
              "  88  Instance_5           1.0  ...   182.019           ok\n",
              "  89  Instance_5           1.0  ...  3600.000       memout\n",
              "  90  Instance_5           1.0  ...    66.988           ok\n",
              "  91  Instance_5           1.0  ...   249.488           ok\n",
              "  92  Instance_5           1.0  ...   182.019           ok\n",
              "  93  Instance_5           1.0  ...  3600.000       memout\n",
              "  94  Instance_5           1.0  ...    66.988           ok\n",
              "  95  Instance_5           1.0  ...   249.488           ok\n",
              "  \n",
              "  [96 rows x 9 columns],\n",
              "  encoding: FacetedEncoding({\n",
              "    x: X({\n",
              "      field: 'algorithm_x',\n",
              "      type: 'nominal'\n",
              "    }),\n",
              "    y: Y({\n",
              "      field: 'algorithm_y',\n",
              "      type: 'nominal'\n",
              "    })\n",
              "  }),\n",
              "  mark: 'rect'\n",
              "})"
            ],
            "text/html": [
              "<!DOCTYPE html>\n",
              "<html>\n",
              "<head>\n",
              "  <style>\n",
              "    .vega-actions a {\n",
              "        margin-right: 12px;\n",
              "        color: #757575;\n",
              "        font-weight: normal;\n",
              "        font-size: 13px;\n",
              "    }\n",
              "    .error {\n",
              "        color: red;\n",
              "    }\n",
              "  </style>\n",
              "  <script type=\"text/javascript\" src=\"https://cdn.jsdelivr.net/npm//vega@5\"></script>\n",
              "  <script type=\"text/javascript\" src=\"https://cdn.jsdelivr.net/npm//vega-lite@3.3.0\"></script>\n",
              "  <script type=\"text/javascript\" src=\"https://cdn.jsdelivr.net/npm//vega-embed@4\"></script>\n",
              "</head>\n",
              "<body>\n",
              "  <div id=\"altair-viz\"></div>\n",
              "  <script>\n",
              "      var spec = {\"config\": {\"view\": {\"width\": 400, \"height\": 300}, \"mark\": {\"tooltip\": null}}, \"data\": {\"name\": \"data-0a7e878f48e7332054167027ba880f6f\"}, \"mark\": \"rect\", \"encoding\": {\"x\": {\"type\": \"nominal\", \"field\": \"algorithm_x\"}, \"y\": {\"type\": \"nominal\", \"field\": \"algorithm_y\"}}, \"$schema\": \"https://vega.github.io/schema/vega-lite/v3.3.0.json\", \"datasets\": {\"data-0a7e878f48e7332054167027ba880f6f\": [{\"instance_id\": \"Instance_0\", \"repetition_x\": 1.0, \"algorithm_x\": \"algorithm_0\", \"runtime_x\": 3600.0, \"runstatus_x\": \"memout\", \"repetition_y\": 1.0, \"algorithm_y\": \"algorithm_0\", \"runtime_y\": 3600.0, \"runstatus_y\": \"memout\"}, {\"instance_id\": \"Instance_0\", \"repetition_x\": 1.0, \"algorithm_x\": \"algorithm_0\", \"runtime_x\": 3600.0, \"runstatus_x\": \"memout\", \"repetition_y\": 1.0, \"algorithm_y\": \"algorithm_1\", \"runtime_y\": 3600.0, \"runstatus_y\": \"memout\"}, {\"instance_id\": \"Instance_0\", \"repetition_x\": 1.0, \"algorithm_x\": \"algorithm_0\", \"runtime_x\": 3600.0, \"runstatus_x\": \"memout\", \"repetition_y\": 1.0, \"algorithm_y\": \"id_algorithm_0\", \"runtime_y\": 311.863, \"runstatus_y\": \"ok\"}, {\"instance_id\": \"Instance_0\", \"repetition_x\": 1.0, \"algorithm_x\": \"algorithm_0\", \"runtime_x\": 3600.0, \"runstatus_x\": \"memout\", \"repetition_y\": 1.0, \"algorithm_y\": \"id_algorithm_1\", \"runtime_y\": 3600.0, \"runstatus_y\": \"timeout\"}, {\"instance_id\": \"Instance_0\", \"repetition_x\": 1.0, \"algorithm_x\": \"algorithm_1\", \"runtime_x\": 3600.0, \"runstatus_x\": \"memout\", \"repetition_y\": 1.0, \"algorithm_y\": \"algorithm_0\", \"runtime_y\": 3600.0, \"runstatus_y\": \"memout\"}, {\"instance_id\": \"Instance_0\", \"repetition_x\": 1.0, \"algorithm_x\": \"algorithm_1\", \"runtime_x\": 3600.0, \"runstatus_x\": \"memout\", \"repetition_y\": 1.0, \"algorithm_y\": \"algorithm_1\", \"runtime_y\": 3600.0, \"runstatus_y\": \"memout\"}, {\"instance_id\": \"Instance_0\", \"repetition_x\": 1.0, \"algorithm_x\": \"algorithm_1\", \"runtime_x\": 3600.0, \"runstatus_x\": \"memout\", \"repetition_y\": 1.0, \"algorithm_y\": \"id_algorithm_0\", \"runtime_y\": 311.863, \"runstatus_y\": \"ok\"}, {\"instance_id\": \"Instance_0\", \"repetition_x\": 1.0, \"algorithm_x\": \"algorithm_1\", \"runtime_x\": 3600.0, \"runstatus_x\": \"memout\", \"repetition_y\": 1.0, \"algorithm_y\": \"id_algorithm_1\", \"runtime_y\": 3600.0, \"runstatus_y\": \"timeout\"}, {\"instance_id\": \"Instance_0\", \"repetition_x\": 1.0, \"algorithm_x\": \"id_algorithm_0\", \"runtime_x\": 311.863, \"runstatus_x\": \"ok\", \"repetition_y\": 1.0, \"algorithm_y\": \"algorithm_0\", \"runtime_y\": 3600.0, \"runstatus_y\": \"memout\"}, {\"instance_id\": \"Instance_0\", \"repetition_x\": 1.0, \"algorithm_x\": \"id_algorithm_0\", \"runtime_x\": 311.863, \"runstatus_x\": \"ok\", \"repetition_y\": 1.0, \"algorithm_y\": \"algorithm_1\", \"runtime_y\": 3600.0, \"runstatus_y\": \"memout\"}, {\"instance_id\": \"Instance_0\", \"repetition_x\": 1.0, \"algorithm_x\": \"id_algorithm_0\", \"runtime_x\": 311.863, \"runstatus_x\": \"ok\", \"repetition_y\": 1.0, \"algorithm_y\": \"id_algorithm_0\", \"runtime_y\": 311.863, \"runstatus_y\": \"ok\"}, {\"instance_id\": \"Instance_0\", \"repetition_x\": 1.0, \"algorithm_x\": \"id_algorithm_0\", \"runtime_x\": 311.863, \"runstatus_x\": \"ok\", \"repetition_y\": 1.0, \"algorithm_y\": \"id_algorithm_1\", \"runtime_y\": 3600.0, \"runstatus_y\": \"timeout\"}, {\"instance_id\": \"Instance_0\", \"repetition_x\": 1.0, \"algorithm_x\": \"id_algorithm_1\", \"runtime_x\": 3600.0, \"runstatus_x\": \"timeout\", \"repetition_y\": 1.0, \"algorithm_y\": \"algorithm_0\", \"runtime_y\": 3600.0, \"runstatus_y\": \"memout\"}, {\"instance_id\": \"Instance_0\", \"repetition_x\": 1.0, \"algorithm_x\": \"id_algorithm_1\", \"runtime_x\": 3600.0, \"runstatus_x\": \"timeout\", \"repetition_y\": 1.0, \"algorithm_y\": \"algorithm_1\", \"runtime_y\": 3600.0, \"runstatus_y\": \"memout\"}, {\"instance_id\": \"Instance_0\", \"repetition_x\": 1.0, \"algorithm_x\": \"id_algorithm_1\", \"runtime_x\": 3600.0, \"runstatus_x\": \"timeout\", \"repetition_y\": 1.0, \"algorithm_y\": \"id_algorithm_0\", \"runtime_y\": 311.863, \"runstatus_y\": \"ok\"}, {\"instance_id\": \"Instance_0\", \"repetition_x\": 1.0, \"algorithm_x\": \"id_algorithm_1\", \"runtime_x\": 3600.0, \"runstatus_x\": \"timeout\", \"repetition_y\": 1.0, \"algorithm_y\": \"id_algorithm_1\", \"runtime_y\": 3600.0, \"runstatus_y\": \"timeout\"}, {\"instance_id\": \"Instance_1\", \"repetition_x\": 1.0, \"algorithm_x\": \"algorithm_0\", \"runtime_x\": 3600.0, \"runstatus_x\": \"memout\", \"repetition_y\": 1.0, \"algorithm_y\": \"algorithm_0\", \"runtime_y\": 3600.0, \"runstatus_y\": \"memout\"}, {\"instance_id\": \"Instance_1\", \"repetition_x\": 1.0, \"algorithm_x\": \"algorithm_0\", \"runtime_x\": 3600.0, \"runstatus_x\": \"memout\", \"repetition_y\": 1.0, \"algorithm_y\": \"algorithm_1\", \"runtime_y\": 3600.0, \"runstatus_y\": \"memout\"}, {\"instance_id\": \"Instance_1\", \"repetition_x\": 1.0, \"algorithm_x\": \"algorithm_0\", \"runtime_x\": 3600.0, \"runstatus_x\": \"memout\", \"repetition_y\": 1.0, \"algorithm_y\": \"id_algorithm_0\", \"runtime_y\": 78.121, \"runstatus_y\": \"ok\"}, {\"instance_id\": \"Instance_1\", \"repetition_x\": 1.0, \"algorithm_x\": \"algorithm_0\", \"runtime_x\": 3600.0, \"runstatus_x\": \"memout\", \"repetition_y\": 1.0, \"algorithm_y\": \"id_algorithm_1\", \"runtime_y\": 600.402, \"runstatus_y\": \"ok\"}, {\"instance_id\": \"Instance_1\", \"repetition_x\": 1.0, \"algorithm_x\": \"algorithm_1\", \"runtime_x\": 3600.0, \"runstatus_x\": \"memout\", \"repetition_y\": 1.0, \"algorithm_y\": \"algorithm_0\", \"runtime_y\": 3600.0, \"runstatus_y\": \"memout\"}, {\"instance_id\": \"Instance_1\", \"repetition_x\": 1.0, \"algorithm_x\": \"algorithm_1\", \"runtime_x\": 3600.0, \"runstatus_x\": \"memout\", \"repetition_y\": 1.0, \"algorithm_y\": \"algorithm_1\", \"runtime_y\": 3600.0, \"runstatus_y\": \"memout\"}, {\"instance_id\": \"Instance_1\", \"repetition_x\": 1.0, \"algorithm_x\": \"algorithm_1\", \"runtime_x\": 3600.0, \"runstatus_x\": \"memout\", \"repetition_y\": 1.0, \"algorithm_y\": \"id_algorithm_0\", \"runtime_y\": 78.121, \"runstatus_y\": \"ok\"}, {\"instance_id\": \"Instance_1\", \"repetition_x\": 1.0, \"algorithm_x\": \"algorithm_1\", \"runtime_x\": 3600.0, \"runstatus_x\": \"memout\", \"repetition_y\": 1.0, \"algorithm_y\": \"id_algorithm_1\", \"runtime_y\": 600.402, \"runstatus_y\": \"ok\"}, {\"instance_id\": \"Instance_1\", \"repetition_x\": 1.0, \"algorithm_x\": \"id_algorithm_0\", \"runtime_x\": 78.121, \"runstatus_x\": \"ok\", \"repetition_y\": 1.0, \"algorithm_y\": \"algorithm_0\", \"runtime_y\": 3600.0, \"runstatus_y\": \"memout\"}, {\"instance_id\": \"Instance_1\", \"repetition_x\": 1.0, \"algorithm_x\": \"id_algorithm_0\", \"runtime_x\": 78.121, \"runstatus_x\": \"ok\", \"repetition_y\": 1.0, \"algorithm_y\": \"algorithm_1\", \"runtime_y\": 3600.0, \"runstatus_y\": \"memout\"}, {\"instance_id\": \"Instance_1\", \"repetition_x\": 1.0, \"algorithm_x\": \"id_algorithm_0\", \"runtime_x\": 78.121, \"runstatus_x\": \"ok\", \"repetition_y\": 1.0, \"algorithm_y\": \"id_algorithm_0\", \"runtime_y\": 78.121, \"runstatus_y\": \"ok\"}, {\"instance_id\": \"Instance_1\", \"repetition_x\": 1.0, \"algorithm_x\": \"id_algorithm_0\", \"runtime_x\": 78.121, \"runstatus_x\": \"ok\", \"repetition_y\": 1.0, \"algorithm_y\": \"id_algorithm_1\", \"runtime_y\": 600.402, \"runstatus_y\": \"ok\"}, {\"instance_id\": \"Instance_1\", \"repetition_x\": 1.0, \"algorithm_x\": \"id_algorithm_1\", \"runtime_x\": 600.402, \"runstatus_x\": \"ok\", \"repetition_y\": 1.0, \"algorithm_y\": \"algorithm_0\", \"runtime_y\": 3600.0, \"runstatus_y\": \"memout\"}, {\"instance_id\": \"Instance_1\", \"repetition_x\": 1.0, \"algorithm_x\": \"id_algorithm_1\", \"runtime_x\": 600.402, \"runstatus_x\": \"ok\", \"repetition_y\": 1.0, \"algorithm_y\": \"algorithm_1\", \"runtime_y\": 3600.0, \"runstatus_y\": \"memout\"}, {\"instance_id\": \"Instance_1\", \"repetition_x\": 1.0, \"algorithm_x\": \"id_algorithm_1\", \"runtime_x\": 600.402, \"runstatus_x\": \"ok\", \"repetition_y\": 1.0, \"algorithm_y\": \"id_algorithm_0\", \"runtime_y\": 78.121, \"runstatus_y\": \"ok\"}, {\"instance_id\": \"Instance_1\", \"repetition_x\": 1.0, \"algorithm_x\": \"id_algorithm_1\", \"runtime_x\": 600.402, \"runstatus_x\": \"ok\", \"repetition_y\": 1.0, \"algorithm_y\": \"id_algorithm_1\", \"runtime_y\": 600.402, \"runstatus_y\": \"ok\"}, {\"instance_id\": \"Instance_2\", \"repetition_x\": 1.0, \"algorithm_x\": \"algorithm_0\", \"runtime_x\": 3600.0, \"runstatus_x\": \"memout\", \"repetition_y\": 1.0, \"algorithm_y\": \"algorithm_0\", \"runtime_y\": 3600.0, \"runstatus_y\": \"memout\"}, {\"instance_id\": \"Instance_2\", \"repetition_x\": 1.0, \"algorithm_x\": \"algorithm_0\", \"runtime_x\": 3600.0, \"runstatus_x\": \"memout\", \"repetition_y\": 1.0, \"algorithm_y\": \"algorithm_1\", \"runtime_y\": 3600.0, \"runstatus_y\": \"memout\"}, {\"instance_id\": \"Instance_2\", \"repetition_x\": 1.0, \"algorithm_x\": \"algorithm_0\", \"runtime_x\": 3600.0, \"runstatus_x\": \"memout\", \"repetition_y\": 1.0, \"algorithm_y\": \"id_algorithm_0\", \"runtime_y\": 0.012, \"runstatus_y\": \"ok\"}, {\"instance_id\": \"Instance_2\", \"repetition_x\": 1.0, \"algorithm_x\": \"algorithm_0\", \"runtime_x\": 3600.0, \"runstatus_x\": \"memout\", \"repetition_y\": 1.0, \"algorithm_y\": \"id_algorithm_1\", \"runtime_y\": 60.72, \"runstatus_y\": \"ok\"}, {\"instance_id\": \"Instance_2\", \"repetition_x\": 1.0, \"algorithm_x\": \"algorithm_1\", \"runtime_x\": 3600.0, \"runstatus_x\": \"memout\", \"repetition_y\": 1.0, \"algorithm_y\": \"algorithm_0\", \"runtime_y\": 3600.0, \"runstatus_y\": \"memout\"}, {\"instance_id\": \"Instance_2\", \"repetition_x\": 1.0, \"algorithm_x\": \"algorithm_1\", \"runtime_x\": 3600.0, \"runstatus_x\": \"memout\", \"repetition_y\": 1.0, \"algorithm_y\": \"algorithm_1\", \"runtime_y\": 3600.0, \"runstatus_y\": \"memout\"}, {\"instance_id\": \"Instance_2\", \"repetition_x\": 1.0, \"algorithm_x\": \"algorithm_1\", \"runtime_x\": 3600.0, \"runstatus_x\": \"memout\", \"repetition_y\": 1.0, \"algorithm_y\": \"id_algorithm_0\", \"runtime_y\": 0.012, \"runstatus_y\": \"ok\"}, {\"instance_id\": \"Instance_2\", \"repetition_x\": 1.0, \"algorithm_x\": \"algorithm_1\", \"runtime_x\": 3600.0, \"runstatus_x\": \"memout\", \"repetition_y\": 1.0, \"algorithm_y\": \"id_algorithm_1\", \"runtime_y\": 60.72, \"runstatus_y\": \"ok\"}, {\"instance_id\": \"Instance_2\", \"repetition_x\": 1.0, \"algorithm_x\": \"id_algorithm_0\", \"runtime_x\": 0.012, \"runstatus_x\": \"ok\", \"repetition_y\": 1.0, \"algorithm_y\": \"algorithm_0\", \"runtime_y\": 3600.0, \"runstatus_y\": \"memout\"}, {\"instance_id\": \"Instance_2\", \"repetition_x\": 1.0, \"algorithm_x\": \"id_algorithm_0\", \"runtime_x\": 0.012, \"runstatus_x\": \"ok\", \"repetition_y\": 1.0, \"algorithm_y\": \"algorithm_1\", \"runtime_y\": 3600.0, \"runstatus_y\": \"memout\"}, {\"instance_id\": \"Instance_2\", \"repetition_x\": 1.0, \"algorithm_x\": \"id_algorithm_0\", \"runtime_x\": 0.012, \"runstatus_x\": \"ok\", \"repetition_y\": 1.0, \"algorithm_y\": \"id_algorithm_0\", \"runtime_y\": 0.012, \"runstatus_y\": \"ok\"}, {\"instance_id\": \"Instance_2\", \"repetition_x\": 1.0, \"algorithm_x\": \"id_algorithm_0\", \"runtime_x\": 0.012, \"runstatus_x\": \"ok\", \"repetition_y\": 1.0, \"algorithm_y\": \"id_algorithm_1\", \"runtime_y\": 60.72, \"runstatus_y\": \"ok\"}, {\"instance_id\": \"Instance_2\", \"repetition_x\": 1.0, \"algorithm_x\": \"id_algorithm_1\", \"runtime_x\": 60.72, \"runstatus_x\": \"ok\", \"repetition_y\": 1.0, \"algorithm_y\": \"algorithm_0\", \"runtime_y\": 3600.0, \"runstatus_y\": \"memout\"}, {\"instance_id\": \"Instance_2\", \"repetition_x\": 1.0, \"algorithm_x\": \"id_algorithm_1\", \"runtime_x\": 60.72, \"runstatus_x\": \"ok\", \"repetition_y\": 1.0, \"algorithm_y\": \"algorithm_1\", \"runtime_y\": 3600.0, \"runstatus_y\": \"memout\"}, {\"instance_id\": \"Instance_2\", \"repetition_x\": 1.0, \"algorithm_x\": \"id_algorithm_1\", \"runtime_x\": 60.72, \"runstatus_x\": \"ok\", \"repetition_y\": 1.0, \"algorithm_y\": \"id_algorithm_0\", \"runtime_y\": 0.012, \"runstatus_y\": \"ok\"}, {\"instance_id\": \"Instance_2\", \"repetition_x\": 1.0, \"algorithm_x\": \"id_algorithm_1\", \"runtime_x\": 60.72, \"runstatus_x\": \"ok\", \"repetition_y\": 1.0, \"algorithm_y\": \"id_algorithm_1\", \"runtime_y\": 60.72, \"runstatus_y\": \"ok\"}, {\"instance_id\": \"Instance_3\", \"repetition_x\": 1.0, \"algorithm_x\": \"algorithm_0\", \"runtime_x\": 3600.0, \"runstatus_x\": \"memout\", \"repetition_y\": 1.0, \"algorithm_y\": \"algorithm_0\", \"runtime_y\": 3600.0, \"runstatus_y\": \"memout\"}, {\"instance_id\": \"Instance_3\", \"repetition_x\": 1.0, \"algorithm_x\": \"algorithm_0\", \"runtime_x\": 3600.0, \"runstatus_x\": \"memout\", \"repetition_y\": 1.0, \"algorithm_y\": \"algorithm_1\", \"runtime_y\": 92.986, \"runstatus_y\": \"ok\"}, {\"instance_id\": \"Instance_3\", \"repetition_x\": 1.0, \"algorithm_x\": \"algorithm_0\", \"runtime_x\": 3600.0, \"runstatus_x\": \"memout\", \"repetition_y\": 1.0, \"algorithm_y\": \"id_algorithm_0\", \"runtime_y\": 2031.039, \"runstatus_y\": \"ok\"}, {\"instance_id\": \"Instance_3\", \"repetition_x\": 1.0, \"algorithm_x\": \"algorithm_0\", \"runtime_x\": 3600.0, \"runstatus_x\": \"memout\", \"repetition_y\": 1.0, \"algorithm_y\": \"id_algorithm_1\", \"runtime_y\": 141.857, \"runstatus_y\": \"ok\"}, {\"instance_id\": \"Instance_3\", \"repetition_x\": 1.0, \"algorithm_x\": \"algorithm_1\", \"runtime_x\": 92.986, \"runstatus_x\": \"ok\", \"repetition_y\": 1.0, \"algorithm_y\": \"algorithm_0\", \"runtime_y\": 3600.0, \"runstatus_y\": \"memout\"}, {\"instance_id\": \"Instance_3\", \"repetition_x\": 1.0, \"algorithm_x\": \"algorithm_1\", \"runtime_x\": 92.986, \"runstatus_x\": \"ok\", \"repetition_y\": 1.0, \"algorithm_y\": \"algorithm_1\", \"runtime_y\": 92.986, \"runstatus_y\": \"ok\"}, {\"instance_id\": \"Instance_3\", \"repetition_x\": 1.0, \"algorithm_x\": \"algorithm_1\", \"runtime_x\": 92.986, \"runstatus_x\": \"ok\", \"repetition_y\": 1.0, \"algorithm_y\": \"id_algorithm_0\", \"runtime_y\": 2031.039, \"runstatus_y\": \"ok\"}, {\"instance_id\": \"Instance_3\", \"repetition_x\": 1.0, \"algorithm_x\": \"algorithm_1\", \"runtime_x\": 92.986, \"runstatus_x\": \"ok\", \"repetition_y\": 1.0, \"algorithm_y\": \"id_algorithm_1\", \"runtime_y\": 141.857, \"runstatus_y\": \"ok\"}, {\"instance_id\": \"Instance_3\", \"repetition_x\": 1.0, \"algorithm_x\": \"id_algorithm_0\", \"runtime_x\": 2031.039, \"runstatus_x\": \"ok\", \"repetition_y\": 1.0, \"algorithm_y\": \"algorithm_0\", \"runtime_y\": 3600.0, \"runstatus_y\": \"memout\"}, {\"instance_id\": \"Instance_3\", \"repetition_x\": 1.0, \"algorithm_x\": \"id_algorithm_0\", \"runtime_x\": 2031.039, \"runstatus_x\": \"ok\", \"repetition_y\": 1.0, \"algorithm_y\": \"algorithm_1\", \"runtime_y\": 92.986, \"runstatus_y\": \"ok\"}, {\"instance_id\": \"Instance_3\", \"repetition_x\": 1.0, \"algorithm_x\": \"id_algorithm_0\", \"runtime_x\": 2031.039, \"runstatus_x\": \"ok\", \"repetition_y\": 1.0, \"algorithm_y\": \"id_algorithm_0\", \"runtime_y\": 2031.039, \"runstatus_y\": \"ok\"}, {\"instance_id\": \"Instance_3\", \"repetition_x\": 1.0, \"algorithm_x\": \"id_algorithm_0\", \"runtime_x\": 2031.039, \"runstatus_x\": \"ok\", \"repetition_y\": 1.0, \"algorithm_y\": \"id_algorithm_1\", \"runtime_y\": 141.857, \"runstatus_y\": \"ok\"}, {\"instance_id\": \"Instance_3\", \"repetition_x\": 1.0, \"algorithm_x\": \"id_algorithm_1\", \"runtime_x\": 141.857, \"runstatus_x\": \"ok\", \"repetition_y\": 1.0, \"algorithm_y\": \"algorithm_0\", \"runtime_y\": 3600.0, \"runstatus_y\": \"memout\"}, {\"instance_id\": \"Instance_3\", \"repetition_x\": 1.0, \"algorithm_x\": \"id_algorithm_1\", \"runtime_x\": 141.857, \"runstatus_x\": \"ok\", \"repetition_y\": 1.0, \"algorithm_y\": \"algorithm_1\", \"runtime_y\": 92.986, \"runstatus_y\": \"ok\"}, {\"instance_id\": \"Instance_3\", \"repetition_x\": 1.0, \"algorithm_x\": \"id_algorithm_1\", \"runtime_x\": 141.857, \"runstatus_x\": \"ok\", \"repetition_y\": 1.0, \"algorithm_y\": \"id_algorithm_0\", \"runtime_y\": 2031.039, \"runstatus_y\": \"ok\"}, {\"instance_id\": \"Instance_3\", \"repetition_x\": 1.0, \"algorithm_x\": \"id_algorithm_1\", \"runtime_x\": 141.857, \"runstatus_x\": \"ok\", \"repetition_y\": 1.0, \"algorithm_y\": \"id_algorithm_1\", \"runtime_y\": 141.857, \"runstatus_y\": \"ok\"}, {\"instance_id\": \"Instance_4\", \"repetition_x\": 1.0, \"algorithm_x\": \"algorithm_0\", \"runtime_x\": 3600.0, \"runstatus_x\": \"memout\", \"repetition_y\": 1.0, \"algorithm_y\": \"algorithm_0\", \"runtime_y\": 3600.0, \"runstatus_y\": \"memout\"}, {\"instance_id\": \"Instance_4\", \"repetition_x\": 1.0, \"algorithm_x\": \"algorithm_0\", \"runtime_x\": 3600.0, \"runstatus_x\": \"memout\", \"repetition_y\": 1.0, \"algorithm_y\": \"algorithm_1\", \"runtime_y\": 3600.0, \"runstatus_y\": \"memout\"}, {\"instance_id\": \"Instance_4\", \"repetition_x\": 1.0, \"algorithm_x\": \"algorithm_0\", \"runtime_x\": 3600.0, \"runstatus_x\": \"memout\", \"repetition_y\": 1.0, \"algorithm_y\": \"id_algorithm_0\", \"runtime_y\": 422.53, \"runstatus_y\": \"ok\"}, {\"instance_id\": \"Instance_4\", \"repetition_x\": 1.0, \"algorithm_x\": \"algorithm_0\", \"runtime_x\": 3600.0, \"runstatus_x\": \"memout\", \"repetition_y\": 1.0, \"algorithm_y\": \"id_algorithm_1\", \"runtime_y\": 3600.0, \"runstatus_y\": \"timeout\"}, {\"instance_id\": \"Instance_4\", \"repetition_x\": 1.0, \"algorithm_x\": \"algorithm_1\", \"runtime_x\": 3600.0, \"runstatus_x\": \"memout\", \"repetition_y\": 1.0, \"algorithm_y\": \"algorithm_0\", \"runtime_y\": 3600.0, \"runstatus_y\": \"memout\"}, {\"instance_id\": \"Instance_4\", \"repetition_x\": 1.0, \"algorithm_x\": \"algorithm_1\", \"runtime_x\": 3600.0, \"runstatus_x\": \"memout\", \"repetition_y\": 1.0, \"algorithm_y\": \"algorithm_1\", \"runtime_y\": 3600.0, \"runstatus_y\": \"memout\"}, {\"instance_id\": \"Instance_4\", \"repetition_x\": 1.0, \"algorithm_x\": \"algorithm_1\", \"runtime_x\": 3600.0, \"runstatus_x\": \"memout\", \"repetition_y\": 1.0, \"algorithm_y\": \"id_algorithm_0\", \"runtime_y\": 422.53, \"runstatus_y\": \"ok\"}, {\"instance_id\": \"Instance_4\", \"repetition_x\": 1.0, \"algorithm_x\": \"algorithm_1\", \"runtime_x\": 3600.0, \"runstatus_x\": \"memout\", \"repetition_y\": 1.0, \"algorithm_y\": \"id_algorithm_1\", \"runtime_y\": 3600.0, \"runstatus_y\": \"timeout\"}, {\"instance_id\": \"Instance_4\", \"repetition_x\": 1.0, \"algorithm_x\": \"id_algorithm_0\", \"runtime_x\": 422.53, \"runstatus_x\": \"ok\", \"repetition_y\": 1.0, \"algorithm_y\": \"algorithm_0\", \"runtime_y\": 3600.0, \"runstatus_y\": \"memout\"}, {\"instance_id\": \"Instance_4\", \"repetition_x\": 1.0, \"algorithm_x\": \"id_algorithm_0\", \"runtime_x\": 422.53, \"runstatus_x\": \"ok\", \"repetition_y\": 1.0, \"algorithm_y\": \"algorithm_1\", \"runtime_y\": 3600.0, \"runstatus_y\": \"memout\"}, {\"instance_id\": \"Instance_4\", \"repetition_x\": 1.0, \"algorithm_x\": \"id_algorithm_0\", \"runtime_x\": 422.53, \"runstatus_x\": \"ok\", \"repetition_y\": 1.0, \"algorithm_y\": \"id_algorithm_0\", \"runtime_y\": 422.53, \"runstatus_y\": \"ok\"}, {\"instance_id\": \"Instance_4\", \"repetition_x\": 1.0, \"algorithm_x\": \"id_algorithm_0\", \"runtime_x\": 422.53, \"runstatus_x\": \"ok\", \"repetition_y\": 1.0, \"algorithm_y\": \"id_algorithm_1\", \"runtime_y\": 3600.0, \"runstatus_y\": \"timeout\"}, {\"instance_id\": \"Instance_4\", \"repetition_x\": 1.0, \"algorithm_x\": \"id_algorithm_1\", \"runtime_x\": 3600.0, \"runstatus_x\": \"timeout\", \"repetition_y\": 1.0, \"algorithm_y\": \"algorithm_0\", \"runtime_y\": 3600.0, \"runstatus_y\": \"memout\"}, {\"instance_id\": \"Instance_4\", \"repetition_x\": 1.0, \"algorithm_x\": \"id_algorithm_1\", \"runtime_x\": 3600.0, \"runstatus_x\": \"timeout\", \"repetition_y\": 1.0, \"algorithm_y\": \"algorithm_1\", \"runtime_y\": 3600.0, \"runstatus_y\": \"memout\"}, {\"instance_id\": \"Instance_4\", \"repetition_x\": 1.0, \"algorithm_x\": \"id_algorithm_1\", \"runtime_x\": 3600.0, \"runstatus_x\": \"timeout\", \"repetition_y\": 1.0, \"algorithm_y\": \"id_algorithm_0\", \"runtime_y\": 422.53, \"runstatus_y\": \"ok\"}, {\"instance_id\": \"Instance_4\", \"repetition_x\": 1.0, \"algorithm_x\": \"id_algorithm_1\", \"runtime_x\": 3600.0, \"runstatus_x\": \"timeout\", \"repetition_y\": 1.0, \"algorithm_y\": \"id_algorithm_1\", \"runtime_y\": 3600.0, \"runstatus_y\": \"timeout\"}, {\"instance_id\": \"Instance_5\", \"repetition_x\": 1.0, \"algorithm_x\": \"algorithm_0\", \"runtime_x\": 182.019, \"runstatus_x\": \"ok\", \"repetition_y\": 1.0, \"algorithm_y\": \"algorithm_0\", \"runtime_y\": 182.019, \"runstatus_y\": \"ok\"}, {\"instance_id\": \"Instance_5\", \"repetition_x\": 1.0, \"algorithm_x\": \"algorithm_0\", \"runtime_x\": 182.019, \"runstatus_x\": \"ok\", \"repetition_y\": 1.0, \"algorithm_y\": \"algorithm_1\", \"runtime_y\": 3600.0, \"runstatus_y\": \"memout\"}, {\"instance_id\": \"Instance_5\", \"repetition_x\": 1.0, \"algorithm_x\": \"algorithm_0\", \"runtime_x\": 182.019, \"runstatus_x\": \"ok\", \"repetition_y\": 1.0, \"algorithm_y\": \"id_algorithm_0\", \"runtime_y\": 66.988, \"runstatus_y\": \"ok\"}, {\"instance_id\": \"Instance_5\", \"repetition_x\": 1.0, \"algorithm_x\": \"algorithm_0\", \"runtime_x\": 182.019, \"runstatus_x\": \"ok\", \"repetition_y\": 1.0, \"algorithm_y\": \"id_algorithm_1\", \"runtime_y\": 249.488, \"runstatus_y\": \"ok\"}, {\"instance_id\": \"Instance_5\", \"repetition_x\": 1.0, \"algorithm_x\": \"algorithm_1\", \"runtime_x\": 3600.0, \"runstatus_x\": \"memout\", \"repetition_y\": 1.0, \"algorithm_y\": \"algorithm_0\", \"runtime_y\": 182.019, \"runstatus_y\": \"ok\"}, {\"instance_id\": \"Instance_5\", \"repetition_x\": 1.0, \"algorithm_x\": \"algorithm_1\", \"runtime_x\": 3600.0, \"runstatus_x\": \"memout\", \"repetition_y\": 1.0, \"algorithm_y\": \"algorithm_1\", \"runtime_y\": 3600.0, \"runstatus_y\": \"memout\"}, {\"instance_id\": \"Instance_5\", \"repetition_x\": 1.0, \"algorithm_x\": \"algorithm_1\", \"runtime_x\": 3600.0, \"runstatus_x\": \"memout\", \"repetition_y\": 1.0, \"algorithm_y\": \"id_algorithm_0\", \"runtime_y\": 66.988, \"runstatus_y\": \"ok\"}, {\"instance_id\": \"Instance_5\", \"repetition_x\": 1.0, \"algorithm_x\": \"algorithm_1\", \"runtime_x\": 3600.0, \"runstatus_x\": \"memout\", \"repetition_y\": 1.0, \"algorithm_y\": \"id_algorithm_1\", \"runtime_y\": 249.488, \"runstatus_y\": \"ok\"}, {\"instance_id\": \"Instance_5\", \"repetition_x\": 1.0, \"algorithm_x\": \"id_algorithm_0\", \"runtime_x\": 66.988, \"runstatus_x\": \"ok\", \"repetition_y\": 1.0, \"algorithm_y\": \"algorithm_0\", \"runtime_y\": 182.019, \"runstatus_y\": \"ok\"}, {\"instance_id\": \"Instance_5\", \"repetition_x\": 1.0, \"algorithm_x\": \"id_algorithm_0\", \"runtime_x\": 66.988, \"runstatus_x\": \"ok\", \"repetition_y\": 1.0, \"algorithm_y\": \"algorithm_1\", \"runtime_y\": 3600.0, \"runstatus_y\": \"memout\"}, {\"instance_id\": \"Instance_5\", \"repetition_x\": 1.0, \"algorithm_x\": \"id_algorithm_0\", \"runtime_x\": 66.988, \"runstatus_x\": \"ok\", \"repetition_y\": 1.0, \"algorithm_y\": \"id_algorithm_0\", \"runtime_y\": 66.988, \"runstatus_y\": \"ok\"}, {\"instance_id\": \"Instance_5\", \"repetition_x\": 1.0, \"algorithm_x\": \"id_algorithm_0\", \"runtime_x\": 66.988, \"runstatus_x\": \"ok\", \"repetition_y\": 1.0, \"algorithm_y\": \"id_algorithm_1\", \"runtime_y\": 249.488, \"runstatus_y\": \"ok\"}, {\"instance_id\": \"Instance_5\", \"repetition_x\": 1.0, \"algorithm_x\": \"id_algorithm_1\", \"runtime_x\": 249.488, \"runstatus_x\": \"ok\", \"repetition_y\": 1.0, \"algorithm_y\": \"algorithm_0\", \"runtime_y\": 182.019, \"runstatus_y\": \"ok\"}, {\"instance_id\": \"Instance_5\", \"repetition_x\": 1.0, \"algorithm_x\": \"id_algorithm_1\", \"runtime_x\": 249.488, \"runstatus_x\": \"ok\", \"repetition_y\": 1.0, \"algorithm_y\": \"algorithm_1\", \"runtime_y\": 3600.0, \"runstatus_y\": \"memout\"}, {\"instance_id\": \"Instance_5\", \"repetition_x\": 1.0, \"algorithm_x\": \"id_algorithm_1\", \"runtime_x\": 249.488, \"runstatus_x\": \"ok\", \"repetition_y\": 1.0, \"algorithm_y\": \"id_algorithm_0\", \"runtime_y\": 66.988, \"runstatus_y\": \"ok\"}, {\"instance_id\": \"Instance_5\", \"repetition_x\": 1.0, \"algorithm_x\": \"id_algorithm_1\", \"runtime_x\": 249.488, \"runstatus_x\": \"ok\", \"repetition_y\": 1.0, \"algorithm_y\": \"id_algorithm_1\", \"runtime_y\": 249.488, \"runstatus_y\": \"ok\"}]}};\n",
              "      var embedOpt = {\"mode\": \"vega-lite\"};\n",
              "\n",
              "      function showError(el, error){\n",
              "          el.innerHTML = ('<div class=\"error\" style=\"color:red;\">'\n",
              "                          + '<p>JavaScript Error: ' + error.message + '</p>'\n",
              "                          + \"<p>This usually means there's a typo in your chart specification. \"\n",
              "                          + \"See the javascript console for the full traceback.</p>\"\n",
              "                          + '</div>');\n",
              "          throw error;\n",
              "      }\n",
              "      const el = document.getElementById('altair-viz');\n",
              "      vegaEmbed(\"#altair-viz\", spec, embedOpt)\n",
              "        .catch(error => showError(el, error));\n",
              "\n",
              "  </script>\n",
              "</body>\n",
              "</html>"
            ]
          },
          "metadata": {
            "tags": []
          },
          "execution_count": 20
        }
      ]
    },
    {
      "cell_type": "code",
      "metadata": {
        "id": "_hSkCDd_4xU0",
        "colab_type": "code",
        "colab": {
          "base_uri": "https://localhost:8080/",
          "height": 199
        },
        "outputId": "0f04cbe8-b8b1-43a9-eaf5-276e9872cfed"
      },
      "source": [
        "alg_colors = make_color_scheme(alg_joined, 'algorithm_y', four_colors)\n",
        "\n",
        "alg_legend_colored = alg_legend.encode(\n",
        "    color = alg_colors\n",
        ")\n",
        "\n",
        "alg_legend_colored"
      ],
      "execution_count": 24,
      "outputs": [
        {
          "output_type": "execute_result",
          "data": {
            "text/plain": [
              "Chart({\n",
              "  data:    instance_id  repetition_x  ... runtime_y  runstatus_y\n",
              "  0   Instance_0           1.0  ...  3600.000       memout\n",
              "  1   Instance_0           1.0  ...  3600.000       memout\n",
              "  2   Instance_0           1.0  ...   311.863           ok\n",
              "  3   Instance_0           1.0  ...  3600.000      timeout\n",
              "  4   Instance_0           1.0  ...  3600.000       memout\n",
              "  5   Instance_0           1.0  ...  3600.000       memout\n",
              "  6   Instance_0           1.0  ...   311.863           ok\n",
              "  7   Instance_0           1.0  ...  3600.000      timeout\n",
              "  8   Instance_0           1.0  ...  3600.000       memout\n",
              "  9   Instance_0           1.0  ...  3600.000       memout\n",
              "  10  Instance_0           1.0  ...   311.863           ok\n",
              "  11  Instance_0           1.0  ...  3600.000      timeout\n",
              "  12  Instance_0           1.0  ...  3600.000       memout\n",
              "  13  Instance_0           1.0  ...  3600.000       memout\n",
              "  14  Instance_0           1.0  ...   311.863           ok\n",
              "  15  Instance_0           1.0  ...  3600.000      timeout\n",
              "  16  Instance_1           1.0  ...  3600.000       memout\n",
              "  17  Instance_1           1.0  ...  3600.000       memout\n",
              "  18  Instance_1           1.0  ...    78.121           ok\n",
              "  19  Instance_1           1.0  ...   600.402           ok\n",
              "  20  Instance_1           1.0  ...  3600.000       memout\n",
              "  21  Instance_1           1.0  ...  3600.000       memout\n",
              "  22  Instance_1           1.0  ...    78.121           ok\n",
              "  23  Instance_1           1.0  ...   600.402           ok\n",
              "  24  Instance_1           1.0  ...  3600.000       memout\n",
              "  25  Instance_1           1.0  ...  3600.000       memout\n",
              "  26  Instance_1           1.0  ...    78.121           ok\n",
              "  27  Instance_1           1.0  ...   600.402           ok\n",
              "  28  Instance_1           1.0  ...  3600.000       memout\n",
              "  29  Instance_1           1.0  ...  3600.000       memout\n",
              "  ..         ...           ...  ...       ...          ...\n",
              "  66  Instance_4           1.0  ...   422.530           ok\n",
              "  67  Instance_4           1.0  ...  3600.000      timeout\n",
              "  68  Instance_4           1.0  ...  3600.000       memout\n",
              "  69  Instance_4           1.0  ...  3600.000       memout\n",
              "  70  Instance_4           1.0  ...   422.530           ok\n",
              "  71  Instance_4           1.0  ...  3600.000      timeout\n",
              "  72  Instance_4           1.0  ...  3600.000       memout\n",
              "  73  Instance_4           1.0  ...  3600.000       memout\n",
              "  74  Instance_4           1.0  ...   422.530           ok\n",
              "  75  Instance_4           1.0  ...  3600.000      timeout\n",
              "  76  Instance_4           1.0  ...  3600.000       memout\n",
              "  77  Instance_4           1.0  ...  3600.000       memout\n",
              "  78  Instance_4           1.0  ...   422.530           ok\n",
              "  79  Instance_4           1.0  ...  3600.000      timeout\n",
              "  80  Instance_5           1.0  ...   182.019           ok\n",
              "  81  Instance_5           1.0  ...  3600.000       memout\n",
              "  82  Instance_5           1.0  ...    66.988           ok\n",
              "  83  Instance_5           1.0  ...   249.488           ok\n",
              "  84  Instance_5           1.0  ...   182.019           ok\n",
              "  85  Instance_5           1.0  ...  3600.000       memout\n",
              "  86  Instance_5           1.0  ...    66.988           ok\n",
              "  87  Instance_5           1.0  ...   249.488           ok\n",
              "  88  Instance_5           1.0  ...   182.019           ok\n",
              "  89  Instance_5           1.0  ...  3600.000       memout\n",
              "  90  Instance_5           1.0  ...    66.988           ok\n",
              "  91  Instance_5           1.0  ...   249.488           ok\n",
              "  92  Instance_5           1.0  ...   182.019           ok\n",
              "  93  Instance_5           1.0  ...  3600.000       memout\n",
              "  94  Instance_5           1.0  ...    66.988           ok\n",
              "  95  Instance_5           1.0  ...   249.488           ok\n",
              "  \n",
              "  [96 rows x 9 columns],\n",
              "  encoding: FacetedEncoding({\n",
              "    color: Color({\n",
              "      field: 'algorithm_y',\n",
              "      legend: None,\n",
              "      scale: Scale({\n",
              "        domain: ['algorithm_0', 'algorithm_1', 'id_algorithm_0', 'id_algorithm_1'],\n",
              "        range: ['#ffe200', '#f5ffff', '#6600db', '#11182b']\n",
              "      }),\n",
              "      type: 'nominal'\n",
              "    }),\n",
              "    x: X({\n",
              "      field: 'algorithm_x',\n",
              "      type: 'nominal'\n",
              "    }),\n",
              "    y: Y({\n",
              "      field: 'algorithm_y',\n",
              "      type: 'nominal'\n",
              "    })\n",
              "  }),\n",
              "  mark: 'rect'\n",
              "})"
            ],
            "text/html": [
              "<!DOCTYPE html>\n",
              "<html>\n",
              "<head>\n",
              "  <style>\n",
              "    .vega-actions a {\n",
              "        margin-right: 12px;\n",
              "        color: #757575;\n",
              "        font-weight: normal;\n",
              "        font-size: 13px;\n",
              "    }\n",
              "    .error {\n",
              "        color: red;\n",
              "    }\n",
              "  </style>\n",
              "  <script type=\"text/javascript\" src=\"https://cdn.jsdelivr.net/npm//vega@5\"></script>\n",
              "  <script type=\"text/javascript\" src=\"https://cdn.jsdelivr.net/npm//vega-lite@3.3.0\"></script>\n",
              "  <script type=\"text/javascript\" src=\"https://cdn.jsdelivr.net/npm//vega-embed@4\"></script>\n",
              "</head>\n",
              "<body>\n",
              "  <div id=\"altair-viz\"></div>\n",
              "  <script>\n",
              "      var spec = {\"config\": {\"view\": {\"width\": 400, \"height\": 300}, \"mark\": {\"tooltip\": null}}, \"data\": {\"name\": \"data-0a7e878f48e7332054167027ba880f6f\"}, \"mark\": \"rect\", \"encoding\": {\"color\": {\"type\": \"nominal\", \"field\": \"algorithm_y\", \"legend\": null, \"scale\": {\"domain\": [\"algorithm_0\", \"algorithm_1\", \"id_algorithm_0\", \"id_algorithm_1\"], \"range\": [\"#ffe200\", \"#f5ffff\", \"#6600db\", \"#11182b\"]}}, \"x\": {\"type\": \"nominal\", \"field\": \"algorithm_x\"}, \"y\": {\"type\": \"nominal\", \"field\": \"algorithm_y\"}}, \"$schema\": \"https://vega.github.io/schema/vega-lite/v3.3.0.json\", \"datasets\": {\"data-0a7e878f48e7332054167027ba880f6f\": [{\"instance_id\": \"Instance_0\", \"repetition_x\": 1.0, \"algorithm_x\": \"algorithm_0\", \"runtime_x\": 3600.0, \"runstatus_x\": \"memout\", \"repetition_y\": 1.0, \"algorithm_y\": \"algorithm_0\", \"runtime_y\": 3600.0, \"runstatus_y\": \"memout\"}, {\"instance_id\": \"Instance_0\", \"repetition_x\": 1.0, \"algorithm_x\": \"algorithm_0\", \"runtime_x\": 3600.0, \"runstatus_x\": \"memout\", \"repetition_y\": 1.0, \"algorithm_y\": \"algorithm_1\", \"runtime_y\": 3600.0, \"runstatus_y\": \"memout\"}, {\"instance_id\": \"Instance_0\", \"repetition_x\": 1.0, \"algorithm_x\": \"algorithm_0\", \"runtime_x\": 3600.0, \"runstatus_x\": \"memout\", \"repetition_y\": 1.0, \"algorithm_y\": \"id_algorithm_0\", \"runtime_y\": 311.863, \"runstatus_y\": \"ok\"}, {\"instance_id\": \"Instance_0\", \"repetition_x\": 1.0, \"algorithm_x\": \"algorithm_0\", \"runtime_x\": 3600.0, \"runstatus_x\": \"memout\", \"repetition_y\": 1.0, \"algorithm_y\": \"id_algorithm_1\", \"runtime_y\": 3600.0, \"runstatus_y\": \"timeout\"}, {\"instance_id\": \"Instance_0\", \"repetition_x\": 1.0, \"algorithm_x\": \"algorithm_1\", \"runtime_x\": 3600.0, \"runstatus_x\": \"memout\", \"repetition_y\": 1.0, \"algorithm_y\": \"algorithm_0\", \"runtime_y\": 3600.0, \"runstatus_y\": \"memout\"}, {\"instance_id\": \"Instance_0\", \"repetition_x\": 1.0, \"algorithm_x\": \"algorithm_1\", \"runtime_x\": 3600.0, \"runstatus_x\": \"memout\", \"repetition_y\": 1.0, \"algorithm_y\": \"algorithm_1\", \"runtime_y\": 3600.0, \"runstatus_y\": \"memout\"}, {\"instance_id\": \"Instance_0\", \"repetition_x\": 1.0, \"algorithm_x\": \"algorithm_1\", \"runtime_x\": 3600.0, \"runstatus_x\": \"memout\", \"repetition_y\": 1.0, \"algorithm_y\": \"id_algorithm_0\", \"runtime_y\": 311.863, \"runstatus_y\": \"ok\"}, {\"instance_id\": \"Instance_0\", \"repetition_x\": 1.0, \"algorithm_x\": \"algorithm_1\", \"runtime_x\": 3600.0, \"runstatus_x\": \"memout\", \"repetition_y\": 1.0, \"algorithm_y\": \"id_algorithm_1\", \"runtime_y\": 3600.0, \"runstatus_y\": \"timeout\"}, {\"instance_id\": \"Instance_0\", \"repetition_x\": 1.0, \"algorithm_x\": \"id_algorithm_0\", \"runtime_x\": 311.863, \"runstatus_x\": \"ok\", \"repetition_y\": 1.0, \"algorithm_y\": \"algorithm_0\", \"runtime_y\": 3600.0, \"runstatus_y\": \"memout\"}, {\"instance_id\": \"Instance_0\", \"repetition_x\": 1.0, \"algorithm_x\": \"id_algorithm_0\", \"runtime_x\": 311.863, \"runstatus_x\": \"ok\", \"repetition_y\": 1.0, \"algorithm_y\": \"algorithm_1\", \"runtime_y\": 3600.0, \"runstatus_y\": \"memout\"}, {\"instance_id\": \"Instance_0\", \"repetition_x\": 1.0, \"algorithm_x\": \"id_algorithm_0\", \"runtime_x\": 311.863, \"runstatus_x\": \"ok\", \"repetition_y\": 1.0, \"algorithm_y\": \"id_algorithm_0\", \"runtime_y\": 311.863, \"runstatus_y\": \"ok\"}, {\"instance_id\": \"Instance_0\", \"repetition_x\": 1.0, \"algorithm_x\": \"id_algorithm_0\", \"runtime_x\": 311.863, \"runstatus_x\": \"ok\", \"repetition_y\": 1.0, \"algorithm_y\": \"id_algorithm_1\", \"runtime_y\": 3600.0, \"runstatus_y\": \"timeout\"}, {\"instance_id\": \"Instance_0\", \"repetition_x\": 1.0, \"algorithm_x\": \"id_algorithm_1\", \"runtime_x\": 3600.0, \"runstatus_x\": \"timeout\", \"repetition_y\": 1.0, \"algorithm_y\": \"algorithm_0\", \"runtime_y\": 3600.0, \"runstatus_y\": \"memout\"}, {\"instance_id\": \"Instance_0\", \"repetition_x\": 1.0, \"algorithm_x\": \"id_algorithm_1\", \"runtime_x\": 3600.0, \"runstatus_x\": \"timeout\", \"repetition_y\": 1.0, \"algorithm_y\": \"algorithm_1\", \"runtime_y\": 3600.0, \"runstatus_y\": \"memout\"}, {\"instance_id\": \"Instance_0\", \"repetition_x\": 1.0, \"algorithm_x\": \"id_algorithm_1\", \"runtime_x\": 3600.0, \"runstatus_x\": \"timeout\", \"repetition_y\": 1.0, \"algorithm_y\": \"id_algorithm_0\", \"runtime_y\": 311.863, \"runstatus_y\": \"ok\"}, {\"instance_id\": \"Instance_0\", \"repetition_x\": 1.0, \"algorithm_x\": \"id_algorithm_1\", \"runtime_x\": 3600.0, \"runstatus_x\": \"timeout\", \"repetition_y\": 1.0, \"algorithm_y\": \"id_algorithm_1\", \"runtime_y\": 3600.0, \"runstatus_y\": \"timeout\"}, {\"instance_id\": \"Instance_1\", \"repetition_x\": 1.0, \"algorithm_x\": \"algorithm_0\", \"runtime_x\": 3600.0, \"runstatus_x\": \"memout\", \"repetition_y\": 1.0, \"algorithm_y\": \"algorithm_0\", \"runtime_y\": 3600.0, \"runstatus_y\": \"memout\"}, {\"instance_id\": \"Instance_1\", \"repetition_x\": 1.0, \"algorithm_x\": \"algorithm_0\", \"runtime_x\": 3600.0, \"runstatus_x\": \"memout\", \"repetition_y\": 1.0, \"algorithm_y\": \"algorithm_1\", \"runtime_y\": 3600.0, \"runstatus_y\": \"memout\"}, {\"instance_id\": \"Instance_1\", \"repetition_x\": 1.0, \"algorithm_x\": \"algorithm_0\", \"runtime_x\": 3600.0, \"runstatus_x\": \"memout\", \"repetition_y\": 1.0, \"algorithm_y\": \"id_algorithm_0\", \"runtime_y\": 78.121, \"runstatus_y\": \"ok\"}, {\"instance_id\": \"Instance_1\", \"repetition_x\": 1.0, \"algorithm_x\": \"algorithm_0\", \"runtime_x\": 3600.0, \"runstatus_x\": \"memout\", \"repetition_y\": 1.0, \"algorithm_y\": \"id_algorithm_1\", \"runtime_y\": 600.402, \"runstatus_y\": \"ok\"}, {\"instance_id\": \"Instance_1\", \"repetition_x\": 1.0, \"algorithm_x\": \"algorithm_1\", \"runtime_x\": 3600.0, \"runstatus_x\": \"memout\", \"repetition_y\": 1.0, \"algorithm_y\": \"algorithm_0\", \"runtime_y\": 3600.0, \"runstatus_y\": \"memout\"}, {\"instance_id\": \"Instance_1\", \"repetition_x\": 1.0, \"algorithm_x\": \"algorithm_1\", \"runtime_x\": 3600.0, \"runstatus_x\": \"memout\", \"repetition_y\": 1.0, \"algorithm_y\": \"algorithm_1\", \"runtime_y\": 3600.0, \"runstatus_y\": \"memout\"}, {\"instance_id\": \"Instance_1\", \"repetition_x\": 1.0, \"algorithm_x\": \"algorithm_1\", \"runtime_x\": 3600.0, \"runstatus_x\": \"memout\", \"repetition_y\": 1.0, \"algorithm_y\": \"id_algorithm_0\", \"runtime_y\": 78.121, \"runstatus_y\": \"ok\"}, {\"instance_id\": \"Instance_1\", \"repetition_x\": 1.0, \"algorithm_x\": \"algorithm_1\", \"runtime_x\": 3600.0, \"runstatus_x\": \"memout\", \"repetition_y\": 1.0, \"algorithm_y\": \"id_algorithm_1\", \"runtime_y\": 600.402, \"runstatus_y\": \"ok\"}, {\"instance_id\": \"Instance_1\", \"repetition_x\": 1.0, \"algorithm_x\": \"id_algorithm_0\", \"runtime_x\": 78.121, \"runstatus_x\": \"ok\", \"repetition_y\": 1.0, \"algorithm_y\": \"algorithm_0\", \"runtime_y\": 3600.0, \"runstatus_y\": \"memout\"}, {\"instance_id\": \"Instance_1\", \"repetition_x\": 1.0, \"algorithm_x\": \"id_algorithm_0\", \"runtime_x\": 78.121, \"runstatus_x\": \"ok\", \"repetition_y\": 1.0, \"algorithm_y\": \"algorithm_1\", \"runtime_y\": 3600.0, \"runstatus_y\": \"memout\"}, {\"instance_id\": \"Instance_1\", \"repetition_x\": 1.0, \"algorithm_x\": \"id_algorithm_0\", \"runtime_x\": 78.121, \"runstatus_x\": \"ok\", \"repetition_y\": 1.0, \"algorithm_y\": \"id_algorithm_0\", \"runtime_y\": 78.121, \"runstatus_y\": \"ok\"}, {\"instance_id\": \"Instance_1\", \"repetition_x\": 1.0, \"algorithm_x\": \"id_algorithm_0\", \"runtime_x\": 78.121, \"runstatus_x\": \"ok\", \"repetition_y\": 1.0, \"algorithm_y\": \"id_algorithm_1\", \"runtime_y\": 600.402, \"runstatus_y\": \"ok\"}, {\"instance_id\": \"Instance_1\", \"repetition_x\": 1.0, \"algorithm_x\": \"id_algorithm_1\", \"runtime_x\": 600.402, \"runstatus_x\": \"ok\", \"repetition_y\": 1.0, \"algorithm_y\": \"algorithm_0\", \"runtime_y\": 3600.0, \"runstatus_y\": \"memout\"}, {\"instance_id\": \"Instance_1\", \"repetition_x\": 1.0, \"algorithm_x\": \"id_algorithm_1\", \"runtime_x\": 600.402, \"runstatus_x\": \"ok\", \"repetition_y\": 1.0, \"algorithm_y\": \"algorithm_1\", \"runtime_y\": 3600.0, \"runstatus_y\": \"memout\"}, {\"instance_id\": \"Instance_1\", \"repetition_x\": 1.0, \"algorithm_x\": \"id_algorithm_1\", \"runtime_x\": 600.402, \"runstatus_x\": \"ok\", \"repetition_y\": 1.0, \"algorithm_y\": \"id_algorithm_0\", \"runtime_y\": 78.121, \"runstatus_y\": \"ok\"}, {\"instance_id\": \"Instance_1\", \"repetition_x\": 1.0, \"algorithm_x\": \"id_algorithm_1\", \"runtime_x\": 600.402, \"runstatus_x\": \"ok\", \"repetition_y\": 1.0, \"algorithm_y\": \"id_algorithm_1\", \"runtime_y\": 600.402, \"runstatus_y\": \"ok\"}, {\"instance_id\": \"Instance_2\", \"repetition_x\": 1.0, \"algorithm_x\": \"algorithm_0\", \"runtime_x\": 3600.0, \"runstatus_x\": \"memout\", \"repetition_y\": 1.0, \"algorithm_y\": \"algorithm_0\", \"runtime_y\": 3600.0, \"runstatus_y\": \"memout\"}, {\"instance_id\": \"Instance_2\", \"repetition_x\": 1.0, \"algorithm_x\": \"algorithm_0\", \"runtime_x\": 3600.0, \"runstatus_x\": \"memout\", \"repetition_y\": 1.0, \"algorithm_y\": \"algorithm_1\", \"runtime_y\": 3600.0, \"runstatus_y\": \"memout\"}, {\"instance_id\": \"Instance_2\", \"repetition_x\": 1.0, \"algorithm_x\": \"algorithm_0\", \"runtime_x\": 3600.0, \"runstatus_x\": \"memout\", \"repetition_y\": 1.0, \"algorithm_y\": \"id_algorithm_0\", \"runtime_y\": 0.012, \"runstatus_y\": \"ok\"}, {\"instance_id\": \"Instance_2\", \"repetition_x\": 1.0, \"algorithm_x\": \"algorithm_0\", \"runtime_x\": 3600.0, \"runstatus_x\": \"memout\", \"repetition_y\": 1.0, \"algorithm_y\": \"id_algorithm_1\", \"runtime_y\": 60.72, \"runstatus_y\": \"ok\"}, {\"instance_id\": \"Instance_2\", \"repetition_x\": 1.0, \"algorithm_x\": \"algorithm_1\", \"runtime_x\": 3600.0, \"runstatus_x\": \"memout\", \"repetition_y\": 1.0, \"algorithm_y\": \"algorithm_0\", \"runtime_y\": 3600.0, \"runstatus_y\": \"memout\"}, {\"instance_id\": \"Instance_2\", \"repetition_x\": 1.0, \"algorithm_x\": \"algorithm_1\", \"runtime_x\": 3600.0, \"runstatus_x\": \"memout\", \"repetition_y\": 1.0, \"algorithm_y\": \"algorithm_1\", \"runtime_y\": 3600.0, \"runstatus_y\": \"memout\"}, {\"instance_id\": \"Instance_2\", \"repetition_x\": 1.0, \"algorithm_x\": \"algorithm_1\", \"runtime_x\": 3600.0, \"runstatus_x\": \"memout\", \"repetition_y\": 1.0, \"algorithm_y\": \"id_algorithm_0\", \"runtime_y\": 0.012, \"runstatus_y\": \"ok\"}, {\"instance_id\": \"Instance_2\", \"repetition_x\": 1.0, \"algorithm_x\": \"algorithm_1\", \"runtime_x\": 3600.0, \"runstatus_x\": \"memout\", \"repetition_y\": 1.0, \"algorithm_y\": \"id_algorithm_1\", \"runtime_y\": 60.72, \"runstatus_y\": \"ok\"}, {\"instance_id\": \"Instance_2\", \"repetition_x\": 1.0, \"algorithm_x\": \"id_algorithm_0\", \"runtime_x\": 0.012, \"runstatus_x\": \"ok\", \"repetition_y\": 1.0, \"algorithm_y\": \"algorithm_0\", \"runtime_y\": 3600.0, \"runstatus_y\": \"memout\"}, {\"instance_id\": \"Instance_2\", \"repetition_x\": 1.0, \"algorithm_x\": \"id_algorithm_0\", \"runtime_x\": 0.012, \"runstatus_x\": \"ok\", \"repetition_y\": 1.0, \"algorithm_y\": \"algorithm_1\", \"runtime_y\": 3600.0, \"runstatus_y\": \"memout\"}, {\"instance_id\": \"Instance_2\", \"repetition_x\": 1.0, \"algorithm_x\": \"id_algorithm_0\", \"runtime_x\": 0.012, \"runstatus_x\": \"ok\", \"repetition_y\": 1.0, \"algorithm_y\": \"id_algorithm_0\", \"runtime_y\": 0.012, \"runstatus_y\": \"ok\"}, {\"instance_id\": \"Instance_2\", \"repetition_x\": 1.0, \"algorithm_x\": \"id_algorithm_0\", \"runtime_x\": 0.012, \"runstatus_x\": \"ok\", \"repetition_y\": 1.0, \"algorithm_y\": \"id_algorithm_1\", \"runtime_y\": 60.72, \"runstatus_y\": \"ok\"}, {\"instance_id\": \"Instance_2\", \"repetition_x\": 1.0, \"algorithm_x\": \"id_algorithm_1\", \"runtime_x\": 60.72, \"runstatus_x\": \"ok\", \"repetition_y\": 1.0, \"algorithm_y\": \"algorithm_0\", \"runtime_y\": 3600.0, \"runstatus_y\": \"memout\"}, {\"instance_id\": \"Instance_2\", \"repetition_x\": 1.0, \"algorithm_x\": \"id_algorithm_1\", \"runtime_x\": 60.72, \"runstatus_x\": \"ok\", \"repetition_y\": 1.0, \"algorithm_y\": \"algorithm_1\", \"runtime_y\": 3600.0, \"runstatus_y\": \"memout\"}, {\"instance_id\": \"Instance_2\", \"repetition_x\": 1.0, \"algorithm_x\": \"id_algorithm_1\", \"runtime_x\": 60.72, \"runstatus_x\": \"ok\", \"repetition_y\": 1.0, \"algorithm_y\": \"id_algorithm_0\", \"runtime_y\": 0.012, \"runstatus_y\": \"ok\"}, {\"instance_id\": \"Instance_2\", \"repetition_x\": 1.0, \"algorithm_x\": \"id_algorithm_1\", \"runtime_x\": 60.72, \"runstatus_x\": \"ok\", \"repetition_y\": 1.0, \"algorithm_y\": \"id_algorithm_1\", \"runtime_y\": 60.72, \"runstatus_y\": \"ok\"}, {\"instance_id\": \"Instance_3\", \"repetition_x\": 1.0, \"algorithm_x\": \"algorithm_0\", \"runtime_x\": 3600.0, \"runstatus_x\": \"memout\", \"repetition_y\": 1.0, \"algorithm_y\": \"algorithm_0\", \"runtime_y\": 3600.0, \"runstatus_y\": \"memout\"}, {\"instance_id\": \"Instance_3\", \"repetition_x\": 1.0, \"algorithm_x\": \"algorithm_0\", \"runtime_x\": 3600.0, \"runstatus_x\": \"memout\", \"repetition_y\": 1.0, \"algorithm_y\": \"algorithm_1\", \"runtime_y\": 92.986, \"runstatus_y\": \"ok\"}, {\"instance_id\": \"Instance_3\", \"repetition_x\": 1.0, \"algorithm_x\": \"algorithm_0\", \"runtime_x\": 3600.0, \"runstatus_x\": \"memout\", \"repetition_y\": 1.0, \"algorithm_y\": \"id_algorithm_0\", \"runtime_y\": 2031.039, \"runstatus_y\": \"ok\"}, {\"instance_id\": \"Instance_3\", \"repetition_x\": 1.0, \"algorithm_x\": \"algorithm_0\", \"runtime_x\": 3600.0, \"runstatus_x\": \"memout\", \"repetition_y\": 1.0, \"algorithm_y\": \"id_algorithm_1\", \"runtime_y\": 141.857, \"runstatus_y\": \"ok\"}, {\"instance_id\": \"Instance_3\", \"repetition_x\": 1.0, \"algorithm_x\": \"algorithm_1\", \"runtime_x\": 92.986, \"runstatus_x\": \"ok\", \"repetition_y\": 1.0, \"algorithm_y\": \"algorithm_0\", \"runtime_y\": 3600.0, \"runstatus_y\": \"memout\"}, {\"instance_id\": \"Instance_3\", \"repetition_x\": 1.0, \"algorithm_x\": \"algorithm_1\", \"runtime_x\": 92.986, \"runstatus_x\": \"ok\", \"repetition_y\": 1.0, \"algorithm_y\": \"algorithm_1\", \"runtime_y\": 92.986, \"runstatus_y\": \"ok\"}, {\"instance_id\": \"Instance_3\", \"repetition_x\": 1.0, \"algorithm_x\": \"algorithm_1\", \"runtime_x\": 92.986, \"runstatus_x\": \"ok\", \"repetition_y\": 1.0, \"algorithm_y\": \"id_algorithm_0\", \"runtime_y\": 2031.039, \"runstatus_y\": \"ok\"}, {\"instance_id\": \"Instance_3\", \"repetition_x\": 1.0, \"algorithm_x\": \"algorithm_1\", \"runtime_x\": 92.986, \"runstatus_x\": \"ok\", \"repetition_y\": 1.0, \"algorithm_y\": \"id_algorithm_1\", \"runtime_y\": 141.857, \"runstatus_y\": \"ok\"}, {\"instance_id\": \"Instance_3\", \"repetition_x\": 1.0, \"algorithm_x\": \"id_algorithm_0\", \"runtime_x\": 2031.039, \"runstatus_x\": \"ok\", \"repetition_y\": 1.0, \"algorithm_y\": \"algorithm_0\", \"runtime_y\": 3600.0, \"runstatus_y\": \"memout\"}, {\"instance_id\": \"Instance_3\", \"repetition_x\": 1.0, \"algorithm_x\": \"id_algorithm_0\", \"runtime_x\": 2031.039, \"runstatus_x\": \"ok\", \"repetition_y\": 1.0, \"algorithm_y\": \"algorithm_1\", \"runtime_y\": 92.986, \"runstatus_y\": \"ok\"}, {\"instance_id\": \"Instance_3\", \"repetition_x\": 1.0, \"algorithm_x\": \"id_algorithm_0\", \"runtime_x\": 2031.039, \"runstatus_x\": \"ok\", \"repetition_y\": 1.0, \"algorithm_y\": \"id_algorithm_0\", \"runtime_y\": 2031.039, \"runstatus_y\": \"ok\"}, {\"instance_id\": \"Instance_3\", \"repetition_x\": 1.0, \"algorithm_x\": \"id_algorithm_0\", \"runtime_x\": 2031.039, \"runstatus_x\": \"ok\", \"repetition_y\": 1.0, \"algorithm_y\": \"id_algorithm_1\", \"runtime_y\": 141.857, \"runstatus_y\": \"ok\"}, {\"instance_id\": \"Instance_3\", \"repetition_x\": 1.0, \"algorithm_x\": \"id_algorithm_1\", \"runtime_x\": 141.857, \"runstatus_x\": \"ok\", \"repetition_y\": 1.0, \"algorithm_y\": \"algorithm_0\", \"runtime_y\": 3600.0, \"runstatus_y\": \"memout\"}, {\"instance_id\": \"Instance_3\", \"repetition_x\": 1.0, \"algorithm_x\": \"id_algorithm_1\", \"runtime_x\": 141.857, \"runstatus_x\": \"ok\", \"repetition_y\": 1.0, \"algorithm_y\": \"algorithm_1\", \"runtime_y\": 92.986, \"runstatus_y\": \"ok\"}, {\"instance_id\": \"Instance_3\", \"repetition_x\": 1.0, \"algorithm_x\": \"id_algorithm_1\", \"runtime_x\": 141.857, \"runstatus_x\": \"ok\", \"repetition_y\": 1.0, \"algorithm_y\": \"id_algorithm_0\", \"runtime_y\": 2031.039, \"runstatus_y\": \"ok\"}, {\"instance_id\": \"Instance_3\", \"repetition_x\": 1.0, \"algorithm_x\": \"id_algorithm_1\", \"runtime_x\": 141.857, \"runstatus_x\": \"ok\", \"repetition_y\": 1.0, \"algorithm_y\": \"id_algorithm_1\", \"runtime_y\": 141.857, \"runstatus_y\": \"ok\"}, {\"instance_id\": \"Instance_4\", \"repetition_x\": 1.0, \"algorithm_x\": \"algorithm_0\", \"runtime_x\": 3600.0, \"runstatus_x\": \"memout\", \"repetition_y\": 1.0, \"algorithm_y\": \"algorithm_0\", \"runtime_y\": 3600.0, \"runstatus_y\": \"memout\"}, {\"instance_id\": \"Instance_4\", \"repetition_x\": 1.0, \"algorithm_x\": \"algorithm_0\", \"runtime_x\": 3600.0, \"runstatus_x\": \"memout\", \"repetition_y\": 1.0, \"algorithm_y\": \"algorithm_1\", \"runtime_y\": 3600.0, \"runstatus_y\": \"memout\"}, {\"instance_id\": \"Instance_4\", \"repetition_x\": 1.0, \"algorithm_x\": \"algorithm_0\", \"runtime_x\": 3600.0, \"runstatus_x\": \"memout\", \"repetition_y\": 1.0, \"algorithm_y\": \"id_algorithm_0\", \"runtime_y\": 422.53, \"runstatus_y\": \"ok\"}, {\"instance_id\": \"Instance_4\", \"repetition_x\": 1.0, \"algorithm_x\": \"algorithm_0\", \"runtime_x\": 3600.0, \"runstatus_x\": \"memout\", \"repetition_y\": 1.0, \"algorithm_y\": \"id_algorithm_1\", \"runtime_y\": 3600.0, \"runstatus_y\": \"timeout\"}, {\"instance_id\": \"Instance_4\", \"repetition_x\": 1.0, \"algorithm_x\": \"algorithm_1\", \"runtime_x\": 3600.0, \"runstatus_x\": \"memout\", \"repetition_y\": 1.0, \"algorithm_y\": \"algorithm_0\", \"runtime_y\": 3600.0, \"runstatus_y\": \"memout\"}, {\"instance_id\": \"Instance_4\", \"repetition_x\": 1.0, \"algorithm_x\": \"algorithm_1\", \"runtime_x\": 3600.0, \"runstatus_x\": \"memout\", \"repetition_y\": 1.0, \"algorithm_y\": \"algorithm_1\", \"runtime_y\": 3600.0, \"runstatus_y\": \"memout\"}, {\"instance_id\": \"Instance_4\", \"repetition_x\": 1.0, \"algorithm_x\": \"algorithm_1\", \"runtime_x\": 3600.0, \"runstatus_x\": \"memout\", \"repetition_y\": 1.0, \"algorithm_y\": \"id_algorithm_0\", \"runtime_y\": 422.53, \"runstatus_y\": \"ok\"}, {\"instance_id\": \"Instance_4\", \"repetition_x\": 1.0, \"algorithm_x\": \"algorithm_1\", \"runtime_x\": 3600.0, \"runstatus_x\": \"memout\", \"repetition_y\": 1.0, \"algorithm_y\": \"id_algorithm_1\", \"runtime_y\": 3600.0, \"runstatus_y\": \"timeout\"}, {\"instance_id\": \"Instance_4\", \"repetition_x\": 1.0, \"algorithm_x\": \"id_algorithm_0\", \"runtime_x\": 422.53, \"runstatus_x\": \"ok\", \"repetition_y\": 1.0, \"algorithm_y\": \"algorithm_0\", \"runtime_y\": 3600.0, \"runstatus_y\": \"memout\"}, {\"instance_id\": \"Instance_4\", \"repetition_x\": 1.0, \"algorithm_x\": \"id_algorithm_0\", \"runtime_x\": 422.53, \"runstatus_x\": \"ok\", \"repetition_y\": 1.0, \"algorithm_y\": \"algorithm_1\", \"runtime_y\": 3600.0, \"runstatus_y\": \"memout\"}, {\"instance_id\": \"Instance_4\", \"repetition_x\": 1.0, \"algorithm_x\": \"id_algorithm_0\", \"runtime_x\": 422.53, \"runstatus_x\": \"ok\", \"repetition_y\": 1.0, \"algorithm_y\": \"id_algorithm_0\", \"runtime_y\": 422.53, \"runstatus_y\": \"ok\"}, {\"instance_id\": \"Instance_4\", \"repetition_x\": 1.0, \"algorithm_x\": \"id_algorithm_0\", \"runtime_x\": 422.53, \"runstatus_x\": \"ok\", \"repetition_y\": 1.0, \"algorithm_y\": \"id_algorithm_1\", \"runtime_y\": 3600.0, \"runstatus_y\": \"timeout\"}, {\"instance_id\": \"Instance_4\", \"repetition_x\": 1.0, \"algorithm_x\": \"id_algorithm_1\", \"runtime_x\": 3600.0, \"runstatus_x\": \"timeout\", \"repetition_y\": 1.0, \"algorithm_y\": \"algorithm_0\", \"runtime_y\": 3600.0, \"runstatus_y\": \"memout\"}, {\"instance_id\": \"Instance_4\", \"repetition_x\": 1.0, \"algorithm_x\": \"id_algorithm_1\", \"runtime_x\": 3600.0, \"runstatus_x\": \"timeout\", \"repetition_y\": 1.0, \"algorithm_y\": \"algorithm_1\", \"runtime_y\": 3600.0, \"runstatus_y\": \"memout\"}, {\"instance_id\": \"Instance_4\", \"repetition_x\": 1.0, \"algorithm_x\": \"id_algorithm_1\", \"runtime_x\": 3600.0, \"runstatus_x\": \"timeout\", \"repetition_y\": 1.0, \"algorithm_y\": \"id_algorithm_0\", \"runtime_y\": 422.53, \"runstatus_y\": \"ok\"}, {\"instance_id\": \"Instance_4\", \"repetition_x\": 1.0, \"algorithm_x\": \"id_algorithm_1\", \"runtime_x\": 3600.0, \"runstatus_x\": \"timeout\", \"repetition_y\": 1.0, \"algorithm_y\": \"id_algorithm_1\", \"runtime_y\": 3600.0, \"runstatus_y\": \"timeout\"}, {\"instance_id\": \"Instance_5\", \"repetition_x\": 1.0, \"algorithm_x\": \"algorithm_0\", \"runtime_x\": 182.019, \"runstatus_x\": \"ok\", \"repetition_y\": 1.0, \"algorithm_y\": \"algorithm_0\", \"runtime_y\": 182.019, \"runstatus_y\": \"ok\"}, {\"instance_id\": \"Instance_5\", \"repetition_x\": 1.0, \"algorithm_x\": \"algorithm_0\", \"runtime_x\": 182.019, \"runstatus_x\": \"ok\", \"repetition_y\": 1.0, \"algorithm_y\": \"algorithm_1\", \"runtime_y\": 3600.0, \"runstatus_y\": \"memout\"}, {\"instance_id\": \"Instance_5\", \"repetition_x\": 1.0, \"algorithm_x\": \"algorithm_0\", \"runtime_x\": 182.019, \"runstatus_x\": \"ok\", \"repetition_y\": 1.0, \"algorithm_y\": \"id_algorithm_0\", \"runtime_y\": 66.988, \"runstatus_y\": \"ok\"}, {\"instance_id\": \"Instance_5\", \"repetition_x\": 1.0, \"algorithm_x\": \"algorithm_0\", \"runtime_x\": 182.019, \"runstatus_x\": \"ok\", \"repetition_y\": 1.0, \"algorithm_y\": \"id_algorithm_1\", \"runtime_y\": 249.488, \"runstatus_y\": \"ok\"}, {\"instance_id\": \"Instance_5\", \"repetition_x\": 1.0, \"algorithm_x\": \"algorithm_1\", \"runtime_x\": 3600.0, \"runstatus_x\": \"memout\", \"repetition_y\": 1.0, \"algorithm_y\": \"algorithm_0\", \"runtime_y\": 182.019, \"runstatus_y\": \"ok\"}, {\"instance_id\": \"Instance_5\", \"repetition_x\": 1.0, \"algorithm_x\": \"algorithm_1\", \"runtime_x\": 3600.0, \"runstatus_x\": \"memout\", \"repetition_y\": 1.0, \"algorithm_y\": \"algorithm_1\", \"runtime_y\": 3600.0, \"runstatus_y\": \"memout\"}, {\"instance_id\": \"Instance_5\", \"repetition_x\": 1.0, \"algorithm_x\": \"algorithm_1\", \"runtime_x\": 3600.0, \"runstatus_x\": \"memout\", \"repetition_y\": 1.0, \"algorithm_y\": \"id_algorithm_0\", \"runtime_y\": 66.988, \"runstatus_y\": \"ok\"}, {\"instance_id\": \"Instance_5\", \"repetition_x\": 1.0, \"algorithm_x\": \"algorithm_1\", \"runtime_x\": 3600.0, \"runstatus_x\": \"memout\", \"repetition_y\": 1.0, \"algorithm_y\": \"id_algorithm_1\", \"runtime_y\": 249.488, \"runstatus_y\": \"ok\"}, {\"instance_id\": \"Instance_5\", \"repetition_x\": 1.0, \"algorithm_x\": \"id_algorithm_0\", \"runtime_x\": 66.988, \"runstatus_x\": \"ok\", \"repetition_y\": 1.0, \"algorithm_y\": \"algorithm_0\", \"runtime_y\": 182.019, \"runstatus_y\": \"ok\"}, {\"instance_id\": \"Instance_5\", \"repetition_x\": 1.0, \"algorithm_x\": \"id_algorithm_0\", \"runtime_x\": 66.988, \"runstatus_x\": \"ok\", \"repetition_y\": 1.0, \"algorithm_y\": \"algorithm_1\", \"runtime_y\": 3600.0, \"runstatus_y\": \"memout\"}, {\"instance_id\": \"Instance_5\", \"repetition_x\": 1.0, \"algorithm_x\": \"id_algorithm_0\", \"runtime_x\": 66.988, \"runstatus_x\": \"ok\", \"repetition_y\": 1.0, \"algorithm_y\": \"id_algorithm_0\", \"runtime_y\": 66.988, \"runstatus_y\": \"ok\"}, {\"instance_id\": \"Instance_5\", \"repetition_x\": 1.0, \"algorithm_x\": \"id_algorithm_0\", \"runtime_x\": 66.988, \"runstatus_x\": \"ok\", \"repetition_y\": 1.0, \"algorithm_y\": \"id_algorithm_1\", \"runtime_y\": 249.488, \"runstatus_y\": \"ok\"}, {\"instance_id\": \"Instance_5\", \"repetition_x\": 1.0, \"algorithm_x\": \"id_algorithm_1\", \"runtime_x\": 249.488, \"runstatus_x\": \"ok\", \"repetition_y\": 1.0, \"algorithm_y\": \"algorithm_0\", \"runtime_y\": 182.019, \"runstatus_y\": \"ok\"}, {\"instance_id\": \"Instance_5\", \"repetition_x\": 1.0, \"algorithm_x\": \"id_algorithm_1\", \"runtime_x\": 249.488, \"runstatus_x\": \"ok\", \"repetition_y\": 1.0, \"algorithm_y\": \"algorithm_1\", \"runtime_y\": 3600.0, \"runstatus_y\": \"memout\"}, {\"instance_id\": \"Instance_5\", \"repetition_x\": 1.0, \"algorithm_x\": \"id_algorithm_1\", \"runtime_x\": 249.488, \"runstatus_x\": \"ok\", \"repetition_y\": 1.0, \"algorithm_y\": \"id_algorithm_0\", \"runtime_y\": 66.988, \"runstatus_y\": \"ok\"}, {\"instance_id\": \"Instance_5\", \"repetition_x\": 1.0, \"algorithm_x\": \"id_algorithm_1\", \"runtime_x\": 249.488, \"runstatus_x\": \"ok\", \"repetition_y\": 1.0, \"algorithm_y\": \"id_algorithm_1\", \"runtime_y\": 249.488, \"runstatus_y\": \"ok\"}]}};\n",
              "      var embedOpt = {\"mode\": \"vega-lite\"};\n",
              "\n",
              "      function showError(el, error){\n",
              "          el.innerHTML = ('<div class=\"error\" style=\"color:red;\">'\n",
              "                          + '<p>JavaScript Error: ' + error.message + '</p>'\n",
              "                          + \"<p>This usually means there's a typo in your chart specification. \"\n",
              "                          + \"See the javascript console for the full traceback.</p>\"\n",
              "                          + '</div>');\n",
              "          throw error;\n",
              "      }\n",
              "      const el = document.getElementById('altair-viz');\n",
              "      vegaEmbed(\"#altair-viz\", spec, embedOpt)\n",
              "        .catch(error => showError(el, error));\n",
              "\n",
              "  </script>\n",
              "</body>\n",
              "</html>"
            ]
          },
          "metadata": {
            "tags": []
          },
          "execution_count": 24
        }
      ]
    },
    {
      "cell_type": "code",
      "metadata": {
        "id": "soZsXo5C6IsT",
        "colab_type": "code",
        "colab": {}
      },
      "source": [
        ""
      ],
      "execution_count": 0,
      "outputs": []
    }
  ]
}