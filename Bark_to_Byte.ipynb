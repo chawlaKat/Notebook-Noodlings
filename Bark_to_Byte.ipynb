{
  "nbformat": 4,
  "nbformat_minor": 0,
  "metadata": {
    "colab": {
      "name": "Bark to Byte",
      "version": "0.3.2",
      "provenance": [],
      "collapsed_sections": [],
      "include_colab_link": true
    },
    "kernelspec": {
      "name": "python3",
      "display_name": "Python 3"
    }
  },
  "cells": [
    {
      "cell_type": "markdown",
      "metadata": {
        "id": "view-in-github",
        "colab_type": "text"
      },
      "source": [
        "<a href=\"https://colab.research.google.com/github/chawlaKat/Notebook-Noodlings/blob/master/Bark_to_Byte.ipynb\" target=\"_parent\"><img src=\"https://colab.research.google.com/assets/colab-badge.svg\" alt=\"Open In Colab\"/></a>"
      ]
    },
    {
      "cell_type": "markdown",
      "metadata": {
        "id": "e4SMFlO48w4l",
        "colab_type": "text"
      },
      "source": [
        "<h2>Goal: Move .arff data into a dataframe</h2>\n",
        "\n",
        "Functionality: <br>\n",
        "*  Given an arff file, remove the attribute data types and create a pandas DataFrame\n",
        "*  Format comparison for \"where_equals\" data filtering\n",
        "\n",
        "\n",
        "Uses files (for testing):\n",
        "*   sayNi.arff\n",
        "*   sayHey.arff\n",
        "\n",
        "Future work:\n",
        "\n",
        "\n",
        "*   Use multi-indexing to preserve the data types\n",
        "*   Use np array instead of list, for speed / optimization\n",
        "\n",
        "Notes: \n",
        "\n",
        "*  Variable declarations and assignments may be out of order, because I moved the cells around\n",
        "\n",
        "\n",
        "\n",
        "\n",
        "\n"
      ]
    },
    {
      "cell_type": "markdown",
      "metadata": {
        "id": "ZYh6_I-19rnF",
        "colab_type": "text"
      },
      "source": [
        "<h4>Imports</h4>\n",
        "\n"
      ]
    },
    {
      "cell_type": "code",
      "metadata": {
        "colab_type": "code",
        "id": "iSVOgJGV-ALB",
        "colab": {}
      },
      "source": [
        "import arff\n",
        "import pandas as pd\n",
        "import numpy as np"
      ],
      "execution_count": 0,
      "outputs": []
    },
    {
      "cell_type": "markdown",
      "metadata": {
        "id": "zIJAYmNNOGWG",
        "colab_type": "text"
      },
      "source": [
        "<h4>Helpers</h4>\n",
        "\n",
        "These must be defined above the primary method in order to cooperate, apparently :D"
      ]
    },
    {
      "cell_type": "markdown",
      "metadata": {
        "id": "bbdP2ZCm-Ize",
        "colab_type": "text"
      },
      "source": [
        "Get arff data: returns a dictionary<br>\n",
        "\n",
        "---<br>\n",
        "\n",
        "\n",
        "Format:\n",
        "\n",
        "*   'attributes' : [('Name Element0', 'TYPE'), ('Name' Element1, 'TYPE')]\n",
        "*   'data': [<br>\n",
        "[Entry0 Element0, Entry0 Element1], <br>\n",
        "[Entry1 Element0, Entry1 Element1],\n",
        "<br>]\n",
        "\n"
      ]
    },
    {
      "cell_type": "code",
      "metadata": {
        "id": "CkM_JLZqFmMn",
        "colab_type": "code",
        "colab": {}
      },
      "source": [
        "def open_file(name):\n",
        "  file = open(name);\n",
        "  loaded = arff.load(file);\n",
        "  \n",
        "  return loaded;"
      ],
      "execution_count": 0,
      "outputs": []
    },
    {
      "cell_type": "markdown",
      "metadata": {
        "id": "NoVv5kNjOpOi",
        "colab_type": "text"
      },
      "source": [
        "Given a list of lists, extracts the first element of each. (Specifically, used to get name of each attribute without extra data so we can use it as a column header)"
      ]
    },
    {
      "cell_type": "code",
      "metadata": {
        "id": "lu8fY4JeLYvH",
        "colab_type": "code",
        "colab": {}
      },
      "source": [
        "def get_first(tuple_list):\n",
        "  \n",
        "  first_only = [];\n",
        "  \n",
        "  for el in tuple_list:\n",
        "    first = el[0];\n",
        "    first_only.append(first);\n",
        "    \n",
        "  return first_only;"
      ],
      "execution_count": 0,
      "outputs": []
    },
    {
      "cell_type": "markdown",
      "metadata": {
        "id": "6hUiQ0deO53q",
        "colab_type": "text"
      },
      "source": [
        "Given data and a list of column headers, constructs a dataframe."
      ]
    },
    {
      "cell_type": "code",
      "metadata": {
        "id": "ryBOcOs3L-yn",
        "colab_type": "code",
        "colab": {}
      },
      "source": [
        "def to_dataframe(data, cols):\n",
        "  dataframe = pd.DataFrame(data, columns = cols);\n",
        "  return dataframe;"
      ],
      "execution_count": 0,
      "outputs": []
    },
    {
      "cell_type": "markdown",
      "metadata": {
        "id": "ByEgWlPsOA5p",
        "colab_type": "text"
      },
      "source": [
        "<h4>Primary Methods</h4>"
      ]
    },
    {
      "cell_type": "markdown",
      "metadata": {
        "id": "HSJHarPVTwwQ",
        "colab_type": "text"
      },
      "source": [
        "Given an .arff file, return a data frame"
      ]
    },
    {
      "cell_type": "code",
      "metadata": {
        "id": "hQ1-m80UMwEo",
        "colab_type": "code",
        "colab": {}
      },
      "source": [
        "def arff_to_dataframe(filename):\n",
        "  loaded = open_file(filename);\n",
        "  data = loaded['data'];\n",
        "  atts = loaded['attributes'];\n",
        "  col_headers = get_first(atts);\n",
        "  \n",
        "  frame = to_dataframe(data, col_headers);\n",
        "  \n",
        "  return frame;"
      ],
      "execution_count": 0,
      "outputs": []
    },
    {
      "cell_type": "markdown",
      "metadata": {
        "id": "YylSrdk3T1w2",
        "colab_type": "text"
      },
      "source": [
        "Given a dataframe, column name, and something to compare to, return the relevant entries"
      ]
    },
    {
      "cell_type": "code",
      "metadata": {
        "id": "l6IRrcZJRHGF",
        "colab_type": "code",
        "colab": {}
      },
      "source": [
        "def where_equals(dataframe, column, is_equal_to):\n",
        "  source_column = dataframe[column]\n",
        "  where_clause = source_column == is_equal_to\n",
        "  \n",
        "  matching_data = dataframe.loc[where_clause]\n",
        "  \n",
        "  return (matching_data);"
      ],
      "execution_count": 0,
      "outputs": []
    },
    {
      "cell_type": "markdown",
      "metadata": {
        "id": "g5M7n0jSa1_j",
        "colab_type": "text"
      },
      "source": [
        "**Basic sunny-day tests**"
      ]
    },
    {
      "cell_type": "markdown",
      "metadata": {
        "id": "eZMDifrpbRPf",
        "colab_type": "text"
      },
      "source": [
        "Commented so it works as an imported module. If running this alone, check that liac_arff has been installed."
      ]
    },
    {
      "cell_type": "code",
      "metadata": {
        "id": "5A7X_oqU8sU1",
        "colab_type": "code",
        "outputId": "6b1c4a68-7c89-45bf-c1b5-c3456d0ec6c3",
        "colab": {
          "base_uri": "https://localhost:8080/",
          "height": 173
        }
      },
      "source": [
        "#pip install liac_arff"
      ],
      "execution_count": 0,
      "outputs": [
        {
          "output_type": "stream",
          "text": [
            "Collecting liac_arff\n",
            "  Downloading https://files.pythonhosted.org/packages/e9/35/fbc9217cfa91d98888b43e1a19c03a50d716108c58494c558c65e308f372/liac-arff-2.4.0.tar.gz\n",
            "Building wheels for collected packages: liac-arff\n",
            "  Building wheel for liac-arff (setup.py) ... \u001b[?25l\u001b[?25hdone\n",
            "  Stored in directory: /root/.cache/pip/wheels/d1/6a/e7/529dc54d76ecede4346164a09ae3168df358945612710f5203\n",
            "Successfully built liac-arff\n",
            "Installing collected packages: liac-arff\n",
            "Successfully installed liac-arff-2.4.0\n"
          ],
          "name": "stdout"
        }
      ]
    },
    {
      "cell_type": "code",
      "metadata": {
        "id": "MWu2k7bfb736",
        "colab_type": "code",
        "outputId": "cf8767db-bdfc-4361-9e2b-6068f0c58976",
        "colab": {
          "base_uri": "https://localhost:8080/",
          "height": 204
        }
      },
      "source": [
        "# OPEN_FILE TESTS\n",
        "# file_name = \"sayNi.arff\";\n",
        "# my_loaded_file = open_file(file_name)\n",
        "# my_loaded_file"
      ],
      "execution_count": 0,
      "outputs": [
        {
          "output_type": "execute_result",
          "data": {
            "text/plain": [
              "{'attributes': [('name', 'STRING'),\n",
              "  ('title', 'STRING'),\n",
              "  ('braveryRating', 'NUMERIC'),\n",
              "  ('lifestatus', ['living', 'dead', 'unknown', 'other'])],\n",
              " 'data': [['King_Arthur', 'King-of-the-Britons', 9.0, 'other'],\n",
              "  ['Sir_Bedevere', 'The-Wise', 5.0, 'other'],\n",
              "  ['Sir_Lancelot', 'The-Brave', 11.0, 'other'],\n",
              "  ['Sir_Galahad', 'The-Pure', 8.0, 'dead'],\n",
              "  ['Sir_Robin', 'The-Not-Quite-So-Brave-As-Sir-Lancelot', 1.0, 'dead']],\n",
              " 'description': '',\n",
              " 'relation': 'Arthurs_Knights'}"
            ]
          },
          "metadata": {
            "tags": []
          },
          "execution_count": 9
        }
      ]
    },
    {
      "cell_type": "code",
      "metadata": {
        "id": "dG_0NkdycObe",
        "colab_type": "code",
        "outputId": "e87817ba-3f57-4dab-b083-868ee66f4fc2",
        "colab": {
          "base_uri": "https://localhost:8080/",
          "height": 34
        }
      },
      "source": [
        "#GET_FIRST TESTS\n",
        "#attribute_names = get_first(my_loaded_file['attributes'])\n",
        "#attribute_names"
      ],
      "execution_count": 0,
      "outputs": [
        {
          "output_type": "execute_result",
          "data": {
            "text/plain": [
              "['name', 'title', 'braveryRating', 'lifestatus']"
            ]
          },
          "metadata": {
            "tags": []
          },
          "execution_count": 12
        }
      ]
    },
    {
      "cell_type": "code",
      "metadata": {
        "colab_type": "code",
        "id": "C4N6npcDdJvo",
        "colab": {}
      },
      "source": [
        "# TO_DATAFRAME TESTS\n",
        "#ni_data = my_loaded_file['data'];\n",
        "# ni_cols = attribute_names\n",
        "\n",
        "# to_dataframe(ni_data, ni_cols)"
      ],
      "execution_count": 0,
      "outputs": []
    },
    {
      "cell_type": "code",
      "metadata": {
        "id": "pWeMMJN2dZDx",
        "colab_type": "code",
        "outputId": "ddf06cda-18ab-486c-a916-8cffc89fea61",
        "colab": {
          "base_uri": "https://localhost:8080/",
          "height": 204
        }
      },
      "source": [
        "#test\n",
        "#knightFrame = arff_to_dataframe('sayNi.arff')\n",
        "\n",
        "#knightFrame"
      ],
      "execution_count": 0,
      "outputs": [
        {
          "output_type": "execute_result",
          "data": {
            "text/html": [
              "<div>\n",
              "<style scoped>\n",
              "    .dataframe tbody tr th:only-of-type {\n",
              "        vertical-align: middle;\n",
              "    }\n",
              "\n",
              "    .dataframe tbody tr th {\n",
              "        vertical-align: top;\n",
              "    }\n",
              "\n",
              "    .dataframe thead th {\n",
              "        text-align: right;\n",
              "    }\n",
              "</style>\n",
              "<table border=\"1\" class=\"dataframe\">\n",
              "  <thead>\n",
              "    <tr style=\"text-align: right;\">\n",
              "      <th></th>\n",
              "      <th>name</th>\n",
              "      <th>title</th>\n",
              "      <th>braveryRating</th>\n",
              "      <th>lifestatus</th>\n",
              "    </tr>\n",
              "  </thead>\n",
              "  <tbody>\n",
              "    <tr>\n",
              "      <th>0</th>\n",
              "      <td>King_Arthur</td>\n",
              "      <td>King-of-the-Britons</td>\n",
              "      <td>9.0</td>\n",
              "      <td>other</td>\n",
              "    </tr>\n",
              "    <tr>\n",
              "      <th>1</th>\n",
              "      <td>Sir_Bedevere</td>\n",
              "      <td>The-Wise</td>\n",
              "      <td>5.0</td>\n",
              "      <td>other</td>\n",
              "    </tr>\n",
              "    <tr>\n",
              "      <th>2</th>\n",
              "      <td>Sir_Lancelot</td>\n",
              "      <td>The-Brave</td>\n",
              "      <td>11.0</td>\n",
              "      <td>other</td>\n",
              "    </tr>\n",
              "    <tr>\n",
              "      <th>3</th>\n",
              "      <td>Sir_Galahad</td>\n",
              "      <td>The-Pure</td>\n",
              "      <td>8.0</td>\n",
              "      <td>dead</td>\n",
              "    </tr>\n",
              "    <tr>\n",
              "      <th>4</th>\n",
              "      <td>Sir_Robin</td>\n",
              "      <td>The-Not-Quite-So-Brave-As-Sir-Lancelot</td>\n",
              "      <td>1.0</td>\n",
              "      <td>dead</td>\n",
              "    </tr>\n",
              "  </tbody>\n",
              "</table>\n",
              "</div>"
            ],
            "text/plain": [
              "           name  ... lifestatus\n",
              "0   King_Arthur  ...      other\n",
              "1  Sir_Bedevere  ...      other\n",
              "2  Sir_Lancelot  ...      other\n",
              "3   Sir_Galahad  ...       dead\n",
              "4     Sir_Robin  ...       dead\n",
              "\n",
              "[5 rows x 4 columns]"
            ]
          },
          "metadata": {
            "tags": []
          },
          "execution_count": 17
        }
      ]
    },
    {
      "cell_type": "code",
      "metadata": {
        "id": "mrfLOQt6RiXE",
        "colab_type": "code",
        "outputId": "5a8afeb7-75ec-49fb-968d-3dd457da67bd",
        "colab": {
          "base_uri": "https://localhost:8080/",
          "height": 111
        }
      },
      "source": [
        "#test\n",
        "# deadKnightFrame = where_equals(knightFrame, 'lifestatus', 'dead')\n",
        "# deadKnightFrame"
      ],
      "execution_count": 0,
      "outputs": [
        {
          "output_type": "execute_result",
          "data": {
            "text/html": [
              "<div>\n",
              "<style scoped>\n",
              "    .dataframe tbody tr th:only-of-type {\n",
              "        vertical-align: middle;\n",
              "    }\n",
              "\n",
              "    .dataframe tbody tr th {\n",
              "        vertical-align: top;\n",
              "    }\n",
              "\n",
              "    .dataframe thead th {\n",
              "        text-align: right;\n",
              "    }\n",
              "</style>\n",
              "<table border=\"1\" class=\"dataframe\">\n",
              "  <thead>\n",
              "    <tr style=\"text-align: right;\">\n",
              "      <th></th>\n",
              "      <th>name</th>\n",
              "      <th>title</th>\n",
              "      <th>braveryRating</th>\n",
              "      <th>lifestatus</th>\n",
              "    </tr>\n",
              "  </thead>\n",
              "  <tbody>\n",
              "    <tr>\n",
              "      <th>3</th>\n",
              "      <td>Sir_Galahad</td>\n",
              "      <td>The-Pure</td>\n",
              "      <td>8.0</td>\n",
              "      <td>dead</td>\n",
              "    </tr>\n",
              "    <tr>\n",
              "      <th>4</th>\n",
              "      <td>Sir_Robin</td>\n",
              "      <td>The-Not-Quite-So-Brave-As-Sir-Lancelot</td>\n",
              "      <td>1.0</td>\n",
              "      <td>dead</td>\n",
              "    </tr>\n",
              "  </tbody>\n",
              "</table>\n",
              "</div>"
            ],
            "text/plain": [
              "          name  ... lifestatus\n",
              "3  Sir_Galahad  ...       dead\n",
              "4    Sir_Robin  ...       dead\n",
              "\n",
              "[2 rows x 4 columns]"
            ]
          },
          "metadata": {
            "tags": []
          },
          "execution_count": 21
        }
      ]
    },
    {
      "cell_type": "markdown",
      "metadata": {
        "id": "XNqh5UqJRY-A",
        "colab_type": "text"
      },
      "source": [
        "<h3>This is where I noodled around, so I knew how the bits worked and how they fit together</h3>"
      ]
    },
    {
      "cell_type": "code",
      "metadata": {
        "id": "fAomecSk-lbl",
        "colab_type": "code",
        "outputId": "64898e81-5551-4948-a000-e4889ed25837",
        "colab": {
          "base_uri": "https://localhost:8080/",
          "height": 204
        }
      },
      "source": [
        "# #change vars to open different file\n",
        "# filename = \"sayNi.arff\";\n",
        "\n",
        "# opened_file = open(filename);\n",
        "# loaded_file = arff.load(opened_file);\n",
        "\n",
        "# loaded_file"
      ],
      "execution_count": 0,
      "outputs": [
        {
          "output_type": "execute_result",
          "data": {
            "text/plain": [
              "{'attributes': [('name', 'STRING'),\n",
              "  ('title', 'STRING'),\n",
              "  ('braveryRating', 'NUMERIC'),\n",
              "  ('lifestatus', ['living', 'dead', 'unknown', 'other'])],\n",
              " 'data': [['King_Arthur', 'King-of-the-Britons', 9.0, 'other'],\n",
              "  ['Sir_Bedevere', 'The-Wise', 5.0, 'other'],\n",
              "  ['Sir_Lancelot', 'The-Brave', 11.0, 'other'],\n",
              "  ['Sir_Galahad', 'The-Pure', 8.0, 'dead'],\n",
              "  ['Sir_Robin', 'The-Not-Quite-So-Brave-As-Sir-Lancelot', 1.0, 'dead']],\n",
              " 'description': '',\n",
              " 'relation': 'Arthurs_Knights'}"
            ]
          },
          "metadata": {
            "tags": []
          },
          "execution_count": 7
        }
      ]
    },
    {
      "cell_type": "code",
      "metadata": {
        "id": "CilekaCS-3n1",
        "colab_type": "code",
        "outputId": "798fae2c-fc77-4214-94b1-d2f9dcf07064",
        "colab": {
          "base_uri": "https://localhost:8080/",
          "height": 85
        }
      },
      "source": [
        "# att_list = loaded_file['attributes']\n",
        "\n",
        "# att_list"
      ],
      "execution_count": 0,
      "outputs": [
        {
          "output_type": "execute_result",
          "data": {
            "text/plain": [
              "[('name', 'STRING'),\n",
              " ('title', 'STRING'),\n",
              " ('braveryRating', 'NUMERIC'),\n",
              " ('lifestatus', ['living', 'dead', 'unknown', 'other'])]"
            ]
          },
          "metadata": {
            "tags": []
          },
          "execution_count": 18
        }
      ]
    },
    {
      "cell_type": "code",
      "metadata": {
        "id": "GyIJqKFXEEfv",
        "colab_type": "code",
        "outputId": "00cf3fd0-8b44-4847-ea45-e3df75f338f7",
        "colab": {
          "base_uri": "https://localhost:8080/",
          "height": 102
        }
      },
      "source": [
        "# data_list = loaded_file['data']\n",
        "\n",
        "# data_list"
      ],
      "execution_count": 0,
      "outputs": [
        {
          "output_type": "execute_result",
          "data": {
            "text/plain": [
              "[['King_Arthur', 'King-of-the-Britons', 9.0, 'other'],\n",
              " ['Sir_Bedevere', 'The-Wise', 5.0, 'other'],\n",
              " ['Sir_Lancelot', 'The-Brave', 11.0, 'other'],\n",
              " ['Sir_Galahad', 'The-Pure', 8.0, 'dead'],\n",
              " ['Sir_Robin', 'The-Not-Quite-So-Brave-As-Sir-Lancelot', 1.0, 'dead']]"
            ]
          },
          "metadata": {
            "tags": []
          },
          "execution_count": 17
        }
      ]
    },
    {
      "cell_type": "code",
      "metadata": {
        "id": "hO2onaU1EIPK",
        "colab_type": "code",
        "outputId": "d9e6ba51-dd91-46b0-f5f8-ddd2f20bcdd0",
        "colab": {
          "base_uri": "https://localhost:8080/",
          "height": 173
        }
      },
      "source": [
        "# att_frame = pd.DataFrame(att_list)\n",
        "\n",
        "# att_frame"
      ],
      "execution_count": 0,
      "outputs": [
        {
          "output_type": "execute_result",
          "data": {
            "text/html": [
              "<div>\n",
              "<style scoped>\n",
              "    .dataframe tbody tr th:only-of-type {\n",
              "        vertical-align: middle;\n",
              "    }\n",
              "\n",
              "    .dataframe tbody tr th {\n",
              "        vertical-align: top;\n",
              "    }\n",
              "\n",
              "    .dataframe thead th {\n",
              "        text-align: right;\n",
              "    }\n",
              "</style>\n",
              "<table border=\"1\" class=\"dataframe\">\n",
              "  <thead>\n",
              "    <tr style=\"text-align: right;\">\n",
              "      <th></th>\n",
              "      <th>0</th>\n",
              "      <th>1</th>\n",
              "    </tr>\n",
              "  </thead>\n",
              "  <tbody>\n",
              "    <tr>\n",
              "      <th>0</th>\n",
              "      <td>name</td>\n",
              "      <td>STRING</td>\n",
              "    </tr>\n",
              "    <tr>\n",
              "      <th>1</th>\n",
              "      <td>title</td>\n",
              "      <td>STRING</td>\n",
              "    </tr>\n",
              "    <tr>\n",
              "      <th>2</th>\n",
              "      <td>braveryRating</td>\n",
              "      <td>NUMERIC</td>\n",
              "    </tr>\n",
              "    <tr>\n",
              "      <th>3</th>\n",
              "      <td>lifestatus</td>\n",
              "      <td>[living, dead, unknown, other]</td>\n",
              "    </tr>\n",
              "  </tbody>\n",
              "</table>\n",
              "</div>"
            ],
            "text/plain": [
              "               0                               1\n",
              "0           name                          STRING\n",
              "1          title                          STRING\n",
              "2  braveryRating                         NUMERIC\n",
              "3     lifestatus  [living, dead, unknown, other]"
            ]
          },
          "metadata": {
            "tags": []
          },
          "execution_count": 22
        }
      ]
    },
    {
      "cell_type": "code",
      "metadata": {
        "id": "odLz_vwtEW2G",
        "colab_type": "code",
        "outputId": "491a299b-a3af-4c56-870e-b8772f6869f2",
        "colab": {
          "base_uri": "https://localhost:8080/",
          "height": 34
        }
      },
      "source": [
        "# #for each element of att_list, get first value; append it\n",
        "# #this is brute force. clean it up later.\n",
        "\n",
        "# att_name_list = [];\n",
        "\n",
        "# for att in att_list:\n",
        "#    att_name_list.append(att[0]);\n",
        "    \n",
        "# att_name_list"
      ],
      "execution_count": 0,
      "outputs": [
        {
          "output_type": "execute_result",
          "data": {
            "text/plain": [
              "['name', 'title', 'braveryRating', 'lifestatus']"
            ]
          },
          "metadata": {
            "tags": []
          },
          "execution_count": 23
        }
      ]
    },
    {
      "cell_type": "code",
      "metadata": {
        "id": "9pJw2uTPFOnW",
        "colab_type": "code",
        "outputId": "da7f1ac5-0e56-4ef1-e345-d0a620bd60b1",
        "colab": {
          "base_uri": "https://localhost:8080/",
          "height": 204
        }
      },
      "source": [
        "# dataframe = pd.DataFrame(data_list, columns = att_name_list)\n",
        "\n",
        "# dataframe"
      ],
      "execution_count": 0,
      "outputs": [
        {
          "output_type": "execute_result",
          "data": {
            "text/html": [
              "<div>\n",
              "<style scoped>\n",
              "    .dataframe tbody tr th:only-of-type {\n",
              "        vertical-align: middle;\n",
              "    }\n",
              "\n",
              "    .dataframe tbody tr th {\n",
              "        vertical-align: top;\n",
              "    }\n",
              "\n",
              "    .dataframe thead th {\n",
              "        text-align: right;\n",
              "    }\n",
              "</style>\n",
              "<table border=\"1\" class=\"dataframe\">\n",
              "  <thead>\n",
              "    <tr style=\"text-align: right;\">\n",
              "      <th></th>\n",
              "      <th>name</th>\n",
              "      <th>title</th>\n",
              "      <th>braveryRating</th>\n",
              "      <th>lifestatus</th>\n",
              "    </tr>\n",
              "  </thead>\n",
              "  <tbody>\n",
              "    <tr>\n",
              "      <th>0</th>\n",
              "      <td>King_Arthur</td>\n",
              "      <td>King-of-the-Britons</td>\n",
              "      <td>9.0</td>\n",
              "      <td>other</td>\n",
              "    </tr>\n",
              "    <tr>\n",
              "      <th>1</th>\n",
              "      <td>Sir_Bedevere</td>\n",
              "      <td>The-Wise</td>\n",
              "      <td>5.0</td>\n",
              "      <td>other</td>\n",
              "    </tr>\n",
              "    <tr>\n",
              "      <th>2</th>\n",
              "      <td>Sir_Lancelot</td>\n",
              "      <td>The-Brave</td>\n",
              "      <td>11.0</td>\n",
              "      <td>other</td>\n",
              "    </tr>\n",
              "    <tr>\n",
              "      <th>3</th>\n",
              "      <td>Sir_Galahad</td>\n",
              "      <td>The-Pure</td>\n",
              "      <td>8.0</td>\n",
              "      <td>dead</td>\n",
              "    </tr>\n",
              "    <tr>\n",
              "      <th>4</th>\n",
              "      <td>Sir_Robin</td>\n",
              "      <td>The-Not-Quite-So-Brave-As-Sir-Lancelot</td>\n",
              "      <td>1.0</td>\n",
              "      <td>dead</td>\n",
              "    </tr>\n",
              "  </tbody>\n",
              "</table>\n",
              "</div>"
            ],
            "text/plain": [
              "           name  ... lifestatus\n",
              "0   King_Arthur  ...      other\n",
              "1  Sir_Bedevere  ...      other\n",
              "2  Sir_Lancelot  ...      other\n",
              "3   Sir_Galahad  ...       dead\n",
              "4     Sir_Robin  ...       dead\n",
              "\n",
              "[5 rows x 4 columns]"
            ]
          },
          "metadata": {
            "tags": []
          },
          "execution_count": 28
        }
      ]
    },
    {
      "cell_type": "code",
      "metadata": {
        "id": "N6OKfXh2Jyv8",
        "colab_type": "code",
        "outputId": "c6431bb7-acdf-4311-d906-7324ff25a033",
        "colab": {
          "base_uri": "https://localhost:8080/",
          "height": 102
        }
      },
      "source": [
        "# #skip this, i dont get it yet\n",
        "# file_ni = open_file(\"sayNi.arff\")\n",
        "# attributes = np.array(file_ni['attributes'])\n",
        "\n",
        "# attributes"
      ],
      "execution_count": 0,
      "outputs": [
        {
          "output_type": "execute_result",
          "data": {
            "text/plain": [
              "array([['name', 'STRING'],\n",
              "       ['title', 'STRING'],\n",
              "       ['braveryRating', 'NUMERIC'],\n",
              "       ['lifestatus', list(['living', 'dead', 'unknown', 'other'])]],\n",
              "      dtype=object)"
            ]
          },
          "metadata": {
            "tags": []
          },
          "execution_count": 31
        }
      ]
    },
    {
      "cell_type": "code",
      "metadata": {
        "id": "cW9NeVm6Krqs",
        "colab_type": "code",
        "outputId": "1735bca7-5f73-4e35-8e52-0153886720d9",
        "colab": {
          "base_uri": "https://localhost:8080/",
          "height": 234
        }
      },
      "source": [
        "# #skip this, i don't get it yet\n",
        "# att_names_only = [];\n",
        "\n",
        "# for att in np.nditer(attributes):\n",
        "#   print(att[0])"
      ],
      "execution_count": 0,
      "outputs": [
        {
          "output_type": "error",
          "ename": "TypeError",
          "evalue": "ignored",
          "traceback": [
            "\u001b[0;31m---------------------------------------------------------------------------\u001b[0m",
            "\u001b[0;31mTypeError\u001b[0m                                 Traceback (most recent call last)",
            "\u001b[0;32m<ipython-input-33-7de35268652c>\u001b[0m in \u001b[0;36m<module>\u001b[0;34m()\u001b[0m\n\u001b[1;32m      1\u001b[0m \u001b[0matt_names_only\u001b[0m \u001b[0;34m=\u001b[0m \u001b[0;34m[\u001b[0m\u001b[0;34m]\u001b[0m\u001b[0;34m;\u001b[0m\u001b[0;34m\u001b[0m\u001b[0;34m\u001b[0m\u001b[0m\n\u001b[1;32m      2\u001b[0m \u001b[0;34m\u001b[0m\u001b[0m\n\u001b[0;32m----> 3\u001b[0;31m \u001b[0;32mfor\u001b[0m \u001b[0matt\u001b[0m \u001b[0;32min\u001b[0m \u001b[0mnp\u001b[0m\u001b[0;34m.\u001b[0m\u001b[0mnditer\u001b[0m\u001b[0;34m(\u001b[0m\u001b[0mattributes\u001b[0m\u001b[0;34m)\u001b[0m\u001b[0;34m:\u001b[0m\u001b[0;34m\u001b[0m\u001b[0;34m\u001b[0m\u001b[0m\n\u001b[0m\u001b[1;32m      4\u001b[0m   \u001b[0mprint\u001b[0m\u001b[0;34m(\u001b[0m\u001b[0matt\u001b[0m\u001b[0;34m[\u001b[0m\u001b[0;36m0\u001b[0m\u001b[0;34m]\u001b[0m\u001b[0;34m)\u001b[0m\u001b[0;34m\u001b[0m\u001b[0;34m\u001b[0m\u001b[0m\n",
            "\u001b[0;31mTypeError\u001b[0m: Iterator operand or requested dtype holds references, but the REFS_OK flag was not enabled"
          ]
        }
      ]
    },
    {
      "cell_type": "code",
      "metadata": {
        "id": "Kp9ux5QWNOAY",
        "colab_type": "code",
        "outputId": "5244663f-b402-40c2-a3d5-904b466bf878",
        "colab": {
          "base_uri": "https://localhost:8080/",
          "height": 204
        }
      },
      "source": [
        "# arff_to_dataframe('sayHey.arff')"
      ],
      "execution_count": 0,
      "outputs": [
        {
          "output_type": "execute_result",
          "data": {
            "text/html": [
              "<div>\n",
              "<style scoped>\n",
              "    .dataframe tbody tr th:only-of-type {\n",
              "        vertical-align: middle;\n",
              "    }\n",
              "\n",
              "    .dataframe tbody tr th {\n",
              "        vertical-align: top;\n",
              "    }\n",
              "\n",
              "    .dataframe thead th {\n",
              "        text-align: right;\n",
              "    }\n",
              "</style>\n",
              "<table border=\"1\" class=\"dataframe\">\n",
              "  <thead>\n",
              "    <tr style=\"text-align: right;\">\n",
              "      <th></th>\n",
              "      <th>name</th>\n",
              "      <th>title</th>\n",
              "      <th>braveryRating</th>\n",
              "      <th>lifestatus</th>\n",
              "    </tr>\n",
              "  </thead>\n",
              "  <tbody>\n",
              "    <tr>\n",
              "      <th>0</th>\n",
              "      <td>Aladdin</td>\n",
              "      <td>Street-Rat</td>\n",
              "      <td>9.0</td>\n",
              "      <td>living</td>\n",
              "    </tr>\n",
              "    <tr>\n",
              "      <th>1</th>\n",
              "      <td>Jasmine</td>\n",
              "      <td>Princess</td>\n",
              "      <td>10.0</td>\n",
              "      <td>living</td>\n",
              "    </tr>\n",
              "    <tr>\n",
              "      <th>2</th>\n",
              "      <td>Jafar</td>\n",
              "      <td>Royal-Physir</td>\n",
              "      <td>4.0</td>\n",
              "      <td>other</td>\n",
              "    </tr>\n",
              "    <tr>\n",
              "      <th>3</th>\n",
              "      <td>Sultan</td>\n",
              "      <td>Sultan</td>\n",
              "      <td>2.0</td>\n",
              "      <td>living</td>\n",
              "    </tr>\n",
              "    <tr>\n",
              "      <th>4</th>\n",
              "      <td>Abu</td>\n",
              "      <td>Monkey</td>\n",
              "      <td>9.0</td>\n",
              "      <td>living</td>\n",
              "    </tr>\n",
              "  </tbody>\n",
              "</table>\n",
              "</div>"
            ],
            "text/plain": [
              "      name         title  braveryRating lifestatus\n",
              "0  Aladdin    Street-Rat            9.0     living\n",
              "1  Jasmine      Princess           10.0     living\n",
              "2    Jafar  Royal-Physir            4.0      other\n",
              "3   Sultan        Sultan            2.0     living\n",
              "4      Abu        Monkey            9.0     living"
            ]
          },
          "metadata": {
            "tags": []
          },
          "execution_count": 38
        }
      ]
    }
  ]
}