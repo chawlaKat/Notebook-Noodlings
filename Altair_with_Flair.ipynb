{
  "nbformat": 4,
  "nbformat_minor": 0,
  "metadata": {
    "colab": {
      "name": "Altair with Flair.ipynb",
      "version": "0.3.2",
      "provenance": [],
      "collapsed_sections": [],
      "include_colab_link": true
    },
    "kernelspec": {
      "name": "python3",
      "display_name": "Python 3"
    }
  },
  "cells": [
    {
      "cell_type": "markdown",
      "metadata": {
        "id": "view-in-github",
        "colab_type": "text"
      },
      "source": [
        "<a href=\"https://colab.research.google.com/github/chawlaKat/Notebook-Noodlings/blob/master/Altair_with_Flair.ipynb\" target=\"_parent\"><img src=\"https://colab.research.google.com/assets/colab-badge.svg\" alt=\"Open In Colab\"/></a>"
      ]
    },
    {
      "cell_type": "markdown",
      "metadata": {
        "id": "ATTC-AdA3sBh",
        "colab_type": "text"
      },
      "source": [
        "Here, I'm working through Altair tutorials, getting a sense for what it is and how it works."
      ]
    },
    {
      "cell_type": "code",
      "metadata": {
        "id": "JrOfi5d4UWaa",
        "colab_type": "code",
        "colab": {}
      },
      "source": [
        "import altair as alt\n",
        "import pandas as pd"
      ],
      "execution_count": 0,
      "outputs": []
    },
    {
      "cell_type": "markdown",
      "metadata": {
        "id": "ush8P7ROY4g0",
        "colab_type": "text"
      },
      "source": [
        "Altair quickstart tutorial start: <br> https://altair-viz.github.io/getting_started/installation.html#quick-start-altair-colab"
      ]
    },
    {
      "cell_type": "code",
      "metadata": {
        "id": "ig_lYLijVvPz",
        "colab_type": "code",
        "outputId": "3a79bc7d-4f1d-4507-a7d6-a83fdd8d8484",
        "colab": {
          "base_uri": "https://localhost:8080/",
          "height": 363
        }
      },
      "source": [
        "import altair as alt\n",
        "from vega_datasets import data\n",
        "\n",
        "iris = data.iris()\n",
        "\n",
        "alt.Chart(iris).mark_point().encode(\n",
        "    x='petalLength',\n",
        "    y='petalWidth',\n",
        "    color='species'\n",
        ")"
      ],
      "execution_count": 2,
      "outputs": [
        {
          "output_type": "execute_result",
          "data": {
            "text/plain": [
              "Chart({\n",
              "  data:      petalLength  petalWidth  sepalLength  sepalWidth    species\n",
              "  0            1.4         0.2          5.1         3.5     setosa\n",
              "  1            1.4         0.2          4.9         3.0     setosa\n",
              "  2            1.3         0.2          4.7         3.2     setosa\n",
              "  3            1.5         0.2          4.6         3.1     setosa\n",
              "  4            1.4         0.2          5.0         3.6     setosa\n",
              "  5            1.7         0.4          5.4         3.9     setosa\n",
              "  6            1.4         0.3          4.6         3.4     setosa\n",
              "  7            1.5         0.2          5.0         3.4     setosa\n",
              "  8            1.4         0.2          4.4         2.9     setosa\n",
              "  9            1.5         0.1          4.9         3.1     setosa\n",
              "  10           1.5         0.2          5.4         3.7     setosa\n",
              "  11           1.6         0.2          4.8         3.4     setosa\n",
              "  12           1.4         0.1          4.8         3.0     setosa\n",
              "  13           1.1         0.1          4.3         3.0     setosa\n",
              "  14           1.2         0.2          5.8         4.0     setosa\n",
              "  15           1.5         0.4          5.7         4.4     setosa\n",
              "  16           1.3         0.4          5.4         3.9     setosa\n",
              "  17           1.4         0.3          5.1         3.5     setosa\n",
              "  18           1.7         0.3          5.7         3.8     setosa\n",
              "  19           1.5         0.3          5.1         3.8     setosa\n",
              "  20           1.7         0.2          5.4         3.4     setosa\n",
              "  21           1.5         0.4          5.1         3.7     setosa\n",
              "  22           1.0         0.2          4.6         3.6     setosa\n",
              "  23           1.7         0.5          5.1         3.3     setosa\n",
              "  24           1.9         0.2          4.8         3.4     setosa\n",
              "  25           1.6         0.2          5.0         3.0     setosa\n",
              "  26           1.6         0.4          5.0         3.4     setosa\n",
              "  27           1.5         0.2          5.2         3.5     setosa\n",
              "  28           1.4         0.2          5.2         3.4     setosa\n",
              "  29           1.6         0.2          4.7         3.2     setosa\n",
              "  ..           ...         ...          ...         ...        ...\n",
              "  120          5.7         2.3          6.9         3.2  virginica\n",
              "  121          4.9         2.0          5.6         2.8  virginica\n",
              "  122          6.7         2.0          7.7         2.8  virginica\n",
              "  123          4.9         1.8          6.3         2.7  virginica\n",
              "  124          5.7         2.1          6.7         3.3  virginica\n",
              "  125          6.0         1.8          7.2         3.2  virginica\n",
              "  126          4.8         1.8          6.2         2.8  virginica\n",
              "  127          4.9         1.8          6.1         3.0  virginica\n",
              "  128          5.6         2.1          6.4         2.8  virginica\n",
              "  129          5.8         1.6          7.2         3.0  virginica\n",
              "  130          6.1         1.9          7.4         2.8  virginica\n",
              "  131          6.4         2.0          7.9         3.8  virginica\n",
              "  132          5.6         2.2          6.4         2.8  virginica\n",
              "  133          5.1         1.5          6.3         2.8  virginica\n",
              "  134          5.6         1.4          6.1         2.6  virginica\n",
              "  135          6.1         2.3          7.7         3.0  virginica\n",
              "  136          5.6         2.4          6.3         3.4  virginica\n",
              "  137          5.5         1.8          6.4         3.1  virginica\n",
              "  138          4.8         1.8          6.0         3.0  virginica\n",
              "  139          5.4         2.1          6.9         3.1  virginica\n",
              "  140          5.6         2.4          6.7         3.1  virginica\n",
              "  141          5.1         2.3          6.9         3.1  virginica\n",
              "  142          5.1         1.9          5.8         2.7  virginica\n",
              "  143          5.9         2.3          6.8         3.2  virginica\n",
              "  144          5.7         2.5          6.7         3.3  virginica\n",
              "  145          5.2         2.3          6.7         3.0  virginica\n",
              "  146          5.0         1.9          6.3         2.5  virginica\n",
              "  147          5.2         2.0          6.5         3.0  virginica\n",
              "  148          5.4         2.3          6.2         3.4  virginica\n",
              "  149          5.1         1.8          5.9         3.0  virginica\n",
              "  \n",
              "  [150 rows x 5 columns],\n",
              "  encoding: FacetedEncoding({\n",
              "    color: Color({\n",
              "      field: 'species',\n",
              "      type: 'nominal'\n",
              "    }),\n",
              "    x: X({\n",
              "      field: 'petalLength',\n",
              "      type: 'quantitative'\n",
              "    }),\n",
              "    y: Y({\n",
              "      field: 'petalWidth',\n",
              "      type: 'quantitative'\n",
              "    })\n",
              "  }),\n",
              "  mark: 'point'\n",
              "})"
            ],
            "text/html": [
              "<!DOCTYPE html>\n",
              "<html>\n",
              "<head>\n",
              "  <style>\n",
              "    .vega-actions a {\n",
              "        margin-right: 12px;\n",
              "        color: #757575;\n",
              "        font-weight: normal;\n",
              "        font-size: 13px;\n",
              "    }\n",
              "    .error {\n",
              "        color: red;\n",
              "    }\n",
              "  </style>\n",
              "  <script type=\"text/javascript\" src=\"https://cdn.jsdelivr.net/npm//vega@5\"></script>\n",
              "  <script type=\"text/javascript\" src=\"https://cdn.jsdelivr.net/npm//vega-lite@3.3.0\"></script>\n",
              "  <script type=\"text/javascript\" src=\"https://cdn.jsdelivr.net/npm//vega-embed@4\"></script>\n",
              "</head>\n",
              "<body>\n",
              "  <div id=\"altair-viz\"></div>\n",
              "  <script>\n",
              "      var spec = {\"config\": {\"view\": {\"width\": 400, \"height\": 300}, \"mark\": {\"tooltip\": null}}, \"data\": {\"name\": \"data-a264acbd6e539a8b3afc0cb5f240fb57\"}, \"mark\": \"point\", \"encoding\": {\"color\": {\"type\": \"nominal\", \"field\": \"species\"}, \"x\": {\"type\": \"quantitative\", \"field\": \"petalLength\"}, \"y\": {\"type\": \"quantitative\", \"field\": \"petalWidth\"}}, \"$schema\": \"https://vega.github.io/schema/vega-lite/v3.3.0.json\", \"datasets\": {\"data-a264acbd6e539a8b3afc0cb5f240fb57\": [{\"petalLength\": 1.4, \"petalWidth\": 0.2, \"sepalLength\": 5.1, \"sepalWidth\": 3.5, \"species\": \"setosa\"}, {\"petalLength\": 1.4, \"petalWidth\": 0.2, \"sepalLength\": 4.9, \"sepalWidth\": 3.0, \"species\": \"setosa\"}, {\"petalLength\": 1.3, \"petalWidth\": 0.2, \"sepalLength\": 4.7, \"sepalWidth\": 3.2, \"species\": \"setosa\"}, {\"petalLength\": 1.5, \"petalWidth\": 0.2, \"sepalLength\": 4.6, \"sepalWidth\": 3.1, \"species\": \"setosa\"}, {\"petalLength\": 1.4, \"petalWidth\": 0.2, \"sepalLength\": 5.0, \"sepalWidth\": 3.6, \"species\": \"setosa\"}, {\"petalLength\": 1.7000000000000002, \"petalWidth\": 0.4, \"sepalLength\": 5.4, \"sepalWidth\": 3.9, \"species\": \"setosa\"}, {\"petalLength\": 1.4, \"petalWidth\": 0.30000000000000004, \"sepalLength\": 4.6, \"sepalWidth\": 3.4, \"species\": \"setosa\"}, {\"petalLength\": 1.5, \"petalWidth\": 0.2, \"sepalLength\": 5.0, \"sepalWidth\": 3.4, \"species\": \"setosa\"}, {\"petalLength\": 1.4, \"petalWidth\": 0.2, \"sepalLength\": 4.4, \"sepalWidth\": 2.9, \"species\": \"setosa\"}, {\"petalLength\": 1.5, \"petalWidth\": 0.1, \"sepalLength\": 4.9, \"sepalWidth\": 3.1, \"species\": \"setosa\"}, {\"petalLength\": 1.5, \"petalWidth\": 0.2, \"sepalLength\": 5.4, \"sepalWidth\": 3.7, \"species\": \"setosa\"}, {\"petalLength\": 1.6, \"petalWidth\": 0.2, \"sepalLength\": 4.8, \"sepalWidth\": 3.4, \"species\": \"setosa\"}, {\"petalLength\": 1.4, \"petalWidth\": 0.1, \"sepalLength\": 4.8, \"sepalWidth\": 3.0, \"species\": \"setosa\"}, {\"petalLength\": 1.1, \"petalWidth\": 0.1, \"sepalLength\": 4.3, \"sepalWidth\": 3.0, \"species\": \"setosa\"}, {\"petalLength\": 1.2, \"petalWidth\": 0.2, \"sepalLength\": 5.8, \"sepalWidth\": 4.0, \"species\": \"setosa\"}, {\"petalLength\": 1.5, \"petalWidth\": 0.4, \"sepalLength\": 5.7, \"sepalWidth\": 4.4, \"species\": \"setosa\"}, {\"petalLength\": 1.3, \"petalWidth\": 0.4, \"sepalLength\": 5.4, \"sepalWidth\": 3.9, \"species\": \"setosa\"}, {\"petalLength\": 1.4, \"petalWidth\": 0.30000000000000004, \"sepalLength\": 5.1, \"sepalWidth\": 3.5, \"species\": \"setosa\"}, {\"petalLength\": 1.7000000000000002, \"petalWidth\": 0.30000000000000004, \"sepalLength\": 5.7, \"sepalWidth\": 3.8, \"species\": \"setosa\"}, {\"petalLength\": 1.5, \"petalWidth\": 0.30000000000000004, \"sepalLength\": 5.1, \"sepalWidth\": 3.8, \"species\": \"setosa\"}, {\"petalLength\": 1.7000000000000002, \"petalWidth\": 0.2, \"sepalLength\": 5.4, \"sepalWidth\": 3.4, \"species\": \"setosa\"}, {\"petalLength\": 1.5, \"petalWidth\": 0.4, \"sepalLength\": 5.1, \"sepalWidth\": 3.7, \"species\": \"setosa\"}, {\"petalLength\": 1.0, \"petalWidth\": 0.2, \"sepalLength\": 4.6, \"sepalWidth\": 3.6, \"species\": \"setosa\"}, {\"petalLength\": 1.7000000000000002, \"petalWidth\": 0.5, \"sepalLength\": 5.1, \"sepalWidth\": 3.3, \"species\": \"setosa\"}, {\"petalLength\": 1.9, \"petalWidth\": 0.2, \"sepalLength\": 4.8, \"sepalWidth\": 3.4, \"species\": \"setosa\"}, {\"petalLength\": 1.6, \"petalWidth\": 0.2, \"sepalLength\": 5.0, \"sepalWidth\": 3.0, \"species\": \"setosa\"}, {\"petalLength\": 1.6, \"petalWidth\": 0.4, \"sepalLength\": 5.0, \"sepalWidth\": 3.4, \"species\": \"setosa\"}, {\"petalLength\": 1.5, \"petalWidth\": 0.2, \"sepalLength\": 5.2, \"sepalWidth\": 3.5, \"species\": \"setosa\"}, {\"petalLength\": 1.4, \"petalWidth\": 0.2, \"sepalLength\": 5.2, \"sepalWidth\": 3.4, \"species\": \"setosa\"}, {\"petalLength\": 1.6, \"petalWidth\": 0.2, \"sepalLength\": 4.7, \"sepalWidth\": 3.2, \"species\": \"setosa\"}, {\"petalLength\": 1.6, \"petalWidth\": 0.2, \"sepalLength\": 4.8, \"sepalWidth\": 3.1, \"species\": \"setosa\"}, {\"petalLength\": 1.5, \"petalWidth\": 0.4, \"sepalLength\": 5.4, \"sepalWidth\": 3.4, \"species\": \"setosa\"}, {\"petalLength\": 1.5, \"petalWidth\": 0.1, \"sepalLength\": 5.2, \"sepalWidth\": 4.1, \"species\": \"setosa\"}, {\"petalLength\": 1.4, \"petalWidth\": 0.2, \"sepalLength\": 5.5, \"sepalWidth\": 4.2, \"species\": \"setosa\"}, {\"petalLength\": 1.5, \"petalWidth\": 0.2, \"sepalLength\": 4.9, \"sepalWidth\": 3.1, \"species\": \"setosa\"}, {\"petalLength\": 1.2, \"petalWidth\": 0.2, \"sepalLength\": 5.0, \"sepalWidth\": 3.2, \"species\": \"setosa\"}, {\"petalLength\": 1.3, \"petalWidth\": 0.2, \"sepalLength\": 5.5, \"sepalWidth\": 3.5, \"species\": \"setosa\"}, {\"petalLength\": 1.4, \"petalWidth\": 0.1, \"sepalLength\": 4.9, \"sepalWidth\": 3.6, \"species\": \"setosa\"}, {\"petalLength\": 1.3, \"petalWidth\": 0.2, \"sepalLength\": 4.4, \"sepalWidth\": 3.0, \"species\": \"setosa\"}, {\"petalLength\": 1.5, \"petalWidth\": 0.2, \"sepalLength\": 5.1, \"sepalWidth\": 3.4, \"species\": \"setosa\"}, {\"petalLength\": 1.3, \"petalWidth\": 0.30000000000000004, \"sepalLength\": 5.0, \"sepalWidth\": 3.5, \"species\": \"setosa\"}, {\"petalLength\": 1.3, \"petalWidth\": 0.30000000000000004, \"sepalLength\": 4.5, \"sepalWidth\": 2.3, \"species\": \"setosa\"}, {\"petalLength\": 1.3, \"petalWidth\": 0.2, \"sepalLength\": 4.4, \"sepalWidth\": 3.2, \"species\": \"setosa\"}, {\"petalLength\": 1.6, \"petalWidth\": 0.6000000000000001, \"sepalLength\": 5.0, \"sepalWidth\": 3.5, \"species\": \"setosa\"}, {\"petalLength\": 1.9, \"petalWidth\": 0.4, \"sepalLength\": 5.1, \"sepalWidth\": 3.8, \"species\": \"setosa\"}, {\"petalLength\": 1.4, \"petalWidth\": 0.30000000000000004, \"sepalLength\": 4.8, \"sepalWidth\": 3.0, \"species\": \"setosa\"}, {\"petalLength\": 1.6, \"petalWidth\": 0.2, \"sepalLength\": 5.1, \"sepalWidth\": 3.8, \"species\": \"setosa\"}, {\"petalLength\": 1.4, \"petalWidth\": 0.2, \"sepalLength\": 4.6, \"sepalWidth\": 3.2, \"species\": \"setosa\"}, {\"petalLength\": 1.5, \"petalWidth\": 0.2, \"sepalLength\": 5.3, \"sepalWidth\": 3.7, \"species\": \"setosa\"}, {\"petalLength\": 1.4, \"petalWidth\": 0.2, \"sepalLength\": 5.0, \"sepalWidth\": 3.3, \"species\": \"setosa\"}, {\"petalLength\": 4.7, \"petalWidth\": 1.4, \"sepalLength\": 7.0, \"sepalWidth\": 3.2, \"species\": \"versicolor\"}, {\"petalLength\": 4.5, \"petalWidth\": 1.5, \"sepalLength\": 6.4, \"sepalWidth\": 3.2, \"species\": \"versicolor\"}, {\"petalLength\": 4.9, \"petalWidth\": 1.5, \"sepalLength\": 6.9, \"sepalWidth\": 3.1, \"species\": \"versicolor\"}, {\"petalLength\": 4.0, \"petalWidth\": 1.3, \"sepalLength\": 5.5, \"sepalWidth\": 2.3, \"species\": \"versicolor\"}, {\"petalLength\": 4.6, \"petalWidth\": 1.5, \"sepalLength\": 6.5, \"sepalWidth\": 2.8, \"species\": \"versicolor\"}, {\"petalLength\": 4.5, \"petalWidth\": 1.3, \"sepalLength\": 5.7, \"sepalWidth\": 2.8, \"species\": \"versicolor\"}, {\"petalLength\": 4.7, \"petalWidth\": 1.6, \"sepalLength\": 6.3, \"sepalWidth\": 3.3, \"species\": \"versicolor\"}, {\"petalLength\": 3.3, \"petalWidth\": 1.0, \"sepalLength\": 4.9, \"sepalWidth\": 2.4, \"species\": \"versicolor\"}, {\"petalLength\": 4.6, \"petalWidth\": 1.3, \"sepalLength\": 6.6, \"sepalWidth\": 2.9, \"species\": \"versicolor\"}, {\"petalLength\": 3.9, \"petalWidth\": 1.4, \"sepalLength\": 5.2, \"sepalWidth\": 2.7, \"species\": \"versicolor\"}, {\"petalLength\": 3.5, \"petalWidth\": 1.0, \"sepalLength\": 5.0, \"sepalWidth\": 2.0, \"species\": \"versicolor\"}, {\"petalLength\": 4.2, \"petalWidth\": 1.5, \"sepalLength\": 5.9, \"sepalWidth\": 3.0, \"species\": \"versicolor\"}, {\"petalLength\": 4.0, \"petalWidth\": 1.0, \"sepalLength\": 6.0, \"sepalWidth\": 2.2, \"species\": \"versicolor\"}, {\"petalLength\": 4.7, \"petalWidth\": 1.4, \"sepalLength\": 6.1, \"sepalWidth\": 2.9, \"species\": \"versicolor\"}, {\"petalLength\": 3.6, \"petalWidth\": 1.3, \"sepalLength\": 5.6, \"sepalWidth\": 2.9, \"species\": \"versicolor\"}, {\"petalLength\": 4.4, \"petalWidth\": 1.4, \"sepalLength\": 6.7, \"sepalWidth\": 3.1, \"species\": \"versicolor\"}, {\"petalLength\": 4.5, \"petalWidth\": 1.5, \"sepalLength\": 5.6, \"sepalWidth\": 3.0, \"species\": \"versicolor\"}, {\"petalLength\": 4.1, \"petalWidth\": 1.0, \"sepalLength\": 5.8, \"sepalWidth\": 2.7, \"species\": \"versicolor\"}, {\"petalLength\": 4.5, \"petalWidth\": 1.5, \"sepalLength\": 6.2, \"sepalWidth\": 2.2, \"species\": \"versicolor\"}, {\"petalLength\": 3.9, \"petalWidth\": 1.1, \"sepalLength\": 5.6, \"sepalWidth\": 2.5, \"species\": \"versicolor\"}, {\"petalLength\": 4.8, \"petalWidth\": 1.8, \"sepalLength\": 5.9, \"sepalWidth\": 3.2, \"species\": \"versicolor\"}, {\"petalLength\": 4.0, \"petalWidth\": 1.3, \"sepalLength\": 6.1, \"sepalWidth\": 2.8, \"species\": \"versicolor\"}, {\"petalLength\": 4.9, \"petalWidth\": 1.5, \"sepalLength\": 6.3, \"sepalWidth\": 2.5, \"species\": \"versicolor\"}, {\"petalLength\": 4.7, \"petalWidth\": 1.2, \"sepalLength\": 6.1, \"sepalWidth\": 2.8, \"species\": \"versicolor\"}, {\"petalLength\": 4.3, \"petalWidth\": 1.3, \"sepalLength\": 6.4, \"sepalWidth\": 2.9, \"species\": \"versicolor\"}, {\"petalLength\": 4.4, \"petalWidth\": 1.4, \"sepalLength\": 6.6, \"sepalWidth\": 3.0, \"species\": \"versicolor\"}, {\"petalLength\": 4.8, \"petalWidth\": 1.4, \"sepalLength\": 6.8, \"sepalWidth\": 2.8, \"species\": \"versicolor\"}, {\"petalLength\": 5.0, \"petalWidth\": 1.7000000000000002, \"sepalLength\": 6.7, \"sepalWidth\": 3.0, \"species\": \"versicolor\"}, {\"petalLength\": 4.5, \"petalWidth\": 1.5, \"sepalLength\": 6.0, \"sepalWidth\": 2.9, \"species\": \"versicolor\"}, {\"petalLength\": 3.5, \"petalWidth\": 1.0, \"sepalLength\": 5.7, \"sepalWidth\": 2.6, \"species\": \"versicolor\"}, {\"petalLength\": 3.8, \"petalWidth\": 1.1, \"sepalLength\": 5.5, \"sepalWidth\": 2.4, \"species\": \"versicolor\"}, {\"petalLength\": 3.7, \"petalWidth\": 1.0, \"sepalLength\": 5.5, \"sepalWidth\": 2.4, \"species\": \"versicolor\"}, {\"petalLength\": 3.9, \"petalWidth\": 1.2, \"sepalLength\": 5.8, \"sepalWidth\": 2.7, \"species\": \"versicolor\"}, {\"petalLength\": 5.1, \"petalWidth\": 1.6, \"sepalLength\": 6.0, \"sepalWidth\": 2.7, \"species\": \"versicolor\"}, {\"petalLength\": 4.5, \"petalWidth\": 1.5, \"sepalLength\": 5.4, \"sepalWidth\": 3.0, \"species\": \"versicolor\"}, {\"petalLength\": 4.5, \"petalWidth\": 1.6, \"sepalLength\": 6.0, \"sepalWidth\": 3.4, \"species\": \"versicolor\"}, {\"petalLength\": 4.7, \"petalWidth\": 1.5, \"sepalLength\": 6.7, \"sepalWidth\": 3.1, \"species\": \"versicolor\"}, {\"petalLength\": 4.4, \"petalWidth\": 1.3, \"sepalLength\": 6.3, \"sepalWidth\": 2.3, \"species\": \"versicolor\"}, {\"petalLength\": 4.1, \"petalWidth\": 1.3, \"sepalLength\": 5.6, \"sepalWidth\": 3.0, \"species\": \"versicolor\"}, {\"petalLength\": 4.0, \"petalWidth\": 1.3, \"sepalLength\": 5.5, \"sepalWidth\": 2.5, \"species\": \"versicolor\"}, {\"petalLength\": 4.4, \"petalWidth\": 1.2, \"sepalLength\": 5.5, \"sepalWidth\": 2.6, \"species\": \"versicolor\"}, {\"petalLength\": 4.6, \"petalWidth\": 1.4, \"sepalLength\": 6.1, \"sepalWidth\": 3.0, \"species\": \"versicolor\"}, {\"petalLength\": 4.0, \"petalWidth\": 1.2, \"sepalLength\": 5.8, \"sepalWidth\": 2.6, \"species\": \"versicolor\"}, {\"petalLength\": 3.3, \"petalWidth\": 1.0, \"sepalLength\": 5.0, \"sepalWidth\": 2.3, \"species\": \"versicolor\"}, {\"petalLength\": 4.2, \"petalWidth\": 1.3, \"sepalLength\": 5.6, \"sepalWidth\": 2.7, \"species\": \"versicolor\"}, {\"petalLength\": 4.2, \"petalWidth\": 1.2, \"sepalLength\": 5.7, \"sepalWidth\": 3.0, \"species\": \"versicolor\"}, {\"petalLength\": 4.2, \"petalWidth\": 1.3, \"sepalLength\": 5.7, \"sepalWidth\": 2.9, \"species\": \"versicolor\"}, {\"petalLength\": 4.3, \"petalWidth\": 1.3, \"sepalLength\": 6.2, \"sepalWidth\": 2.9, \"species\": \"versicolor\"}, {\"petalLength\": 3.0, \"petalWidth\": 1.1, \"sepalLength\": 5.1, \"sepalWidth\": 2.5, \"species\": \"versicolor\"}, {\"petalLength\": 4.1, \"petalWidth\": 1.3, \"sepalLength\": 5.7, \"sepalWidth\": 2.8, \"species\": \"versicolor\"}, {\"petalLength\": 6.0, \"petalWidth\": 2.5, \"sepalLength\": 6.3, \"sepalWidth\": 3.3, \"species\": \"virginica\"}, {\"petalLength\": 5.1, \"petalWidth\": 1.9, \"sepalLength\": 5.8, \"sepalWidth\": 2.7, \"species\": \"virginica\"}, {\"petalLength\": 5.9, \"petalWidth\": 2.1, \"sepalLength\": 7.1, \"sepalWidth\": 3.0, \"species\": \"virginica\"}, {\"petalLength\": 5.6, \"petalWidth\": 1.8, \"sepalLength\": 6.3, \"sepalWidth\": 2.9, \"species\": \"virginica\"}, {\"petalLength\": 5.8, \"petalWidth\": 2.2, \"sepalLength\": 6.5, \"sepalWidth\": 3.0, \"species\": \"virginica\"}, {\"petalLength\": 6.6, \"petalWidth\": 2.1, \"sepalLength\": 7.6, \"sepalWidth\": 3.0, \"species\": \"virginica\"}, {\"petalLength\": 4.5, \"petalWidth\": 1.7000000000000002, \"sepalLength\": 4.9, \"sepalWidth\": 2.5, \"species\": \"virginica\"}, {\"petalLength\": 6.3, \"petalWidth\": 1.8, \"sepalLength\": 7.3, \"sepalWidth\": 2.9, \"species\": \"virginica\"}, {\"petalLength\": 5.8, \"petalWidth\": 1.8, \"sepalLength\": 6.7, \"sepalWidth\": 2.5, \"species\": \"virginica\"}, {\"petalLength\": 6.1, \"petalWidth\": 2.5, \"sepalLength\": 7.2, \"sepalWidth\": 3.6, \"species\": \"virginica\"}, {\"petalLength\": 5.1, \"petalWidth\": 2.0, \"sepalLength\": 6.5, \"sepalWidth\": 3.2, \"species\": \"virginica\"}, {\"petalLength\": 5.3, \"petalWidth\": 1.9, \"sepalLength\": 6.4, \"sepalWidth\": 2.7, \"species\": \"virginica\"}, {\"petalLength\": 5.5, \"petalWidth\": 2.1, \"sepalLength\": 6.8, \"sepalWidth\": 3.0, \"species\": \"virginica\"}, {\"petalLength\": 5.0, \"petalWidth\": 2.0, \"sepalLength\": 5.7, \"sepalWidth\": 2.5, \"species\": \"virginica\"}, {\"petalLength\": 5.1, \"petalWidth\": 2.4, \"sepalLength\": 5.8, \"sepalWidth\": 2.8, \"species\": \"virginica\"}, {\"petalLength\": 5.3, \"petalWidth\": 2.3, \"sepalLength\": 6.4, \"sepalWidth\": 3.2, \"species\": \"virginica\"}, {\"petalLength\": 5.5, \"petalWidth\": 1.8, \"sepalLength\": 6.5, \"sepalWidth\": 3.0, \"species\": \"virginica\"}, {\"petalLength\": 6.7, \"petalWidth\": 2.2, \"sepalLength\": 7.7, \"sepalWidth\": 3.8, \"species\": \"virginica\"}, {\"petalLength\": 6.9, \"petalWidth\": 2.3, \"sepalLength\": 7.7, \"sepalWidth\": 2.6, \"species\": \"virginica\"}, {\"petalLength\": 5.0, \"petalWidth\": 1.5, \"sepalLength\": 6.0, \"sepalWidth\": 2.2, \"species\": \"virginica\"}, {\"petalLength\": 5.7, \"petalWidth\": 2.3, \"sepalLength\": 6.9, \"sepalWidth\": 3.2, \"species\": \"virginica\"}, {\"petalLength\": 4.9, \"petalWidth\": 2.0, \"sepalLength\": 5.6, \"sepalWidth\": 2.8, \"species\": \"virginica\"}, {\"petalLength\": 6.7, \"petalWidth\": 2.0, \"sepalLength\": 7.7, \"sepalWidth\": 2.8, \"species\": \"virginica\"}, {\"petalLength\": 4.9, \"petalWidth\": 1.8, \"sepalLength\": 6.3, \"sepalWidth\": 2.7, \"species\": \"virginica\"}, {\"petalLength\": 5.7, \"petalWidth\": 2.1, \"sepalLength\": 6.7, \"sepalWidth\": 3.3, \"species\": \"virginica\"}, {\"petalLength\": 6.0, \"petalWidth\": 1.8, \"sepalLength\": 7.2, \"sepalWidth\": 3.2, \"species\": \"virginica\"}, {\"petalLength\": 4.8, \"petalWidth\": 1.8, \"sepalLength\": 6.2, \"sepalWidth\": 2.8, \"species\": \"virginica\"}, {\"petalLength\": 4.9, \"petalWidth\": 1.8, \"sepalLength\": 6.1, \"sepalWidth\": 3.0, \"species\": \"virginica\"}, {\"petalLength\": 5.6, \"petalWidth\": 2.1, \"sepalLength\": 6.4, \"sepalWidth\": 2.8, \"species\": \"virginica\"}, {\"petalLength\": 5.8, \"petalWidth\": 1.6, \"sepalLength\": 7.2, \"sepalWidth\": 3.0, \"species\": \"virginica\"}, {\"petalLength\": 6.1, \"petalWidth\": 1.9, \"sepalLength\": 7.4, \"sepalWidth\": 2.8, \"species\": \"virginica\"}, {\"petalLength\": 6.4, \"petalWidth\": 2.0, \"sepalLength\": 7.9, \"sepalWidth\": 3.8, \"species\": \"virginica\"}, {\"petalLength\": 5.6, \"petalWidth\": 2.2, \"sepalLength\": 6.4, \"sepalWidth\": 2.8, \"species\": \"virginica\"}, {\"petalLength\": 5.1, \"petalWidth\": 1.5, \"sepalLength\": 6.3, \"sepalWidth\": 2.8, \"species\": \"virginica\"}, {\"petalLength\": 5.6, \"petalWidth\": 1.4, \"sepalLength\": 6.1, \"sepalWidth\": 2.6, \"species\": \"virginica\"}, {\"petalLength\": 6.1, \"petalWidth\": 2.3, \"sepalLength\": 7.7, \"sepalWidth\": 3.0, \"species\": \"virginica\"}, {\"petalLength\": 5.6, \"petalWidth\": 2.4, \"sepalLength\": 6.3, \"sepalWidth\": 3.4, \"species\": \"virginica\"}, {\"petalLength\": 5.5, \"petalWidth\": 1.8, \"sepalLength\": 6.4, \"sepalWidth\": 3.1, \"species\": \"virginica\"}, {\"petalLength\": 4.8, \"petalWidth\": 1.8, \"sepalLength\": 6.0, \"sepalWidth\": 3.0, \"species\": \"virginica\"}, {\"petalLength\": 5.4, \"petalWidth\": 2.1, \"sepalLength\": 6.9, \"sepalWidth\": 3.1, \"species\": \"virginica\"}, {\"petalLength\": 5.6, \"petalWidth\": 2.4, \"sepalLength\": 6.7, \"sepalWidth\": 3.1, \"species\": \"virginica\"}, {\"petalLength\": 5.1, \"petalWidth\": 2.3, \"sepalLength\": 6.9, \"sepalWidth\": 3.1, \"species\": \"virginica\"}, {\"petalLength\": 5.1, \"petalWidth\": 1.9, \"sepalLength\": 5.8, \"sepalWidth\": 2.7, \"species\": \"virginica\"}, {\"petalLength\": 5.9, \"petalWidth\": 2.3, \"sepalLength\": 6.8, \"sepalWidth\": 3.2, \"species\": \"virginica\"}, {\"petalLength\": 5.7, \"petalWidth\": 2.5, \"sepalLength\": 6.7, \"sepalWidth\": 3.3, \"species\": \"virginica\"}, {\"petalLength\": 5.2, \"petalWidth\": 2.3, \"sepalLength\": 6.7, \"sepalWidth\": 3.0, \"species\": \"virginica\"}, {\"petalLength\": 5.0, \"petalWidth\": 1.9, \"sepalLength\": 6.3, \"sepalWidth\": 2.5, \"species\": \"virginica\"}, {\"petalLength\": 5.2, \"petalWidth\": 2.0, \"sepalLength\": 6.5, \"sepalWidth\": 3.0, \"species\": \"virginica\"}, {\"petalLength\": 5.4, \"petalWidth\": 2.3, \"sepalLength\": 6.2, \"sepalWidth\": 3.4, \"species\": \"virginica\"}, {\"petalLength\": 5.1, \"petalWidth\": 1.8, \"sepalLength\": 5.9, \"sepalWidth\": 3.0, \"species\": \"virginica\"}]}};\n",
              "      var embedOpt = {\"mode\": \"vega-lite\"};\n",
              "\n",
              "      function showError(el, error){\n",
              "          el.innerHTML = ('<div class=\"error\" style=\"color:red;\">'\n",
              "                          + '<p>JavaScript Error: ' + error.message + '</p>'\n",
              "                          + \"<p>This usually means there's a typo in your chart specification. \"\n",
              "                          + \"See the javascript console for the full traceback.</p>\"\n",
              "                          + '</div>');\n",
              "          throw error;\n",
              "      }\n",
              "      const el = document.getElementById('altair-viz');\n",
              "      vegaEmbed(\"#altair-viz\", spec, embedOpt)\n",
              "        .catch(error => showError(el, error));\n",
              "\n",
              "  </script>\n",
              "</body>\n",
              "</html>"
            ]
          },
          "metadata": {
            "tags": []
          },
          "execution_count": 2
        }
      ]
    },
    {
      "cell_type": "markdown",
      "metadata": {
        "id": "Ji-zzvCATjQI",
        "colab_type": "text"
      },
      "source": [
        "Creating a plot from a dataframe: Basic Statistical Visualization(s)<br>\n",
        "https://altair-viz.github.io/getting_started/starting.html"
      ]
    },
    {
      "cell_type": "code",
      "metadata": {
        "id": "_aUHFUFiXAPG",
        "colab_type": "code",
        "colab": {}
      },
      "source": [
        "data = pd.DataFrame({'a': list('CCCDDDEEE'),\n",
        "                    'b': [2,7,4,1,2,6,8,4,7]});\n"
      ],
      "execution_count": 0,
      "outputs": []
    },
    {
      "cell_type": "code",
      "metadata": {
        "id": "9M7XEWQIXdYs",
        "colab_type": "code",
        "outputId": "9ef3d41b-3dc0-41d1-f1b5-6afa985a89bb",
        "colab": {
          "base_uri": "https://localhost:8080/",
          "height": 361
        }
      },
      "source": [
        "alt.Chart(data).mark_point().encode(\n",
        "    x='a',\n",
        "    y='average(b)'\n",
        ")"
      ],
      "execution_count": 0,
      "outputs": [
        {
          "output_type": "execute_result",
          "data": {
            "text/plain": [
              "Chart({\n",
              "  data:    a  b\n",
              "  0  C  2\n",
              "  1  C  7\n",
              "  2  C  4\n",
              "  3  D  1\n",
              "  4  D  2\n",
              "  5  D  6\n",
              "  6  E  8\n",
              "  7  E  4\n",
              "  8  E  7,\n",
              "  encoding: FacetedEncoding({\n",
              "    x: X({\n",
              "      shorthand: 'a'\n",
              "    }),\n",
              "    y: Y({\n",
              "      shorthand: 'average(b)'\n",
              "    })\n",
              "  }),\n",
              "  mark: 'point'\n",
              "})"
            ],
            "text/html": [
              "<!DOCTYPE html>\n",
              "<html>\n",
              "<head>\n",
              "  <style>\n",
              "    .vega-actions a {\n",
              "        margin-right: 12px;\n",
              "        color: #757575;\n",
              "        font-weight: normal;\n",
              "        font-size: 13px;\n",
              "    }\n",
              "    .error {\n",
              "        color: red;\n",
              "    }\n",
              "  </style>\n",
              "  <script type=\"text/javascript\" src=\"https://cdn.jsdelivr.net/npm//vega@5\"></script>\n",
              "  <script type=\"text/javascript\" src=\"https://cdn.jsdelivr.net/npm//vega-lite@3.2.1\"></script>\n",
              "  <script type=\"text/javascript\" src=\"https://cdn.jsdelivr.net/npm//vega-embed@4\"></script>\n",
              "</head>\n",
              "<body>\n",
              "  <div id=\"altair-viz\"></div>\n",
              "  <script>\n",
              "      var spec = {\"config\": {\"view\": {\"width\": 400, \"height\": 300}, \"mark\": {\"tooltip\": null}}, \"data\": {\"name\": \"data-347f1284ea3247c0f55cb966abbdd2d8\"}, \"mark\": \"point\", \"encoding\": {\"x\": {\"type\": \"nominal\", \"field\": \"a\"}, \"y\": {\"type\": \"quantitative\", \"aggregate\": \"average\", \"field\": \"b\"}}, \"$schema\": \"https://vega.github.io/schema/vega-lite/v3.2.1.json\", \"datasets\": {\"data-347f1284ea3247c0f55cb966abbdd2d8\": [{\"a\": \"C\", \"b\": 2}, {\"a\": \"C\", \"b\": 7}, {\"a\": \"C\", \"b\": 4}, {\"a\": \"D\", \"b\": 1}, {\"a\": \"D\", \"b\": 2}, {\"a\": \"D\", \"b\": 6}, {\"a\": \"E\", \"b\": 8}, {\"a\": \"E\", \"b\": 4}, {\"a\": \"E\", \"b\": 7}]}};\n",
              "      var embedOpt = {\"mode\": \"vega-lite\"};\n",
              "\n",
              "      function showError(el, error){\n",
              "          el.innerHTML = ('<div class=\"error\" style=\"color:red;\">'\n",
              "                          + '<p>JavaScript Error: ' + error.message + '</p>'\n",
              "                          + \"<p>This usually means there's a typo in your chart specification. \"\n",
              "                          + \"See the javascript console for the full traceback.</p>\"\n",
              "                          + '</div>');\n",
              "          throw error;\n",
              "      }\n",
              "      const el = document.getElementById('altair-viz');\n",
              "      vegaEmbed(\"#altair-viz\", spec, embedOpt)\n",
              "        .catch(error => showError(el, error));\n",
              "\n",
              "  </script>\n",
              "</body>\n",
              "</html>"
            ]
          },
          "metadata": {
            "tags": []
          },
          "execution_count": 12
        }
      ]
    },
    {
      "cell_type": "code",
      "metadata": {
        "id": "Eg9Ehl-SXVG0",
        "colab_type": "code",
        "colab": {}
      },
      "source": [
        "chart = alt.Chart(data)"
      ],
      "execution_count": 0,
      "outputs": []
    },
    {
      "cell_type": "code",
      "metadata": {
        "id": "V71s4zxtaLhD",
        "colab_type": "code",
        "outputId": "b4272523-fcbc-4c68-d717-22caa9ddf008",
        "colab": {
          "base_uri": "https://localhost:8080/",
          "height": 123
        }
      },
      "source": [
        "chart.mark_point().encode(\n",
        "  x='b',\n",
        "  y='a'\n",
        ")"
      ],
      "execution_count": 0,
      "outputs": [
        {
          "output_type": "execute_result",
          "data": {
            "text/plain": [
              "Chart({\n",
              "  data:    a  b\n",
              "  0  C  2\n",
              "  1  C  7\n",
              "  2  C  4\n",
              "  3  D  1\n",
              "  4  D  2\n",
              "  5  D  6\n",
              "  6  E  8\n",
              "  7  E  4\n",
              "  8  E  7,\n",
              "  encoding: FacetedEncoding({\n",
              "    x: X({\n",
              "      shorthand: 'b'\n",
              "    }),\n",
              "    y: Y({\n",
              "      shorthand: 'a'\n",
              "    })\n",
              "  }),\n",
              "  mark: 'point'\n",
              "})"
            ],
            "text/html": [
              "<!DOCTYPE html>\n",
              "<html>\n",
              "<head>\n",
              "  <style>\n",
              "    .vega-actions a {\n",
              "        margin-right: 12px;\n",
              "        color: #757575;\n",
              "        font-weight: normal;\n",
              "        font-size: 13px;\n",
              "    }\n",
              "    .error {\n",
              "        color: red;\n",
              "    }\n",
              "  </style>\n",
              "  <script type=\"text/javascript\" src=\"https://cdn.jsdelivr.net/npm//vega@5\"></script>\n",
              "  <script type=\"text/javascript\" src=\"https://cdn.jsdelivr.net/npm//vega-lite@3.2.1\"></script>\n",
              "  <script type=\"text/javascript\" src=\"https://cdn.jsdelivr.net/npm//vega-embed@4\"></script>\n",
              "</head>\n",
              "<body>\n",
              "  <div id=\"altair-viz\"></div>\n",
              "  <script>\n",
              "      var spec = {\"config\": {\"view\": {\"width\": 400, \"height\": 300}, \"mark\": {\"tooltip\": null}}, \"data\": {\"name\": \"data-347f1284ea3247c0f55cb966abbdd2d8\"}, \"mark\": \"point\", \"encoding\": {\"x\": {\"type\": \"quantitative\", \"field\": \"b\"}, \"y\": {\"type\": \"nominal\", \"field\": \"a\"}}, \"$schema\": \"https://vega.github.io/schema/vega-lite/v3.2.1.json\", \"datasets\": {\"data-347f1284ea3247c0f55cb966abbdd2d8\": [{\"a\": \"C\", \"b\": 2}, {\"a\": \"C\", \"b\": 7}, {\"a\": \"C\", \"b\": 4}, {\"a\": \"D\", \"b\": 1}, {\"a\": \"D\", \"b\": 2}, {\"a\": \"D\", \"b\": 6}, {\"a\": \"E\", \"b\": 8}, {\"a\": \"E\", \"b\": 4}, {\"a\": \"E\", \"b\": 7}]}};\n",
              "      var embedOpt = {\"mode\": \"vega-lite\"};\n",
              "\n",
              "      function showError(el, error){\n",
              "          el.innerHTML = ('<div class=\"error\" style=\"color:red;\">'\n",
              "                          + '<p>JavaScript Error: ' + error.message + '</p>'\n",
              "                          + \"<p>This usually means there's a typo in your chart specification. \"\n",
              "                          + \"See the javascript console for the full traceback.</p>\"\n",
              "                          + '</div>');\n",
              "          throw error;\n",
              "      }\n",
              "      const el = document.getElementById('altair-viz');\n",
              "      vegaEmbed(\"#altair-viz\", spec, embedOpt)\n",
              "        .catch(error => showError(el, error));\n",
              "\n",
              "  </script>\n",
              "</body>\n",
              "</html>"
            ]
          },
          "metadata": {
            "tags": []
          },
          "execution_count": 13
        }
      ]
    },
    {
      "cell_type": "code",
      "metadata": {
        "id": "MyB0yHDpaRkS",
        "colab_type": "code",
        "outputId": "37c9d2df-21c2-4173-caff-39faaf64626b",
        "colab": {
          "base_uri": "https://localhost:8080/",
          "height": 123
        }
      },
      "source": [
        "chart.mark_bar().encode(\n",
        "  y='a',\n",
        "  x='b'\n",
        ")"
      ],
      "execution_count": 0,
      "outputs": [
        {
          "output_type": "execute_result",
          "data": {
            "text/plain": [
              "Chart({\n",
              "  data:    a  b\n",
              "  0  C  2\n",
              "  1  C  7\n",
              "  2  C  4\n",
              "  3  D  1\n",
              "  4  D  2\n",
              "  5  D  6\n",
              "  6  E  8\n",
              "  7  E  4\n",
              "  8  E  7,\n",
              "  encoding: FacetedEncoding({\n",
              "    x: X({\n",
              "      shorthand: 'b'\n",
              "    }),\n",
              "    y: Y({\n",
              "      shorthand: 'a'\n",
              "    })\n",
              "  }),\n",
              "  mark: 'bar'\n",
              "})"
            ],
            "text/html": [
              "<!DOCTYPE html>\n",
              "<html>\n",
              "<head>\n",
              "  <style>\n",
              "    .vega-actions a {\n",
              "        margin-right: 12px;\n",
              "        color: #757575;\n",
              "        font-weight: normal;\n",
              "        font-size: 13px;\n",
              "    }\n",
              "    .error {\n",
              "        color: red;\n",
              "    }\n",
              "  </style>\n",
              "  <script type=\"text/javascript\" src=\"https://cdn.jsdelivr.net/npm//vega@5\"></script>\n",
              "  <script type=\"text/javascript\" src=\"https://cdn.jsdelivr.net/npm//vega-lite@3.2.1\"></script>\n",
              "  <script type=\"text/javascript\" src=\"https://cdn.jsdelivr.net/npm//vega-embed@4\"></script>\n",
              "</head>\n",
              "<body>\n",
              "  <div id=\"altair-viz\"></div>\n",
              "  <script>\n",
              "      var spec = {\"config\": {\"view\": {\"width\": 400, \"height\": 300}, \"mark\": {\"tooltip\": null}}, \"data\": {\"name\": \"data-347f1284ea3247c0f55cb966abbdd2d8\"}, \"mark\": \"bar\", \"encoding\": {\"x\": {\"type\": \"quantitative\", \"field\": \"b\"}, \"y\": {\"type\": \"nominal\", \"field\": \"a\"}}, \"$schema\": \"https://vega.github.io/schema/vega-lite/v3.2.1.json\", \"datasets\": {\"data-347f1284ea3247c0f55cb966abbdd2d8\": [{\"a\": \"C\", \"b\": 2}, {\"a\": \"C\", \"b\": 7}, {\"a\": \"C\", \"b\": 4}, {\"a\": \"D\", \"b\": 1}, {\"a\": \"D\", \"b\": 2}, {\"a\": \"D\", \"b\": 6}, {\"a\": \"E\", \"b\": 8}, {\"a\": \"E\", \"b\": 4}, {\"a\": \"E\", \"b\": 7}]}};\n",
              "      var embedOpt = {\"mode\": \"vega-lite\"};\n",
              "\n",
              "      function showError(el, error){\n",
              "          el.innerHTML = ('<div class=\"error\" style=\"color:red;\">'\n",
              "                          + '<p>JavaScript Error: ' + error.message + '</p>'\n",
              "                          + \"<p>This usually means there's a typo in your chart specification. \"\n",
              "                          + \"See the javascript console for the full traceback.</p>\"\n",
              "                          + '</div>');\n",
              "          throw error;\n",
              "      }\n",
              "      const el = document.getElementById('altair-viz');\n",
              "      vegaEmbed(\"#altair-viz\", spec, embedOpt)\n",
              "        .catch(error => showError(el, error));\n",
              "\n",
              "  </script>\n",
              "</body>\n",
              "</html>"
            ]
          },
          "metadata": {
            "tags": []
          },
          "execution_count": 14
        }
      ]
    },
    {
      "cell_type": "markdown",
      "metadata": {
        "id": "SkXrwzF-Vk1j",
        "colab_type": "text"
      },
      "source": [
        "Basic Visualization: Publishing: Save as html<br>\n",
        "https://altair-viz.github.io/getting_started/starting.html#publishing-your-visualization"
      ]
    },
    {
      "cell_type": "code",
      "metadata": {
        "id": "oWWuBNlpaXwm",
        "colab_type": "code",
        "colab": {}
      },
      "source": [
        "chart = alt.Chart(data).mark_bar().encode(\n",
        "  alt.Y('a', title='category'),\n",
        "    alt.X('average(b)', title = 'avg(b) by category')\n",
        ");\n",
        "\n",
        "chart.save('altair_tutorial.html')"
      ],
      "execution_count": 0,
      "outputs": []
    },
    {
      "cell_type": "markdown",
      "metadata": {
        "id": "a0-U7HrCV5mf",
        "colab_type": "text"
      },
      "source": [
        "A scatter plot from lists of data"
      ]
    },
    {
      "cell_type": "code",
      "metadata": {
        "id": "iSBJ3no5bUOj",
        "colab_type": "code",
        "outputId": "888bb52e-681b-4753-aebe-c63abdac748f",
        "colab": {
          "base_uri": "https://localhost:8080/",
          "height": 368
        }
      },
      "source": [
        "import pandas as pd\n",
        "import altair as alt\n",
        "\n",
        "x_data = [1, 2, 3];\n",
        "y_data = [1,2,3];\n",
        "\n",
        "#print(x_data);\n",
        "#print(y_data);\n",
        "\n",
        "trivData = pd.DataFrame({ 'x' : x_data, \n",
        "                      'y' : y_data });\n",
        "\n",
        "#print(trivData);\n",
        "\n",
        "\n",
        "alt.Chart(trivData).mark_point().encode(\n",
        "    x='x',\n",
        "    y='y',\n",
        ")\n",
        "\n"
      ],
      "execution_count": 0,
      "outputs": [
        {
          "output_type": "execute_result",
          "data": {
            "text/plain": [
              "Chart({\n",
              "  data:    x  y\n",
              "  0  1  1\n",
              "  1  2  2\n",
              "  2  3  3,\n",
              "  encoding: FacetedEncoding({\n",
              "    x: X({\n",
              "      shorthand: 'x'\n",
              "    }),\n",
              "    y: Y({\n",
              "      shorthand: 'y'\n",
              "    })\n",
              "  }),\n",
              "  mark: 'point'\n",
              "})"
            ],
            "text/html": [
              "<!DOCTYPE html>\n",
              "<html>\n",
              "<head>\n",
              "  <style>\n",
              "    .vega-actions a {\n",
              "        margin-right: 12px;\n",
              "        color: #757575;\n",
              "        font-weight: normal;\n",
              "        font-size: 13px;\n",
              "    }\n",
              "    .error {\n",
              "        color: red;\n",
              "    }\n",
              "  </style>\n",
              "  <script type=\"text/javascript\" src=\"https://cdn.jsdelivr.net/npm//vega@5\"></script>\n",
              "  <script type=\"text/javascript\" src=\"https://cdn.jsdelivr.net/npm//vega-lite@3.2.1\"></script>\n",
              "  <script type=\"text/javascript\" src=\"https://cdn.jsdelivr.net/npm//vega-embed@4\"></script>\n",
              "</head>\n",
              "<body>\n",
              "  <div id=\"altair-viz\"></div>\n",
              "  <script>\n",
              "      var spec = {\"config\": {\"view\": {\"width\": 400, \"height\": 300}, \"mark\": {\"tooltip\": null}}, \"data\": {\"name\": \"data-a189fca08c4a30519242c4748d79ff2b\"}, \"mark\": \"point\", \"encoding\": {\"x\": {\"type\": \"quantitative\", \"field\": \"x\"}, \"y\": {\"type\": \"quantitative\", \"field\": \"y\"}}, \"$schema\": \"https://vega.github.io/schema/vega-lite/v3.2.1.json\", \"datasets\": {\"data-a189fca08c4a30519242c4748d79ff2b\": [{\"x\": 1, \"y\": 1}, {\"x\": 2, \"y\": 2}, {\"x\": 3, \"y\": 3}]}};\n",
              "      var embedOpt = {\"mode\": \"vega-lite\"};\n",
              "\n",
              "      function showError(el, error){\n",
              "          el.innerHTML = ('<div class=\"error\" style=\"color:red;\">'\n",
              "                          + '<p>JavaScript Error: ' + error.message + '</p>'\n",
              "                          + \"<p>This usually means there's a typo in your chart specification. \"\n",
              "                          + \"See the javascript console for the full traceback.</p>\"\n",
              "                          + '</div>');\n",
              "          throw error;\n",
              "      }\n",
              "      const el = document.getElementById('altair-viz');\n",
              "      vegaEmbed(\"#altair-viz\", spec, embedOpt)\n",
              "        .catch(error => showError(el, error));\n",
              "\n",
              "  </script>\n",
              "</body>\n",
              "</html>"
            ]
          },
          "metadata": {
            "tags": []
          },
          "execution_count": 14
        }
      ]
    }
  ]
}