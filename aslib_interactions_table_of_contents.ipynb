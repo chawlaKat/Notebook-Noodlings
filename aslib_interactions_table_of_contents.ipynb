{
  "nbformat": 4,
  "nbformat_minor": 0,
  "metadata": {
    "colab": {
      "name": "aslib_interactions_table_of_contents.ipynb",
      "version": "0.3.2",
      "provenance": [],
      "collapsed_sections": [
        "MO4I023kSCcj",
        "1bkNd3dVSFHe",
        "mCsXNxSBuZfn",
        "_tbCf_lJtrRM",
        "wI4JtbjLt83J",
        "EK9o2-Sltz1K",
        "zDQ-CbXpt3fp",
        "vGuPDejOph8_",
        "SokNBuxovqIA"
      ],
      "include_colab_link": true
    },
    "kernelspec": {
      "name": "python3",
      "display_name": "Python 3"
    }
  },
  "cells": [
    {
      "cell_type": "markdown",
      "metadata": {
        "id": "view-in-github",
        "colab_type": "text"
      },
      "source": [
        "<a href=\"https://colab.research.google.com/github/chawlaKat/Notebook-Noodlings/blob/master/aslib_interactions_table_of_contents.ipynb\" target=\"_parent\"><img src=\"https://colab.research.google.com/assets/colab-badge.svg\" alt=\"Open In Colab\"/></a>"
      ]
    },
    {
      "cell_type": "markdown",
      "metadata": {
        "id": "zCmkbBeRP6Hl",
        "colab_type": "text"
      },
      "source": [
        "This describes the purpose and findings of each file in this project, with example images.\n",
        "\n"
      ]
    },
    {
      "cell_type": "markdown",
      "metadata": {
        "id": "MO4I023kSCcj",
        "colab_type": "text"
      },
      "source": [
        "#note to self"
      ]
    },
    {
      "cell_type": "markdown",
      "metadata": {
        "id": "0p3xxPuC_zq6",
        "colab_type": "text"
      },
      "source": [
        "Note:\n",
        "* TODO: explain how I use the 'algorithm_runs.arff' file in these notebooks\n",
        "* TODO: go get plot.ly info from repo on pythonanywhere"
      ]
    },
    {
      "cell_type": "markdown",
      "metadata": {
        "id": "GgSZwJR1fks_",
        "colab_type": "text"
      },
      "source": [
        "Tbh this should be the readme"
      ]
    },
    {
      "cell_type": "markdown",
      "metadata": {
        "id": "1bkNd3dVSFHe",
        "colab_type": "text"
      },
      "source": [
        "#Examples setup"
      ]
    },
    {
      "cell_type": "markdown",
      "metadata": {
        "id": "ZOsGBuUzSJ1f",
        "colab_type": "text"
      },
      "source": [
        "\n",
        "Uses (for examples, not required if you don't run these cells):\n",
        "\n",
        "\n",
        "*   bark_to_byte.py\n",
        "*   abstracted_algorithm_runs.arff"
      ]
    },
    {
      "cell_type": "code",
      "metadata": {
        "id": "P5f3Bn1Sc96b",
        "colab_type": "code",
        "outputId": "f4a323eb-6878-4b70-e9c4-5295261ed930",
        "colab": {
          "base_uri": "https://localhost:8080/",
          "height": 190
        }
      },
      "source": [
        "pip install liac_arff"
      ],
      "execution_count": 0,
      "outputs": [
        {
          "output_type": "stream",
          "text": [
            "Collecting liac_arff\n",
            "  Downloading https://files.pythonhosted.org/packages/e9/35/fbc9217cfa91d98888b43e1a19c03a50d716108c58494c558c65e308f372/liac-arff-2.4.0.tar.gz\n",
            "Building wheels for collected packages: liac-arff\n",
            "  Building wheel for liac-arff (setup.py) ... \u001b[?25l\u001b[?25hdone\n",
            "  Created wheel for liac-arff: filename=liac_arff-2.4.0-cp36-none-any.whl size=13335 sha256=c326c48b1786fe1c528eb32d4098831b25abb621ce4964bef5d29e41a00e35db\n",
            "  Stored in directory: /root/.cache/pip/wheels/d1/6a/e7/529dc54d76ecede4346164a09ae3168df358945612710f5203\n",
            "Successfully built liac-arff\n",
            "Installing collected packages: liac-arff\n",
            "Successfully installed liac-arff-2.4.0\n"
          ],
          "name": "stdout"
        }
      ]
    },
    {
      "cell_type": "code",
      "metadata": {
        "id": "WAPA2W82WXku",
        "colab_type": "code",
        "colab": {}
      },
      "source": [
        "import altair as alt\n",
        "import pandas as pd\n",
        "import bark_to_byte as bb"
      ],
      "execution_count": 0,
      "outputs": []
    },
    {
      "cell_type": "markdown",
      "metadata": {
        "id": "mCsXNxSBuZfn",
        "colab_type": "text"
      },
      "source": [
        "#Reference files"
      ]
    },
    {
      "cell_type": "markdown",
      "metadata": {
        "id": "tPUjvArjLrYv",
        "colab_type": "text"
      },
      "source": [
        "All files needed for notebooks to run, except data directly from aslib.net. Sorted by file extension"
      ]
    },
    {
      "cell_type": "markdown",
      "metadata": {
        "id": "dEcJBH6UubvI",
        "colab_type": "text"
      },
      "source": [
        "<h4>arff</h4>\n",
        "Data files, formatted as they would be downloaded from aslib.net\n",
        "\n",
        "*   abstracted_algorithm_runs: 23 rows of data from an aslib.net scenario\n",
        "*   say_Ni: practice data from Monty Python and the Holy Grail, with string, numeric, and enum values\n",
        "*   say_Hey: practice data from Aladdin, matching the format of say_Ni\n",
        "*   say_Everything: contains all data from both <i>say_Ni</i> and <i>say_Hey</i>\n",
        "\n",
        "\n"
      ]
    },
    {
      "cell_type": "markdown",
      "metadata": {
        "id": "12tqEr2jM_2q",
        "colab_type": "text"
      },
      "source": [
        "<h4>csv</h4>\n",
        "\n",
        "*  corgi_test_data.csv: contains numeric and string data for 8 very cute corgis, indexed by name (name column has no title)\n",
        "*  corgi_named.csv: same data as <i>corgi_test_data</i>, but with the name column titled \"Name\", and an additional arbitrary numeric column\n",
        "*  cpmp_2015_alg0.csv: I'm not sure what this is for, but it's the aslib.net data (527 rows) from the Cpmp-2015 scenario, containing only the first algorithm \"astar-symmulgt-transmul\"\n",
        "*  cpmp_2015_alg1.csv: same as the last entry, but with the algorithm \"astar-symmullt-transmul\" (yes, they are different. by one letter.)\n",
        "*   user_ex.csv: 6 rows of data from a tutorial, simulating hours spent learning coding languages\n",
        "*   user_ex_python.csv: 3 rows of data from the same tutorial, focused on the language python"
      ]
    },
    {
      "cell_type": "markdown",
      "metadata": {
        "id": "_tj8J7RKO4bf",
        "colab_type": "text"
      },
      "source": [
        "<h4>py</h4>\n",
        "Python scripts I wrote, containing modules I reuse in later notebooks\n",
        "\n",
        "*  bark_to_byte.py: run <i>pip install liac-arff</i> before import; uses <i>arff</i> module. <br>Methods include:\n",
        "  * <i>arff_to_dataframe(filename)</i>\n",
        "  * <i>where_equals(dataframe, column, is_equal_to)</i>\n",
        "  * helpers\n",
        "\n",
        "*  scatterable.py: uses <i>bark_to_byte</i> module. <br>Methods include:\n",
        "  * <i>create_comparative_scatter(data_source, key, x_category, y_category, x_data, y_data, x_filter, y_filter, data_color)</i>\n",
        "  * helpers"
      ]
    },
    {
      "cell_type": "markdown",
      "metadata": {
        "id": "_tbCf_lJtrRM",
        "colab_type": "text"
      },
      "source": [
        "#Altair_with_Flair"
      ]
    },
    {
      "cell_type": "markdown",
      "metadata": {
        "id": "6OdP87w2QEYB",
        "colab_type": "text"
      },
      "source": [
        "Purpose: practice making basic Altair charts<br>\n",
        "Includes:\n",
        "*   Colab quckstart tutorial\n",
        "*   Basic visualizations (dataframe, chart, point, bar, aggregation)\n",
        "*   Save as .html file\n",
        "\n",
        "\n"
      ]
    },
    {
      "cell_type": "code",
      "metadata": {
        "id": "8VxJtfYIVTvH",
        "colab_type": "code",
        "outputId": "5a3cc926-b7f6-4a83-ca76-673bcfdd2d88",
        "colab": {
          "base_uri": "https://localhost:8080/",
          "height": 123
        }
      },
      "source": [
        "data = pd.DataFrame({'a': list('CCCDDDEEE'),\n",
        "                    'b': [2,7,4,1,2,6,8,4,7]});\n",
        "alt.Chart(data).mark_point().encode(\n",
        "    x='average(b)',\n",
        "    y='a'\n",
        ")"
      ],
      "execution_count": 0,
      "outputs": [
        {
          "output_type": "execute_result",
          "data": {
            "text/plain": [
              "Chart({\n",
              "  data:    a  b\n",
              "  0  C  2\n",
              "  1  C  7\n",
              "  2  C  4\n",
              "  3  D  1\n",
              "  4  D  2\n",
              "  5  D  6\n",
              "  6  E  8\n",
              "  7  E  4\n",
              "  8  E  7,\n",
              "  encoding: FacetedEncoding({\n",
              "    x: X({\n",
              "      aggregate: 'average',\n",
              "      field: 'b',\n",
              "      type: 'quantitative'\n",
              "    }),\n",
              "    y: Y({\n",
              "      field: 'a',\n",
              "      type: 'nominal'\n",
              "    })\n",
              "  }),\n",
              "  mark: 'point'\n",
              "})"
            ],
            "text/html": [
              "<!DOCTYPE html>\n",
              "<html>\n",
              "<head>\n",
              "  <style>\n",
              "    .vega-actions a {\n",
              "        margin-right: 12px;\n",
              "        color: #757575;\n",
              "        font-weight: normal;\n",
              "        font-size: 13px;\n",
              "    }\n",
              "    .error {\n",
              "        color: red;\n",
              "    }\n",
              "  </style>\n",
              "  <script type=\"text/javascript\" src=\"https://cdn.jsdelivr.net/npm//vega@5\"></script>\n",
              "  <script type=\"text/javascript\" src=\"https://cdn.jsdelivr.net/npm//vega-lite@3.3.0\"></script>\n",
              "  <script type=\"text/javascript\" src=\"https://cdn.jsdelivr.net/npm//vega-embed@4\"></script>\n",
              "</head>\n",
              "<body>\n",
              "  <div id=\"altair-viz\"></div>\n",
              "  <script>\n",
              "      var spec = {\"config\": {\"view\": {\"width\": 400, \"height\": 300}, \"mark\": {\"tooltip\": null}}, \"data\": {\"name\": \"data-347f1284ea3247c0f55cb966abbdd2d8\"}, \"mark\": \"point\", \"encoding\": {\"x\": {\"type\": \"quantitative\", \"aggregate\": \"average\", \"field\": \"b\"}, \"y\": {\"type\": \"nominal\", \"field\": \"a\"}}, \"$schema\": \"https://vega.github.io/schema/vega-lite/v3.3.0.json\", \"datasets\": {\"data-347f1284ea3247c0f55cb966abbdd2d8\": [{\"a\": \"C\", \"b\": 2}, {\"a\": \"C\", \"b\": 7}, {\"a\": \"C\", \"b\": 4}, {\"a\": \"D\", \"b\": 1}, {\"a\": \"D\", \"b\": 2}, {\"a\": \"D\", \"b\": 6}, {\"a\": \"E\", \"b\": 8}, {\"a\": \"E\", \"b\": 4}, {\"a\": \"E\", \"b\": 7}]}};\n",
              "      var embedOpt = {\"mode\": \"vega-lite\"};\n",
              "\n",
              "      function showError(el, error){\n",
              "          el.innerHTML = ('<div class=\"error\" style=\"color:red;\">'\n",
              "                          + '<p>JavaScript Error: ' + error.message + '</p>'\n",
              "                          + \"<p>This usually means there's a typo in your chart specification. \"\n",
              "                          + \"See the javascript console for the full traceback.</p>\"\n",
              "                          + '</div>');\n",
              "          throw error;\n",
              "      }\n",
              "      const el = document.getElementById('altair-viz');\n",
              "      vegaEmbed(\"#altair-viz\", spec, embedOpt)\n",
              "        .catch(error => showError(el, error));\n",
              "\n",
              "  </script>\n",
              "</body>\n",
              "</html>"
            ]
          },
          "metadata": {
            "tags": []
          },
          "execution_count": 12
        }
      ]
    },
    {
      "cell_type": "markdown",
      "metadata": {
        "id": "wI4JtbjLt83J",
        "colab_type": "text"
      },
      "source": [
        "#Bark_to_Byte"
      ]
    },
    {
      "cell_type": "markdown",
      "metadata": {
        "id": "8jN-t5gxWphA",
        "colab_type": "text"
      },
      "source": [
        "Bark_to_Byte:\n",
        "\n",
        "> Purpose: Move data from .arff file into pandas dataframe<br>\n",
        "> Startup: to run test cells, first run the pip install at top<br>\n",
        "> Notes: \n",
        ">* Originally for exploratory testing\n",
        ">* Base for the \"bark_to_byte.py\" module\n",
        ">* Currently, module removes data type note from headers<br>\n",
        ">\n",
        ">Methods:\n",
        ">* arff_to_dataframe(filename)\n",
        ">* where_equals(dataframe, column, is_equal_to)"
      ]
    },
    {
      "cell_type": "code",
      "metadata": {
        "id": "LIF5oBxrWbXD",
        "colab_type": "code",
        "outputId": "53b1bd1f-c89f-4999-f020-78103c495688",
        "colab": {
          "base_uri": "https://localhost:8080/",
          "height": 204
        }
      },
      "source": [
        "bb.arff_to_dataframe('abstracted_algorithm_runs.arff').head()"
      ],
      "execution_count": 0,
      "outputs": [
        {
          "output_type": "execute_result",
          "data": {
            "text/html": [
              "<div>\n",
              "<style scoped>\n",
              "    .dataframe tbody tr th:only-of-type {\n",
              "        vertical-align: middle;\n",
              "    }\n",
              "\n",
              "    .dataframe tbody tr th {\n",
              "        vertical-align: top;\n",
              "    }\n",
              "\n",
              "    .dataframe thead th {\n",
              "        text-align: right;\n",
              "    }\n",
              "</style>\n",
              "<table border=\"1\" class=\"dataframe\">\n",
              "  <thead>\n",
              "    <tr style=\"text-align: right;\">\n",
              "      <th></th>\n",
              "      <th>instance_id</th>\n",
              "      <th>repetition</th>\n",
              "      <th>algorithm</th>\n",
              "      <th>runtime</th>\n",
              "      <th>runstatus</th>\n",
              "    </tr>\n",
              "  </thead>\n",
              "  <tbody>\n",
              "    <tr>\n",
              "      <th>0</th>\n",
              "      <td>Instance_0</td>\n",
              "      <td>1.0</td>\n",
              "      <td>algorithm_0</td>\n",
              "      <td>3600.000</td>\n",
              "      <td>memout</td>\n",
              "    </tr>\n",
              "    <tr>\n",
              "      <th>1</th>\n",
              "      <td>Instance_0</td>\n",
              "      <td>1.0</td>\n",
              "      <td>algorithm_1</td>\n",
              "      <td>3600.000</td>\n",
              "      <td>memout</td>\n",
              "    </tr>\n",
              "    <tr>\n",
              "      <th>2</th>\n",
              "      <td>Instance_0</td>\n",
              "      <td>1.0</td>\n",
              "      <td>id_algorithm_0</td>\n",
              "      <td>311.863</td>\n",
              "      <td>ok</td>\n",
              "    </tr>\n",
              "    <tr>\n",
              "      <th>3</th>\n",
              "      <td>Instance_0</td>\n",
              "      <td>1.0</td>\n",
              "      <td>id_algorithm_1</td>\n",
              "      <td>3600.000</td>\n",
              "      <td>timeout</td>\n",
              "    </tr>\n",
              "    <tr>\n",
              "      <th>4</th>\n",
              "      <td>Instance_1</td>\n",
              "      <td>1.0</td>\n",
              "      <td>algorithm_0</td>\n",
              "      <td>3600.000</td>\n",
              "      <td>memout</td>\n",
              "    </tr>\n",
              "  </tbody>\n",
              "</table>\n",
              "</div>"
            ],
            "text/plain": [
              "  instance_id  repetition       algorithm   runtime runstatus\n",
              "0  Instance_0         1.0     algorithm_0  3600.000    memout\n",
              "1  Instance_0         1.0     algorithm_1  3600.000    memout\n",
              "2  Instance_0         1.0  id_algorithm_0   311.863        ok\n",
              "3  Instance_0         1.0  id_algorithm_1  3600.000   timeout\n",
              "4  Instance_1         1.0     algorithm_0  3600.000    memout"
            ]
          },
          "metadata": {
            "tags": []
          },
          "execution_count": 11
        }
      ]
    },
    {
      "cell_type": "markdown",
      "metadata": {
        "id": "EK9o2-Sltz1K",
        "colab_type": "text"
      },
      "source": [
        "#Get Scattered"
      ]
    },
    {
      "cell_type": "markdown",
      "metadata": {
        "id": "9KV_sY-Fdo0r",
        "colab_type": "text"
      },
      "source": [
        "> This is where I did most of my exploratory work using .arff files within Altair.<br>\n",
        "> Includes:\n",
        ">* Practice graphing sample .arff files\n",
        ">* Tooltips\n",
        ">* Color encoding\n",
        ">* Partial selection\n",
        ">* <i>interactive()</i> transformation<br>\n",
        ">* Practice with multi-indexing\n",
        ">* Flattening a multi-index into joined single-layer column headers\n",
        ">* Filter data by predicate\n",
        ">* Filter data by selection\n",
        ">* Chain graphs and selections\n",
        ">\n",
        ">Learned:\n",
        ">* Boxplots are not fully transform-able\n",
        ">* Encodings change how data is shown; <i>color=runstatus</i> or <i>tooltip=name</i> break boxplots or histograms into individual points\n",
        ">* Charts can only take one data table\n",
        ">* Lookup transform can be used to reference a second data table, but needs a unique foreign key\n",
        ">* Each selection widget must belong to a new graph, but can affect existing graphs\n",
        ">* Some dataframe options, like <i>reset_index()</i> need to pass the parameter <i>(inplace = True)</i>. Otherwise it will return a copy instead of altering the existing dataframe\n",
        ">* <i>ValueError: field is specified without a type</i> means Altair needs the data encoding type added to the end of the field name string (<a href = \"https://altair-viz.github.io/user_guide/encoding.html#encoding-data-types\">data encoding ref</a>)\n",
        ">* Altair can only encode one column per axis (with the exception folding, explored in a later notebook)\n",
        ">* Altair has a maximum-rows error to prevent the notebook from getting too large (<a href = \"https://altair-viz.github.io/user_guide/encoding.html#encoding-data-types\">large datasets faq</a>)"
      ]
    },
    {
      "cell_type": "markdown",
      "metadata": {
        "id": "ENsXlE8-mcip",
        "colab_type": "text"
      },
      "source": [
        "Get_Scattered_Long:\n",
        ">Overflow work from <i>Get_Scattered</i>. Picks up after the work with selectors.\n",
        ">\n",
        ">Includes:\n",
        ">* the end of graph-selector chaining exploration\n",
        ">* 2d selectors\n",
        ">* color scheme\n",
        ">* dropdown initialization exploration\n",
        ">\n",
        ">Learned:\n",
        ">* 2d selectors work better (no reset on scale changes)\n",
        ">* dropdown name prefix must be unique\n",
        ">* a dropdown can be added to an existing graph (if that graph doesn't already have an associated selector)"
      ]
    },
    {
      "cell_type": "markdown",
      "metadata": {
        "id": "zDQ-CbXpt3fp",
        "colab_type": "text"
      },
      "source": [
        "#Get Scattered Fancy"
      ]
    },
    {
      "cell_type": "markdown",
      "metadata": {
        "id": "C9Q7gmxAWhvm",
        "colab_type": "text"
      },
      "source": [
        ">  Continue exploring using Altair to create a comparative scatter plot; picks up here because \"Get_Scattered\" became too large and unwieldy. Base for \"scatterable.py\" methods and continued exploration.\n",
        ">\n",
        ">Includes:\n",
        ">* reshape data so it fits in <i>scatterable.py</i> methods\n",
        ">* methods to create dynamic pairwise scatter plot from self-joined dataset\n",
        ">* exploration for how I wanted to construct those methods\n",
        ">* sunny-day tests for each piece and how it fit together\n",
        ">* exploration of .json format, in response to max-rows error (<a href = \"https://altair-viz.github.io/user_guide/encoding.html#encoding-data-types\">large dataset guide</a>)\n",
        ">* exploration of <i>transform_lookup()</i>\n",
        ">* exploration of y2 encoding\n",
        ">* exploration of <i>transform_fold()</i>\n",
        ">\n",
        ">Learned:\n",
        ">* the .json workaround for embedding the table within the altair chart doesn't seem to work in colab\n",
        ">* <i>transform_lookup()</i> needs a unique foreign key or it overwrites\n",
        ">* the way that's worked uses <i>transform_lookup()</i> to emulate the previous multi-indexing\n",
        ">* y2 is only accessed in charts that request two y inputs, such as area between curves. It doesn't work for a scatter plot.\n",
        ">* <i>transform_fold</i> combines two columns into one at runtime, allowing them to be graphed on the same axis"
      ]
    },
    {
      "cell_type": "markdown",
      "metadata": {
        "id": "vGuPDejOph8_",
        "colab_type": "text"
      },
      "source": [
        "#Pandas_and_Corgis\n"
      ]
    },
    {
      "cell_type": "markdown",
      "metadata": {
        "id": "kwbLWrDur1G4",
        "colab_type": "text"
      },
      "source": [
        ">I learn about Pandas dataframes and explore how they work\n",
        ">\n",
        ">Includes:\n",
        ">* basic concepts: series, read from csv, selection, indices\n",
        ">* specifying column headers\n",
        ">* selection revisited\n",
        ">* multi-index\n",
        ">* group-by\n",
        ">* join"
      ]
    },
    {
      "cell_type": "markdown",
      "metadata": {
        "id": "SokNBuxovqIA",
        "colab_type": "text"
      },
      "source": [
        "#Poster Samples"
      ]
    },
    {
      "cell_type": "markdown",
      "metadata": {
        "id": "4C__6ynovs8C",
        "colab_type": "text"
      },
      "source": [
        "A place to figure out which graphics to use for research poster\n",
        "\n"
      ]
    },
    {
      "cell_type": "markdown",
      "metadata": {
        "id": "HrOLPDxuw382",
        "colab_type": "text"
      },
      "source": [
        "Learned:\n",
        "* scatterable.py requires a custom color scheme in hex codes (I want to go back and give it a default)\n",
        "* small color schemes don't scale well\n",
        "* good scatter = many instances, few algorithms, hidden trends"
      ]
    },
    {
      "cell_type": "markdown",
      "metadata": {
        "id": "nWUR4YhtJM5a",
        "colab_type": "text"
      },
      "source": [
        "#Scatter in Practice"
      ]
    },
    {
      "cell_type": "markdown",
      "metadata": {
        "id": "hMAP07cpJRQg",
        "colab_type": "text"
      },
      "source": [
        "A notebook to graph really large datasets. I don't want to keep all of my findings here - instead, I want to overwrite each time I make a new visualization or chart so the notebook doesn't get excessively large.\n",
        "\n",
        "Learned:\n",
        "* the join-with-itself setup makes huge datasets even huger, and the cell tends to time out before it can create the visualization\n",
        "* every existing aslib.net scenario can be graphed, assuming the limiting factor is number of rows. ttp-2016 took a really long time for a simple graph with no bells and whistles, though.\n",
        "\n",
        "To explore:\n",
        "* do I need to create the visualization? Is saving the .html enough?\n",
        "* will the .html have the same problem?"
      ]
    },
    {
      "cell_type": "code",
      "metadata": {
        "id": "FITegkptSsyc",
        "colab_type": "code",
        "colab": {}
      },
      "source": [
        ""
      ],
      "execution_count": 0,
      "outputs": []
    }
  ]
}