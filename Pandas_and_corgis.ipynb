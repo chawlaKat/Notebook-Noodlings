{
  "nbformat": 4,
  "nbformat_minor": 0,
  "metadata": {
    "colab": {
      "name": "Pandas_and_corgis.ipynb",
      "version": "0.3.2",
      "provenance": [],
      "collapsed_sections": [],
      "include_colab_link": true
    },
    "kernelspec": {
      "name": "python3",
      "display_name": "Python 3"
    }
  },
  "cells": [
    {
      "cell_type": "markdown",
      "metadata": {
        "id": "view-in-github",
        "colab_type": "text"
      },
      "source": [
        "<a href=\"https://colab.research.google.com/github/chawlaKat/Notebook-Noodlings/blob/master/Pandas_and_corgis.ipynb\" target=\"_parent\"><img src=\"https://colab.research.google.com/assets/colab-badge.svg\" alt=\"Open In Colab\"/></a>"
      ]
    },
    {
      "cell_type": "markdown",
      "metadata": {
        "id": "FvzGVOFk1--J",
        "colab_type": "text"
      },
      "source": [
        "This notebook is concerned with learning the Pandas library. Also, this is where I discovered corgi mode (Tools -> Preferences -> Corgi Mode), so there's a corgi-inspired data set a little later on.\n",
        "\n",
        "\n",
        "Uses files:\n",
        "\n",
        "\n",
        "*  california_housing_test.csv (colab sample file)\n",
        "*  anscombe.json (colab sample file)\n",
        "*  corgi_test_data.csv\n",
        "\n"
      ]
    },
    {
      "cell_type": "markdown",
      "metadata": {
        "id": "2qZsP-V1FjqS",
        "colab_type": "text"
      },
      "source": [
        "Follows tutorial: https://learndatasci.com/tutorials/python-pandas-tutorial-complete-introduction-for-beginners/ "
      ]
    },
    {
      "cell_type": "code",
      "metadata": {
        "id": "pp_Up_aVFL5V",
        "colab_type": "code",
        "colab": {}
      },
      "source": [
        "#pip install pandas\n",
        "#got em (works out of the box) "
      ],
      "execution_count": 0,
      "outputs": []
    },
    {
      "cell_type": "code",
      "metadata": {
        "id": "jnQBbNIbGDXY",
        "colab_type": "code",
        "colab": {}
      },
      "source": [
        "import pandas as pd"
      ],
      "execution_count": 0,
      "outputs": []
    },
    {
      "cell_type": "markdown",
      "metadata": {
        "id": "aK9Dxw3KGVkh",
        "colab_type": "text"
      },
      "source": [
        "<p><b>Core components: </b><br>\n",
        "Series = ordered list with single header (one column) <br>\n",
        "DataFrame = multi-dimensional table made of Series</p>\n",
        "<p>Lots of ways to make a DataFrame! <br>Simple way is a <i>dict</i></p>\n",
        "\n",
        "<p>Note: a group of pandas is called an \"embarassment\", apparently. Awww.</p>\n",
        "Data from: <a href=\"https://minecraft.gamepedia.com/Panda\">https://minecraft.gamepedia.com/Panda</a>"
      ]
    },
    {
      "cell_type": "code",
      "metadata": {
        "id": "sPpR-fhIGfWC",
        "colab_type": "code",
        "outputId": "33a8013c-fc7b-41b6-cc02-d75f11880fa2",
        "colab": {
          "base_uri": "https://localhost:8080/",
          "height": 204
        }
      },
      "source": [
        "minecraftPandaTypes = {\n",
        "    'behavior' : [\"lay on back\",\"hide face during thunder\",\"roll and jump\",\n",
        "                  \"attack when hit\", \"follow player holding bamboo\"],\n",
        "    'speed' : [\"slow\",\"normal\",\"normal\",\"normal with long reach\",\"normal\"], \n",
        "    'expression' : [\"smiling\",\"'puppy' eyes\", \"tongue out\", \"angry eyebrows\", \n",
        "                    \"frowning\"]  \n",
        "}\n",
        "\n",
        "embarassment = pd.DataFrame(minecraftPandaTypes) \n",
        "\n",
        "embarassment"
      ],
      "execution_count": 0,
      "outputs": [
        {
          "output_type": "execute_result",
          "data": {
            "text/html": [
              "<div>\n",
              "<style scoped>\n",
              "    .dataframe tbody tr th:only-of-type {\n",
              "        vertical-align: middle;\n",
              "    }\n",
              "\n",
              "    .dataframe tbody tr th {\n",
              "        vertical-align: top;\n",
              "    }\n",
              "\n",
              "    .dataframe thead th {\n",
              "        text-align: right;\n",
              "    }\n",
              "</style>\n",
              "<table border=\"1\" class=\"dataframe\">\n",
              "  <thead>\n",
              "    <tr style=\"text-align: right;\">\n",
              "      <th></th>\n",
              "      <th>behavior</th>\n",
              "      <th>speed</th>\n",
              "      <th>expression</th>\n",
              "    </tr>\n",
              "  </thead>\n",
              "  <tbody>\n",
              "    <tr>\n",
              "      <th>0</th>\n",
              "      <td>lay on back</td>\n",
              "      <td>slow</td>\n",
              "      <td>smiling</td>\n",
              "    </tr>\n",
              "    <tr>\n",
              "      <th>1</th>\n",
              "      <td>hide face during thunder</td>\n",
              "      <td>normal</td>\n",
              "      <td>'puppy' eyes</td>\n",
              "    </tr>\n",
              "    <tr>\n",
              "      <th>2</th>\n",
              "      <td>roll and jump</td>\n",
              "      <td>normal</td>\n",
              "      <td>tongue out</td>\n",
              "    </tr>\n",
              "    <tr>\n",
              "      <th>3</th>\n",
              "      <td>attack when hit</td>\n",
              "      <td>normal with long reach</td>\n",
              "      <td>angry eyebrows</td>\n",
              "    </tr>\n",
              "    <tr>\n",
              "      <th>4</th>\n",
              "      <td>follow player holding bamboo</td>\n",
              "      <td>normal</td>\n",
              "      <td>frowning</td>\n",
              "    </tr>\n",
              "  </tbody>\n",
              "</table>\n",
              "</div>"
            ],
            "text/plain": [
              "                       behavior                   speed      expression\n",
              "0                   lay on back                    slow         smiling\n",
              "1      hide face during thunder                  normal    'puppy' eyes\n",
              "2                 roll and jump                  normal      tongue out\n",
              "3               attack when hit  normal with long reach  angry eyebrows\n",
              "4  follow player holding bamboo                  normal        frowning"
            ]
          },
          "metadata": {
            "tags": []
          },
          "execution_count": 34
        }
      ]
    },
    {
      "cell_type": "markdown",
      "metadata": {
        "id": "X6zCJc4gH4-S",
        "colab_type": "text"
      },
      "source": [
        "In each <i>(key, value)</i> pair, the <i>key</i> is the header, and the <i>value</i> vector contains the numbers. The value vectors must all be the same length!"
      ]
    },
    {
      "cell_type": "code",
      "metadata": {
        "id": "7cp8_NutHo-y",
        "colab_type": "code",
        "outputId": "0ab1d2cd-5305-4243-b858-17af15ada44c",
        "colab": {
          "base_uri": "https://localhost:8080/",
          "height": 204
        }
      },
      "source": [
        "embarassment = pd.DataFrame(minecraftPandaTypes, index=['Lazy', 'Worried', \n",
        "                                                        'Playful', 'Aggressive',\n",
        "                                                       'Normal'])\n",
        "\n",
        "embarassment"
      ],
      "execution_count": 0,
      "outputs": [
        {
          "output_type": "execute_result",
          "data": {
            "text/html": [
              "<div>\n",
              "<style scoped>\n",
              "    .dataframe tbody tr th:only-of-type {\n",
              "        vertical-align: middle;\n",
              "    }\n",
              "\n",
              "    .dataframe tbody tr th {\n",
              "        vertical-align: top;\n",
              "    }\n",
              "\n",
              "    .dataframe thead th {\n",
              "        text-align: right;\n",
              "    }\n",
              "</style>\n",
              "<table border=\"1\" class=\"dataframe\">\n",
              "  <thead>\n",
              "    <tr style=\"text-align: right;\">\n",
              "      <th></th>\n",
              "      <th>behavior</th>\n",
              "      <th>speed</th>\n",
              "      <th>expression</th>\n",
              "    </tr>\n",
              "  </thead>\n",
              "  <tbody>\n",
              "    <tr>\n",
              "      <th>Lazy</th>\n",
              "      <td>lay on back</td>\n",
              "      <td>slow</td>\n",
              "      <td>smiling</td>\n",
              "    </tr>\n",
              "    <tr>\n",
              "      <th>Worried</th>\n",
              "      <td>hide face during thunder</td>\n",
              "      <td>normal</td>\n",
              "      <td>'puppy' eyes</td>\n",
              "    </tr>\n",
              "    <tr>\n",
              "      <th>Playful</th>\n",
              "      <td>roll and jump</td>\n",
              "      <td>normal</td>\n",
              "      <td>tongue out</td>\n",
              "    </tr>\n",
              "    <tr>\n",
              "      <th>Aggressive</th>\n",
              "      <td>attack when hit</td>\n",
              "      <td>normal with long reach</td>\n",
              "      <td>angry eyebrows</td>\n",
              "    </tr>\n",
              "    <tr>\n",
              "      <th>Normal</th>\n",
              "      <td>follow player holding bamboo</td>\n",
              "      <td>normal</td>\n",
              "      <td>frowning</td>\n",
              "    </tr>\n",
              "  </tbody>\n",
              "</table>\n",
              "</div>"
            ],
            "text/plain": [
              "                                behavior  ...      expression\n",
              "Lazy                         lay on back  ...         smiling\n",
              "Worried         hide face during thunder  ...    'puppy' eyes\n",
              "Playful                    roll and jump  ...      tongue out\n",
              "Aggressive               attack when hit  ...  angry eyebrows\n",
              "Normal      follow player holding bamboo  ...        frowning\n",
              "\n",
              "[5 rows x 3 columns]"
            ]
          },
          "metadata": {
            "tags": []
          },
          "execution_count": 14
        }
      ]
    },
    {
      "cell_type": "code",
      "metadata": {
        "id": "41n3hv9dIaji",
        "colab_type": "code",
        "outputId": "94737318-6967-4986-9afa-381a2a1c92fe",
        "colab": {
          "base_uri": "https://localhost:8080/",
          "height": 85
        }
      },
      "source": [
        "embarassment.loc['Playful']"
      ],
      "execution_count": 0,
      "outputs": [
        {
          "output_type": "execute_result",
          "data": {
            "text/plain": [
              "behavior      roll and jump\n",
              "speed                normal\n",
              "expression       tongue out\n",
              "Name: Playful, dtype: object"
            ]
          },
          "metadata": {
            "tags": []
          },
          "execution_count": 10
        }
      ]
    },
    {
      "cell_type": "code",
      "metadata": {
        "id": "xTIqXQpMIriC",
        "colab_type": "code",
        "outputId": "74d59ae0-bed9-4f9e-e7a9-f9d5f38d0eb4",
        "colab": {
          "base_uri": "https://localhost:8080/",
          "height": 34
        }
      },
      "source": [
        "embarassment.loc['Aggressive']['expression'] "
      ],
      "execution_count": 0,
      "outputs": [
        {
          "output_type": "execute_result",
          "data": {
            "text/plain": [
              "'angry eyebrows'"
            ]
          },
          "metadata": {
            "tags": []
          },
          "execution_count": 12
        }
      ]
    },
    {
      "cell_type": "markdown",
      "metadata": {
        "id": "1ZOCTTU6JZhL",
        "colab_type": "text"
      },
      "source": [
        "<br>\n",
        "\n",
        "<h3>But wait, there's more!</h3>\n",
        "\n",
        "<body>\n",
        "  Import from csv using read_csv() \n",
        "  \n",
        "  </body>\n",
        "  \n",
        "  <br>"
      ]
    },
    {
      "cell_type": "code",
      "metadata": {
        "id": "Y1sPwpABIvZC",
        "colab_type": "code",
        "outputId": "17f7fcd8-ac03-4241-c9ee-f999cc20c19a",
        "colab": {
          "base_uri": "https://localhost:8080/",
          "height": 1989
        }
      },
      "source": [
        "housing_dataframe = pd.read_csv('sample_data/california_housing_test.csv') \n",
        "\n",
        "housing_dataframe"
      ],
      "execution_count": 0,
      "outputs": [
        {
          "output_type": "execute_result",
          "data": {
            "text/html": [
              "<div>\n",
              "<style scoped>\n",
              "    .dataframe tbody tr th:only-of-type {\n",
              "        vertical-align: middle;\n",
              "    }\n",
              "\n",
              "    .dataframe tbody tr th {\n",
              "        vertical-align: top;\n",
              "    }\n",
              "\n",
              "    .dataframe thead th {\n",
              "        text-align: right;\n",
              "    }\n",
              "</style>\n",
              "<table border=\"1\" class=\"dataframe\">\n",
              "  <thead>\n",
              "    <tr style=\"text-align: right;\">\n",
              "      <th></th>\n",
              "      <th>longitude</th>\n",
              "      <th>latitude</th>\n",
              "      <th>housing_median_age</th>\n",
              "      <th>total_rooms</th>\n",
              "      <th>total_bedrooms</th>\n",
              "      <th>population</th>\n",
              "      <th>households</th>\n",
              "      <th>median_income</th>\n",
              "      <th>median_house_value</th>\n",
              "    </tr>\n",
              "  </thead>\n",
              "  <tbody>\n",
              "    <tr>\n",
              "      <th>0</th>\n",
              "      <td>-122.05</td>\n",
              "      <td>37.37</td>\n",
              "      <td>27.0</td>\n",
              "      <td>3885.0</td>\n",
              "      <td>661.0</td>\n",
              "      <td>1537.0</td>\n",
              "      <td>606.0</td>\n",
              "      <td>6.6085</td>\n",
              "      <td>344700.0</td>\n",
              "    </tr>\n",
              "    <tr>\n",
              "      <th>1</th>\n",
              "      <td>-118.30</td>\n",
              "      <td>34.26</td>\n",
              "      <td>43.0</td>\n",
              "      <td>1510.0</td>\n",
              "      <td>310.0</td>\n",
              "      <td>809.0</td>\n",
              "      <td>277.0</td>\n",
              "      <td>3.5990</td>\n",
              "      <td>176500.0</td>\n",
              "    </tr>\n",
              "    <tr>\n",
              "      <th>2</th>\n",
              "      <td>-117.81</td>\n",
              "      <td>33.78</td>\n",
              "      <td>27.0</td>\n",
              "      <td>3589.0</td>\n",
              "      <td>507.0</td>\n",
              "      <td>1484.0</td>\n",
              "      <td>495.0</td>\n",
              "      <td>5.7934</td>\n",
              "      <td>270500.0</td>\n",
              "    </tr>\n",
              "    <tr>\n",
              "      <th>3</th>\n",
              "      <td>-118.36</td>\n",
              "      <td>33.82</td>\n",
              "      <td>28.0</td>\n",
              "      <td>67.0</td>\n",
              "      <td>15.0</td>\n",
              "      <td>49.0</td>\n",
              "      <td>11.0</td>\n",
              "      <td>6.1359</td>\n",
              "      <td>330000.0</td>\n",
              "    </tr>\n",
              "    <tr>\n",
              "      <th>4</th>\n",
              "      <td>-119.67</td>\n",
              "      <td>36.33</td>\n",
              "      <td>19.0</td>\n",
              "      <td>1241.0</td>\n",
              "      <td>244.0</td>\n",
              "      <td>850.0</td>\n",
              "      <td>237.0</td>\n",
              "      <td>2.9375</td>\n",
              "      <td>81700.0</td>\n",
              "    </tr>\n",
              "    <tr>\n",
              "      <th>5</th>\n",
              "      <td>-119.56</td>\n",
              "      <td>36.51</td>\n",
              "      <td>37.0</td>\n",
              "      <td>1018.0</td>\n",
              "      <td>213.0</td>\n",
              "      <td>663.0</td>\n",
              "      <td>204.0</td>\n",
              "      <td>1.6635</td>\n",
              "      <td>67000.0</td>\n",
              "    </tr>\n",
              "    <tr>\n",
              "      <th>6</th>\n",
              "      <td>-121.43</td>\n",
              "      <td>38.63</td>\n",
              "      <td>43.0</td>\n",
              "      <td>1009.0</td>\n",
              "      <td>225.0</td>\n",
              "      <td>604.0</td>\n",
              "      <td>218.0</td>\n",
              "      <td>1.6641</td>\n",
              "      <td>67000.0</td>\n",
              "    </tr>\n",
              "    <tr>\n",
              "      <th>7</th>\n",
              "      <td>-120.65</td>\n",
              "      <td>35.48</td>\n",
              "      <td>19.0</td>\n",
              "      <td>2310.0</td>\n",
              "      <td>471.0</td>\n",
              "      <td>1341.0</td>\n",
              "      <td>441.0</td>\n",
              "      <td>3.2250</td>\n",
              "      <td>166900.0</td>\n",
              "    </tr>\n",
              "    <tr>\n",
              "      <th>8</th>\n",
              "      <td>-122.84</td>\n",
              "      <td>38.40</td>\n",
              "      <td>15.0</td>\n",
              "      <td>3080.0</td>\n",
              "      <td>617.0</td>\n",
              "      <td>1446.0</td>\n",
              "      <td>599.0</td>\n",
              "      <td>3.6696</td>\n",
              "      <td>194400.0</td>\n",
              "    </tr>\n",
              "    <tr>\n",
              "      <th>9</th>\n",
              "      <td>-118.02</td>\n",
              "      <td>34.08</td>\n",
              "      <td>31.0</td>\n",
              "      <td>2402.0</td>\n",
              "      <td>632.0</td>\n",
              "      <td>2830.0</td>\n",
              "      <td>603.0</td>\n",
              "      <td>2.3333</td>\n",
              "      <td>164200.0</td>\n",
              "    </tr>\n",
              "    <tr>\n",
              "      <th>10</th>\n",
              "      <td>-118.24</td>\n",
              "      <td>33.98</td>\n",
              "      <td>45.0</td>\n",
              "      <td>972.0</td>\n",
              "      <td>249.0</td>\n",
              "      <td>1288.0</td>\n",
              "      <td>261.0</td>\n",
              "      <td>2.2054</td>\n",
              "      <td>125000.0</td>\n",
              "    </tr>\n",
              "    <tr>\n",
              "      <th>11</th>\n",
              "      <td>-119.12</td>\n",
              "      <td>35.85</td>\n",
              "      <td>37.0</td>\n",
              "      <td>736.0</td>\n",
              "      <td>166.0</td>\n",
              "      <td>564.0</td>\n",
              "      <td>138.0</td>\n",
              "      <td>2.4167</td>\n",
              "      <td>58300.0</td>\n",
              "    </tr>\n",
              "    <tr>\n",
              "      <th>12</th>\n",
              "      <td>-121.93</td>\n",
              "      <td>37.25</td>\n",
              "      <td>36.0</td>\n",
              "      <td>1089.0</td>\n",
              "      <td>182.0</td>\n",
              "      <td>535.0</td>\n",
              "      <td>170.0</td>\n",
              "      <td>4.6900</td>\n",
              "      <td>252600.0</td>\n",
              "    </tr>\n",
              "    <tr>\n",
              "      <th>13</th>\n",
              "      <td>-117.03</td>\n",
              "      <td>32.97</td>\n",
              "      <td>16.0</td>\n",
              "      <td>3936.0</td>\n",
              "      <td>694.0</td>\n",
              "      <td>1935.0</td>\n",
              "      <td>659.0</td>\n",
              "      <td>4.5625</td>\n",
              "      <td>231200.0</td>\n",
              "    </tr>\n",
              "    <tr>\n",
              "      <th>14</th>\n",
              "      <td>-117.97</td>\n",
              "      <td>33.73</td>\n",
              "      <td>27.0</td>\n",
              "      <td>2097.0</td>\n",
              "      <td>325.0</td>\n",
              "      <td>1217.0</td>\n",
              "      <td>331.0</td>\n",
              "      <td>5.7121</td>\n",
              "      <td>222500.0</td>\n",
              "    </tr>\n",
              "    <tr>\n",
              "      <th>15</th>\n",
              "      <td>-117.99</td>\n",
              "      <td>33.81</td>\n",
              "      <td>42.0</td>\n",
              "      <td>161.0</td>\n",
              "      <td>40.0</td>\n",
              "      <td>157.0</td>\n",
              "      <td>50.0</td>\n",
              "      <td>2.2000</td>\n",
              "      <td>153100.0</td>\n",
              "    </tr>\n",
              "    <tr>\n",
              "      <th>16</th>\n",
              "      <td>-120.81</td>\n",
              "      <td>37.53</td>\n",
              "      <td>15.0</td>\n",
              "      <td>570.0</td>\n",
              "      <td>123.0</td>\n",
              "      <td>189.0</td>\n",
              "      <td>107.0</td>\n",
              "      <td>1.8750</td>\n",
              "      <td>181300.0</td>\n",
              "    </tr>\n",
              "    <tr>\n",
              "      <th>17</th>\n",
              "      <td>-121.20</td>\n",
              "      <td>38.69</td>\n",
              "      <td>26.0</td>\n",
              "      <td>3077.0</td>\n",
              "      <td>607.0</td>\n",
              "      <td>1603.0</td>\n",
              "      <td>595.0</td>\n",
              "      <td>2.7174</td>\n",
              "      <td>137500.0</td>\n",
              "    </tr>\n",
              "    <tr>\n",
              "      <th>18</th>\n",
              "      <td>-118.88</td>\n",
              "      <td>34.21</td>\n",
              "      <td>26.0</td>\n",
              "      <td>1590.0</td>\n",
              "      <td>196.0</td>\n",
              "      <td>654.0</td>\n",
              "      <td>199.0</td>\n",
              "      <td>6.5851</td>\n",
              "      <td>300000.0</td>\n",
              "    </tr>\n",
              "    <tr>\n",
              "      <th>19</th>\n",
              "      <td>-122.59</td>\n",
              "      <td>38.01</td>\n",
              "      <td>35.0</td>\n",
              "      <td>8814.0</td>\n",
              "      <td>1307.0</td>\n",
              "      <td>3450.0</td>\n",
              "      <td>1258.0</td>\n",
              "      <td>6.1724</td>\n",
              "      <td>414300.0</td>\n",
              "    </tr>\n",
              "    <tr>\n",
              "      <th>20</th>\n",
              "      <td>-122.15</td>\n",
              "      <td>37.75</td>\n",
              "      <td>40.0</td>\n",
              "      <td>1445.0</td>\n",
              "      <td>256.0</td>\n",
              "      <td>849.0</td>\n",
              "      <td>255.0</td>\n",
              "      <td>3.8913</td>\n",
              "      <td>126300.0</td>\n",
              "    </tr>\n",
              "    <tr>\n",
              "      <th>21</th>\n",
              "      <td>-121.37</td>\n",
              "      <td>38.68</td>\n",
              "      <td>36.0</td>\n",
              "      <td>1775.0</td>\n",
              "      <td>296.0</td>\n",
              "      <td>937.0</td>\n",
              "      <td>305.0</td>\n",
              "      <td>3.1786</td>\n",
              "      <td>83400.0</td>\n",
              "    </tr>\n",
              "    <tr>\n",
              "      <th>22</th>\n",
              "      <td>-118.16</td>\n",
              "      <td>34.07</td>\n",
              "      <td>47.0</td>\n",
              "      <td>2994.0</td>\n",
              "      <td>543.0</td>\n",
              "      <td>1651.0</td>\n",
              "      <td>561.0</td>\n",
              "      <td>3.8644</td>\n",
              "      <td>241500.0</td>\n",
              "    </tr>\n",
              "    <tr>\n",
              "      <th>23</th>\n",
              "      <td>-122.20</td>\n",
              "      <td>37.79</td>\n",
              "      <td>45.0</td>\n",
              "      <td>2021.0</td>\n",
              "      <td>528.0</td>\n",
              "      <td>1410.0</td>\n",
              "      <td>480.0</td>\n",
              "      <td>2.7788</td>\n",
              "      <td>115400.0</td>\n",
              "    </tr>\n",
              "    <tr>\n",
              "      <th>24</th>\n",
              "      <td>-117.28</td>\n",
              "      <td>33.28</td>\n",
              "      <td>13.0</td>\n",
              "      <td>6131.0</td>\n",
              "      <td>1040.0</td>\n",
              "      <td>4049.0</td>\n",
              "      <td>940.0</td>\n",
              "      <td>3.8156</td>\n",
              "      <td>150700.0</td>\n",
              "    </tr>\n",
              "    <tr>\n",
              "      <th>25</th>\n",
              "      <td>-118.03</td>\n",
              "      <td>34.16</td>\n",
              "      <td>36.0</td>\n",
              "      <td>1401.0</td>\n",
              "      <td>218.0</td>\n",
              "      <td>667.0</td>\n",
              "      <td>225.0</td>\n",
              "      <td>7.1615</td>\n",
              "      <td>484700.0</td>\n",
              "    </tr>\n",
              "    <tr>\n",
              "      <th>26</th>\n",
              "      <td>-122.42</td>\n",
              "      <td>37.76</td>\n",
              "      <td>52.0</td>\n",
              "      <td>3587.0</td>\n",
              "      <td>1030.0</td>\n",
              "      <td>2259.0</td>\n",
              "      <td>979.0</td>\n",
              "      <td>2.5403</td>\n",
              "      <td>250000.0</td>\n",
              "    </tr>\n",
              "    <tr>\n",
              "      <th>27</th>\n",
              "      <td>-118.39</td>\n",
              "      <td>33.99</td>\n",
              "      <td>32.0</td>\n",
              "      <td>2612.0</td>\n",
              "      <td>418.0</td>\n",
              "      <td>1030.0</td>\n",
              "      <td>402.0</td>\n",
              "      <td>6.6030</td>\n",
              "      <td>369200.0</td>\n",
              "    </tr>\n",
              "    <tr>\n",
              "      <th>28</th>\n",
              "      <td>-118.45</td>\n",
              "      <td>34.07</td>\n",
              "      <td>19.0</td>\n",
              "      <td>4845.0</td>\n",
              "      <td>1609.0</td>\n",
              "      <td>3751.0</td>\n",
              "      <td>1539.0</td>\n",
              "      <td>1.5830</td>\n",
              "      <td>350000.0</td>\n",
              "    </tr>\n",
              "    <tr>\n",
              "      <th>29</th>\n",
              "      <td>-118.48</td>\n",
              "      <td>34.01</td>\n",
              "      <td>30.0</td>\n",
              "      <td>3078.0</td>\n",
              "      <td>954.0</td>\n",
              "      <td>1561.0</td>\n",
              "      <td>901.0</td>\n",
              "      <td>3.4852</td>\n",
              "      <td>425000.0</td>\n",
              "    </tr>\n",
              "    <tr>\n",
              "      <th>...</th>\n",
              "      <td>...</td>\n",
              "      <td>...</td>\n",
              "      <td>...</td>\n",
              "      <td>...</td>\n",
              "      <td>...</td>\n",
              "      <td>...</td>\n",
              "      <td>...</td>\n",
              "      <td>...</td>\n",
              "      <td>...</td>\n",
              "    </tr>\n",
              "    <tr>\n",
              "      <th>2970</th>\n",
              "      <td>-122.47</td>\n",
              "      <td>37.77</td>\n",
              "      <td>52.0</td>\n",
              "      <td>2241.0</td>\n",
              "      <td>443.0</td>\n",
              "      <td>1042.0</td>\n",
              "      <td>377.0</td>\n",
              "      <td>4.1635</td>\n",
              "      <td>398400.0</td>\n",
              "    </tr>\n",
              "    <tr>\n",
              "      <th>2971</th>\n",
              "      <td>-120.93</td>\n",
              "      <td>35.76</td>\n",
              "      <td>11.0</td>\n",
              "      <td>8997.0</td>\n",
              "      <td>1698.0</td>\n",
              "      <td>1825.0</td>\n",
              "      <td>756.0</td>\n",
              "      <td>3.2300</td>\n",
              "      <td>154300.0</td>\n",
              "    </tr>\n",
              "    <tr>\n",
              "      <th>2972</th>\n",
              "      <td>-118.14</td>\n",
              "      <td>34.17</td>\n",
              "      <td>52.0</td>\n",
              "      <td>2667.0</td>\n",
              "      <td>486.0</td>\n",
              "      <td>1681.0</td>\n",
              "      <td>504.0</td>\n",
              "      <td>4.0524</td>\n",
              "      <td>173100.0</td>\n",
              "    </tr>\n",
              "    <tr>\n",
              "      <th>2973</th>\n",
              "      <td>-122.73</td>\n",
              "      <td>38.46</td>\n",
              "      <td>14.0</td>\n",
              "      <td>4042.0</td>\n",
              "      <td>1298.0</td>\n",
              "      <td>2323.0</td>\n",
              "      <td>1158.0</td>\n",
              "      <td>2.0651</td>\n",
              "      <td>135400.0</td>\n",
              "    </tr>\n",
              "    <tr>\n",
              "      <th>2974</th>\n",
              "      <td>-117.06</td>\n",
              "      <td>32.76</td>\n",
              "      <td>37.0</td>\n",
              "      <td>2356.0</td>\n",
              "      <td>476.0</td>\n",
              "      <td>1231.0</td>\n",
              "      <td>499.0</td>\n",
              "      <td>2.9650</td>\n",
              "      <td>155700.0</td>\n",
              "    </tr>\n",
              "    <tr>\n",
              "      <th>2975</th>\n",
              "      <td>-120.71</td>\n",
              "      <td>35.50</td>\n",
              "      <td>12.0</td>\n",
              "      <td>3098.0</td>\n",
              "      <td>453.0</td>\n",
              "      <td>1433.0</td>\n",
              "      <td>434.0</td>\n",
              "      <td>5.2508</td>\n",
              "      <td>292900.0</td>\n",
              "    </tr>\n",
              "    <tr>\n",
              "      <th>2976</th>\n",
              "      <td>-118.31</td>\n",
              "      <td>34.05</td>\n",
              "      <td>35.0</td>\n",
              "      <td>1692.0</td>\n",
              "      <td>423.0</td>\n",
              "      <td>1578.0</td>\n",
              "      <td>406.0</td>\n",
              "      <td>2.5313</td>\n",
              "      <td>305800.0</td>\n",
              "    </tr>\n",
              "    <tr>\n",
              "      <th>2977</th>\n",
              "      <td>-119.70</td>\n",
              "      <td>36.75</td>\n",
              "      <td>11.0</td>\n",
              "      <td>3626.0</td>\n",
              "      <td>779.0</td>\n",
              "      <td>1819.0</td>\n",
              "      <td>731.0</td>\n",
              "      <td>2.4956</td>\n",
              "      <td>87500.0</td>\n",
              "    </tr>\n",
              "    <tr>\n",
              "      <th>2978</th>\n",
              "      <td>-121.34</td>\n",
              "      <td>38.64</td>\n",
              "      <td>17.0</td>\n",
              "      <td>2761.0</td>\n",
              "      <td>501.0</td>\n",
              "      <td>1128.0</td>\n",
              "      <td>482.0</td>\n",
              "      <td>3.7562</td>\n",
              "      <td>139700.0</td>\n",
              "    </tr>\n",
              "    <tr>\n",
              "      <th>2979</th>\n",
              "      <td>-117.91</td>\n",
              "      <td>34.09</td>\n",
              "      <td>20.0</td>\n",
              "      <td>4327.0</td>\n",
              "      <td>1037.0</td>\n",
              "      <td>2296.0</td>\n",
              "      <td>963.0</td>\n",
              "      <td>3.0441</td>\n",
              "      <td>185400.0</td>\n",
              "    </tr>\n",
              "    <tr>\n",
              "      <th>2980</th>\n",
              "      <td>-119.76</td>\n",
              "      <td>36.79</td>\n",
              "      <td>32.0</td>\n",
              "      <td>2463.0</td>\n",
              "      <td>468.0</td>\n",
              "      <td>1261.0</td>\n",
              "      <td>486.0</td>\n",
              "      <td>3.3281</td>\n",
              "      <td>75100.0</td>\n",
              "    </tr>\n",
              "    <tr>\n",
              "      <th>2981</th>\n",
              "      <td>-120.66</td>\n",
              "      <td>35.49</td>\n",
              "      <td>17.0</td>\n",
              "      <td>4422.0</td>\n",
              "      <td>945.0</td>\n",
              "      <td>2307.0</td>\n",
              "      <td>885.0</td>\n",
              "      <td>2.8285</td>\n",
              "      <td>171300.0</td>\n",
              "    </tr>\n",
              "    <tr>\n",
              "      <th>2982</th>\n",
              "      <td>-118.28</td>\n",
              "      <td>34.08</td>\n",
              "      <td>42.0</td>\n",
              "      <td>1618.0</td>\n",
              "      <td>522.0</td>\n",
              "      <td>1454.0</td>\n",
              "      <td>440.0</td>\n",
              "      <td>3.1607</td>\n",
              "      <td>182000.0</td>\n",
              "    </tr>\n",
              "    <tr>\n",
              "      <th>2983</th>\n",
              "      <td>-122.54</td>\n",
              "      <td>37.90</td>\n",
              "      <td>48.0</td>\n",
              "      <td>2491.0</td>\n",
              "      <td>460.0</td>\n",
              "      <td>937.0</td>\n",
              "      <td>455.0</td>\n",
              "      <td>4.4375</td>\n",
              "      <td>370000.0</td>\n",
              "    </tr>\n",
              "    <tr>\n",
              "      <th>2984</th>\n",
              "      <td>-117.59</td>\n",
              "      <td>33.88</td>\n",
              "      <td>13.0</td>\n",
              "      <td>3239.0</td>\n",
              "      <td>849.0</td>\n",
              "      <td>2751.0</td>\n",
              "      <td>813.0</td>\n",
              "      <td>2.6111</td>\n",
              "      <td>107000.0</td>\n",
              "    </tr>\n",
              "    <tr>\n",
              "      <th>2985</th>\n",
              "      <td>-120.47</td>\n",
              "      <td>34.94</td>\n",
              "      <td>17.0</td>\n",
              "      <td>1368.0</td>\n",
              "      <td>308.0</td>\n",
              "      <td>642.0</td>\n",
              "      <td>303.0</td>\n",
              "      <td>1.8633</td>\n",
              "      <td>109400.0</td>\n",
              "    </tr>\n",
              "    <tr>\n",
              "      <th>2986</th>\n",
              "      <td>-118.25</td>\n",
              "      <td>33.93</td>\n",
              "      <td>42.0</td>\n",
              "      <td>819.0</td>\n",
              "      <td>233.0</td>\n",
              "      <td>899.0</td>\n",
              "      <td>228.0</td>\n",
              "      <td>1.1346</td>\n",
              "      <td>85400.0</td>\n",
              "    </tr>\n",
              "    <tr>\n",
              "      <th>2987</th>\n",
              "      <td>-121.97</td>\n",
              "      <td>37.29</td>\n",
              "      <td>25.0</td>\n",
              "      <td>4096.0</td>\n",
              "      <td>743.0</td>\n",
              "      <td>2027.0</td>\n",
              "      <td>741.0</td>\n",
              "      <td>5.3294</td>\n",
              "      <td>300300.0</td>\n",
              "    </tr>\n",
              "    <tr>\n",
              "      <th>2988</th>\n",
              "      <td>-122.01</td>\n",
              "      <td>36.97</td>\n",
              "      <td>43.0</td>\n",
              "      <td>2162.0</td>\n",
              "      <td>509.0</td>\n",
              "      <td>1208.0</td>\n",
              "      <td>464.0</td>\n",
              "      <td>2.5417</td>\n",
              "      <td>260900.0</td>\n",
              "    </tr>\n",
              "    <tr>\n",
              "      <th>2989</th>\n",
              "      <td>-122.02</td>\n",
              "      <td>37.60</td>\n",
              "      <td>32.0</td>\n",
              "      <td>1295.0</td>\n",
              "      <td>295.0</td>\n",
              "      <td>1097.0</td>\n",
              "      <td>328.0</td>\n",
              "      <td>3.2386</td>\n",
              "      <td>149600.0</td>\n",
              "    </tr>\n",
              "    <tr>\n",
              "      <th>2990</th>\n",
              "      <td>-118.23</td>\n",
              "      <td>34.09</td>\n",
              "      <td>49.0</td>\n",
              "      <td>1638.0</td>\n",
              "      <td>456.0</td>\n",
              "      <td>1500.0</td>\n",
              "      <td>430.0</td>\n",
              "      <td>2.6923</td>\n",
              "      <td>150000.0</td>\n",
              "    </tr>\n",
              "    <tr>\n",
              "      <th>2991</th>\n",
              "      <td>-117.17</td>\n",
              "      <td>34.28</td>\n",
              "      <td>13.0</td>\n",
              "      <td>4867.0</td>\n",
              "      <td>718.0</td>\n",
              "      <td>780.0</td>\n",
              "      <td>250.0</td>\n",
              "      <td>7.1997</td>\n",
              "      <td>253800.0</td>\n",
              "    </tr>\n",
              "    <tr>\n",
              "      <th>2992</th>\n",
              "      <td>-122.33</td>\n",
              "      <td>37.39</td>\n",
              "      <td>52.0</td>\n",
              "      <td>573.0</td>\n",
              "      <td>102.0</td>\n",
              "      <td>232.0</td>\n",
              "      <td>92.0</td>\n",
              "      <td>6.2263</td>\n",
              "      <td>500001.0</td>\n",
              "    </tr>\n",
              "    <tr>\n",
              "      <th>2993</th>\n",
              "      <td>-117.91</td>\n",
              "      <td>33.60</td>\n",
              "      <td>37.0</td>\n",
              "      <td>2088.0</td>\n",
              "      <td>510.0</td>\n",
              "      <td>673.0</td>\n",
              "      <td>390.0</td>\n",
              "      <td>5.1048</td>\n",
              "      <td>500001.0</td>\n",
              "    </tr>\n",
              "    <tr>\n",
              "      <th>2994</th>\n",
              "      <td>-117.93</td>\n",
              "      <td>33.86</td>\n",
              "      <td>35.0</td>\n",
              "      <td>931.0</td>\n",
              "      <td>181.0</td>\n",
              "      <td>516.0</td>\n",
              "      <td>174.0</td>\n",
              "      <td>5.5867</td>\n",
              "      <td>182500.0</td>\n",
              "    </tr>\n",
              "    <tr>\n",
              "      <th>2995</th>\n",
              "      <td>-119.86</td>\n",
              "      <td>34.42</td>\n",
              "      <td>23.0</td>\n",
              "      <td>1450.0</td>\n",
              "      <td>642.0</td>\n",
              "      <td>1258.0</td>\n",
              "      <td>607.0</td>\n",
              "      <td>1.1790</td>\n",
              "      <td>225000.0</td>\n",
              "    </tr>\n",
              "    <tr>\n",
              "      <th>2996</th>\n",
              "      <td>-118.14</td>\n",
              "      <td>34.06</td>\n",
              "      <td>27.0</td>\n",
              "      <td>5257.0</td>\n",
              "      <td>1082.0</td>\n",
              "      <td>3496.0</td>\n",
              "      <td>1036.0</td>\n",
              "      <td>3.3906</td>\n",
              "      <td>237200.0</td>\n",
              "    </tr>\n",
              "    <tr>\n",
              "      <th>2997</th>\n",
              "      <td>-119.70</td>\n",
              "      <td>36.30</td>\n",
              "      <td>10.0</td>\n",
              "      <td>956.0</td>\n",
              "      <td>201.0</td>\n",
              "      <td>693.0</td>\n",
              "      <td>220.0</td>\n",
              "      <td>2.2895</td>\n",
              "      <td>62000.0</td>\n",
              "    </tr>\n",
              "    <tr>\n",
              "      <th>2998</th>\n",
              "      <td>-117.12</td>\n",
              "      <td>34.10</td>\n",
              "      <td>40.0</td>\n",
              "      <td>96.0</td>\n",
              "      <td>14.0</td>\n",
              "      <td>46.0</td>\n",
              "      <td>14.0</td>\n",
              "      <td>3.2708</td>\n",
              "      <td>162500.0</td>\n",
              "    </tr>\n",
              "    <tr>\n",
              "      <th>2999</th>\n",
              "      <td>-119.63</td>\n",
              "      <td>34.42</td>\n",
              "      <td>42.0</td>\n",
              "      <td>1765.0</td>\n",
              "      <td>263.0</td>\n",
              "      <td>753.0</td>\n",
              "      <td>260.0</td>\n",
              "      <td>8.5608</td>\n",
              "      <td>500001.0</td>\n",
              "    </tr>\n",
              "  </tbody>\n",
              "</table>\n",
              "<p>3000 rows × 9 columns</p>\n",
              "</div>"
            ],
            "text/plain": [
              "      longitude  latitude  ...  median_income  median_house_value\n",
              "0       -122.05     37.37  ...         6.6085            344700.0\n",
              "1       -118.30     34.26  ...         3.5990            176500.0\n",
              "2       -117.81     33.78  ...         5.7934            270500.0\n",
              "3       -118.36     33.82  ...         6.1359            330000.0\n",
              "4       -119.67     36.33  ...         2.9375             81700.0\n",
              "5       -119.56     36.51  ...         1.6635             67000.0\n",
              "6       -121.43     38.63  ...         1.6641             67000.0\n",
              "7       -120.65     35.48  ...         3.2250            166900.0\n",
              "8       -122.84     38.40  ...         3.6696            194400.0\n",
              "9       -118.02     34.08  ...         2.3333            164200.0\n",
              "10      -118.24     33.98  ...         2.2054            125000.0\n",
              "11      -119.12     35.85  ...         2.4167             58300.0\n",
              "12      -121.93     37.25  ...         4.6900            252600.0\n",
              "13      -117.03     32.97  ...         4.5625            231200.0\n",
              "14      -117.97     33.73  ...         5.7121            222500.0\n",
              "15      -117.99     33.81  ...         2.2000            153100.0\n",
              "16      -120.81     37.53  ...         1.8750            181300.0\n",
              "17      -121.20     38.69  ...         2.7174            137500.0\n",
              "18      -118.88     34.21  ...         6.5851            300000.0\n",
              "19      -122.59     38.01  ...         6.1724            414300.0\n",
              "20      -122.15     37.75  ...         3.8913            126300.0\n",
              "21      -121.37     38.68  ...         3.1786             83400.0\n",
              "22      -118.16     34.07  ...         3.8644            241500.0\n",
              "23      -122.20     37.79  ...         2.7788            115400.0\n",
              "24      -117.28     33.28  ...         3.8156            150700.0\n",
              "25      -118.03     34.16  ...         7.1615            484700.0\n",
              "26      -122.42     37.76  ...         2.5403            250000.0\n",
              "27      -118.39     33.99  ...         6.6030            369200.0\n",
              "28      -118.45     34.07  ...         1.5830            350000.0\n",
              "29      -118.48     34.01  ...         3.4852            425000.0\n",
              "...         ...       ...  ...            ...                 ...\n",
              "2970    -122.47     37.77  ...         4.1635            398400.0\n",
              "2971    -120.93     35.76  ...         3.2300            154300.0\n",
              "2972    -118.14     34.17  ...         4.0524            173100.0\n",
              "2973    -122.73     38.46  ...         2.0651            135400.0\n",
              "2974    -117.06     32.76  ...         2.9650            155700.0\n",
              "2975    -120.71     35.50  ...         5.2508            292900.0\n",
              "2976    -118.31     34.05  ...         2.5313            305800.0\n",
              "2977    -119.70     36.75  ...         2.4956             87500.0\n",
              "2978    -121.34     38.64  ...         3.7562            139700.0\n",
              "2979    -117.91     34.09  ...         3.0441            185400.0\n",
              "2980    -119.76     36.79  ...         3.3281             75100.0\n",
              "2981    -120.66     35.49  ...         2.8285            171300.0\n",
              "2982    -118.28     34.08  ...         3.1607            182000.0\n",
              "2983    -122.54     37.90  ...         4.4375            370000.0\n",
              "2984    -117.59     33.88  ...         2.6111            107000.0\n",
              "2985    -120.47     34.94  ...         1.8633            109400.0\n",
              "2986    -118.25     33.93  ...         1.1346             85400.0\n",
              "2987    -121.97     37.29  ...         5.3294            300300.0\n",
              "2988    -122.01     36.97  ...         2.5417            260900.0\n",
              "2989    -122.02     37.60  ...         3.2386            149600.0\n",
              "2990    -118.23     34.09  ...         2.6923            150000.0\n",
              "2991    -117.17     34.28  ...         7.1997            253800.0\n",
              "2992    -122.33     37.39  ...         6.2263            500001.0\n",
              "2993    -117.91     33.60  ...         5.1048            500001.0\n",
              "2994    -117.93     33.86  ...         5.5867            182500.0\n",
              "2995    -119.86     34.42  ...         1.1790            225000.0\n",
              "2996    -118.14     34.06  ...         3.3906            237200.0\n",
              "2997    -119.70     36.30  ...         2.2895             62000.0\n",
              "2998    -117.12     34.10  ...         3.2708            162500.0\n",
              "2999    -119.63     34.42  ...         8.5608            500001.0\n",
              "\n",
              "[3000 rows x 9 columns]"
            ]
          },
          "metadata": {
            "tags": []
          },
          "execution_count": 17
        }
      ]
    },
    {
      "cell_type": "markdown",
      "metadata": {
        "id": "24LeV8xANGYz",
        "colab_type": "text"
      },
      "source": [
        "We can tell it which column is the index"
      ]
    },
    {
      "cell_type": "code",
      "metadata": {
        "id": "UE68-K61PKqg",
        "colab_type": "code",
        "outputId": "db1ff9b7-483e-4746-ed4e-1b42c40f7077",
        "colab": {
          "base_uri": "https://localhost:8080/",
          "height": 266
        }
      },
      "source": [
        "corgi_data_noIndex = pd.read_csv('corgi_test_data.csv')\n",
        "\n",
        "corgi_data_noIndex"
      ],
      "execution_count": 0,
      "outputs": [
        {
          "output_type": "execute_result",
          "data": {
            "text/html": [
              "<div>\n",
              "<style scoped>\n",
              "    .dataframe tbody tr th:only-of-type {\n",
              "        vertical-align: middle;\n",
              "    }\n",
              "\n",
              "    .dataframe tbody tr th {\n",
              "        vertical-align: top;\n",
              "    }\n",
              "\n",
              "    .dataframe thead th {\n",
              "        text-align: right;\n",
              "    }\n",
              "</style>\n",
              "<table border=\"1\" class=\"dataframe\">\n",
              "  <thead>\n",
              "    <tr style=\"text-align: right;\">\n",
              "      <th></th>\n",
              "      <th>Unnamed: 0</th>\n",
              "      <th>Source</th>\n",
              "      <th>Is this Real or Not Real?</th>\n",
              "    </tr>\n",
              "  </thead>\n",
              "  <tbody>\n",
              "    <tr>\n",
              "      <th>0</th>\n",
              "      <td>Holly</td>\n",
              "      <td>Queen of England</td>\n",
              "      <td>Real</td>\n",
              "    </tr>\n",
              "    <tr>\n",
              "      <th>1</th>\n",
              "      <td>Ralph</td>\n",
              "      <td>Instagram</td>\n",
              "      <td>Real</td>\n",
              "    </tr>\n",
              "    <tr>\n",
              "      <th>2</th>\n",
              "      <td>Molly (\"Thing of Evil\")</td>\n",
              "      <td>Stephen King</td>\n",
              "      <td>Real</td>\n",
              "    </tr>\n",
              "    <tr>\n",
              "      <th>3</th>\n",
              "      <td>Ein</td>\n",
              "      <td>Cowboy Bebop</td>\n",
              "      <td>Real</td>\n",
              "    </tr>\n",
              "    <tr>\n",
              "      <th>4</th>\n",
              "      <td>Loki</td>\n",
              "      <td>Instagram</td>\n",
              "      <td>Real</td>\n",
              "    </tr>\n",
              "    <tr>\n",
              "      <th>5</th>\n",
              "      <td>Rufus</td>\n",
              "      <td>Amazon.com</td>\n",
              "      <td>Real</td>\n",
              "    </tr>\n",
              "    <tr>\n",
              "      <th>6</th>\n",
              "      <td>Sutter Brown</td>\n",
              "      <td>Jerry Brown (gov of Cali)</td>\n",
              "      <td>Real</td>\n",
              "    </tr>\n",
              "  </tbody>\n",
              "</table>\n",
              "</div>"
            ],
            "text/plain": [
              "                Unnamed: 0                     Source Is this Real or Not Real?\n",
              "0                    Holly           Queen of England                      Real\n",
              "1                    Ralph                  Instagram                      Real\n",
              "2  Molly (\"Thing of Evil\")               Stephen King                      Real\n",
              "3                      Ein               Cowboy Bebop                      Real\n",
              "4                     Loki                  Instagram                      Real\n",
              "5                    Rufus                 Amazon.com                      Real\n",
              "6             Sutter Brown  Jerry Brown (gov of Cali)                      Real"
            ]
          },
          "metadata": {
            "tags": []
          },
          "execution_count": 3
        }
      ]
    },
    {
      "cell_type": "code",
      "metadata": {
        "id": "1w0ukHHuLGsT",
        "colab_type": "code",
        "outputId": "c010c0e7-e613-4f20-a5f9-8a96b388b260",
        "colab": {
          "base_uri": "https://localhost:8080/",
          "height": 266
        }
      },
      "source": [
        "corgi_data_index = pd.read_csv('corgi_test_data.csv', index_col = 0)  \n",
        "\n",
        "corgi_data_index"
      ],
      "execution_count": 0,
      "outputs": [
        {
          "output_type": "execute_result",
          "data": {
            "text/html": [
              "<div>\n",
              "<style scoped>\n",
              "    .dataframe tbody tr th:only-of-type {\n",
              "        vertical-align: middle;\n",
              "    }\n",
              "\n",
              "    .dataframe tbody tr th {\n",
              "        vertical-align: top;\n",
              "    }\n",
              "\n",
              "    .dataframe thead th {\n",
              "        text-align: right;\n",
              "    }\n",
              "</style>\n",
              "<table border=\"1\" class=\"dataframe\">\n",
              "  <thead>\n",
              "    <tr style=\"text-align: right;\">\n",
              "      <th></th>\n",
              "      <th>Source</th>\n",
              "      <th>Is this Real or Not Real?</th>\n",
              "    </tr>\n",
              "  </thead>\n",
              "  <tbody>\n",
              "    <tr>\n",
              "      <th>Holly</th>\n",
              "      <td>Queen of England</td>\n",
              "      <td>Real</td>\n",
              "    </tr>\n",
              "    <tr>\n",
              "      <th>Ralph</th>\n",
              "      <td>Instagram</td>\n",
              "      <td>Real</td>\n",
              "    </tr>\n",
              "    <tr>\n",
              "      <th>Molly (\"Thing of Evil\")</th>\n",
              "      <td>Stephen King</td>\n",
              "      <td>Real</td>\n",
              "    </tr>\n",
              "    <tr>\n",
              "      <th>Ein</th>\n",
              "      <td>Cowboy Bebop</td>\n",
              "      <td>Real</td>\n",
              "    </tr>\n",
              "    <tr>\n",
              "      <th>Loki</th>\n",
              "      <td>Instagram</td>\n",
              "      <td>Real</td>\n",
              "    </tr>\n",
              "    <tr>\n",
              "      <th>Rufus</th>\n",
              "      <td>Amazon.com</td>\n",
              "      <td>Real</td>\n",
              "    </tr>\n",
              "    <tr>\n",
              "      <th>Sutter Brown</th>\n",
              "      <td>Jerry Brown (gov of Cali)</td>\n",
              "      <td>Real</td>\n",
              "    </tr>\n",
              "  </tbody>\n",
              "</table>\n",
              "</div>"
            ],
            "text/plain": [
              "                                            Source Is this Real or Not Real?\n",
              "Holly                             Queen of England                      Real\n",
              "Ralph                                    Instagram                      Real\n",
              "Molly (\"Thing of Evil\")               Stephen King                      Real\n",
              "Ein                                   Cowboy Bebop                      Real\n",
              "Loki                                     Instagram                      Real\n",
              "Rufus                                   Amazon.com                      Real\n",
              "Sutter Brown             Jerry Brown (gov of Cali)                      Real"
            ]
          },
          "metadata": {
            "tags": []
          },
          "execution_count": 4
        }
      ]
    },
    {
      "cell_type": "markdown",
      "metadata": {
        "id": "r4-tI8KkNwfr",
        "colab_type": "text"
      },
      "source": [
        "Alternately, we can read from a json file (essentially a dictionary file storage format). Json knows how to nest things so we get the right index aautomagically."
      ]
    },
    {
      "cell_type": "code",
      "metadata": {
        "id": "Lbc28JtVNNTi",
        "colab_type": "code",
        "outputId": "5f8903bf-bd38-4ab1-8490-f36ece232a31",
        "colab": {
          "base_uri": "https://localhost:8080/",
          "height": 1413
        }
      },
      "source": [
        "anscombe_data = pd.read_json('sample_data/anscombe.json')\n",
        "\n",
        "anscombe_data"
      ],
      "execution_count": 0,
      "outputs": [
        {
          "output_type": "execute_result",
          "data": {
            "text/html": [
              "<div>\n",
              "<style scoped>\n",
              "    .dataframe tbody tr th:only-of-type {\n",
              "        vertical-align: middle;\n",
              "    }\n",
              "\n",
              "    .dataframe tbody tr th {\n",
              "        vertical-align: top;\n",
              "    }\n",
              "\n",
              "    .dataframe thead th {\n",
              "        text-align: right;\n",
              "    }\n",
              "</style>\n",
              "<table border=\"1\" class=\"dataframe\">\n",
              "  <thead>\n",
              "    <tr style=\"text-align: right;\">\n",
              "      <th></th>\n",
              "      <th>Series</th>\n",
              "      <th>X</th>\n",
              "      <th>Y</th>\n",
              "    </tr>\n",
              "  </thead>\n",
              "  <tbody>\n",
              "    <tr>\n",
              "      <th>0</th>\n",
              "      <td>I</td>\n",
              "      <td>10</td>\n",
              "      <td>8.04</td>\n",
              "    </tr>\n",
              "    <tr>\n",
              "      <th>1</th>\n",
              "      <td>I</td>\n",
              "      <td>8</td>\n",
              "      <td>6.95</td>\n",
              "    </tr>\n",
              "    <tr>\n",
              "      <th>2</th>\n",
              "      <td>I</td>\n",
              "      <td>13</td>\n",
              "      <td>7.58</td>\n",
              "    </tr>\n",
              "    <tr>\n",
              "      <th>3</th>\n",
              "      <td>I</td>\n",
              "      <td>9</td>\n",
              "      <td>8.81</td>\n",
              "    </tr>\n",
              "    <tr>\n",
              "      <th>4</th>\n",
              "      <td>I</td>\n",
              "      <td>11</td>\n",
              "      <td>8.33</td>\n",
              "    </tr>\n",
              "    <tr>\n",
              "      <th>5</th>\n",
              "      <td>I</td>\n",
              "      <td>14</td>\n",
              "      <td>9.96</td>\n",
              "    </tr>\n",
              "    <tr>\n",
              "      <th>6</th>\n",
              "      <td>I</td>\n",
              "      <td>6</td>\n",
              "      <td>7.24</td>\n",
              "    </tr>\n",
              "    <tr>\n",
              "      <th>7</th>\n",
              "      <td>I</td>\n",
              "      <td>4</td>\n",
              "      <td>4.26</td>\n",
              "    </tr>\n",
              "    <tr>\n",
              "      <th>8</th>\n",
              "      <td>I</td>\n",
              "      <td>12</td>\n",
              "      <td>10.84</td>\n",
              "    </tr>\n",
              "    <tr>\n",
              "      <th>9</th>\n",
              "      <td>I</td>\n",
              "      <td>7</td>\n",
              "      <td>4.81</td>\n",
              "    </tr>\n",
              "    <tr>\n",
              "      <th>10</th>\n",
              "      <td>I</td>\n",
              "      <td>5</td>\n",
              "      <td>5.68</td>\n",
              "    </tr>\n",
              "    <tr>\n",
              "      <th>11</th>\n",
              "      <td>II</td>\n",
              "      <td>10</td>\n",
              "      <td>9.14</td>\n",
              "    </tr>\n",
              "    <tr>\n",
              "      <th>12</th>\n",
              "      <td>II</td>\n",
              "      <td>8</td>\n",
              "      <td>8.14</td>\n",
              "    </tr>\n",
              "    <tr>\n",
              "      <th>13</th>\n",
              "      <td>II</td>\n",
              "      <td>13</td>\n",
              "      <td>8.74</td>\n",
              "    </tr>\n",
              "    <tr>\n",
              "      <th>14</th>\n",
              "      <td>II</td>\n",
              "      <td>9</td>\n",
              "      <td>8.77</td>\n",
              "    </tr>\n",
              "    <tr>\n",
              "      <th>15</th>\n",
              "      <td>II</td>\n",
              "      <td>11</td>\n",
              "      <td>9.26</td>\n",
              "    </tr>\n",
              "    <tr>\n",
              "      <th>16</th>\n",
              "      <td>II</td>\n",
              "      <td>14</td>\n",
              "      <td>8.10</td>\n",
              "    </tr>\n",
              "    <tr>\n",
              "      <th>17</th>\n",
              "      <td>II</td>\n",
              "      <td>6</td>\n",
              "      <td>6.13</td>\n",
              "    </tr>\n",
              "    <tr>\n",
              "      <th>18</th>\n",
              "      <td>II</td>\n",
              "      <td>4</td>\n",
              "      <td>3.10</td>\n",
              "    </tr>\n",
              "    <tr>\n",
              "      <th>19</th>\n",
              "      <td>II</td>\n",
              "      <td>12</td>\n",
              "      <td>9.13</td>\n",
              "    </tr>\n",
              "    <tr>\n",
              "      <th>20</th>\n",
              "      <td>II</td>\n",
              "      <td>7</td>\n",
              "      <td>7.26</td>\n",
              "    </tr>\n",
              "    <tr>\n",
              "      <th>21</th>\n",
              "      <td>II</td>\n",
              "      <td>5</td>\n",
              "      <td>4.74</td>\n",
              "    </tr>\n",
              "    <tr>\n",
              "      <th>22</th>\n",
              "      <td>III</td>\n",
              "      <td>10</td>\n",
              "      <td>7.46</td>\n",
              "    </tr>\n",
              "    <tr>\n",
              "      <th>23</th>\n",
              "      <td>III</td>\n",
              "      <td>8</td>\n",
              "      <td>6.77</td>\n",
              "    </tr>\n",
              "    <tr>\n",
              "      <th>24</th>\n",
              "      <td>III</td>\n",
              "      <td>13</td>\n",
              "      <td>12.74</td>\n",
              "    </tr>\n",
              "    <tr>\n",
              "      <th>25</th>\n",
              "      <td>III</td>\n",
              "      <td>9</td>\n",
              "      <td>7.11</td>\n",
              "    </tr>\n",
              "    <tr>\n",
              "      <th>26</th>\n",
              "      <td>III</td>\n",
              "      <td>11</td>\n",
              "      <td>7.81</td>\n",
              "    </tr>\n",
              "    <tr>\n",
              "      <th>27</th>\n",
              "      <td>III</td>\n",
              "      <td>14</td>\n",
              "      <td>8.84</td>\n",
              "    </tr>\n",
              "    <tr>\n",
              "      <th>28</th>\n",
              "      <td>III</td>\n",
              "      <td>6</td>\n",
              "      <td>6.08</td>\n",
              "    </tr>\n",
              "    <tr>\n",
              "      <th>29</th>\n",
              "      <td>III</td>\n",
              "      <td>4</td>\n",
              "      <td>5.39</td>\n",
              "    </tr>\n",
              "    <tr>\n",
              "      <th>30</th>\n",
              "      <td>III</td>\n",
              "      <td>12</td>\n",
              "      <td>8.15</td>\n",
              "    </tr>\n",
              "    <tr>\n",
              "      <th>31</th>\n",
              "      <td>III</td>\n",
              "      <td>7</td>\n",
              "      <td>6.42</td>\n",
              "    </tr>\n",
              "    <tr>\n",
              "      <th>32</th>\n",
              "      <td>III</td>\n",
              "      <td>5</td>\n",
              "      <td>5.73</td>\n",
              "    </tr>\n",
              "    <tr>\n",
              "      <th>33</th>\n",
              "      <td>IV</td>\n",
              "      <td>8</td>\n",
              "      <td>6.58</td>\n",
              "    </tr>\n",
              "    <tr>\n",
              "      <th>34</th>\n",
              "      <td>IV</td>\n",
              "      <td>8</td>\n",
              "      <td>5.76</td>\n",
              "    </tr>\n",
              "    <tr>\n",
              "      <th>35</th>\n",
              "      <td>IV</td>\n",
              "      <td>8</td>\n",
              "      <td>7.71</td>\n",
              "    </tr>\n",
              "    <tr>\n",
              "      <th>36</th>\n",
              "      <td>IV</td>\n",
              "      <td>8</td>\n",
              "      <td>8.84</td>\n",
              "    </tr>\n",
              "    <tr>\n",
              "      <th>37</th>\n",
              "      <td>IV</td>\n",
              "      <td>8</td>\n",
              "      <td>8.47</td>\n",
              "    </tr>\n",
              "    <tr>\n",
              "      <th>38</th>\n",
              "      <td>IV</td>\n",
              "      <td>8</td>\n",
              "      <td>7.04</td>\n",
              "    </tr>\n",
              "    <tr>\n",
              "      <th>39</th>\n",
              "      <td>IV</td>\n",
              "      <td>8</td>\n",
              "      <td>5.25</td>\n",
              "    </tr>\n",
              "    <tr>\n",
              "      <th>40</th>\n",
              "      <td>IV</td>\n",
              "      <td>19</td>\n",
              "      <td>12.50</td>\n",
              "    </tr>\n",
              "    <tr>\n",
              "      <th>41</th>\n",
              "      <td>IV</td>\n",
              "      <td>8</td>\n",
              "      <td>5.56</td>\n",
              "    </tr>\n",
              "    <tr>\n",
              "      <th>42</th>\n",
              "      <td>IV</td>\n",
              "      <td>8</td>\n",
              "      <td>7.91</td>\n",
              "    </tr>\n",
              "    <tr>\n",
              "      <th>43</th>\n",
              "      <td>IV</td>\n",
              "      <td>8</td>\n",
              "      <td>6.89</td>\n",
              "    </tr>\n",
              "  </tbody>\n",
              "</table>\n",
              "</div>"
            ],
            "text/plain": [
              "   Series   X      Y\n",
              "0       I  10   8.04\n",
              "1       I   8   6.95\n",
              "2       I  13   7.58\n",
              "3       I   9   8.81\n",
              "4       I  11   8.33\n",
              "5       I  14   9.96\n",
              "6       I   6   7.24\n",
              "7       I   4   4.26\n",
              "8       I  12  10.84\n",
              "9       I   7   4.81\n",
              "10      I   5   5.68\n",
              "11     II  10   9.14\n",
              "12     II   8   8.14\n",
              "13     II  13   8.74\n",
              "14     II   9   8.77\n",
              "15     II  11   9.26\n",
              "16     II  14   8.10\n",
              "17     II   6   6.13\n",
              "18     II   4   3.10\n",
              "19     II  12   9.13\n",
              "20     II   7   7.26\n",
              "21     II   5   4.74\n",
              "22    III  10   7.46\n",
              "23    III   8   6.77\n",
              "24    III  13  12.74\n",
              "25    III   9   7.11\n",
              "26    III  11   7.81\n",
              "27    III  14   8.84\n",
              "28    III   6   6.08\n",
              "29    III   4   5.39\n",
              "30    III  12   8.15\n",
              "31    III   7   6.42\n",
              "32    III   5   5.73\n",
              "33     IV   8   6.58\n",
              "34     IV   8   5.76\n",
              "35     IV   8   7.71\n",
              "36     IV   8   8.84\n",
              "37     IV   8   8.47\n",
              "38     IV   8   7.04\n",
              "39     IV   8   5.25\n",
              "40     IV  19  12.50\n",
              "41     IV   8   5.56\n",
              "42     IV   8   7.91\n",
              "43     IV   8   6.89"
            ]
          },
          "metadata": {
            "tags": []
          },
          "execution_count": 25
        }
      ]
    },
    {
      "cell_type": "markdown",
      "metadata": {
        "id": "4CNmsqs7OUJE",
        "colab_type": "text"
      },
      "source": [
        "And then, we can save as a csv or a json file (or sql but I'm not getting into that one just yet haha)."
      ]
    },
    {
      "cell_type": "code",
      "metadata": {
        "id": "JMXPVFMoN9Mp",
        "colab_type": "code",
        "outputId": "3ec0c385-b3ac-4223-a586-20541cff95d9",
        "colab": {
          "base_uri": "https://localhost:8080/",
          "height": 266
        }
      },
      "source": [
        "corgi_data_index.to_csv('saved_corgi_data.csv')\n",
        "imported_corgi_csv = pd.read_csv('saved_corgi_data.csv')\n",
        "\n",
        "imported_corgi_csv"
      ],
      "execution_count": 0,
      "outputs": [
        {
          "output_type": "execute_result",
          "data": {
            "text/html": [
              "<div>\n",
              "<style scoped>\n",
              "    .dataframe tbody tr th:only-of-type {\n",
              "        vertical-align: middle;\n",
              "    }\n",
              "\n",
              "    .dataframe tbody tr th {\n",
              "        vertical-align: top;\n",
              "    }\n",
              "\n",
              "    .dataframe thead th {\n",
              "        text-align: right;\n",
              "    }\n",
              "</style>\n",
              "<table border=\"1\" class=\"dataframe\">\n",
              "  <thead>\n",
              "    <tr style=\"text-align: right;\">\n",
              "      <th></th>\n",
              "      <th>Unnamed: 0</th>\n",
              "      <th>Source</th>\n",
              "      <th>Is this Real or Not Real?</th>\n",
              "    </tr>\n",
              "  </thead>\n",
              "  <tbody>\n",
              "    <tr>\n",
              "      <th>0</th>\n",
              "      <td>Holly</td>\n",
              "      <td>Queen of England</td>\n",
              "      <td>Real</td>\n",
              "    </tr>\n",
              "    <tr>\n",
              "      <th>1</th>\n",
              "      <td>Ralph</td>\n",
              "      <td>Instagram</td>\n",
              "      <td>Real</td>\n",
              "    </tr>\n",
              "    <tr>\n",
              "      <th>2</th>\n",
              "      <td>Molly (\"Thing of Evil\")</td>\n",
              "      <td>Stephen King</td>\n",
              "      <td>Real</td>\n",
              "    </tr>\n",
              "    <tr>\n",
              "      <th>3</th>\n",
              "      <td>Ein</td>\n",
              "      <td>Cowboy Bebop</td>\n",
              "      <td>Real</td>\n",
              "    </tr>\n",
              "    <tr>\n",
              "      <th>4</th>\n",
              "      <td>Loki</td>\n",
              "      <td>Instagram</td>\n",
              "      <td>Real</td>\n",
              "    </tr>\n",
              "    <tr>\n",
              "      <th>5</th>\n",
              "      <td>Rufus</td>\n",
              "      <td>Amazon.com</td>\n",
              "      <td>Real</td>\n",
              "    </tr>\n",
              "    <tr>\n",
              "      <th>6</th>\n",
              "      <td>Sutter Brown</td>\n",
              "      <td>Jerry Brown (gov of Cali)</td>\n",
              "      <td>Real</td>\n",
              "    </tr>\n",
              "  </tbody>\n",
              "</table>\n",
              "</div>"
            ],
            "text/plain": [
              "                Unnamed: 0                     Source Is this Real or Not Real?\n",
              "0                    Holly           Queen of England                      Real\n",
              "1                    Ralph                  Instagram                      Real\n",
              "2  Molly (\"Thing of Evil\")               Stephen King                      Real\n",
              "3                      Ein               Cowboy Bebop                      Real\n",
              "4                     Loki                  Instagram                      Real\n",
              "5                    Rufus                 Amazon.com                      Real\n",
              "6             Sutter Brown  Jerry Brown (gov of Cali)                      Real"
            ]
          },
          "metadata": {
            "tags": []
          },
          "execution_count": 7
        }
      ]
    },
    {
      "cell_type": "code",
      "metadata": {
        "id": "DYolYRWZOw60",
        "colab_type": "code",
        "outputId": "2dcc8722-7412-4a3b-fd66-092106075619",
        "colab": {
          "base_uri": "https://localhost:8080/",
          "height": 266
        }
      },
      "source": [
        "corgi_data_index.to_json('saved_corgi_data.json')\n",
        "imported_corgi_json = pd.read_json('saved_corgi_data.json')\n",
        "\n",
        "imported_corgi_json"
      ],
      "execution_count": 0,
      "outputs": [
        {
          "output_type": "execute_result",
          "data": {
            "text/html": [
              "<div>\n",
              "<style scoped>\n",
              "    .dataframe tbody tr th:only-of-type {\n",
              "        vertical-align: middle;\n",
              "    }\n",
              "\n",
              "    .dataframe tbody tr th {\n",
              "        vertical-align: top;\n",
              "    }\n",
              "\n",
              "    .dataframe thead th {\n",
              "        text-align: right;\n",
              "    }\n",
              "</style>\n",
              "<table border=\"1\" class=\"dataframe\">\n",
              "  <thead>\n",
              "    <tr style=\"text-align: right;\">\n",
              "      <th></th>\n",
              "      <th>Source</th>\n",
              "      <th>Is this Real or Not Real?</th>\n",
              "    </tr>\n",
              "  </thead>\n",
              "  <tbody>\n",
              "    <tr>\n",
              "      <th>Ein</th>\n",
              "      <td>Cowboy Bebop</td>\n",
              "      <td>Real</td>\n",
              "    </tr>\n",
              "    <tr>\n",
              "      <th>Holly</th>\n",
              "      <td>Queen of England</td>\n",
              "      <td>Real</td>\n",
              "    </tr>\n",
              "    <tr>\n",
              "      <th>Loki</th>\n",
              "      <td>Instagram</td>\n",
              "      <td>Real</td>\n",
              "    </tr>\n",
              "    <tr>\n",
              "      <th>Molly (\"Thing of Evil\")</th>\n",
              "      <td>Stephen King</td>\n",
              "      <td>Real</td>\n",
              "    </tr>\n",
              "    <tr>\n",
              "      <th>Ralph</th>\n",
              "      <td>Instagram</td>\n",
              "      <td>Real</td>\n",
              "    </tr>\n",
              "    <tr>\n",
              "      <th>Rufus</th>\n",
              "      <td>Amazon.com</td>\n",
              "      <td>Real</td>\n",
              "    </tr>\n",
              "    <tr>\n",
              "      <th>Sutter Brown</th>\n",
              "      <td>Jerry Brown (gov of Cali)</td>\n",
              "      <td>Real</td>\n",
              "    </tr>\n",
              "  </tbody>\n",
              "</table>\n",
              "</div>"
            ],
            "text/plain": [
              "                                            Source Is this Real or Not Real?\n",
              "Ein                                   Cowboy Bebop                      Real\n",
              "Holly                             Queen of England                      Real\n",
              "Loki                                     Instagram                      Real\n",
              "Molly (\"Thing of Evil\")               Stephen King                      Real\n",
              "Ralph                                    Instagram                      Real\n",
              "Rufus                                   Amazon.com                      Real\n",
              "Sutter Brown             Jerry Brown (gov of Cali)                      Real"
            ]
          },
          "metadata": {
            "tags": []
          },
          "execution_count": 6
        }
      ]
    },
    {
      "cell_type": "markdown",
      "metadata": {
        "id": "Do9yt3l0F38j",
        "colab_type": "text"
      },
      "source": [
        "<h3>Extra skills</h3>\n",
        "\n",
        "Specifying a column header\n",
        "\n",
        "This example shows taking any row and making it the header; I just wanted to be able to specify the header directly\n",
        "\n",
        "From: https://stackoverflow.com/questions/26147180/convert-row-to-column-header-for-pandas-dataframe "
      ]
    },
    {
      "cell_type": "code",
      "metadata": {
        "id": "uoGMXWnUO8QT",
        "colab_type": "code",
        "outputId": "1ad8375e-87c9-4153-9365-a28828197ea1",
        "colab": {
          "base_uri": "https://localhost:8080/",
          "height": 142
        }
      },
      "source": [
        "df = pd.DataFrame([(1,2,3), ('foo','bar','baz'), (4,5,6)])\n",
        "\n",
        "df"
      ],
      "execution_count": 0,
      "outputs": [
        {
          "output_type": "execute_result",
          "data": {
            "text/html": [
              "<div>\n",
              "<style scoped>\n",
              "    .dataframe tbody tr th:only-of-type {\n",
              "        vertical-align: middle;\n",
              "    }\n",
              "\n",
              "    .dataframe tbody tr th {\n",
              "        vertical-align: top;\n",
              "    }\n",
              "\n",
              "    .dataframe thead th {\n",
              "        text-align: right;\n",
              "    }\n",
              "</style>\n",
              "<table border=\"1\" class=\"dataframe\">\n",
              "  <thead>\n",
              "    <tr style=\"text-align: right;\">\n",
              "      <th></th>\n",
              "      <th>0</th>\n",
              "      <th>1</th>\n",
              "      <th>2</th>\n",
              "    </tr>\n",
              "  </thead>\n",
              "  <tbody>\n",
              "    <tr>\n",
              "      <th>0</th>\n",
              "      <td>1</td>\n",
              "      <td>2</td>\n",
              "      <td>3</td>\n",
              "    </tr>\n",
              "    <tr>\n",
              "      <th>1</th>\n",
              "      <td>foo</td>\n",
              "      <td>bar</td>\n",
              "      <td>baz</td>\n",
              "    </tr>\n",
              "    <tr>\n",
              "      <th>2</th>\n",
              "      <td>4</td>\n",
              "      <td>5</td>\n",
              "      <td>6</td>\n",
              "    </tr>\n",
              "  </tbody>\n",
              "</table>\n",
              "</div>"
            ],
            "text/plain": [
              "     0    1    2\n",
              "0    1    2    3\n",
              "1  foo  bar  baz\n",
              "2    4    5    6"
            ]
          },
          "metadata": {
            "tags": []
          },
          "execution_count": 4
        }
      ]
    },
    {
      "cell_type": "code",
      "metadata": {
        "id": "okOe7rogGMA3",
        "colab_type": "code",
        "outputId": "f1d115cb-f2bf-49f7-9fc9-5032dcf99d91",
        "colab": {
          "base_uri": "https://localhost:8080/",
          "height": 142
        }
      },
      "source": [
        "df.columns = df.iloc[1]\n",
        "\n",
        "df"
      ],
      "execution_count": 0,
      "outputs": [
        {
          "output_type": "execute_result",
          "data": {
            "text/html": [
              "<div>\n",
              "<style scoped>\n",
              "    .dataframe tbody tr th:only-of-type {\n",
              "        vertical-align: middle;\n",
              "    }\n",
              "\n",
              "    .dataframe tbody tr th {\n",
              "        vertical-align: top;\n",
              "    }\n",
              "\n",
              "    .dataframe thead th {\n",
              "        text-align: right;\n",
              "    }\n",
              "</style>\n",
              "<table border=\"1\" class=\"dataframe\">\n",
              "  <thead>\n",
              "    <tr style=\"text-align: right;\">\n",
              "      <th>1</th>\n",
              "      <th>foo</th>\n",
              "      <th>bar</th>\n",
              "      <th>baz</th>\n",
              "    </tr>\n",
              "  </thead>\n",
              "  <tbody>\n",
              "    <tr>\n",
              "      <th>0</th>\n",
              "      <td>1</td>\n",
              "      <td>2</td>\n",
              "      <td>3</td>\n",
              "    </tr>\n",
              "    <tr>\n",
              "      <th>1</th>\n",
              "      <td>foo</td>\n",
              "      <td>bar</td>\n",
              "      <td>baz</td>\n",
              "    </tr>\n",
              "    <tr>\n",
              "      <th>2</th>\n",
              "      <td>4</td>\n",
              "      <td>5</td>\n",
              "      <td>6</td>\n",
              "    </tr>\n",
              "  </tbody>\n",
              "</table>\n",
              "</div>"
            ],
            "text/plain": [
              "1  foo  bar  baz\n",
              "0    1    2    3\n",
              "1  foo  bar  baz\n",
              "2    4    5    6"
            ]
          },
          "metadata": {
            "tags": []
          },
          "execution_count": 5
        }
      ]
    },
    {
      "cell_type": "code",
      "metadata": {
        "id": "BT7x6CoWGcIX",
        "colab_type": "code",
        "outputId": "56c8557b-6771-4db9-8993-4a171f8c6140",
        "colab": {
          "base_uri": "https://localhost:8080/",
          "height": 111
        }
      },
      "source": [
        "df.reindex(df.index.drop(1))"
      ],
      "execution_count": 0,
      "outputs": [
        {
          "output_type": "execute_result",
          "data": {
            "text/html": [
              "<div>\n",
              "<style scoped>\n",
              "    .dataframe tbody tr th:only-of-type {\n",
              "        vertical-align: middle;\n",
              "    }\n",
              "\n",
              "    .dataframe tbody tr th {\n",
              "        vertical-align: top;\n",
              "    }\n",
              "\n",
              "    .dataframe thead th {\n",
              "        text-align: right;\n",
              "    }\n",
              "</style>\n",
              "<table border=\"1\" class=\"dataframe\">\n",
              "  <thead>\n",
              "    <tr style=\"text-align: right;\">\n",
              "      <th>1</th>\n",
              "      <th>foo</th>\n",
              "      <th>bar</th>\n",
              "      <th>baz</th>\n",
              "    </tr>\n",
              "  </thead>\n",
              "  <tbody>\n",
              "    <tr>\n",
              "      <th>0</th>\n",
              "      <td>1</td>\n",
              "      <td>2</td>\n",
              "      <td>3</td>\n",
              "    </tr>\n",
              "    <tr>\n",
              "      <th>2</th>\n",
              "      <td>4</td>\n",
              "      <td>5</td>\n",
              "      <td>6</td>\n",
              "    </tr>\n",
              "  </tbody>\n",
              "</table>\n",
              "</div>"
            ],
            "text/plain": [
              "1 foo bar baz\n",
              "0   1   2   3\n",
              "2   4   5   6"
            ]
          },
          "metadata": {
            "tags": []
          },
          "execution_count": 6
        }
      ]
    },
    {
      "cell_type": "markdown",
      "metadata": {
        "id": "owXNts2nGuy0",
        "colab_type": "text"
      },
      "source": [
        "Okay now let's try it"
      ]
    },
    {
      "cell_type": "code",
      "metadata": {
        "id": "omRTboOFGuhe",
        "colab_type": "code",
        "outputId": "07146b68-4083-4de0-840c-c3e54a6b6e2e",
        "colab": {
          "base_uri": "https://localhost:8080/",
          "height": 111
        }
      },
      "source": [
        "quadrants = [(\"matespriteship\", \"moirallegiance\"), \n",
        "             (\"kissmessisitude\", \"auspisticism\")]\n",
        "quad_col = (\"concupiscent\", \"conciliatory\")\n",
        "quad_ind = (\"red\", \"black\")\n",
        "\n",
        "quad_frame = pd.DataFrame(quadrants)\n",
        "quad_frame.columns = quad_col\n",
        "quad_frame.index = quad_ind\n",
        "\n",
        "quad_frame"
      ],
      "execution_count": 0,
      "outputs": [
        {
          "output_type": "execute_result",
          "data": {
            "text/html": [
              "<div>\n",
              "<style scoped>\n",
              "    .dataframe tbody tr th:only-of-type {\n",
              "        vertical-align: middle;\n",
              "    }\n",
              "\n",
              "    .dataframe tbody tr th {\n",
              "        vertical-align: top;\n",
              "    }\n",
              "\n",
              "    .dataframe thead th {\n",
              "        text-align: right;\n",
              "    }\n",
              "</style>\n",
              "<table border=\"1\" class=\"dataframe\">\n",
              "  <thead>\n",
              "    <tr style=\"text-align: right;\">\n",
              "      <th></th>\n",
              "      <th>concupiscent</th>\n",
              "      <th>conciliatory</th>\n",
              "    </tr>\n",
              "  </thead>\n",
              "  <tbody>\n",
              "    <tr>\n",
              "      <th>red</th>\n",
              "      <td>matespriteship</td>\n",
              "      <td>moirallegiance</td>\n",
              "    </tr>\n",
              "    <tr>\n",
              "      <th>black</th>\n",
              "      <td>kissmessisitude</td>\n",
              "      <td>auspisticism</td>\n",
              "    </tr>\n",
              "  </tbody>\n",
              "</table>\n",
              "</div>"
            ],
            "text/plain": [
              "          concupiscent    conciliatory\n",
              "red     matespriteship  moirallegiance\n",
              "black  kissmessisitude    auspisticism"
            ]
          },
          "metadata": {
            "tags": []
          },
          "execution_count": 3
        }
      ]
    },
    {
      "cell_type": "markdown",
      "metadata": {
        "id": "F45WNeDtEnOZ",
        "colab_type": "text"
      },
      "source": [
        "<h4>Accessing + selecting data from dataframe</h4>\n",
        "\n"
      ]
    },
    {
      "cell_type": "code",
      "metadata": {
        "id": "nFO8eGGsEmCW",
        "colab_type": "code",
        "outputId": "ee8c91fb-0759-46ea-f280-20f10f59e17a",
        "colab": {
          "base_uri": "https://localhost:8080/",
          "height": 348
        }
      },
      "source": [
        "corgiFrame = pd.read_csv('corgi_test_data.csv')\n",
        "\n",
        "corgiFrame"
      ],
      "execution_count": 0,
      "outputs": [
        {
          "output_type": "execute_result",
          "data": {
            "text/html": [
              "<div>\n",
              "<style scoped>\n",
              "    .dataframe tbody tr th:only-of-type {\n",
              "        vertical-align: middle;\n",
              "    }\n",
              "\n",
              "    .dataframe tbody tr th {\n",
              "        vertical-align: top;\n",
              "    }\n",
              "\n",
              "    .dataframe thead th {\n",
              "        text-align: right;\n",
              "    }\n",
              "</style>\n",
              "<table border=\"1\" class=\"dataframe\">\n",
              "  <thead>\n",
              "    <tr style=\"text-align: right;\">\n",
              "      <th></th>\n",
              "      <th>Unnamed: 0</th>\n",
              "      <th>Source</th>\n",
              "      <th>Is this Real or Not Real?</th>\n",
              "      <th>Cuteness</th>\n",
              "    </tr>\n",
              "  </thead>\n",
              "  <tbody>\n",
              "    <tr>\n",
              "      <th>0</th>\n",
              "      <td>Holly</td>\n",
              "      <td>Queen of England</td>\n",
              "      <td>Real</td>\n",
              "      <td>7</td>\n",
              "    </tr>\n",
              "    <tr>\n",
              "      <th>1</th>\n",
              "      <td>Ralph</td>\n",
              "      <td>Instagram</td>\n",
              "      <td>Real</td>\n",
              "      <td>7</td>\n",
              "    </tr>\n",
              "    <tr>\n",
              "      <th>2</th>\n",
              "      <td>Molly (\"Thing of Evil\")</td>\n",
              "      <td>Stephen King</td>\n",
              "      <td>Real</td>\n",
              "      <td>9</td>\n",
              "    </tr>\n",
              "    <tr>\n",
              "      <th>3</th>\n",
              "      <td>Ein</td>\n",
              "      <td>Cowboy Bebop</td>\n",
              "      <td>Not Real</td>\n",
              "      <td>11</td>\n",
              "    </tr>\n",
              "    <tr>\n",
              "      <th>4</th>\n",
              "      <td>Loki</td>\n",
              "      <td>Instagram</td>\n",
              "      <td>Real</td>\n",
              "      <td>8</td>\n",
              "    </tr>\n",
              "    <tr>\n",
              "      <th>5</th>\n",
              "      <td>Rufus</td>\n",
              "      <td>Amazon.com</td>\n",
              "      <td>Real</td>\n",
              "      <td>9</td>\n",
              "    </tr>\n",
              "    <tr>\n",
              "      <th>6</th>\n",
              "      <td>Sutter Brown</td>\n",
              "      <td>Jerry Brown (gov of Cali)</td>\n",
              "      <td>Real</td>\n",
              "      <td>8</td>\n",
              "    </tr>\n",
              "    <tr>\n",
              "      <th>7</th>\n",
              "      <td>Hope Corgi</td>\n",
              "      <td>DC Comics</td>\n",
              "      <td>Not Real</td>\n",
              "      <td>11</td>\n",
              "    </tr>\n",
              "  </tbody>\n",
              "</table>\n",
              "</div>"
            ],
            "text/plain": [
              "                Unnamed: 0  ... Cuteness\n",
              "0                    Holly  ...        7\n",
              "1                    Ralph  ...        7\n",
              "2  Molly (\"Thing of Evil\")  ...        9\n",
              "3                      Ein  ...       11\n",
              "4                     Loki  ...        8\n",
              "5                    Rufus  ...        9\n",
              "6             Sutter Brown  ...        8\n",
              "7               Hope Corgi  ...       11\n",
              "\n",
              "[8 rows x 4 columns]"
            ]
          },
          "metadata": {
            "tags": []
          },
          "execution_count": 46
        }
      ]
    },
    {
      "cell_type": "code",
      "metadata": {
        "id": "3GZNcwjoGAaQ",
        "colab_type": "code",
        "outputId": "7d1685df-8d5a-4e2e-d6d7-5019c259b043",
        "colab": {
          "base_uri": "https://localhost:8080/",
          "height": 85
        }
      },
      "source": [
        "corgiFrame.loc[0]"
      ],
      "execution_count": 0,
      "outputs": [
        {
          "output_type": "execute_result",
          "data": {
            "text/plain": [
              "Unnamed: 0                              Holly\n",
              "Source                       Queen of England\n",
              "Is this Real or Not Real?                Real\n",
              "Name: 0, dtype: object"
            ]
          },
          "metadata": {
            "tags": []
          },
          "execution_count": 7
        }
      ]
    },
    {
      "cell_type": "code",
      "metadata": {
        "id": "xHTzUAyZGMxz",
        "colab_type": "code",
        "outputId": "b94845e7-7069-4f74-ade7-7755091f9d16",
        "colab": {
          "base_uri": "https://localhost:8080/",
          "height": 85
        }
      },
      "source": [
        "corgiFrame.iloc[0]"
      ],
      "execution_count": 0,
      "outputs": [
        {
          "output_type": "execute_result",
          "data": {
            "text/plain": [
              "Unnamed: 0                              Holly\n",
              "Source                       Queen of England\n",
              "Is this Real or Not Real?                Real\n",
              "Name: 0, dtype: object"
            ]
          },
          "metadata": {
            "tags": []
          },
          "execution_count": 9
        }
      ]
    },
    {
      "cell_type": "code",
      "metadata": {
        "id": "TJIColIoGOsH",
        "colab_type": "code",
        "outputId": "6ee3a46f-552f-4a62-c2c0-9b59de679807",
        "colab": {
          "base_uri": "https://localhost:8080/",
          "height": 85
        }
      },
      "source": [
        "corgiFrame.loc[1]"
      ],
      "execution_count": 0,
      "outputs": [
        {
          "output_type": "execute_result",
          "data": {
            "text/plain": [
              "Unnamed: 0                       Ralph\n",
              "Source                       Instagram\n",
              "Is this Real or Not Real?         Real\n",
              "Name: 1, dtype: object"
            ]
          },
          "metadata": {
            "tags": []
          },
          "execution_count": 10
        }
      ]
    },
    {
      "cell_type": "code",
      "metadata": {
        "id": "ia6VC9SsGSUk",
        "colab_type": "code",
        "outputId": "eb8bae44-23ba-4799-ece4-9c1c211e2e87",
        "colab": {
          "base_uri": "https://localhost:8080/",
          "height": 85
        }
      },
      "source": [
        "corgiFrame.iloc[1]"
      ],
      "execution_count": 0,
      "outputs": [
        {
          "output_type": "execute_result",
          "data": {
            "text/plain": [
              "Unnamed: 0                       Ralph\n",
              "Source                       Instagram\n",
              "Is this Real or Not Real?         Real\n",
              "Name: 1, dtype: object"
            ]
          },
          "metadata": {
            "tags": []
          },
          "execution_count": 11
        }
      ]
    },
    {
      "cell_type": "code",
      "metadata": {
        "id": "elKwzLshGT5B",
        "colab_type": "code",
        "outputId": "27360daf-9344-423e-f794-ff04d5eb07bc",
        "colab": {
          "base_uri": "https://localhost:8080/",
          "height": 204
        }
      },
      "source": [
        "corgiFrame.loc[:4]"
      ],
      "execution_count": 0,
      "outputs": [
        {
          "output_type": "execute_result",
          "data": {
            "text/html": [
              "<div>\n",
              "<style scoped>\n",
              "    .dataframe tbody tr th:only-of-type {\n",
              "        vertical-align: middle;\n",
              "    }\n",
              "\n",
              "    .dataframe tbody tr th {\n",
              "        vertical-align: top;\n",
              "    }\n",
              "\n",
              "    .dataframe thead th {\n",
              "        text-align: right;\n",
              "    }\n",
              "</style>\n",
              "<table border=\"1\" class=\"dataframe\">\n",
              "  <thead>\n",
              "    <tr style=\"text-align: right;\">\n",
              "      <th></th>\n",
              "      <th>Unnamed: 0</th>\n",
              "      <th>Source</th>\n",
              "      <th>Is this Real or Not Real?</th>\n",
              "    </tr>\n",
              "  </thead>\n",
              "  <tbody>\n",
              "    <tr>\n",
              "      <th>0</th>\n",
              "      <td>Holly</td>\n",
              "      <td>Queen of England</td>\n",
              "      <td>Real</td>\n",
              "    </tr>\n",
              "    <tr>\n",
              "      <th>1</th>\n",
              "      <td>Ralph</td>\n",
              "      <td>Instagram</td>\n",
              "      <td>Real</td>\n",
              "    </tr>\n",
              "    <tr>\n",
              "      <th>2</th>\n",
              "      <td>Molly (\"Thing of Evil\")</td>\n",
              "      <td>Stephen King</td>\n",
              "      <td>Real</td>\n",
              "    </tr>\n",
              "    <tr>\n",
              "      <th>3</th>\n",
              "      <td>Ein</td>\n",
              "      <td>Cowboy Bebop</td>\n",
              "      <td>Not Real</td>\n",
              "    </tr>\n",
              "    <tr>\n",
              "      <th>4</th>\n",
              "      <td>Loki</td>\n",
              "      <td>Instagram</td>\n",
              "      <td>Real</td>\n",
              "    </tr>\n",
              "  </tbody>\n",
              "</table>\n",
              "</div>"
            ],
            "text/plain": [
              "                Unnamed: 0            Source Is this Real or Not Real?\n",
              "0                    Holly  Queen of England                      Real\n",
              "1                    Ralph         Instagram                      Real\n",
              "2  Molly (\"Thing of Evil\")      Stephen King                      Real\n",
              "3                      Ein      Cowboy Bebop                  Not Real\n",
              "4                     Loki         Instagram                      Real"
            ]
          },
          "metadata": {
            "tags": []
          },
          "execution_count": 12
        }
      ]
    },
    {
      "cell_type": "code",
      "metadata": {
        "id": "wZB7t80AGZVk",
        "colab_type": "code",
        "outputId": "9d49efe6-71cf-4268-ceed-b641826e0e9e",
        "colab": {
          "base_uri": "https://localhost:8080/",
          "height": 173
        }
      },
      "source": [
        "corgiFrame.iloc[:4]"
      ],
      "execution_count": 0,
      "outputs": [
        {
          "output_type": "execute_result",
          "data": {
            "text/html": [
              "<div>\n",
              "<style scoped>\n",
              "    .dataframe tbody tr th:only-of-type {\n",
              "        vertical-align: middle;\n",
              "    }\n",
              "\n",
              "    .dataframe tbody tr th {\n",
              "        vertical-align: top;\n",
              "    }\n",
              "\n",
              "    .dataframe thead th {\n",
              "        text-align: right;\n",
              "    }\n",
              "</style>\n",
              "<table border=\"1\" class=\"dataframe\">\n",
              "  <thead>\n",
              "    <tr style=\"text-align: right;\">\n",
              "      <th></th>\n",
              "      <th>Unnamed: 0</th>\n",
              "      <th>Source</th>\n",
              "      <th>Is this Real or Not Real?</th>\n",
              "    </tr>\n",
              "  </thead>\n",
              "  <tbody>\n",
              "    <tr>\n",
              "      <th>0</th>\n",
              "      <td>Holly</td>\n",
              "      <td>Queen of England</td>\n",
              "      <td>Real</td>\n",
              "    </tr>\n",
              "    <tr>\n",
              "      <th>1</th>\n",
              "      <td>Ralph</td>\n",
              "      <td>Instagram</td>\n",
              "      <td>Real</td>\n",
              "    </tr>\n",
              "    <tr>\n",
              "      <th>2</th>\n",
              "      <td>Molly (\"Thing of Evil\")</td>\n",
              "      <td>Stephen King</td>\n",
              "      <td>Real</td>\n",
              "    </tr>\n",
              "    <tr>\n",
              "      <th>3</th>\n",
              "      <td>Ein</td>\n",
              "      <td>Cowboy Bebop</td>\n",
              "      <td>Not Real</td>\n",
              "    </tr>\n",
              "  </tbody>\n",
              "</table>\n",
              "</div>"
            ],
            "text/plain": [
              "                Unnamed: 0            Source Is this Real or Not Real?\n",
              "0                    Holly  Queen of England                      Real\n",
              "1                    Ralph         Instagram                      Real\n",
              "2  Molly (\"Thing of Evil\")      Stephen King                      Real\n",
              "3                      Ein      Cowboy Bebop                  Not Real"
            ]
          },
          "metadata": {
            "tags": []
          },
          "execution_count": 13
        }
      ]
    },
    {
      "cell_type": "markdown",
      "metadata": {
        "id": "lo0lFlecGenn",
        "colab_type": "text"
      },
      "source": [
        "(why in the world would the inclusivity of the slice be different between .loc and .iloc?)"
      ]
    },
    {
      "cell_type": "code",
      "metadata": {
        "id": "o2fMYZjZGbKs",
        "colab_type": "code",
        "outputId": "4ac0ed6c-1fdf-469c-d1ad-afad45dbad23",
        "colab": {
          "base_uri": "https://localhost:8080/",
          "height": 297
        }
      },
      "source": [
        "corgiIndexed = pd.read_csv('corgi_test_data.csv', index_col=0)\n",
        "\n",
        "corgiIndexed"
      ],
      "execution_count": 62,
      "outputs": [
        {
          "output_type": "execute_result",
          "data": {
            "text/html": [
              "<div>\n",
              "<style scoped>\n",
              "    .dataframe tbody tr th:only-of-type {\n",
              "        vertical-align: middle;\n",
              "    }\n",
              "\n",
              "    .dataframe tbody tr th {\n",
              "        vertical-align: top;\n",
              "    }\n",
              "\n",
              "    .dataframe thead th {\n",
              "        text-align: right;\n",
              "    }\n",
              "</style>\n",
              "<table border=\"1\" class=\"dataframe\">\n",
              "  <thead>\n",
              "    <tr style=\"text-align: right;\">\n",
              "      <th></th>\n",
              "      <th>Source</th>\n",
              "      <th>Is this Real or Not Real?</th>\n",
              "      <th>Cuteness</th>\n",
              "    </tr>\n",
              "  </thead>\n",
              "  <tbody>\n",
              "    <tr>\n",
              "      <th>Holly</th>\n",
              "      <td>Queen of England</td>\n",
              "      <td>Real</td>\n",
              "      <td>7</td>\n",
              "    </tr>\n",
              "    <tr>\n",
              "      <th>Ralph</th>\n",
              "      <td>Instagram</td>\n",
              "      <td>Real</td>\n",
              "      <td>7</td>\n",
              "    </tr>\n",
              "    <tr>\n",
              "      <th>Molly (\"Thing of Evil\")</th>\n",
              "      <td>Stephen King</td>\n",
              "      <td>Real</td>\n",
              "      <td>9</td>\n",
              "    </tr>\n",
              "    <tr>\n",
              "      <th>Ein</th>\n",
              "      <td>Cowboy Bebop</td>\n",
              "      <td>Not Real</td>\n",
              "      <td>11</td>\n",
              "    </tr>\n",
              "    <tr>\n",
              "      <th>Loki</th>\n",
              "      <td>Instagram</td>\n",
              "      <td>Real</td>\n",
              "      <td>8</td>\n",
              "    </tr>\n",
              "    <tr>\n",
              "      <th>Rufus</th>\n",
              "      <td>Amazon.com</td>\n",
              "      <td>Real</td>\n",
              "      <td>9</td>\n",
              "    </tr>\n",
              "    <tr>\n",
              "      <th>Sutter Brown</th>\n",
              "      <td>Jerry Brown (gov of Cali)</td>\n",
              "      <td>Real</td>\n",
              "      <td>8</td>\n",
              "    </tr>\n",
              "    <tr>\n",
              "      <th>Hope Corgi</th>\n",
              "      <td>DC Comics</td>\n",
              "      <td>Not Real</td>\n",
              "      <td>11</td>\n",
              "    </tr>\n",
              "  </tbody>\n",
              "</table>\n",
              "</div>"
            ],
            "text/plain": [
              "                                            Source  ... Cuteness\n",
              "Holly                             Queen of England  ...        7\n",
              "Ralph                                    Instagram  ...        7\n",
              "Molly (\"Thing of Evil\")               Stephen King  ...        9\n",
              "Ein                                   Cowboy Bebop  ...       11\n",
              "Loki                                     Instagram  ...        8\n",
              "Rufus                                   Amazon.com  ...        9\n",
              "Sutter Brown             Jerry Brown (gov of Cali)  ...        8\n",
              "Hope Corgi                               DC Comics  ...       11\n",
              "\n",
              "[8 rows x 3 columns]"
            ]
          },
          "metadata": {
            "tags": []
          },
          "execution_count": 62
        }
      ]
    },
    {
      "cell_type": "code",
      "metadata": {
        "id": "URfCx6U8GtOK",
        "colab_type": "code",
        "outputId": "5ef6797b-54bb-46eb-fa92-8e1e98baea9b",
        "colab": {
          "base_uri": "https://localhost:8080/",
          "height": 68
        }
      },
      "source": [
        "corgiIndexed.loc['Ralph']"
      ],
      "execution_count": 0,
      "outputs": [
        {
          "output_type": "execute_result",
          "data": {
            "text/plain": [
              "Source                       Instagram\n",
              "Is this Real or Not Real?         Real\n",
              "Name: Ralph, dtype: object"
            ]
          },
          "metadata": {
            "tags": []
          },
          "execution_count": 17
        }
      ]
    },
    {
      "cell_type": "code",
      "metadata": {
        "id": "Rmi8M98SG12E",
        "colab_type": "code",
        "outputId": "5950b445-04b6-4ec7-a78c-4b453a99acd9",
        "colab": {
          "base_uri": "https://localhost:8080/",
          "height": 68
        }
      },
      "source": [
        "corgiIndexed.iloc[1]"
      ],
      "execution_count": 0,
      "outputs": [
        {
          "output_type": "execute_result",
          "data": {
            "text/plain": [
              "Source                       Instagram\n",
              "Is this Real or Not Real?         Real\n",
              "Name: Ralph, dtype: object"
            ]
          },
          "metadata": {
            "tags": []
          },
          "execution_count": 18
        }
      ]
    },
    {
      "cell_type": "code",
      "metadata": {
        "id": "bmDR9Mq9G6TU",
        "colab_type": "code",
        "outputId": "a2cda6f0-3e04-42b3-d0c4-59450a629e29",
        "colab": {
          "base_uri": "https://localhost:8080/",
          "height": 204
        }
      },
      "source": [
        "corgiIndexed.loc[:'Loki']"
      ],
      "execution_count": 0,
      "outputs": [
        {
          "output_type": "execute_result",
          "data": {
            "text/html": [
              "<div>\n",
              "<style scoped>\n",
              "    .dataframe tbody tr th:only-of-type {\n",
              "        vertical-align: middle;\n",
              "    }\n",
              "\n",
              "    .dataframe tbody tr th {\n",
              "        vertical-align: top;\n",
              "    }\n",
              "\n",
              "    .dataframe thead th {\n",
              "        text-align: right;\n",
              "    }\n",
              "</style>\n",
              "<table border=\"1\" class=\"dataframe\">\n",
              "  <thead>\n",
              "    <tr style=\"text-align: right;\">\n",
              "      <th></th>\n",
              "      <th>Source</th>\n",
              "      <th>Is this Real or Not Real?</th>\n",
              "    </tr>\n",
              "  </thead>\n",
              "  <tbody>\n",
              "    <tr>\n",
              "      <th>Holly</th>\n",
              "      <td>Queen of England</td>\n",
              "      <td>Real</td>\n",
              "    </tr>\n",
              "    <tr>\n",
              "      <th>Ralph</th>\n",
              "      <td>Instagram</td>\n",
              "      <td>Real</td>\n",
              "    </tr>\n",
              "    <tr>\n",
              "      <th>Molly (\"Thing of Evil\")</th>\n",
              "      <td>Stephen King</td>\n",
              "      <td>Real</td>\n",
              "    </tr>\n",
              "    <tr>\n",
              "      <th>Ein</th>\n",
              "      <td>Cowboy Bebop</td>\n",
              "      <td>Not Real</td>\n",
              "    </tr>\n",
              "    <tr>\n",
              "      <th>Loki</th>\n",
              "      <td>Instagram</td>\n",
              "      <td>Real</td>\n",
              "    </tr>\n",
              "  </tbody>\n",
              "</table>\n",
              "</div>"
            ],
            "text/plain": [
              "                                   Source Is this Real or Not Real?\n",
              "Holly                    Queen of England                      Real\n",
              "Ralph                           Instagram                      Real\n",
              "Molly (\"Thing of Evil\")      Stephen King                      Real\n",
              "Ein                          Cowboy Bebop                  Not Real\n",
              "Loki                            Instagram                      Real"
            ]
          },
          "metadata": {
            "tags": []
          },
          "execution_count": 20
        }
      ]
    },
    {
      "cell_type": "code",
      "metadata": {
        "id": "O2uCyoljG-bI",
        "colab_type": "code",
        "outputId": "56716803-469d-4961-d6a7-76e84ff2add5",
        "colab": {
          "base_uri": "https://localhost:8080/",
          "height": 173
        }
      },
      "source": [
        "corgiIndexed.iloc[:4]"
      ],
      "execution_count": 0,
      "outputs": [
        {
          "output_type": "execute_result",
          "data": {
            "text/html": [
              "<div>\n",
              "<style scoped>\n",
              "    .dataframe tbody tr th:only-of-type {\n",
              "        vertical-align: middle;\n",
              "    }\n",
              "\n",
              "    .dataframe tbody tr th {\n",
              "        vertical-align: top;\n",
              "    }\n",
              "\n",
              "    .dataframe thead th {\n",
              "        text-align: right;\n",
              "    }\n",
              "</style>\n",
              "<table border=\"1\" class=\"dataframe\">\n",
              "  <thead>\n",
              "    <tr style=\"text-align: right;\">\n",
              "      <th></th>\n",
              "      <th>Source</th>\n",
              "      <th>Is this Real or Not Real?</th>\n",
              "    </tr>\n",
              "  </thead>\n",
              "  <tbody>\n",
              "    <tr>\n",
              "      <th>Holly</th>\n",
              "      <td>Queen of England</td>\n",
              "      <td>Real</td>\n",
              "    </tr>\n",
              "    <tr>\n",
              "      <th>Ralph</th>\n",
              "      <td>Instagram</td>\n",
              "      <td>Real</td>\n",
              "    </tr>\n",
              "    <tr>\n",
              "      <th>Molly (\"Thing of Evil\")</th>\n",
              "      <td>Stephen King</td>\n",
              "      <td>Real</td>\n",
              "    </tr>\n",
              "    <tr>\n",
              "      <th>Ein</th>\n",
              "      <td>Cowboy Bebop</td>\n",
              "      <td>Not Real</td>\n",
              "    </tr>\n",
              "  </tbody>\n",
              "</table>\n",
              "</div>"
            ],
            "text/plain": [
              "                                   Source Is this Real or Not Real?\n",
              "Holly                    Queen of England                      Real\n",
              "Ralph                           Instagram                      Real\n",
              "Molly (\"Thing of Evil\")      Stephen King                      Real\n",
              "Ein                          Cowboy Bebop                  Not Real"
            ]
          },
          "metadata": {
            "tags": []
          },
          "execution_count": 21
        }
      ]
    },
    {
      "cell_type": "code",
      "metadata": {
        "id": "Aabp2MbjHD4l",
        "colab_type": "code",
        "outputId": "c4829c5d-dc75-487a-a7ef-8deb28bffe9f",
        "colab": {
          "base_uri": "https://localhost:8080/",
          "height": 68
        }
      },
      "source": [
        "corgiIndexed.loc['Loki']"
      ],
      "execution_count": 0,
      "outputs": [
        {
          "output_type": "execute_result",
          "data": {
            "text/plain": [
              "Source                       Instagram\n",
              "Is this Real or Not Real?         Real\n",
              "Name: Loki, dtype: object"
            ]
          },
          "metadata": {
            "tags": []
          },
          "execution_count": 22
        }
      ]
    },
    {
      "cell_type": "code",
      "metadata": {
        "id": "3w7hacFEHHe8",
        "colab_type": "code",
        "outputId": "59d2b9ed-76f0-4d9c-f771-f68f8e461e8b",
        "colab": {
          "base_uri": "https://localhost:8080/",
          "height": 34
        }
      },
      "source": [
        "corgiIndexed.index.get_loc('Loki')"
      ],
      "execution_count": 0,
      "outputs": [
        {
          "output_type": "execute_result",
          "data": {
            "text/plain": [
              "4"
            ]
          },
          "metadata": {
            "tags": []
          },
          "execution_count": 28
        }
      ]
    },
    {
      "cell_type": "markdown",
      "metadata": {
        "id": "Y3DgR5NbVZXb",
        "colab_type": "text"
      },
      "source": [
        "Select data using a where clause (and refine code style)"
      ]
    },
    {
      "cell_type": "code",
      "metadata": {
        "id": "uoafmeDFHWjq",
        "colab_type": "code",
        "outputId": "98583fce-30bf-4cde-b125-c505f9d36c62",
        "colab": {
          "base_uri": "https://localhost:8080/",
          "height": 235
        }
      },
      "source": [
        "corgiIndexed.loc[corgiIndexed['Is this Real or Not Real?'] == 'Real']"
      ],
      "execution_count": 0,
      "outputs": [
        {
          "output_type": "execute_result",
          "data": {
            "text/html": [
              "<div>\n",
              "<style scoped>\n",
              "    .dataframe tbody tr th:only-of-type {\n",
              "        vertical-align: middle;\n",
              "    }\n",
              "\n",
              "    .dataframe tbody tr th {\n",
              "        vertical-align: top;\n",
              "    }\n",
              "\n",
              "    .dataframe thead th {\n",
              "        text-align: right;\n",
              "    }\n",
              "</style>\n",
              "<table border=\"1\" class=\"dataframe\">\n",
              "  <thead>\n",
              "    <tr style=\"text-align: right;\">\n",
              "      <th></th>\n",
              "      <th>Source</th>\n",
              "      <th>Is this Real or Not Real?</th>\n",
              "    </tr>\n",
              "  </thead>\n",
              "  <tbody>\n",
              "    <tr>\n",
              "      <th>Holly</th>\n",
              "      <td>Queen of England</td>\n",
              "      <td>Real</td>\n",
              "    </tr>\n",
              "    <tr>\n",
              "      <th>Ralph</th>\n",
              "      <td>Instagram</td>\n",
              "      <td>Real</td>\n",
              "    </tr>\n",
              "    <tr>\n",
              "      <th>Molly (\"Thing of Evil\")</th>\n",
              "      <td>Stephen King</td>\n",
              "      <td>Real</td>\n",
              "    </tr>\n",
              "    <tr>\n",
              "      <th>Loki</th>\n",
              "      <td>Instagram</td>\n",
              "      <td>Real</td>\n",
              "    </tr>\n",
              "    <tr>\n",
              "      <th>Rufus</th>\n",
              "      <td>Amazon.com</td>\n",
              "      <td>Real</td>\n",
              "    </tr>\n",
              "    <tr>\n",
              "      <th>Sutter Brown</th>\n",
              "      <td>Jerry Brown (gov of Cali)</td>\n",
              "      <td>Real</td>\n",
              "    </tr>\n",
              "  </tbody>\n",
              "</table>\n",
              "</div>"
            ],
            "text/plain": [
              "                                            Source Is this Real or Not Real?\n",
              "Holly                             Queen of England                      Real\n",
              "Ralph                                    Instagram                      Real\n",
              "Molly (\"Thing of Evil\")               Stephen King                      Real\n",
              "Loki                                     Instagram                      Real\n",
              "Rufus                                   Amazon.com                      Real\n",
              "Sutter Brown             Jerry Brown (gov of Cali)                      Real"
            ]
          },
          "metadata": {
            "tags": []
          },
          "execution_count": 30
        }
      ]
    },
    {
      "cell_type": "code",
      "metadata": {
        "id": "LwOmngAXJT7u",
        "colab_type": "code",
        "outputId": "b02d66d9-0c06-4c5b-efda-9409509a718d",
        "colab": {
          "base_uri": "https://localhost:8080/",
          "height": 80
        }
      },
      "source": [
        "where_clause = corgiIndexed['Is this Real or Not Real?'] == 'Not Real'\n",
        "\n",
        "corgiIndexed.loc[where_clause]"
      ],
      "execution_count": 0,
      "outputs": [
        {
          "output_type": "execute_result",
          "data": {
            "text/html": [
              "<div>\n",
              "<style scoped>\n",
              "    .dataframe tbody tr th:only-of-type {\n",
              "        vertical-align: middle;\n",
              "    }\n",
              "\n",
              "    .dataframe tbody tr th {\n",
              "        vertical-align: top;\n",
              "    }\n",
              "\n",
              "    .dataframe thead th {\n",
              "        text-align: right;\n",
              "    }\n",
              "</style>\n",
              "<table border=\"1\" class=\"dataframe\">\n",
              "  <thead>\n",
              "    <tr style=\"text-align: right;\">\n",
              "      <th></th>\n",
              "      <th>Source</th>\n",
              "      <th>Is this Real or Not Real?</th>\n",
              "    </tr>\n",
              "  </thead>\n",
              "  <tbody>\n",
              "    <tr>\n",
              "      <th>Ein</th>\n",
              "      <td>Cowboy Bebop</td>\n",
              "      <td>Not Real</td>\n",
              "    </tr>\n",
              "  </tbody>\n",
              "</table>\n",
              "</div>"
            ],
            "text/plain": [
              "           Source Is this Real or Not Real?\n",
              "Ein  Cowboy Bebop                  Not Real"
            ]
          },
          "metadata": {
            "tags": []
          },
          "execution_count": 31
        }
      ]
    },
    {
      "cell_type": "code",
      "metadata": {
        "id": "iFjJGmp1Jkg0",
        "colab_type": "code",
        "outputId": "391241b9-aa0f-4c50-d646-00a16469ff0f",
        "colab": {
          "base_uri": "https://localhost:8080/",
          "height": 111
        }
      },
      "source": [
        "def to_filter(frame, column, is_equal_to):\n",
        "  data_to_filter = frame[column]\n",
        "  clause = data_to_filter == is_equal_to\n",
        "  return (clause);\n",
        "\n",
        "where_instagram = to_filter(corgiIndexed, 'Source', 'Instagram')\n",
        "\n",
        "\n",
        "corgiIndexed.loc[where_instagram]"
      ],
      "execution_count": 0,
      "outputs": [
        {
          "output_type": "execute_result",
          "data": {
            "text/html": [
              "<div>\n",
              "<style scoped>\n",
              "    .dataframe tbody tr th:only-of-type {\n",
              "        vertical-align: middle;\n",
              "    }\n",
              "\n",
              "    .dataframe tbody tr th {\n",
              "        vertical-align: top;\n",
              "    }\n",
              "\n",
              "    .dataframe thead th {\n",
              "        text-align: right;\n",
              "    }\n",
              "</style>\n",
              "<table border=\"1\" class=\"dataframe\">\n",
              "  <thead>\n",
              "    <tr style=\"text-align: right;\">\n",
              "      <th></th>\n",
              "      <th>Source</th>\n",
              "      <th>Is this Real or Not Real?</th>\n",
              "    </tr>\n",
              "  </thead>\n",
              "  <tbody>\n",
              "    <tr>\n",
              "      <th>Ralph</th>\n",
              "      <td>Instagram</td>\n",
              "      <td>Real</td>\n",
              "    </tr>\n",
              "    <tr>\n",
              "      <th>Loki</th>\n",
              "      <td>Instagram</td>\n",
              "      <td>Real</td>\n",
              "    </tr>\n",
              "  </tbody>\n",
              "</table>\n",
              "</div>"
            ],
            "text/plain": [
              "          Source Is this Real or Not Real?\n",
              "Ralph  Instagram                      Real\n",
              "Loki   Instagram                      Real"
            ]
          },
          "metadata": {
            "tags": []
          },
          "execution_count": 40
        }
      ]
    },
    {
      "cell_type": "code",
      "metadata": {
        "id": "WYUGJppAKSPL",
        "colab_type": "code",
        "outputId": "edd3c018-cc83-4281-da41-18e5b84609d5",
        "colab": {
          "base_uri": "https://localhost:8080/",
          "height": 235
        }
      },
      "source": [
        "def get_equals(frame, column, is_equal_to):\n",
        "  source_column = frame[column]\n",
        "  clause = source_column == is_equal_to\n",
        "  matching_data = frame.loc[clause]\n",
        "  \n",
        "  return matching_data\n",
        "\n",
        "real_corgis = get_equals(corgiIndexed, 'Is this Real or Not Real?', 'Real')\n",
        "\n",
        "real_corgis"
      ],
      "execution_count": 0,
      "outputs": [
        {
          "output_type": "execute_result",
          "data": {
            "text/html": [
              "<div>\n",
              "<style scoped>\n",
              "    .dataframe tbody tr th:only-of-type {\n",
              "        vertical-align: middle;\n",
              "    }\n",
              "\n",
              "    .dataframe tbody tr th {\n",
              "        vertical-align: top;\n",
              "    }\n",
              "\n",
              "    .dataframe thead th {\n",
              "        text-align: right;\n",
              "    }\n",
              "</style>\n",
              "<table border=\"1\" class=\"dataframe\">\n",
              "  <thead>\n",
              "    <tr style=\"text-align: right;\">\n",
              "      <th></th>\n",
              "      <th>Source</th>\n",
              "      <th>Is this Real or Not Real?</th>\n",
              "    </tr>\n",
              "  </thead>\n",
              "  <tbody>\n",
              "    <tr>\n",
              "      <th>Holly</th>\n",
              "      <td>Queen of England</td>\n",
              "      <td>Real</td>\n",
              "    </tr>\n",
              "    <tr>\n",
              "      <th>Ralph</th>\n",
              "      <td>Instagram</td>\n",
              "      <td>Real</td>\n",
              "    </tr>\n",
              "    <tr>\n",
              "      <th>Molly (\"Thing of Evil\")</th>\n",
              "      <td>Stephen King</td>\n",
              "      <td>Real</td>\n",
              "    </tr>\n",
              "    <tr>\n",
              "      <th>Loki</th>\n",
              "      <td>Instagram</td>\n",
              "      <td>Real</td>\n",
              "    </tr>\n",
              "    <tr>\n",
              "      <th>Rufus</th>\n",
              "      <td>Amazon.com</td>\n",
              "      <td>Real</td>\n",
              "    </tr>\n",
              "    <tr>\n",
              "      <th>Sutter Brown</th>\n",
              "      <td>Jerry Brown (gov of Cali)</td>\n",
              "      <td>Real</td>\n",
              "    </tr>\n",
              "  </tbody>\n",
              "</table>\n",
              "</div>"
            ],
            "text/plain": [
              "                                            Source Is this Real or Not Real?\n",
              "Holly                             Queen of England                      Real\n",
              "Ralph                                    Instagram                      Real\n",
              "Molly (\"Thing of Evil\")               Stephen King                      Real\n",
              "Loki                                     Instagram                      Real\n",
              "Rufus                                   Amazon.com                      Real\n",
              "Sutter Brown             Jerry Brown (gov of Cali)                      Real"
            ]
          },
          "metadata": {
            "tags": []
          },
          "execution_count": 36
        }
      ]
    },
    {
      "cell_type": "code",
      "metadata": {
        "id": "_7hLkyuTcqgU",
        "colab_type": "code",
        "outputId": "524044f0-24b2-4bfa-d64f-58e881cb0dc1",
        "colab": {
          "base_uri": "https://localhost:8080/",
          "height": 80
        }
      },
      "source": [
        "royal_corgis = get_equals(corgiIndexed, 'Source', 'Queen of England')\n",
        "royal_corgis"
      ],
      "execution_count": 0,
      "outputs": [
        {
          "output_type": "execute_result",
          "data": {
            "text/html": [
              "<div>\n",
              "<style scoped>\n",
              "    .dataframe tbody tr th:only-of-type {\n",
              "        vertical-align: middle;\n",
              "    }\n",
              "\n",
              "    .dataframe tbody tr th {\n",
              "        vertical-align: top;\n",
              "    }\n",
              "\n",
              "    .dataframe thead th {\n",
              "        text-align: right;\n",
              "    }\n",
              "</style>\n",
              "<table border=\"1\" class=\"dataframe\">\n",
              "  <thead>\n",
              "    <tr style=\"text-align: right;\">\n",
              "      <th></th>\n",
              "      <th>Source</th>\n",
              "      <th>Is this Real or Not Real?</th>\n",
              "    </tr>\n",
              "  </thead>\n",
              "  <tbody>\n",
              "    <tr>\n",
              "      <th>Holly</th>\n",
              "      <td>Queen of England</td>\n",
              "      <td>Real</td>\n",
              "    </tr>\n",
              "  </tbody>\n",
              "</table>\n",
              "</div>"
            ],
            "text/plain": [
              "                 Source Is this Real or Not Real?\n",
              "Holly  Queen of England                      Real"
            ]
          },
          "metadata": {
            "tags": []
          },
          "execution_count": 38
        }
      ]
    },
    {
      "cell_type": "code",
      "metadata": {
        "id": "uxhnFEXUdFu-",
        "colab_type": "code",
        "outputId": "c1d75169-efe0-481c-b8c9-ff7c01e912b0",
        "colab": {
          "base_uri": "https://localhost:8080/",
          "height": 68
        }
      },
      "source": [
        "best_corgis = corgiIndexed.loc['Ein']\n",
        "best_corgis"
      ],
      "execution_count": 0,
      "outputs": [
        {
          "output_type": "execute_result",
          "data": {
            "text/plain": [
              "Source                       Cowboy Bebop\n",
              "Is this Real or Not Real?        Not Real\n",
              "Name: Ein, dtype: object"
            ]
          },
          "metadata": {
            "tags": []
          },
          "execution_count": 39
        }
      ]
    },
    {
      "cell_type": "markdown",
      "metadata": {
        "id": "fsEgYtvtMMFq",
        "colab_type": "text"
      },
      "source": [
        "Multi Indexing!!!\n",
        "\n",
        "I'm gonna learn to nest tables. \n",
        "Using this datacamp tutorial: https://www.datacamp.com/community/tutorials/pandas-multi-index\n",
        "\n",
        "Files are included in my 'Notebook-Noodlings/files' folder, but the example data was originally from https://github.com/datacamp/community-hierarchical-indices "
      ]
    },
    {
      "cell_type": "markdown",
      "metadata": {
        "id": "pXQFacpsNz2D",
        "colab_type": "text"
      },
      "source": [
        "First, we practice with the basics of an index. This example table uses a <i>RangeIndex</i>, which can be used to access individual rows of the table."
      ]
    },
    {
      "cell_type": "code",
      "metadata": {
        "id": "h7eggZPLNw37",
        "colab_type": "code",
        "outputId": "1f3ae2cd-441f-4bb0-93f4-2167883b9cb5",
        "colab": {
          "base_uri": "https://localhost:8080/",
          "height": 142
        }
      },
      "source": [
        "#datacamp dataframe\n",
        "dcf = pd.read_csv('user_ex_python.csv')\n",
        "dcf"
      ],
      "execution_count": 0,
      "outputs": [
        {
          "output_type": "execute_result",
          "data": {
            "text/html": [
              "<div>\n",
              "<style scoped>\n",
              "    .dataframe tbody tr th:only-of-type {\n",
              "        vertical-align: middle;\n",
              "    }\n",
              "\n",
              "    .dataframe tbody tr th {\n",
              "        vertical-align: top;\n",
              "    }\n",
              "\n",
              "    .dataframe thead th {\n",
              "        text-align: right;\n",
              "    }\n",
              "</style>\n",
              "<table border=\"1\" class=\"dataframe\">\n",
              "  <thead>\n",
              "    <tr style=\"text-align: right;\">\n",
              "      <th></th>\n",
              "      <th>date</th>\n",
              "      <th>language</th>\n",
              "      <th>ex_complete</th>\n",
              "    </tr>\n",
              "  </thead>\n",
              "  <tbody>\n",
              "    <tr>\n",
              "      <th>0</th>\n",
              "      <td>2017-01-01</td>\n",
              "      <td>python</td>\n",
              "      <td>6</td>\n",
              "    </tr>\n",
              "    <tr>\n",
              "      <th>1</th>\n",
              "      <td>2017-01-02</td>\n",
              "      <td>python</td>\n",
              "      <td>5</td>\n",
              "    </tr>\n",
              "    <tr>\n",
              "      <th>2</th>\n",
              "      <td>2017-01-03</td>\n",
              "      <td>python</td>\n",
              "      <td>10</td>\n",
              "    </tr>\n",
              "  </tbody>\n",
              "</table>\n",
              "</div>"
            ],
            "text/plain": [
              "         date language  ex_complete\n",
              "0  2017-01-01   python            6\n",
              "1  2017-01-02   python            5\n",
              "2  2017-01-03   python           10"
            ]
          },
          "metadata": {
            "tags": []
          },
          "execution_count": 4
        }
      ]
    },
    {
      "cell_type": "code",
      "metadata": {
        "id": "tTalIW-aOMOR",
        "colab_type": "code",
        "outputId": "0c99d3e3-c643-4bfd-d2f6-b857a356a910",
        "colab": {
          "base_uri": "https://localhost:8080/",
          "height": 34
        }
      },
      "source": [
        "dcf.index"
      ],
      "execution_count": 0,
      "outputs": [
        {
          "output_type": "execute_result",
          "data": {
            "text/plain": [
              "RangeIndex(start=0, stop=3, step=1)"
            ]
          },
          "metadata": {
            "tags": []
          },
          "execution_count": 5
        }
      ]
    },
    {
      "cell_type": "code",
      "metadata": {
        "id": "p-7Sb6mlOiZ6",
        "colab_type": "code",
        "outputId": "4ff77cef-ec73-4703-b95d-ef285390b3da",
        "colab": {
          "base_uri": "https://localhost:8080/",
          "height": 111
        }
      },
      "source": [
        "dcf.loc[:1]"
      ],
      "execution_count": 0,
      "outputs": [
        {
          "output_type": "execute_result",
          "data": {
            "text/html": [
              "<div>\n",
              "<style scoped>\n",
              "    .dataframe tbody tr th:only-of-type {\n",
              "        vertical-align: middle;\n",
              "    }\n",
              "\n",
              "    .dataframe tbody tr th {\n",
              "        vertical-align: top;\n",
              "    }\n",
              "\n",
              "    .dataframe thead th {\n",
              "        text-align: right;\n",
              "    }\n",
              "</style>\n",
              "<table border=\"1\" class=\"dataframe\">\n",
              "  <thead>\n",
              "    <tr style=\"text-align: right;\">\n",
              "      <th></th>\n",
              "      <th>date</th>\n",
              "      <th>language</th>\n",
              "      <th>ex_complete</th>\n",
              "    </tr>\n",
              "  </thead>\n",
              "  <tbody>\n",
              "    <tr>\n",
              "      <th>0</th>\n",
              "      <td>2017-01-01</td>\n",
              "      <td>python</td>\n",
              "      <td>6</td>\n",
              "    </tr>\n",
              "    <tr>\n",
              "      <th>1</th>\n",
              "      <td>2017-01-02</td>\n",
              "      <td>python</td>\n",
              "      <td>5</td>\n",
              "    </tr>\n",
              "  </tbody>\n",
              "</table>\n",
              "</div>"
            ],
            "text/plain": [
              "         date language  ex_complete\n",
              "0  2017-01-01   python            6\n",
              "1  2017-01-02   python            5"
            ]
          },
          "metadata": {
            "tags": []
          },
          "execution_count": 6
        }
      ]
    },
    {
      "cell_type": "markdown",
      "metadata": {
        "id": "CRHeLfYIOxQS",
        "colab_type": "text"
      },
      "source": [
        "This index is unique, but not meaninful. In this case, the 'date' column contains unique information, and can be used as a key (not always though!!)."
      ]
    },
    {
      "cell_type": "markdown",
      "metadata": {
        "id": "N9pSbtxtPGa7",
        "colab_type": "text"
      },
      "source": [
        "<p>Calling this with <i>pd.DatetimeIndex</i> changes the index type. </p>\n",
        "<p><i>inplace</i> means modify the existing object; don't create a copy.</p>\n"
      ]
    },
    {
      "cell_type": "code",
      "metadata": {
        "id": "OzqUeV3FOr_d",
        "colab_type": "code",
        "outputId": "fb75bd76-d85e-4b5f-d2d5-de23bfbc74b1",
        "colab": {
          "base_uri": "https://localhost:8080/",
          "height": 173
        }
      },
      "source": [
        "dcf.set_index(pd.DatetimeIndex(dcf['date']), inplace=True)\n",
        "dcf"
      ],
      "execution_count": 0,
      "outputs": [
        {
          "output_type": "execute_result",
          "data": {
            "text/html": [
              "<div>\n",
              "<style scoped>\n",
              "    .dataframe tbody tr th:only-of-type {\n",
              "        vertical-align: middle;\n",
              "    }\n",
              "\n",
              "    .dataframe tbody tr th {\n",
              "        vertical-align: top;\n",
              "    }\n",
              "\n",
              "    .dataframe thead th {\n",
              "        text-align: right;\n",
              "    }\n",
              "</style>\n",
              "<table border=\"1\" class=\"dataframe\">\n",
              "  <thead>\n",
              "    <tr style=\"text-align: right;\">\n",
              "      <th></th>\n",
              "      <th>date</th>\n",
              "      <th>language</th>\n",
              "      <th>ex_complete</th>\n",
              "    </tr>\n",
              "    <tr>\n",
              "      <th>date</th>\n",
              "      <th></th>\n",
              "      <th></th>\n",
              "      <th></th>\n",
              "    </tr>\n",
              "  </thead>\n",
              "  <tbody>\n",
              "    <tr>\n",
              "      <th>2017-01-01</th>\n",
              "      <td>2017-01-01</td>\n",
              "      <td>python</td>\n",
              "      <td>6</td>\n",
              "    </tr>\n",
              "    <tr>\n",
              "      <th>2017-01-02</th>\n",
              "      <td>2017-01-02</td>\n",
              "      <td>python</td>\n",
              "      <td>5</td>\n",
              "    </tr>\n",
              "    <tr>\n",
              "      <th>2017-01-03</th>\n",
              "      <td>2017-01-03</td>\n",
              "      <td>python</td>\n",
              "      <td>10</td>\n",
              "    </tr>\n",
              "  </tbody>\n",
              "</table>\n",
              "</div>"
            ],
            "text/plain": [
              "                  date language  ex_complete\n",
              "date                                        \n",
              "2017-01-01  2017-01-01   python            6\n",
              "2017-01-02  2017-01-02   python            5\n",
              "2017-01-03  2017-01-03   python           10"
            ]
          },
          "metadata": {
            "tags": []
          },
          "execution_count": 17
        }
      ]
    },
    {
      "cell_type": "code",
      "metadata": {
        "id": "YvwPuLfnPDWr",
        "colab_type": "code",
        "outputId": "852057bc-8a66-41a6-92de-9cf0ac9bd669",
        "colab": {
          "base_uri": "https://localhost:8080/",
          "height": 54
        }
      },
      "source": [
        "dcf.index"
      ],
      "execution_count": 0,
      "outputs": [
        {
          "output_type": "execute_result",
          "data": {
            "text/plain": [
              "DatetimeIndex(['2017-01-01', '2017-01-02', '2017-01-03'], dtype='datetime64[ns]', name='date', freq=None)"
            ]
          },
          "metadata": {
            "tags": []
          },
          "execution_count": 9
        }
      ]
    },
    {
      "cell_type": "code",
      "metadata": {
        "id": "WDd7l8bNPeaq",
        "colab_type": "code",
        "outputId": "15321a36-fddc-41e9-a03a-640a778e6011",
        "colab": {
          "base_uri": "https://localhost:8080/",
          "height": 85
        }
      },
      "source": [
        "dcf.loc['2017-01-02']"
      ],
      "execution_count": 0,
      "outputs": [
        {
          "output_type": "execute_result",
          "data": {
            "text/plain": [
              "date           2017-01-02\n",
              "language           python\n",
              "ex_complete             5\n",
              "Name: 2017-01-02 00:00:00, dtype: object"
            ]
          },
          "metadata": {
            "tags": []
          },
          "execution_count": 10
        }
      ]
    },
    {
      "cell_type": "code",
      "metadata": {
        "id": "5g4tAzBxP71F",
        "colab_type": "code",
        "outputId": "4789822a-16fd-456e-8ad2-f40f92d0b3e4",
        "colab": {
          "base_uri": "https://localhost:8080/",
          "height": 34
        }
      },
      "source": [
        "dcf.columns"
      ],
      "execution_count": 0,
      "outputs": [
        {
          "output_type": "execute_result",
          "data": {
            "text/plain": [
              "Index(['date', 'language', 'ex_complete'], dtype='object')"
            ]
          },
          "metadata": {
            "tags": []
          },
          "execution_count": 11
        }
      ]
    },
    {
      "cell_type": "markdown",
      "metadata": {
        "id": "4aTU2gP0Qmtc",
        "colab_type": "text"
      },
      "source": [
        "Alright, now to the juicy bits of the lesson. What if we had multiple languages?\n",
        "\n",
        "In this example, the date alone is no longer unique. However, the combination of the 'date' and 'language' fields create a unique identifier."
      ]
    },
    {
      "cell_type": "markdown",
      "metadata": {
        "id": "E3t-TCoZSY8F",
        "colab_type": "text"
      },
      "source": [
        "Note: forgetting to specify <i>inplace</i> changes the results, possibly because that copy is not saved automatically?"
      ]
    },
    {
      "cell_type": "code",
      "metadata": {
        "id": "GVEw6ww1P_sP",
        "colab_type": "code",
        "outputId": "4562251a-2ad7-4536-9e52-dda0a5644e31",
        "colab": {
          "base_uri": "https://localhost:8080/",
          "height": 235
        }
      },
      "source": [
        "dcf1 = pd.read_csv('user_ex.csv')\n",
        "dcf1"
      ],
      "execution_count": 0,
      "outputs": [
        {
          "output_type": "execute_result",
          "data": {
            "text/html": [
              "<div>\n",
              "<style scoped>\n",
              "    .dataframe tbody tr th:only-of-type {\n",
              "        vertical-align: middle;\n",
              "    }\n",
              "\n",
              "    .dataframe tbody tr th {\n",
              "        vertical-align: top;\n",
              "    }\n",
              "\n",
              "    .dataframe thead th {\n",
              "        text-align: right;\n",
              "    }\n",
              "</style>\n",
              "<table border=\"1\" class=\"dataframe\">\n",
              "  <thead>\n",
              "    <tr style=\"text-align: right;\">\n",
              "      <th></th>\n",
              "      <th>date</th>\n",
              "      <th>language</th>\n",
              "      <th>ex_complete</th>\n",
              "    </tr>\n",
              "  </thead>\n",
              "  <tbody>\n",
              "    <tr>\n",
              "      <th>0</th>\n",
              "      <td>2017-01-01</td>\n",
              "      <td>python</td>\n",
              "      <td>6</td>\n",
              "    </tr>\n",
              "    <tr>\n",
              "      <th>1</th>\n",
              "      <td>2017-01-02</td>\n",
              "      <td>python</td>\n",
              "      <td>5</td>\n",
              "    </tr>\n",
              "    <tr>\n",
              "      <th>2</th>\n",
              "      <td>2017-01-03</td>\n",
              "      <td>python</td>\n",
              "      <td>10</td>\n",
              "    </tr>\n",
              "    <tr>\n",
              "      <th>3</th>\n",
              "      <td>2017-01-01</td>\n",
              "      <td>r</td>\n",
              "      <td>8</td>\n",
              "    </tr>\n",
              "    <tr>\n",
              "      <th>4</th>\n",
              "      <td>2017-01-02</td>\n",
              "      <td>r</td>\n",
              "      <td>8</td>\n",
              "    </tr>\n",
              "    <tr>\n",
              "      <th>5</th>\n",
              "      <td>2017-01-03</td>\n",
              "      <td>r</td>\n",
              "      <td>8</td>\n",
              "    </tr>\n",
              "  </tbody>\n",
              "</table>\n",
              "</div>"
            ],
            "text/plain": [
              "         date language  ex_complete\n",
              "0  2017-01-01   python            6\n",
              "1  2017-01-02   python            5\n",
              "2  2017-01-03   python           10\n",
              "3  2017-01-01        r            8\n",
              "4  2017-01-02        r            8\n",
              "5  2017-01-03        r            8"
            ]
          },
          "metadata": {
            "tags": []
          },
          "execution_count": 23
        }
      ]
    },
    {
      "cell_type": "code",
      "metadata": {
        "id": "bGPiPmrNRFUV",
        "colab_type": "code",
        "outputId": "56ace21c-e606-48a3-d1ad-577804afce36",
        "colab": {
          "base_uri": "https://localhost:8080/",
          "height": 266
        }
      },
      "source": [
        "dcf1.set_index(['date', 'language'], inplace=True)\n",
        "dcf1"
      ],
      "execution_count": 0,
      "outputs": [
        {
          "output_type": "execute_result",
          "data": {
            "text/html": [
              "<div>\n",
              "<style scoped>\n",
              "    .dataframe tbody tr th:only-of-type {\n",
              "        vertical-align: middle;\n",
              "    }\n",
              "\n",
              "    .dataframe tbody tr th {\n",
              "        vertical-align: top;\n",
              "    }\n",
              "\n",
              "    .dataframe thead th {\n",
              "        text-align: right;\n",
              "    }\n",
              "</style>\n",
              "<table border=\"1\" class=\"dataframe\">\n",
              "  <thead>\n",
              "    <tr style=\"text-align: right;\">\n",
              "      <th></th>\n",
              "      <th></th>\n",
              "      <th>ex_complete</th>\n",
              "    </tr>\n",
              "    <tr>\n",
              "      <th>date</th>\n",
              "      <th>language</th>\n",
              "      <th></th>\n",
              "    </tr>\n",
              "  </thead>\n",
              "  <tbody>\n",
              "    <tr>\n",
              "      <th>2017-01-01</th>\n",
              "      <th>python</th>\n",
              "      <td>6</td>\n",
              "    </tr>\n",
              "    <tr>\n",
              "      <th>2017-01-02</th>\n",
              "      <th>python</th>\n",
              "      <td>5</td>\n",
              "    </tr>\n",
              "    <tr>\n",
              "      <th>2017-01-03</th>\n",
              "      <th>python</th>\n",
              "      <td>10</td>\n",
              "    </tr>\n",
              "    <tr>\n",
              "      <th>2017-01-01</th>\n",
              "      <th>r</th>\n",
              "      <td>8</td>\n",
              "    </tr>\n",
              "    <tr>\n",
              "      <th>2017-01-02</th>\n",
              "      <th>r</th>\n",
              "      <td>8</td>\n",
              "    </tr>\n",
              "    <tr>\n",
              "      <th>2017-01-03</th>\n",
              "      <th>r</th>\n",
              "      <td>8</td>\n",
              "    </tr>\n",
              "  </tbody>\n",
              "</table>\n",
              "</div>"
            ],
            "text/plain": [
              "                     ex_complete\n",
              "date       language             \n",
              "2017-01-01 python              6\n",
              "2017-01-02 python              5\n",
              "2017-01-03 python             10\n",
              "2017-01-01 r                   8\n",
              "2017-01-02 r                   8\n",
              "2017-01-03 r                   8"
            ]
          },
          "metadata": {
            "tags": []
          },
          "execution_count": 24
        }
      ]
    },
    {
      "cell_type": "code",
      "metadata": {
        "id": "BTzunO1yRbcx",
        "colab_type": "code",
        "outputId": "dd89f9be-cc54-4b77-ed00-617cf8bb6834",
        "colab": {
          "base_uri": "https://localhost:8080/",
          "height": 88
        }
      },
      "source": [
        "dcf1.index"
      ],
      "execution_count": 0,
      "outputs": [
        {
          "output_type": "execute_result",
          "data": {
            "text/plain": [
              "MultiIndex(levels=[['2017-01-01', '2017-01-02', '2017-01-03'], ['python', 'r']],\n",
              "           codes=[[0, 1, 2, 0, 1, 2], [0, 0, 0, 1, 1, 1]],\n",
              "           names=['date', 'language'])"
            ]
          },
          "metadata": {
            "tags": []
          },
          "execution_count": 25
        }
      ]
    },
    {
      "cell_type": "code",
      "metadata": {
        "id": "en_7qW6nR4Lh",
        "colab_type": "code",
        "outputId": "4179cfba-70f6-4fa9-e19b-ec63a73e7ee8",
        "colab": {
          "base_uri": "https://localhost:8080/",
          "height": 266
        }
      },
      "source": [
        "dcf1_copy = dcf1.sort_index()\n",
        "dcf1_copy"
      ],
      "execution_count": 0,
      "outputs": [
        {
          "output_type": "execute_result",
          "data": {
            "text/html": [
              "<div>\n",
              "<style scoped>\n",
              "    .dataframe tbody tr th:only-of-type {\n",
              "        vertical-align: middle;\n",
              "    }\n",
              "\n",
              "    .dataframe tbody tr th {\n",
              "        vertical-align: top;\n",
              "    }\n",
              "\n",
              "    .dataframe thead th {\n",
              "        text-align: right;\n",
              "    }\n",
              "</style>\n",
              "<table border=\"1\" class=\"dataframe\">\n",
              "  <thead>\n",
              "    <tr style=\"text-align: right;\">\n",
              "      <th></th>\n",
              "      <th></th>\n",
              "      <th>ex_complete</th>\n",
              "    </tr>\n",
              "    <tr>\n",
              "      <th>date</th>\n",
              "      <th>language</th>\n",
              "      <th></th>\n",
              "    </tr>\n",
              "  </thead>\n",
              "  <tbody>\n",
              "    <tr>\n",
              "      <th rowspan=\"2\" valign=\"top\">2017-01-01</th>\n",
              "      <th>python</th>\n",
              "      <td>6</td>\n",
              "    </tr>\n",
              "    <tr>\n",
              "      <th>r</th>\n",
              "      <td>8</td>\n",
              "    </tr>\n",
              "    <tr>\n",
              "      <th rowspan=\"2\" valign=\"top\">2017-01-02</th>\n",
              "      <th>python</th>\n",
              "      <td>5</td>\n",
              "    </tr>\n",
              "    <tr>\n",
              "      <th>r</th>\n",
              "      <td>8</td>\n",
              "    </tr>\n",
              "    <tr>\n",
              "      <th rowspan=\"2\" valign=\"top\">2017-01-03</th>\n",
              "      <th>python</th>\n",
              "      <td>10</td>\n",
              "    </tr>\n",
              "    <tr>\n",
              "      <th>r</th>\n",
              "      <td>8</td>\n",
              "    </tr>\n",
              "  </tbody>\n",
              "</table>\n",
              "</div>"
            ],
            "text/plain": [
              "                     ex_complete\n",
              "date       language             \n",
              "2017-01-01 python              6\n",
              "           r                   8\n",
              "2017-01-02 python              5\n",
              "           r                   8\n",
              "2017-01-03 python             10\n",
              "           r                   8"
            ]
          },
          "metadata": {
            "tags": []
          },
          "execution_count": 26
        }
      ]
    },
    {
      "cell_type": "code",
      "metadata": {
        "id": "UIznEMJbSNr5",
        "colab_type": "code",
        "outputId": "7193e7b6-02cc-4cca-e5ec-a91998e1d38b",
        "colab": {
          "base_uri": "https://localhost:8080/",
          "height": 266
        }
      },
      "source": [
        "dcf1"
      ],
      "execution_count": 0,
      "outputs": [
        {
          "output_type": "execute_result",
          "data": {
            "text/html": [
              "<div>\n",
              "<style scoped>\n",
              "    .dataframe tbody tr th:only-of-type {\n",
              "        vertical-align: middle;\n",
              "    }\n",
              "\n",
              "    .dataframe tbody tr th {\n",
              "        vertical-align: top;\n",
              "    }\n",
              "\n",
              "    .dataframe thead th {\n",
              "        text-align: right;\n",
              "    }\n",
              "</style>\n",
              "<table border=\"1\" class=\"dataframe\">\n",
              "  <thead>\n",
              "    <tr style=\"text-align: right;\">\n",
              "      <th></th>\n",
              "      <th></th>\n",
              "      <th>ex_complete</th>\n",
              "    </tr>\n",
              "    <tr>\n",
              "      <th>date</th>\n",
              "      <th>language</th>\n",
              "      <th></th>\n",
              "    </tr>\n",
              "  </thead>\n",
              "  <tbody>\n",
              "    <tr>\n",
              "      <th>2017-01-01</th>\n",
              "      <th>python</th>\n",
              "      <td>6</td>\n",
              "    </tr>\n",
              "    <tr>\n",
              "      <th>2017-01-02</th>\n",
              "      <th>python</th>\n",
              "      <td>5</td>\n",
              "    </tr>\n",
              "    <tr>\n",
              "      <th>2017-01-03</th>\n",
              "      <th>python</th>\n",
              "      <td>10</td>\n",
              "    </tr>\n",
              "    <tr>\n",
              "      <th>2017-01-01</th>\n",
              "      <th>r</th>\n",
              "      <td>8</td>\n",
              "    </tr>\n",
              "    <tr>\n",
              "      <th>2017-01-02</th>\n",
              "      <th>r</th>\n",
              "      <td>8</td>\n",
              "    </tr>\n",
              "    <tr>\n",
              "      <th>2017-01-03</th>\n",
              "      <th>r</th>\n",
              "      <td>8</td>\n",
              "    </tr>\n",
              "  </tbody>\n",
              "</table>\n",
              "</div>"
            ],
            "text/plain": [
              "                     ex_complete\n",
              "date       language             \n",
              "2017-01-01 python              6\n",
              "2017-01-02 python              5\n",
              "2017-01-03 python             10\n",
              "2017-01-01 r                   8\n",
              "2017-01-02 r                   8\n",
              "2017-01-03 r                   8"
            ]
          },
          "metadata": {
            "tags": []
          },
          "execution_count": 27
        }
      ]
    },
    {
      "cell_type": "code",
      "metadata": {
        "id": "yubtUeWrUY0o",
        "colab_type": "code",
        "outputId": "32a8e850-1dd0-4a00-ca70-af2dc2a1ef21",
        "colab": {
          "base_uri": "https://localhost:8080/",
          "height": 266
        }
      },
      "source": [
        "dcf1.sort_index(inplace=True)\n",
        "dcf1"
      ],
      "execution_count": 0,
      "outputs": [
        {
          "output_type": "execute_result",
          "data": {
            "text/html": [
              "<div>\n",
              "<style scoped>\n",
              "    .dataframe tbody tr th:only-of-type {\n",
              "        vertical-align: middle;\n",
              "    }\n",
              "\n",
              "    .dataframe tbody tr th {\n",
              "        vertical-align: top;\n",
              "    }\n",
              "\n",
              "    .dataframe thead th {\n",
              "        text-align: right;\n",
              "    }\n",
              "</style>\n",
              "<table border=\"1\" class=\"dataframe\">\n",
              "  <thead>\n",
              "    <tr style=\"text-align: right;\">\n",
              "      <th></th>\n",
              "      <th></th>\n",
              "      <th>ex_complete</th>\n",
              "    </tr>\n",
              "    <tr>\n",
              "      <th>date</th>\n",
              "      <th>language</th>\n",
              "      <th></th>\n",
              "    </tr>\n",
              "  </thead>\n",
              "  <tbody>\n",
              "    <tr>\n",
              "      <th rowspan=\"2\" valign=\"top\">2017-01-01</th>\n",
              "      <th>python</th>\n",
              "      <td>6</td>\n",
              "    </tr>\n",
              "    <tr>\n",
              "      <th>r</th>\n",
              "      <td>8</td>\n",
              "    </tr>\n",
              "    <tr>\n",
              "      <th rowspan=\"2\" valign=\"top\">2017-01-02</th>\n",
              "      <th>python</th>\n",
              "      <td>5</td>\n",
              "    </tr>\n",
              "    <tr>\n",
              "      <th>r</th>\n",
              "      <td>8</td>\n",
              "    </tr>\n",
              "    <tr>\n",
              "      <th rowspan=\"2\" valign=\"top\">2017-01-03</th>\n",
              "      <th>python</th>\n",
              "      <td>10</td>\n",
              "    </tr>\n",
              "    <tr>\n",
              "      <th>r</th>\n",
              "      <td>8</td>\n",
              "    </tr>\n",
              "  </tbody>\n",
              "</table>\n",
              "</div>"
            ],
            "text/plain": [
              "                     ex_complete\n",
              "date       language             \n",
              "2017-01-01 python              6\n",
              "           r                   8\n",
              "2017-01-02 python              5\n",
              "           r                   8\n",
              "2017-01-03 python             10\n",
              "           r                   8"
            ]
          },
          "metadata": {
            "tags": []
          },
          "execution_count": 29
        }
      ]
    },
    {
      "cell_type": "code",
      "metadata": {
        "id": "gXps2E-qUb3w",
        "colab_type": "code",
        "outputId": "c9cccb90-c60e-4dec-bdcd-4ec4c80a060b",
        "colab": {
          "base_uri": "https://localhost:8080/",
          "height": 51
        }
      },
      "source": [
        "dcf1.loc[('2017-01-02', 'r')]"
      ],
      "execution_count": 0,
      "outputs": [
        {
          "output_type": "execute_result",
          "data": {
            "text/plain": [
              "ex_complete    8\n",
              "Name: (2017-01-02, r), dtype: int64"
            ]
          },
          "metadata": {
            "tags": []
          },
          "execution_count": 30
        }
      ]
    },
    {
      "cell_type": "markdown",
      "metadata": {
        "id": "R2HO6mAVU7Pl",
        "colab_type": "text"
      },
      "source": [
        "We've successfully created a table with a multiindex. The next section discusses its application to <i>groupby</i>, using sample data from the <i>seaborn</i> package."
      ]
    },
    {
      "cell_type": "markdown",
      "metadata": {
        "id": "cciZcVRwVWeX",
        "colab_type": "text"
      },
      "source": [
        "Ah! The <i>head</i> method seems to grab only the first few entries. This will be awesome for testing!"
      ]
    },
    {
      "cell_type": "code",
      "metadata": {
        "id": "r4Xul7hyUpp5",
        "colab_type": "code",
        "outputId": "c3b3d501-cdee-4e3b-cea6-f991611d1ebe",
        "colab": {
          "base_uri": "https://localhost:8080/",
          "height": 204
        }
      },
      "source": [
        "import seaborn as sns\n",
        "tips = sns.load_dataset(\"tips\")\n",
        "tips.head()"
      ],
      "execution_count": 0,
      "outputs": [
        {
          "output_type": "execute_result",
          "data": {
            "text/html": [
              "<div>\n",
              "<style scoped>\n",
              "    .dataframe tbody tr th:only-of-type {\n",
              "        vertical-align: middle;\n",
              "    }\n",
              "\n",
              "    .dataframe tbody tr th {\n",
              "        vertical-align: top;\n",
              "    }\n",
              "\n",
              "    .dataframe thead th {\n",
              "        text-align: right;\n",
              "    }\n",
              "</style>\n",
              "<table border=\"1\" class=\"dataframe\">\n",
              "  <thead>\n",
              "    <tr style=\"text-align: right;\">\n",
              "      <th></th>\n",
              "      <th>total_bill</th>\n",
              "      <th>tip</th>\n",
              "      <th>sex</th>\n",
              "      <th>smoker</th>\n",
              "      <th>day</th>\n",
              "      <th>time</th>\n",
              "      <th>size</th>\n",
              "    </tr>\n",
              "  </thead>\n",
              "  <tbody>\n",
              "    <tr>\n",
              "      <th>0</th>\n",
              "      <td>16.99</td>\n",
              "      <td>1.01</td>\n",
              "      <td>Female</td>\n",
              "      <td>No</td>\n",
              "      <td>Sun</td>\n",
              "      <td>Dinner</td>\n",
              "      <td>2</td>\n",
              "    </tr>\n",
              "    <tr>\n",
              "      <th>1</th>\n",
              "      <td>10.34</td>\n",
              "      <td>1.66</td>\n",
              "      <td>Male</td>\n",
              "      <td>No</td>\n",
              "      <td>Sun</td>\n",
              "      <td>Dinner</td>\n",
              "      <td>3</td>\n",
              "    </tr>\n",
              "    <tr>\n",
              "      <th>2</th>\n",
              "      <td>21.01</td>\n",
              "      <td>3.50</td>\n",
              "      <td>Male</td>\n",
              "      <td>No</td>\n",
              "      <td>Sun</td>\n",
              "      <td>Dinner</td>\n",
              "      <td>3</td>\n",
              "    </tr>\n",
              "    <tr>\n",
              "      <th>3</th>\n",
              "      <td>23.68</td>\n",
              "      <td>3.31</td>\n",
              "      <td>Male</td>\n",
              "      <td>No</td>\n",
              "      <td>Sun</td>\n",
              "      <td>Dinner</td>\n",
              "      <td>2</td>\n",
              "    </tr>\n",
              "    <tr>\n",
              "      <th>4</th>\n",
              "      <td>24.59</td>\n",
              "      <td>3.61</td>\n",
              "      <td>Female</td>\n",
              "      <td>No</td>\n",
              "      <td>Sun</td>\n",
              "      <td>Dinner</td>\n",
              "      <td>4</td>\n",
              "    </tr>\n",
              "  </tbody>\n",
              "</table>\n",
              "</div>"
            ],
            "text/plain": [
              "   total_bill   tip     sex smoker  day    time  size\n",
              "0       16.99  1.01  Female     No  Sun  Dinner     2\n",
              "1       10.34  1.66    Male     No  Sun  Dinner     3\n",
              "2       21.01  3.50    Male     No  Sun  Dinner     3\n",
              "3       23.68  3.31    Male     No  Sun  Dinner     2\n",
              "4       24.59  3.61  Female     No  Sun  Dinner     4"
            ]
          },
          "metadata": {
            "tags": []
          },
          "execution_count": 31
        }
      ]
    },
    {
      "cell_type": "code",
      "metadata": {
        "id": "eubQWRHDVQBN",
        "colab_type": "code",
        "outputId": "f4a19ff2-de7d-42b1-9bf1-1d0ea94cd8f3",
        "colab": {
          "base_uri": "https://localhost:8080/",
          "height": 34
        }
      },
      "source": [
        "tips.index"
      ],
      "execution_count": 0,
      "outputs": [
        {
          "output_type": "execute_result",
          "data": {
            "text/plain": [
              "RangeIndex(start=0, stop=244, step=1)"
            ]
          },
          "metadata": {
            "tags": []
          },
          "execution_count": 33
        }
      ]
    },
    {
      "cell_type": "markdown",
      "metadata": {
        "id": "kH33EagoW0zC",
        "colab_type": "text"
      },
      "source": [
        "<p>Before playing around with the data, this tutorial does some EDA (exploratory data analysis) by making graphs, using <i>matplotlib</i>.</p><br>\n",
        "\n",
        "The <br>\n",
        "<i>%matplotlib inline</i><br>\n",
        "function used here is a \"magic function\". That is, it can be called with \"command line style syntax\" (<a href=\"https://ipython.readthedocs.io/en/stable/interactive/tutorial.html#magics-explained\">python magic function docs</a>). <br>\n",
        "It tells <i>matplotlib</i> to show and store the graph within this notebook."
      ]
    },
    {
      "cell_type": "code",
      "metadata": {
        "id": "pwzXT_BQVmz6",
        "colab_type": "code",
        "outputId": "42f73268-b59b-4e9d-e32e-9289c9d0d0f4",
        "colab": {
          "base_uri": "https://localhost:8080/",
          "height": 565
        }
      },
      "source": [
        "import matplotlib.pyplot as plt\n",
        "%matplotlib inline\n",
        "sns.set()\n",
        "sns.pairplot(tips, hue='day');"
      ],
      "execution_count": 0,
      "outputs": [
        {
          "output_type": "display_data",
          "data": {
            "image/png": "[encoded data removed]",
            "text/plain": [
              "<Figure size 604.85x540 with 12 Axes>"
            ]
          },
          "metadata": {
            "tags": []
          }
        }
      ]
    },
    {
      "cell_type": "markdown",
      "metadata": {
        "id": "aXTpRwreY0EX",
        "colab_type": "text"
      },
      "source": [
        "This set of graphs exposes that the user may want to see the difference between 'smokers' and 'non-smokers'. "
      ]
    },
    {
      "cell_type": "code",
      "metadata": {
        "id": "cHVnpGeaYidg",
        "colab_type": "code",
        "outputId": "2f2edb92-2b96-444a-f632-02a1860388aa",
        "colab": {
          "base_uri": "https://localhost:8080/",
          "height": 142
        }
      },
      "source": [
        "#dataframe with seaborn info\n",
        "dfs = tips.groupby('smoker').mean()\n",
        "dfs"
      ],
      "execution_count": 0,
      "outputs": [
        {
          "output_type": "execute_result",
          "data": {
            "text/html": [
              "<div>\n",
              "<style scoped>\n",
              "    .dataframe tbody tr th:only-of-type {\n",
              "        vertical-align: middle;\n",
              "    }\n",
              "\n",
              "    .dataframe tbody tr th {\n",
              "        vertical-align: top;\n",
              "    }\n",
              "\n",
              "    .dataframe thead th {\n",
              "        text-align: right;\n",
              "    }\n",
              "</style>\n",
              "<table border=\"1\" class=\"dataframe\">\n",
              "  <thead>\n",
              "    <tr style=\"text-align: right;\">\n",
              "      <th></th>\n",
              "      <th>total_bill</th>\n",
              "      <th>tip</th>\n",
              "      <th>size</th>\n",
              "    </tr>\n",
              "    <tr>\n",
              "      <th>smoker</th>\n",
              "      <th></th>\n",
              "      <th></th>\n",
              "      <th></th>\n",
              "    </tr>\n",
              "  </thead>\n",
              "  <tbody>\n",
              "    <tr>\n",
              "      <th>Yes</th>\n",
              "      <td>20.756344</td>\n",
              "      <td>3.008710</td>\n",
              "      <td>2.408602</td>\n",
              "    </tr>\n",
              "    <tr>\n",
              "      <th>No</th>\n",
              "      <td>19.188278</td>\n",
              "      <td>2.991854</td>\n",
              "      <td>2.668874</td>\n",
              "    </tr>\n",
              "  </tbody>\n",
              "</table>\n",
              "</div>"
            ],
            "text/plain": [
              "        total_bill       tip      size\n",
              "smoker                                \n",
              "Yes      20.756344  3.008710  2.408602\n",
              "No       19.188278  2.991854  2.668874"
            ]
          },
          "metadata": {
            "tags": []
          },
          "execution_count": 35
        }
      ]
    },
    {
      "cell_type": "code",
      "metadata": {
        "id": "Y0LkiBULZJMA",
        "colab_type": "code",
        "outputId": "c0ef3124-9289-4d95-e61c-542078e3c827",
        "colab": {
          "base_uri": "https://localhost:8080/",
          "height": 54
        }
      },
      "source": [
        "dfs.index"
      ],
      "execution_count": 0,
      "outputs": [
        {
          "output_type": "execute_result",
          "data": {
            "text/plain": [
              "CategoricalIndex(['Yes', 'No'], categories=['Yes', 'No'], ordered=False, name='smoker', dtype='category')"
            ]
          },
          "metadata": {
            "tags": []
          },
          "execution_count": 36
        }
      ]
    },
    {
      "cell_type": "code",
      "metadata": {
        "id": "o3I68sRMZQWz",
        "colab_type": "code",
        "outputId": "5cea239a-4a9b-471a-8b52-824244b5bbe6",
        "colab": {
          "base_uri": "https://localhost:8080/",
          "height": 111
        }
      },
      "source": [
        "dfs.reset_index()"
      ],
      "execution_count": 0,
      "outputs": [
        {
          "output_type": "execute_result",
          "data": {
            "text/html": [
              "<div>\n",
              "<style scoped>\n",
              "    .dataframe tbody tr th:only-of-type {\n",
              "        vertical-align: middle;\n",
              "    }\n",
              "\n",
              "    .dataframe tbody tr th {\n",
              "        vertical-align: top;\n",
              "    }\n",
              "\n",
              "    .dataframe thead th {\n",
              "        text-align: right;\n",
              "    }\n",
              "</style>\n",
              "<table border=\"1\" class=\"dataframe\">\n",
              "  <thead>\n",
              "    <tr style=\"text-align: right;\">\n",
              "      <th></th>\n",
              "      <th>smoker</th>\n",
              "      <th>total_bill</th>\n",
              "      <th>tip</th>\n",
              "      <th>size</th>\n",
              "    </tr>\n",
              "  </thead>\n",
              "  <tbody>\n",
              "    <tr>\n",
              "      <th>0</th>\n",
              "      <td>Yes</td>\n",
              "      <td>20.756344</td>\n",
              "      <td>3.008710</td>\n",
              "      <td>2.408602</td>\n",
              "    </tr>\n",
              "    <tr>\n",
              "      <th>1</th>\n",
              "      <td>No</td>\n",
              "      <td>19.188278</td>\n",
              "      <td>2.991854</td>\n",
              "      <td>2.668874</td>\n",
              "    </tr>\n",
              "  </tbody>\n",
              "</table>\n",
              "</div>"
            ],
            "text/plain": [
              "  smoker  total_bill       tip      size\n",
              "0    Yes   20.756344  3.008710  2.408602\n",
              "1     No   19.188278  2.991854  2.668874"
            ]
          },
          "metadata": {
            "tags": []
          },
          "execution_count": 37
        }
      ]
    },
    {
      "cell_type": "code",
      "metadata": {
        "id": "fbcnhF-YnR-d",
        "colab_type": "code",
        "outputId": "1051377b-6b50-44af-8682-06c3836d59b1",
        "colab": {
          "base_uri": "https://localhost:8080/",
          "height": 204
        }
      },
      "source": [
        "dfs = tips.groupby(['smoker', 'time']).mean()\n",
        "\n",
        "dfs"
      ],
      "execution_count": 0,
      "outputs": [
        {
          "output_type": "execute_result",
          "data": {
            "text/html": [
              "<div>\n",
              "<style scoped>\n",
              "    .dataframe tbody tr th:only-of-type {\n",
              "        vertical-align: middle;\n",
              "    }\n",
              "\n",
              "    .dataframe tbody tr th {\n",
              "        vertical-align: top;\n",
              "    }\n",
              "\n",
              "    .dataframe thead th {\n",
              "        text-align: right;\n",
              "    }\n",
              "</style>\n",
              "<table border=\"1\" class=\"dataframe\">\n",
              "  <thead>\n",
              "    <tr style=\"text-align: right;\">\n",
              "      <th></th>\n",
              "      <th></th>\n",
              "      <th>total_bill</th>\n",
              "      <th>tip</th>\n",
              "      <th>size</th>\n",
              "    </tr>\n",
              "    <tr>\n",
              "      <th>smoker</th>\n",
              "      <th>time</th>\n",
              "      <th></th>\n",
              "      <th></th>\n",
              "      <th></th>\n",
              "    </tr>\n",
              "  </thead>\n",
              "  <tbody>\n",
              "    <tr>\n",
              "      <th rowspan=\"2\" valign=\"top\">Yes</th>\n",
              "      <th>Lunch</th>\n",
              "      <td>17.399130</td>\n",
              "      <td>2.834348</td>\n",
              "      <td>2.217391</td>\n",
              "    </tr>\n",
              "    <tr>\n",
              "      <th>Dinner</th>\n",
              "      <td>21.859429</td>\n",
              "      <td>3.066000</td>\n",
              "      <td>2.471429</td>\n",
              "    </tr>\n",
              "    <tr>\n",
              "      <th rowspan=\"2\" valign=\"top\">No</th>\n",
              "      <th>Lunch</th>\n",
              "      <td>17.050889</td>\n",
              "      <td>2.673778</td>\n",
              "      <td>2.511111</td>\n",
              "    </tr>\n",
              "    <tr>\n",
              "      <th>Dinner</th>\n",
              "      <td>20.095660</td>\n",
              "      <td>3.126887</td>\n",
              "      <td>2.735849</td>\n",
              "    </tr>\n",
              "  </tbody>\n",
              "</table>\n",
              "</div>"
            ],
            "text/plain": [
              "               total_bill       tip      size\n",
              "smoker time                                  \n",
              "Yes    Lunch    17.399130  2.834348  2.217391\n",
              "       Dinner   21.859429  3.066000  2.471429\n",
              "No     Lunch    17.050889  2.673778  2.511111\n",
              "       Dinner   20.095660  3.126887  2.735849"
            ]
          },
          "metadata": {
            "tags": []
          },
          "execution_count": 38
        }
      ]
    },
    {
      "cell_type": "code",
      "metadata": {
        "id": "7MuySukhncTj",
        "colab_type": "code",
        "outputId": "0e33988e-d0b3-4575-dd48-8536ac2259ff",
        "colab": {
          "base_uri": "https://localhost:8080/",
          "height": 68
        }
      },
      "source": [
        "dfs.index"
      ],
      "execution_count": 0,
      "outputs": [
        {
          "output_type": "execute_result",
          "data": {
            "text/plain": [
              "MultiIndex(levels=[['Yes', 'No'], ['Lunch', 'Dinner']],\n",
              "           codes=[[0, 0, 1, 1], [0, 1, 0, 1]],\n",
              "           names=['smoker', 'time'])"
            ]
          },
          "metadata": {
            "tags": []
          },
          "execution_count": 39
        }
      ]
    },
    {
      "cell_type": "code",
      "metadata": {
        "id": "ogPTj-5mnmzx",
        "colab_type": "code",
        "outputId": "9426d366-48c0-4d92-c736-dbba5c631db2",
        "colab": {
          "base_uri": "https://localhost:8080/",
          "height": 119
        }
      },
      "source": [
        "tips.groupby(['smoker', 'time']).size()"
      ],
      "execution_count": 0,
      "outputs": [
        {
          "output_type": "execute_result",
          "data": {
            "text/plain": [
              "smoker  time  \n",
              "Yes     Lunch      23\n",
              "        Dinner     70\n",
              "No      Lunch      45\n",
              "        Dinner    106\n",
              "dtype: int64"
            ]
          },
          "metadata": {
            "tags": []
          },
          "execution_count": 40
        }
      ]
    },
    {
      "cell_type": "code",
      "metadata": {
        "id": "Rodp0Z7Xntd5",
        "colab_type": "code",
        "outputId": "66062ac6-cad1-453d-c99d-400331e5f5d2",
        "colab": {
          "base_uri": "https://localhost:8080/",
          "height": 204
        }
      },
      "source": [
        "dfs.swaplevel()"
      ],
      "execution_count": 0,
      "outputs": [
        {
          "output_type": "execute_result",
          "data": {
            "text/html": [
              "<div>\n",
              "<style scoped>\n",
              "    .dataframe tbody tr th:only-of-type {\n",
              "        vertical-align: middle;\n",
              "    }\n",
              "\n",
              "    .dataframe tbody tr th {\n",
              "        vertical-align: top;\n",
              "    }\n",
              "\n",
              "    .dataframe thead th {\n",
              "        text-align: right;\n",
              "    }\n",
              "</style>\n",
              "<table border=\"1\" class=\"dataframe\">\n",
              "  <thead>\n",
              "    <tr style=\"text-align: right;\">\n",
              "      <th></th>\n",
              "      <th></th>\n",
              "      <th>total_bill</th>\n",
              "      <th>tip</th>\n",
              "      <th>size</th>\n",
              "    </tr>\n",
              "    <tr>\n",
              "      <th>time</th>\n",
              "      <th>smoker</th>\n",
              "      <th></th>\n",
              "      <th></th>\n",
              "      <th></th>\n",
              "    </tr>\n",
              "  </thead>\n",
              "  <tbody>\n",
              "    <tr>\n",
              "      <th>Lunch</th>\n",
              "      <th>Yes</th>\n",
              "      <td>17.399130</td>\n",
              "      <td>2.834348</td>\n",
              "      <td>2.217391</td>\n",
              "    </tr>\n",
              "    <tr>\n",
              "      <th>Dinner</th>\n",
              "      <th>Yes</th>\n",
              "      <td>21.859429</td>\n",
              "      <td>3.066000</td>\n",
              "      <td>2.471429</td>\n",
              "    </tr>\n",
              "    <tr>\n",
              "      <th>Lunch</th>\n",
              "      <th>No</th>\n",
              "      <td>17.050889</td>\n",
              "      <td>2.673778</td>\n",
              "      <td>2.511111</td>\n",
              "    </tr>\n",
              "    <tr>\n",
              "      <th>Dinner</th>\n",
              "      <th>No</th>\n",
              "      <td>20.095660</td>\n",
              "      <td>3.126887</td>\n",
              "      <td>2.735849</td>\n",
              "    </tr>\n",
              "  </tbody>\n",
              "</table>\n",
              "</div>"
            ],
            "text/plain": [
              "               total_bill       tip      size\n",
              "time   smoker                                \n",
              "Lunch  Yes      17.399130  2.834348  2.217391\n",
              "Dinner Yes      21.859429  3.066000  2.471429\n",
              "Lunch  No       17.050889  2.673778  2.511111\n",
              "Dinner No       20.095660  3.126887  2.735849"
            ]
          },
          "metadata": {
            "tags": []
          },
          "execution_count": 41
        }
      ]
    },
    {
      "cell_type": "code",
      "metadata": {
        "id": "TX6vFc4mn00V",
        "colab_type": "code",
        "outputId": "0891281a-a014-4120-a100-db3f4da4c5e8",
        "colab": {
          "base_uri": "https://localhost:8080/",
          "height": 173
        }
      },
      "source": [
        "dfs.unstack()"
      ],
      "execution_count": 0,
      "outputs": [
        {
          "output_type": "execute_result",
          "data": {
            "text/html": [
              "<div>\n",
              "<style scoped>\n",
              "    .dataframe tbody tr th:only-of-type {\n",
              "        vertical-align: middle;\n",
              "    }\n",
              "\n",
              "    .dataframe tbody tr th {\n",
              "        vertical-align: top;\n",
              "    }\n",
              "\n",
              "    .dataframe thead tr th {\n",
              "        text-align: left;\n",
              "    }\n",
              "\n",
              "    .dataframe thead tr:last-of-type th {\n",
              "        text-align: right;\n",
              "    }\n",
              "</style>\n",
              "<table border=\"1\" class=\"dataframe\">\n",
              "  <thead>\n",
              "    <tr>\n",
              "      <th></th>\n",
              "      <th colspan=\"2\" halign=\"left\">total_bill</th>\n",
              "      <th colspan=\"2\" halign=\"left\">tip</th>\n",
              "      <th colspan=\"2\" halign=\"left\">size</th>\n",
              "    </tr>\n",
              "    <tr>\n",
              "      <th>time</th>\n",
              "      <th>Lunch</th>\n",
              "      <th>Dinner</th>\n",
              "      <th>Lunch</th>\n",
              "      <th>Dinner</th>\n",
              "      <th>Lunch</th>\n",
              "      <th>Dinner</th>\n",
              "    </tr>\n",
              "    <tr>\n",
              "      <th>smoker</th>\n",
              "      <th></th>\n",
              "      <th></th>\n",
              "      <th></th>\n",
              "      <th></th>\n",
              "      <th></th>\n",
              "      <th></th>\n",
              "    </tr>\n",
              "  </thead>\n",
              "  <tbody>\n",
              "    <tr>\n",
              "      <th>Yes</th>\n",
              "      <td>17.399130</td>\n",
              "      <td>21.859429</td>\n",
              "      <td>2.834348</td>\n",
              "      <td>3.066000</td>\n",
              "      <td>2.217391</td>\n",
              "      <td>2.471429</td>\n",
              "    </tr>\n",
              "    <tr>\n",
              "      <th>No</th>\n",
              "      <td>17.050889</td>\n",
              "      <td>20.095660</td>\n",
              "      <td>2.673778</td>\n",
              "      <td>3.126887</td>\n",
              "      <td>2.511111</td>\n",
              "      <td>2.735849</td>\n",
              "    </tr>\n",
              "  </tbody>\n",
              "</table>\n",
              "</div>"
            ],
            "text/plain": [
              "       total_bill                  tip                size          \n",
              "time        Lunch     Dinner     Lunch    Dinner     Lunch    Dinner\n",
              "smoker                                                              \n",
              "Yes     17.399130  21.859429  2.834348  3.066000  2.217391  2.471429\n",
              "No      17.050889  20.095660  2.673778  3.126887  2.511111  2.735849"
            ]
          },
          "metadata": {
            "tags": []
          },
          "execution_count": 42
        }
      ]
    },
    {
      "cell_type": "code",
      "metadata": {
        "id": "AAjqq6t2n8Fx",
        "colab_type": "code",
        "outputId": "a334cb95-2069-4414-ad93-3653a98e2c7a",
        "colab": {
          "base_uri": "https://localhost:8080/",
          "height": 173
        }
      },
      "source": [
        "dfs.unstack(level=0)"
      ],
      "execution_count": 0,
      "outputs": [
        {
          "output_type": "execute_result",
          "data": {
            "text/html": [
              "<div>\n",
              "<style scoped>\n",
              "    .dataframe tbody tr th:only-of-type {\n",
              "        vertical-align: middle;\n",
              "    }\n",
              "\n",
              "    .dataframe tbody tr th {\n",
              "        vertical-align: top;\n",
              "    }\n",
              "\n",
              "    .dataframe thead tr th {\n",
              "        text-align: left;\n",
              "    }\n",
              "\n",
              "    .dataframe thead tr:last-of-type th {\n",
              "        text-align: right;\n",
              "    }\n",
              "</style>\n",
              "<table border=\"1\" class=\"dataframe\">\n",
              "  <thead>\n",
              "    <tr>\n",
              "      <th></th>\n",
              "      <th colspan=\"2\" halign=\"left\">total_bill</th>\n",
              "      <th colspan=\"2\" halign=\"left\">tip</th>\n",
              "      <th colspan=\"2\" halign=\"left\">size</th>\n",
              "    </tr>\n",
              "    <tr>\n",
              "      <th>smoker</th>\n",
              "      <th>Yes</th>\n",
              "      <th>No</th>\n",
              "      <th>Yes</th>\n",
              "      <th>No</th>\n",
              "      <th>Yes</th>\n",
              "      <th>No</th>\n",
              "    </tr>\n",
              "    <tr>\n",
              "      <th>time</th>\n",
              "      <th></th>\n",
              "      <th></th>\n",
              "      <th></th>\n",
              "      <th></th>\n",
              "      <th></th>\n",
              "      <th></th>\n",
              "    </tr>\n",
              "  </thead>\n",
              "  <tbody>\n",
              "    <tr>\n",
              "      <th>Lunch</th>\n",
              "      <td>17.399130</td>\n",
              "      <td>17.050889</td>\n",
              "      <td>2.834348</td>\n",
              "      <td>2.673778</td>\n",
              "      <td>2.217391</td>\n",
              "      <td>2.511111</td>\n",
              "    </tr>\n",
              "    <tr>\n",
              "      <th>Dinner</th>\n",
              "      <td>21.859429</td>\n",
              "      <td>20.095660</td>\n",
              "      <td>3.066000</td>\n",
              "      <td>3.126887</td>\n",
              "      <td>2.471429</td>\n",
              "      <td>2.735849</td>\n",
              "    </tr>\n",
              "  </tbody>\n",
              "</table>\n",
              "</div>"
            ],
            "text/plain": [
              "       total_bill                  tip                size          \n",
              "smoker        Yes         No       Yes        No       Yes        No\n",
              "time                                                                \n",
              "Lunch   17.399130  17.050889  2.834348  2.673778  2.217391  2.511111\n",
              "Dinner  21.859429  20.095660  3.066000  3.126887  2.471429  2.735849"
            ]
          },
          "metadata": {
            "tags": []
          },
          "execution_count": 43
        }
      ]
    },
    {
      "cell_type": "code",
      "metadata": {
        "id": "vZ9o09vQoG81",
        "colab_type": "code",
        "outputId": "d7f1d681-b2a5-4557-d221-7ab8c7cad0e2",
        "colab": {
          "base_uri": "https://localhost:8080/",
          "height": 204
        }
      },
      "source": [
        "dfs"
      ],
      "execution_count": 0,
      "outputs": [
        {
          "output_type": "execute_result",
          "data": {
            "text/html": [
              "<div>\n",
              "<style scoped>\n",
              "    .dataframe tbody tr th:only-of-type {\n",
              "        vertical-align: middle;\n",
              "    }\n",
              "\n",
              "    .dataframe tbody tr th {\n",
              "        vertical-align: top;\n",
              "    }\n",
              "\n",
              "    .dataframe thead th {\n",
              "        text-align: right;\n",
              "    }\n",
              "</style>\n",
              "<table border=\"1\" class=\"dataframe\">\n",
              "  <thead>\n",
              "    <tr style=\"text-align: right;\">\n",
              "      <th></th>\n",
              "      <th></th>\n",
              "      <th>total_bill</th>\n",
              "      <th>tip</th>\n",
              "      <th>size</th>\n",
              "    </tr>\n",
              "    <tr>\n",
              "      <th>smoker</th>\n",
              "      <th>time</th>\n",
              "      <th></th>\n",
              "      <th></th>\n",
              "      <th></th>\n",
              "    </tr>\n",
              "  </thead>\n",
              "  <tbody>\n",
              "    <tr>\n",
              "      <th rowspan=\"2\" valign=\"top\">Yes</th>\n",
              "      <th>Lunch</th>\n",
              "      <td>17.399130</td>\n",
              "      <td>2.834348</td>\n",
              "      <td>2.217391</td>\n",
              "    </tr>\n",
              "    <tr>\n",
              "      <th>Dinner</th>\n",
              "      <td>21.859429</td>\n",
              "      <td>3.066000</td>\n",
              "      <td>2.471429</td>\n",
              "    </tr>\n",
              "    <tr>\n",
              "      <th rowspan=\"2\" valign=\"top\">No</th>\n",
              "      <th>Lunch</th>\n",
              "      <td>17.050889</td>\n",
              "      <td>2.673778</td>\n",
              "      <td>2.511111</td>\n",
              "    </tr>\n",
              "    <tr>\n",
              "      <th>Dinner</th>\n",
              "      <td>20.095660</td>\n",
              "      <td>3.126887</td>\n",
              "      <td>2.735849</td>\n",
              "    </tr>\n",
              "  </tbody>\n",
              "</table>\n",
              "</div>"
            ],
            "text/plain": [
              "               total_bill       tip      size\n",
              "smoker time                                  \n",
              "Yes    Lunch    17.399130  2.834348  2.217391\n",
              "       Dinner   21.859429  3.066000  2.471429\n",
              "No     Lunch    17.050889  2.673778  2.511111\n",
              "       Dinner   20.095660  3.126887  2.735849"
            ]
          },
          "metadata": {
            "tags": []
          },
          "execution_count": 44
        }
      ]
    },
    {
      "cell_type": "code",
      "metadata": {
        "id": "wHaCnBv_oJZO",
        "colab_type": "code",
        "outputId": "b5a9df00-0d33-450d-d114-44fb4ba6a05b",
        "colab": {
          "base_uri": "https://localhost:8080/",
          "height": 54
        }
      },
      "source": [
        "dfs.unstack().index"
      ],
      "execution_count": 0,
      "outputs": [
        {
          "output_type": "execute_result",
          "data": {
            "text/plain": [
              "CategoricalIndex(['Yes', 'No'], categories=['Yes', 'No'], ordered=False, name='smoker', dtype='category')"
            ]
          },
          "metadata": {
            "tags": []
          },
          "execution_count": 45
        }
      ]
    },
    {
      "cell_type": "markdown",
      "metadata": {
        "id": "cguo9paJo7Uu",
        "colab_type": "text"
      },
      "source": [
        "tutorial end. let's try it."
      ]
    },
    {
      "cell_type": "code",
      "metadata": {
        "id": "F4zBqAO-oP6y",
        "colab_type": "code",
        "outputId": "231353fd-e786-4767-d58d-8755fd2e4640",
        "colab": {
          "base_uri": "https://localhost:8080/",
          "height": 348
        }
      },
      "source": [
        "corgiFrame"
      ],
      "execution_count": 0,
      "outputs": [
        {
          "output_type": "execute_result",
          "data": {
            "text/html": [
              "<div>\n",
              "<style scoped>\n",
              "    .dataframe tbody tr th:only-of-type {\n",
              "        vertical-align: middle;\n",
              "    }\n",
              "\n",
              "    .dataframe tbody tr th {\n",
              "        vertical-align: top;\n",
              "    }\n",
              "\n",
              "    .dataframe thead th {\n",
              "        text-align: right;\n",
              "    }\n",
              "</style>\n",
              "<table border=\"1\" class=\"dataframe\">\n",
              "  <thead>\n",
              "    <tr style=\"text-align: right;\">\n",
              "      <th></th>\n",
              "      <th>Unnamed: 0</th>\n",
              "      <th>Source</th>\n",
              "      <th>Is this Real or Not Real?</th>\n",
              "      <th>Cuteness</th>\n",
              "    </tr>\n",
              "  </thead>\n",
              "  <tbody>\n",
              "    <tr>\n",
              "      <th>0</th>\n",
              "      <td>Holly</td>\n",
              "      <td>Queen of England</td>\n",
              "      <td>Real</td>\n",
              "      <td>7</td>\n",
              "    </tr>\n",
              "    <tr>\n",
              "      <th>1</th>\n",
              "      <td>Ralph</td>\n",
              "      <td>Instagram</td>\n",
              "      <td>Real</td>\n",
              "      <td>7</td>\n",
              "    </tr>\n",
              "    <tr>\n",
              "      <th>2</th>\n",
              "      <td>Molly (\"Thing of Evil\")</td>\n",
              "      <td>Stephen King</td>\n",
              "      <td>Real</td>\n",
              "      <td>9</td>\n",
              "    </tr>\n",
              "    <tr>\n",
              "      <th>3</th>\n",
              "      <td>Ein</td>\n",
              "      <td>Cowboy Bebop</td>\n",
              "      <td>Not Real</td>\n",
              "      <td>11</td>\n",
              "    </tr>\n",
              "    <tr>\n",
              "      <th>4</th>\n",
              "      <td>Loki</td>\n",
              "      <td>Instagram</td>\n",
              "      <td>Real</td>\n",
              "      <td>8</td>\n",
              "    </tr>\n",
              "    <tr>\n",
              "      <th>5</th>\n",
              "      <td>Rufus</td>\n",
              "      <td>Amazon.com</td>\n",
              "      <td>Real</td>\n",
              "      <td>9</td>\n",
              "    </tr>\n",
              "    <tr>\n",
              "      <th>6</th>\n",
              "      <td>Sutter Brown</td>\n",
              "      <td>Jerry Brown (gov of Cali)</td>\n",
              "      <td>Real</td>\n",
              "      <td>8</td>\n",
              "    </tr>\n",
              "    <tr>\n",
              "      <th>7</th>\n",
              "      <td>Hope Corgi</td>\n",
              "      <td>DC Comics</td>\n",
              "      <td>Not Real</td>\n",
              "      <td>11</td>\n",
              "    </tr>\n",
              "  </tbody>\n",
              "</table>\n",
              "</div>"
            ],
            "text/plain": [
              "                Unnamed: 0  ... Cuteness\n",
              "0                    Holly  ...        7\n",
              "1                    Ralph  ...        7\n",
              "2  Molly (\"Thing of Evil\")  ...        9\n",
              "3                      Ein  ...       11\n",
              "4                     Loki  ...        8\n",
              "5                    Rufus  ...        9\n",
              "6             Sutter Brown  ...        8\n",
              "7               Hope Corgi  ...       11\n",
              "\n",
              "[8 rows x 4 columns]"
            ]
          },
          "metadata": {
            "tags": []
          },
          "execution_count": 47
        }
      ]
    },
    {
      "cell_type": "code",
      "metadata": {
        "id": "bMao5BOHo9pl",
        "colab_type": "code",
        "outputId": "fa695664-62b7-45f7-ff3d-aa0a9a1b68bd",
        "colab": {
          "base_uri": "https://localhost:8080/",
          "height": 379
        }
      },
      "source": [
        "#dataframe: multi-indexed corgis\n",
        "dfmc = corgiFrame.set_index(['Is this Real or Not Real?', 'Source'])\n",
        "\n",
        "dfmc"
      ],
      "execution_count": 0,
      "outputs": [
        {
          "output_type": "execute_result",
          "data": {
            "text/html": [
              "<div>\n",
              "<style scoped>\n",
              "    .dataframe tbody tr th:only-of-type {\n",
              "        vertical-align: middle;\n",
              "    }\n",
              "\n",
              "    .dataframe tbody tr th {\n",
              "        vertical-align: top;\n",
              "    }\n",
              "\n",
              "    .dataframe thead th {\n",
              "        text-align: right;\n",
              "    }\n",
              "</style>\n",
              "<table border=\"1\" class=\"dataframe\">\n",
              "  <thead>\n",
              "    <tr style=\"text-align: right;\">\n",
              "      <th></th>\n",
              "      <th></th>\n",
              "      <th>Unnamed: 0</th>\n",
              "      <th>Cuteness</th>\n",
              "    </tr>\n",
              "    <tr>\n",
              "      <th>Is this Real or Not Real?</th>\n",
              "      <th>Source</th>\n",
              "      <th></th>\n",
              "      <th></th>\n",
              "    </tr>\n",
              "  </thead>\n",
              "  <tbody>\n",
              "    <tr>\n",
              "      <th rowspan=\"3\" valign=\"top\">Real</th>\n",
              "      <th>Queen of England</th>\n",
              "      <td>Holly</td>\n",
              "      <td>7</td>\n",
              "    </tr>\n",
              "    <tr>\n",
              "      <th>Instagram</th>\n",
              "      <td>Ralph</td>\n",
              "      <td>7</td>\n",
              "    </tr>\n",
              "    <tr>\n",
              "      <th>Stephen King</th>\n",
              "      <td>Molly (\"Thing of Evil\")</td>\n",
              "      <td>9</td>\n",
              "    </tr>\n",
              "    <tr>\n",
              "      <th>Not Real</th>\n",
              "      <th>Cowboy Bebop</th>\n",
              "      <td>Ein</td>\n",
              "      <td>11</td>\n",
              "    </tr>\n",
              "    <tr>\n",
              "      <th rowspan=\"3\" valign=\"top\">Real</th>\n",
              "      <th>Instagram</th>\n",
              "      <td>Loki</td>\n",
              "      <td>8</td>\n",
              "    </tr>\n",
              "    <tr>\n",
              "      <th>Amazon.com</th>\n",
              "      <td>Rufus</td>\n",
              "      <td>9</td>\n",
              "    </tr>\n",
              "    <tr>\n",
              "      <th>Jerry Brown (gov of Cali)</th>\n",
              "      <td>Sutter Brown</td>\n",
              "      <td>8</td>\n",
              "    </tr>\n",
              "    <tr>\n",
              "      <th>Not Real</th>\n",
              "      <th>DC Comics</th>\n",
              "      <td>Hope Corgi</td>\n",
              "      <td>11</td>\n",
              "    </tr>\n",
              "  </tbody>\n",
              "</table>\n",
              "</div>"
            ],
            "text/plain": [
              "                                                                  Unnamed: 0  Cuteness\n",
              "Is this Real or Not Real? Source                                                      \n",
              "Real                      Queen of England                             Holly         7\n",
              "                          Instagram                                    Ralph         7\n",
              "                          Stephen King               Molly (\"Thing of Evil\")         9\n",
              "Not Real                  Cowboy Bebop                                   Ein        11\n",
              "Real                      Instagram                                     Loki         8\n",
              "                          Amazon.com                                   Rufus         9\n",
              "                          Jerry Brown (gov of Cali)             Sutter Brown         8\n",
              "Not Real                  DC Comics                               Hope Corgi        11"
            ]
          },
          "metadata": {
            "tags": []
          },
          "execution_count": 48
        }
      ]
    },
    {
      "cell_type": "code",
      "metadata": {
        "id": "hjAKUYV9pbC8",
        "colab_type": "code",
        "outputId": "c4b7f759-829e-4d57-98ae-1b26a4e98ab6",
        "colab": {
          "base_uri": "https://localhost:8080/",
          "height": 379
        }
      },
      "source": [
        "dfmc.sort_index(inplace = True)\n",
        "\n",
        "dfmc"
      ],
      "execution_count": 0,
      "outputs": [
        {
          "output_type": "execute_result",
          "data": {
            "text/html": [
              "<div>\n",
              "<style scoped>\n",
              "    .dataframe tbody tr th:only-of-type {\n",
              "        vertical-align: middle;\n",
              "    }\n",
              "\n",
              "    .dataframe tbody tr th {\n",
              "        vertical-align: top;\n",
              "    }\n",
              "\n",
              "    .dataframe thead th {\n",
              "        text-align: right;\n",
              "    }\n",
              "</style>\n",
              "<table border=\"1\" class=\"dataframe\">\n",
              "  <thead>\n",
              "    <tr style=\"text-align: right;\">\n",
              "      <th></th>\n",
              "      <th></th>\n",
              "      <th>Unnamed: 0</th>\n",
              "      <th>Cuteness</th>\n",
              "    </tr>\n",
              "    <tr>\n",
              "      <th>Is this Real or Not Real?</th>\n",
              "      <th>Source</th>\n",
              "      <th></th>\n",
              "      <th></th>\n",
              "    </tr>\n",
              "  </thead>\n",
              "  <tbody>\n",
              "    <tr>\n",
              "      <th rowspan=\"2\" valign=\"top\">Not Real</th>\n",
              "      <th>Cowboy Bebop</th>\n",
              "      <td>Ein</td>\n",
              "      <td>11</td>\n",
              "    </tr>\n",
              "    <tr>\n",
              "      <th>DC Comics</th>\n",
              "      <td>Hope Corgi</td>\n",
              "      <td>11</td>\n",
              "    </tr>\n",
              "    <tr>\n",
              "      <th rowspan=\"6\" valign=\"top\">Real</th>\n",
              "      <th>Amazon.com</th>\n",
              "      <td>Rufus</td>\n",
              "      <td>9</td>\n",
              "    </tr>\n",
              "    <tr>\n",
              "      <th>Instagram</th>\n",
              "      <td>Ralph</td>\n",
              "      <td>7</td>\n",
              "    </tr>\n",
              "    <tr>\n",
              "      <th>Instagram</th>\n",
              "      <td>Loki</td>\n",
              "      <td>8</td>\n",
              "    </tr>\n",
              "    <tr>\n",
              "      <th>Jerry Brown (gov of Cali)</th>\n",
              "      <td>Sutter Brown</td>\n",
              "      <td>8</td>\n",
              "    </tr>\n",
              "    <tr>\n",
              "      <th>Queen of England</th>\n",
              "      <td>Holly</td>\n",
              "      <td>7</td>\n",
              "    </tr>\n",
              "    <tr>\n",
              "      <th>Stephen King</th>\n",
              "      <td>Molly (\"Thing of Evil\")</td>\n",
              "      <td>9</td>\n",
              "    </tr>\n",
              "  </tbody>\n",
              "</table>\n",
              "</div>"
            ],
            "text/plain": [
              "                                                                  Unnamed: 0  Cuteness\n",
              "Is this Real or Not Real? Source                                                      \n",
              "Not Real                  Cowboy Bebop                                   Ein        11\n",
              "                          DC Comics                               Hope Corgi        11\n",
              "Real                      Amazon.com                                   Rufus         9\n",
              "                          Instagram                                    Ralph         7\n",
              "                          Instagram                                     Loki         8\n",
              "                          Jerry Brown (gov of Cali)             Sutter Brown         8\n",
              "                          Queen of England                             Holly         7\n",
              "                          Stephen King               Molly (\"Thing of Evil\")         9"
            ]
          },
          "metadata": {
            "tags": []
          },
          "execution_count": 49
        }
      ]
    },
    {
      "cell_type": "code",
      "metadata": {
        "id": "TgRjiigqpiU_",
        "colab_type": "code",
        "outputId": "c1f9b6de-02d6-470a-aaf4-68f5f65f7b63",
        "colab": {
          "base_uri": "https://localhost:8080/",
          "height": 142
        }
      },
      "source": [
        "dfmc.loc[('Real', 'Instagram')]"
      ],
      "execution_count": 0,
      "outputs": [
        {
          "output_type": "execute_result",
          "data": {
            "text/html": [
              "<div>\n",
              "<style scoped>\n",
              "    .dataframe tbody tr th:only-of-type {\n",
              "        vertical-align: middle;\n",
              "    }\n",
              "\n",
              "    .dataframe tbody tr th {\n",
              "        vertical-align: top;\n",
              "    }\n",
              "\n",
              "    .dataframe thead th {\n",
              "        text-align: right;\n",
              "    }\n",
              "</style>\n",
              "<table border=\"1\" class=\"dataframe\">\n",
              "  <thead>\n",
              "    <tr style=\"text-align: right;\">\n",
              "      <th></th>\n",
              "      <th></th>\n",
              "      <th>Unnamed: 0</th>\n",
              "      <th>Cuteness</th>\n",
              "    </tr>\n",
              "    <tr>\n",
              "      <th>Is this Real or Not Real?</th>\n",
              "      <th>Source</th>\n",
              "      <th></th>\n",
              "      <th></th>\n",
              "    </tr>\n",
              "  </thead>\n",
              "  <tbody>\n",
              "    <tr>\n",
              "      <th rowspan=\"2\" valign=\"top\">Real</th>\n",
              "      <th>Instagram</th>\n",
              "      <td>Ralph</td>\n",
              "      <td>7</td>\n",
              "    </tr>\n",
              "    <tr>\n",
              "      <th>Instagram</th>\n",
              "      <td>Loki</td>\n",
              "      <td>8</td>\n",
              "    </tr>\n",
              "  </tbody>\n",
              "</table>\n",
              "</div>"
            ],
            "text/plain": [
              "                                    Unnamed: 0  Cuteness\n",
              "Is this Real or Not Real? Source                        \n",
              "Real                      Instagram      Ralph         7\n",
              "                          Instagram       Loki         8"
            ]
          },
          "metadata": {
            "tags": []
          },
          "execution_count": 51
        }
      ]
    },
    {
      "cell_type": "code",
      "metadata": {
        "id": "0T_IYrytpy2N",
        "colab_type": "code",
        "outputId": "95398a8c-efcc-4f81-d618-216b72c7991b",
        "colab": {
          "base_uri": "https://localhost:8080/",
          "height": 111
        }
      },
      "source": [
        "dfmc.loc[('Not Real', 'DC Comics')]"
      ],
      "execution_count": 0,
      "outputs": [
        {
          "output_type": "execute_result",
          "data": {
            "text/html": [
              "<div>\n",
              "<style scoped>\n",
              "    .dataframe tbody tr th:only-of-type {\n",
              "        vertical-align: middle;\n",
              "    }\n",
              "\n",
              "    .dataframe tbody tr th {\n",
              "        vertical-align: top;\n",
              "    }\n",
              "\n",
              "    .dataframe thead th {\n",
              "        text-align: right;\n",
              "    }\n",
              "</style>\n",
              "<table border=\"1\" class=\"dataframe\">\n",
              "  <thead>\n",
              "    <tr style=\"text-align: right;\">\n",
              "      <th></th>\n",
              "      <th></th>\n",
              "      <th>Unnamed: 0</th>\n",
              "      <th>Cuteness</th>\n",
              "    </tr>\n",
              "    <tr>\n",
              "      <th>Is this Real or Not Real?</th>\n",
              "      <th>Source</th>\n",
              "      <th></th>\n",
              "      <th></th>\n",
              "    </tr>\n",
              "  </thead>\n",
              "  <tbody>\n",
              "    <tr>\n",
              "      <th>Not Real</th>\n",
              "      <th>DC Comics</th>\n",
              "      <td>Hope Corgi</td>\n",
              "      <td>11</td>\n",
              "    </tr>\n",
              "  </tbody>\n",
              "</table>\n",
              "</div>"
            ],
            "text/plain": [
              "                                     Unnamed: 0  Cuteness\n",
              "Is this Real or Not Real? Source                         \n",
              "Not Real                  DC Comics  Hope Corgi        11"
            ]
          },
          "metadata": {
            "tags": []
          },
          "execution_count": 52
        }
      ]
    },
    {
      "cell_type": "code",
      "metadata": {
        "id": "eU-EM2JGqEjb",
        "colab_type": "code",
        "outputId": "d4a14ac6-2d14-4e32-8de0-b9b2478c37b0",
        "colab": {
          "base_uri": "https://localhost:8080/",
          "height": 379
        }
      },
      "source": [
        "df_corgi_names = corgiFrame.set_index(['Is this Real or Not Real?', 'Unnamed: 0'])\n",
        "\n",
        "df_corgi_names"
      ],
      "execution_count": 0,
      "outputs": [
        {
          "output_type": "execute_result",
          "data": {
            "text/html": [
              "<div>\n",
              "<style scoped>\n",
              "    .dataframe tbody tr th:only-of-type {\n",
              "        vertical-align: middle;\n",
              "    }\n",
              "\n",
              "    .dataframe tbody tr th {\n",
              "        vertical-align: top;\n",
              "    }\n",
              "\n",
              "    .dataframe thead th {\n",
              "        text-align: right;\n",
              "    }\n",
              "</style>\n",
              "<table border=\"1\" class=\"dataframe\">\n",
              "  <thead>\n",
              "    <tr style=\"text-align: right;\">\n",
              "      <th></th>\n",
              "      <th></th>\n",
              "      <th>Source</th>\n",
              "      <th>Cuteness</th>\n",
              "    </tr>\n",
              "    <tr>\n",
              "      <th>Is this Real or Not Real?</th>\n",
              "      <th>Unnamed: 0</th>\n",
              "      <th></th>\n",
              "      <th></th>\n",
              "    </tr>\n",
              "  </thead>\n",
              "  <tbody>\n",
              "    <tr>\n",
              "      <th rowspan=\"3\" valign=\"top\">Real</th>\n",
              "      <th>Holly</th>\n",
              "      <td>Queen of England</td>\n",
              "      <td>7</td>\n",
              "    </tr>\n",
              "    <tr>\n",
              "      <th>Ralph</th>\n",
              "      <td>Instagram</td>\n",
              "      <td>7</td>\n",
              "    </tr>\n",
              "    <tr>\n",
              "      <th>Molly (\"Thing of Evil\")</th>\n",
              "      <td>Stephen King</td>\n",
              "      <td>9</td>\n",
              "    </tr>\n",
              "    <tr>\n",
              "      <th>Not Real</th>\n",
              "      <th>Ein</th>\n",
              "      <td>Cowboy Bebop</td>\n",
              "      <td>11</td>\n",
              "    </tr>\n",
              "    <tr>\n",
              "      <th rowspan=\"3\" valign=\"top\">Real</th>\n",
              "      <th>Loki</th>\n",
              "      <td>Instagram</td>\n",
              "      <td>8</td>\n",
              "    </tr>\n",
              "    <tr>\n",
              "      <th>Rufus</th>\n",
              "      <td>Amazon.com</td>\n",
              "      <td>9</td>\n",
              "    </tr>\n",
              "    <tr>\n",
              "      <th>Sutter Brown</th>\n",
              "      <td>Jerry Brown (gov of Cali)</td>\n",
              "      <td>8</td>\n",
              "    </tr>\n",
              "    <tr>\n",
              "      <th>Not Real</th>\n",
              "      <th>Hope Corgi</th>\n",
              "      <td>DC Comics</td>\n",
              "      <td>11</td>\n",
              "    </tr>\n",
              "  </tbody>\n",
              "</table>\n",
              "</div>"
            ],
            "text/plain": [
              "                                                                      Source  Cuteness\n",
              "Is this Real or Not Real? Unnamed: 0                                                  \n",
              "Real                      Holly                             Queen of England         7\n",
              "                          Ralph                                    Instagram         7\n",
              "                          Molly (\"Thing of Evil\")               Stephen King         9\n",
              "Not Real                  Ein                                   Cowboy Bebop        11\n",
              "Real                      Loki                                     Instagram         8\n",
              "                          Rufus                                   Amazon.com         9\n",
              "                          Sutter Brown             Jerry Brown (gov of Cali)         8\n",
              "Not Real                  Hope Corgi                               DC Comics        11"
            ]
          },
          "metadata": {
            "tags": []
          },
          "execution_count": 57
        }
      ]
    },
    {
      "cell_type": "code",
      "metadata": {
        "id": "bZbwpKfbrIij",
        "colab_type": "code",
        "outputId": "682d9141-ff0b-4a0c-e303-818201f823c2",
        "colab": {
          "base_uri": "https://localhost:8080/",
          "height": 379
        }
      },
      "source": [
        "df_corgi_names.sort_index(inplace=True)\n",
        "\n",
        "df_corgi_names"
      ],
      "execution_count": 0,
      "outputs": [
        {
          "output_type": "execute_result",
          "data": {
            "text/html": [
              "<div>\n",
              "<style scoped>\n",
              "    .dataframe tbody tr th:only-of-type {\n",
              "        vertical-align: middle;\n",
              "    }\n",
              "\n",
              "    .dataframe tbody tr th {\n",
              "        vertical-align: top;\n",
              "    }\n",
              "\n",
              "    .dataframe thead th {\n",
              "        text-align: right;\n",
              "    }\n",
              "</style>\n",
              "<table border=\"1\" class=\"dataframe\">\n",
              "  <thead>\n",
              "    <tr style=\"text-align: right;\">\n",
              "      <th></th>\n",
              "      <th></th>\n",
              "      <th>Source</th>\n",
              "      <th>Cuteness</th>\n",
              "    </tr>\n",
              "    <tr>\n",
              "      <th>Is this Real or Not Real?</th>\n",
              "      <th>Unnamed: 0</th>\n",
              "      <th></th>\n",
              "      <th></th>\n",
              "    </tr>\n",
              "  </thead>\n",
              "  <tbody>\n",
              "    <tr>\n",
              "      <th rowspan=\"2\" valign=\"top\">Not Real</th>\n",
              "      <th>Ein</th>\n",
              "      <td>Cowboy Bebop</td>\n",
              "      <td>11</td>\n",
              "    </tr>\n",
              "    <tr>\n",
              "      <th>Hope Corgi</th>\n",
              "      <td>DC Comics</td>\n",
              "      <td>11</td>\n",
              "    </tr>\n",
              "    <tr>\n",
              "      <th rowspan=\"6\" valign=\"top\">Real</th>\n",
              "      <th>Holly</th>\n",
              "      <td>Queen of England</td>\n",
              "      <td>7</td>\n",
              "    </tr>\n",
              "    <tr>\n",
              "      <th>Loki</th>\n",
              "      <td>Instagram</td>\n",
              "      <td>8</td>\n",
              "    </tr>\n",
              "    <tr>\n",
              "      <th>Molly (\"Thing of Evil\")</th>\n",
              "      <td>Stephen King</td>\n",
              "      <td>9</td>\n",
              "    </tr>\n",
              "    <tr>\n",
              "      <th>Ralph</th>\n",
              "      <td>Instagram</td>\n",
              "      <td>7</td>\n",
              "    </tr>\n",
              "    <tr>\n",
              "      <th>Rufus</th>\n",
              "      <td>Amazon.com</td>\n",
              "      <td>9</td>\n",
              "    </tr>\n",
              "    <tr>\n",
              "      <th>Sutter Brown</th>\n",
              "      <td>Jerry Brown (gov of Cali)</td>\n",
              "      <td>8</td>\n",
              "    </tr>\n",
              "  </tbody>\n",
              "</table>\n",
              "</div>"
            ],
            "text/plain": [
              "                                                                      Source  Cuteness\n",
              "Is this Real or Not Real? Unnamed: 0                                                  \n",
              "Not Real                  Ein                                   Cowboy Bebop        11\n",
              "                          Hope Corgi                               DC Comics        11\n",
              "Real                      Holly                             Queen of England         7\n",
              "                          Loki                                     Instagram         8\n",
              "                          Molly (\"Thing of Evil\")               Stephen King         9\n",
              "                          Ralph                                    Instagram         7\n",
              "                          Rufus                                   Amazon.com         9\n",
              "                          Sutter Brown             Jerry Brown (gov of Cali)         8"
            ]
          },
          "metadata": {
            "tags": []
          },
          "execution_count": 60
        }
      ]
    },
    {
      "cell_type": "markdown",
      "metadata": {
        "id": "XEy4rhgmth2I",
        "colab_type": "text"
      },
      "source": [
        "Working with <i>groupby</i>\n",
        "\n",
        "https://www.datacamp.com/community/tutorials/pandas-split-apply-combine-groupby"
      ]
    },
    {
      "cell_type": "code",
      "metadata": {
        "id": "Gv2kIlPIrZhF",
        "colab_type": "code",
        "colab": {
          "base_uri": "https://localhost:8080/",
          "height": 297
        },
        "outputId": "3ea2df8f-aa29-48f8-b132-031205346f3c"
      },
      "source": [
        "corgiIndexed"
      ],
      "execution_count": 63,
      "outputs": [
        {
          "output_type": "execute_result",
          "data": {
            "text/html": [
              "<div>\n",
              "<style scoped>\n",
              "    .dataframe tbody tr th:only-of-type {\n",
              "        vertical-align: middle;\n",
              "    }\n",
              "\n",
              "    .dataframe tbody tr th {\n",
              "        vertical-align: top;\n",
              "    }\n",
              "\n",
              "    .dataframe thead th {\n",
              "        text-align: right;\n",
              "    }\n",
              "</style>\n",
              "<table border=\"1\" class=\"dataframe\">\n",
              "  <thead>\n",
              "    <tr style=\"text-align: right;\">\n",
              "      <th></th>\n",
              "      <th>Source</th>\n",
              "      <th>Is this Real or Not Real?</th>\n",
              "      <th>Cuteness</th>\n",
              "    </tr>\n",
              "  </thead>\n",
              "  <tbody>\n",
              "    <tr>\n",
              "      <th>Holly</th>\n",
              "      <td>Queen of England</td>\n",
              "      <td>Real</td>\n",
              "      <td>7</td>\n",
              "    </tr>\n",
              "    <tr>\n",
              "      <th>Ralph</th>\n",
              "      <td>Instagram</td>\n",
              "      <td>Real</td>\n",
              "      <td>7</td>\n",
              "    </tr>\n",
              "    <tr>\n",
              "      <th>Molly (\"Thing of Evil\")</th>\n",
              "      <td>Stephen King</td>\n",
              "      <td>Real</td>\n",
              "      <td>9</td>\n",
              "    </tr>\n",
              "    <tr>\n",
              "      <th>Ein</th>\n",
              "      <td>Cowboy Bebop</td>\n",
              "      <td>Not Real</td>\n",
              "      <td>11</td>\n",
              "    </tr>\n",
              "    <tr>\n",
              "      <th>Loki</th>\n",
              "      <td>Instagram</td>\n",
              "      <td>Real</td>\n",
              "      <td>8</td>\n",
              "    </tr>\n",
              "    <tr>\n",
              "      <th>Rufus</th>\n",
              "      <td>Amazon.com</td>\n",
              "      <td>Real</td>\n",
              "      <td>9</td>\n",
              "    </tr>\n",
              "    <tr>\n",
              "      <th>Sutter Brown</th>\n",
              "      <td>Jerry Brown (gov of Cali)</td>\n",
              "      <td>Real</td>\n",
              "      <td>8</td>\n",
              "    </tr>\n",
              "    <tr>\n",
              "      <th>Hope Corgi</th>\n",
              "      <td>DC Comics</td>\n",
              "      <td>Not Real</td>\n",
              "      <td>11</td>\n",
              "    </tr>\n",
              "  </tbody>\n",
              "</table>\n",
              "</div>"
            ],
            "text/plain": [
              "                                            Source  ... Cuteness\n",
              "Holly                             Queen of England  ...        7\n",
              "Ralph                                    Instagram  ...        7\n",
              "Molly (\"Thing of Evil\")               Stephen King  ...        9\n",
              "Ein                                   Cowboy Bebop  ...       11\n",
              "Loki                                     Instagram  ...        8\n",
              "Rufus                                   Amazon.com  ...        9\n",
              "Sutter Brown             Jerry Brown (gov of Cali)  ...        8\n",
              "Hope Corgi                               DC Comics  ...       11\n",
              "\n",
              "[8 rows x 3 columns]"
            ]
          },
          "metadata": {
            "tags": []
          },
          "execution_count": 63
        }
      ]
    },
    {
      "cell_type": "code",
      "metadata": {
        "id": "n8QweYkKtmND",
        "colab_type": "code",
        "colab": {
          "base_uri": "https://localhost:8080/",
          "height": 34
        },
        "outputId": "eff8f6b3-680d-45ba-f0c4-ab803d5f473c"
      },
      "source": [
        "ci_grouped = corgiIndexed.groupby('Is this Real or Not Real?')\n",
        "ci_grouped"
      ],
      "execution_count": 65,
      "outputs": [
        {
          "output_type": "execute_result",
          "data": {
            "text/plain": [
              "<pandas.core.groupby.generic.DataFrameGroupBy object at 0x7ff7730af8d0>"
            ]
          },
          "metadata": {
            "tags": []
          },
          "execution_count": 65
        }
      ]
    },
    {
      "cell_type": "code",
      "metadata": {
        "id": "QuC9QdQVtuyw",
        "colab_type": "code",
        "colab": {
          "base_uri": "https://localhost:8080/",
          "height": 173
        },
        "outputId": "2d571833-8bb2-4a82-a83d-8398f2a3f7ea"
      },
      "source": [
        "ci_grouped.describe()"
      ],
      "execution_count": 67,
      "outputs": [
        {
          "output_type": "execute_result",
          "data": {
            "text/html": [
              "<div>\n",
              "<style scoped>\n",
              "    .dataframe tbody tr th:only-of-type {\n",
              "        vertical-align: middle;\n",
              "    }\n",
              "\n",
              "    .dataframe tbody tr th {\n",
              "        vertical-align: top;\n",
              "    }\n",
              "\n",
              "    .dataframe thead tr th {\n",
              "        text-align: left;\n",
              "    }\n",
              "\n",
              "    .dataframe thead tr:last-of-type th {\n",
              "        text-align: right;\n",
              "    }\n",
              "</style>\n",
              "<table border=\"1\" class=\"dataframe\">\n",
              "  <thead>\n",
              "    <tr>\n",
              "      <th></th>\n",
              "      <th colspan=\"8\" halign=\"left\">Cuteness</th>\n",
              "    </tr>\n",
              "    <tr>\n",
              "      <th></th>\n",
              "      <th>count</th>\n",
              "      <th>mean</th>\n",
              "      <th>std</th>\n",
              "      <th>min</th>\n",
              "      <th>25%</th>\n",
              "      <th>50%</th>\n",
              "      <th>75%</th>\n",
              "      <th>max</th>\n",
              "    </tr>\n",
              "    <tr>\n",
              "      <th>Is this Real or Not Real?</th>\n",
              "      <th></th>\n",
              "      <th></th>\n",
              "      <th></th>\n",
              "      <th></th>\n",
              "      <th></th>\n",
              "      <th></th>\n",
              "      <th></th>\n",
              "      <th></th>\n",
              "    </tr>\n",
              "  </thead>\n",
              "  <tbody>\n",
              "    <tr>\n",
              "      <th>Not Real</th>\n",
              "      <td>2.0</td>\n",
              "      <td>11.0</td>\n",
              "      <td>0.000000</td>\n",
              "      <td>11.0</td>\n",
              "      <td>11.00</td>\n",
              "      <td>11.0</td>\n",
              "      <td>11.00</td>\n",
              "      <td>11.0</td>\n",
              "    </tr>\n",
              "    <tr>\n",
              "      <th>Real</th>\n",
              "      <td>6.0</td>\n",
              "      <td>8.0</td>\n",
              "      <td>0.894427</td>\n",
              "      <td>7.0</td>\n",
              "      <td>7.25</td>\n",
              "      <td>8.0</td>\n",
              "      <td>8.75</td>\n",
              "      <td>9.0</td>\n",
              "    </tr>\n",
              "  </tbody>\n",
              "</table>\n",
              "</div>"
            ],
            "text/plain": [
              "                          Cuteness                  ...                   \n",
              "                             count  mean       std  ...   50%    75%   max\n",
              "Is this Real or Not Real?                           ...                   \n",
              "Not Real                       2.0  11.0  0.000000  ...  11.0  11.00  11.0\n",
              "Real                           6.0   8.0  0.894427  ...   8.0   8.75   9.0\n",
              "\n",
              "[2 rows x 8 columns]"
            ]
          },
          "metadata": {
            "tags": []
          },
          "execution_count": 67
        }
      ]
    },
    {
      "cell_type": "code",
      "metadata": {
        "id": "v2EuVeFBt2KJ",
        "colab_type": "code",
        "colab": {
          "base_uri": "https://localhost:8080/",
          "height": 221
        },
        "outputId": "b14732a9-78d2-4515-aa6d-21ef83aed821"
      },
      "source": [
        "list(ci_grouped)"
      ],
      "execution_count": 68,
      "outputs": [
        {
          "output_type": "execute_result",
          "data": {
            "text/plain": [
              "[('Not Real',                   Source Is this Real or Not Real?  Cuteness\n",
              "  Ein         Cowboy Bebop                  Not Real        11\n",
              "  Hope Corgi     DC Comics                  Not Real        11),\n",
              " ('Real',                                             Source  ... Cuteness\n",
              "  Holly                             Queen of England  ...        7\n",
              "  Ralph                                    Instagram  ...        7\n",
              "  Molly (\"Thing of Evil\")               Stephen King  ...        9\n",
              "  Loki                                     Instagram  ...        8\n",
              "  Rufus                                   Amazon.com  ...        9\n",
              "  Sutter Brown             Jerry Brown (gov of Cali)  ...        8\n",
              "  \n",
              "  [6 rows x 3 columns])]"
            ]
          },
          "metadata": {
            "tags": []
          },
          "execution_count": 68
        }
      ]
    },
    {
      "cell_type": "code",
      "metadata": {
        "id": "YyZIS8w-wSDA",
        "colab_type": "code",
        "colab": {
          "base_uri": "https://localhost:8080/",
          "height": 142
        },
        "outputId": "56c55851-b167-48a8-8c35-decef60a0d32"
      },
      "source": [
        "ci_med_by_real = ci_grouped.median()\n",
        "\n",
        "ci_med_by_real"
      ],
      "execution_count": 70,
      "outputs": [
        {
          "output_type": "execute_result",
          "data": {
            "text/html": [
              "<div>\n",
              "<style scoped>\n",
              "    .dataframe tbody tr th:only-of-type {\n",
              "        vertical-align: middle;\n",
              "    }\n",
              "\n",
              "    .dataframe tbody tr th {\n",
              "        vertical-align: top;\n",
              "    }\n",
              "\n",
              "    .dataframe thead th {\n",
              "        text-align: right;\n",
              "    }\n",
              "</style>\n",
              "<table border=\"1\" class=\"dataframe\">\n",
              "  <thead>\n",
              "    <tr style=\"text-align: right;\">\n",
              "      <th></th>\n",
              "      <th>Cuteness</th>\n",
              "    </tr>\n",
              "    <tr>\n",
              "      <th>Is this Real or Not Real?</th>\n",
              "      <th></th>\n",
              "    </tr>\n",
              "  </thead>\n",
              "  <tbody>\n",
              "    <tr>\n",
              "      <th>Not Real</th>\n",
              "      <td>11</td>\n",
              "    </tr>\n",
              "    <tr>\n",
              "      <th>Real</th>\n",
              "      <td>8</td>\n",
              "    </tr>\n",
              "  </tbody>\n",
              "</table>\n",
              "</div>"
            ],
            "text/plain": [
              "                           Cuteness\n",
              "Is this Real or Not Real?          \n",
              "Not Real                         11\n",
              "Real                              8"
            ]
          },
          "metadata": {
            "tags": []
          },
          "execution_count": 70
        }
      ]
    },
    {
      "cell_type": "code",
      "metadata": {
        "id": "gq_o7KHYwqbQ",
        "colab_type": "code",
        "colab": {}
      },
      "source": [
        ""
      ],
      "execution_count": 0,
      "outputs": []
    }
  ]
}