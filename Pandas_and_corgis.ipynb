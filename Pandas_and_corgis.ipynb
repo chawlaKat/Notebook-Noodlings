{
  "nbformat": 4,
  "nbformat_minor": 0,
  "metadata": {
    "colab": {
      "name": "Pandas_and_corgis.ipynb",
      "version": "0.3.2",
      "provenance": [],
      "collapsed_sections": [],
      "include_colab_link": true
    },
    "kernelspec": {
      "name": "python3",
      "display_name": "Python 3"
    }
  },
  "cells": [
    {
      "cell_type": "markdown",
      "metadata": {
        "id": "view-in-github",
        "colab_type": "text"
      },
      "source": [
        "<a href=\"https://colab.research.google.com/github/chawlaKat/Notebook-Noodlings/blob/master/Pandas_and_corgis.ipynb\" target=\"_parent\"><img src=\"https://colab.research.google.com/assets/colab-badge.svg\" alt=\"Open In Colab\"/></a>"
      ]
    },
    {
      "cell_type": "markdown",
      "metadata": {
        "id": "FvzGVOFk1--J",
        "colab_type": "text"
      },
      "source": [
        "This notebook is concerned with learning the Pandas library. Also, this is where I discovered corgi mode (Tools -> Preferences -> Corgi Mode), so there's a corgi-inspired data set a little later on.\n",
        "\n",
        "\n",
        "Uses files:\n",
        "\n",
        "\n",
        "*  california_housing_test.csv (colab sample file)\n",
        "*  anscombe.json (colab sample file)\n",
        "*  corgi_test_data.csv\n",
        "\n"
      ]
    },
    {
      "cell_type": "markdown",
      "metadata": {
        "id": "2qZsP-V1FjqS",
        "colab_type": "text"
      },
      "source": [
        "Follows tutorial: https://learndatasci.com/tutorials/python-pandas-tutorial-complete-introduction-for-beginners/ "
      ]
    },
    {
      "cell_type": "code",
      "metadata": {
        "id": "pp_Up_aVFL5V",
        "colab_type": "code",
        "colab": {}
      },
      "source": [
        "#pip install pandas\n",
        "#got em (works out of the box) "
      ],
      "execution_count": 0,
      "outputs": []
    },
    {
      "cell_type": "code",
      "metadata": {
        "id": "jnQBbNIbGDXY",
        "colab_type": "code",
        "colab": {}
      },
      "source": [
        "import pandas as pd"
      ],
      "execution_count": 0,
      "outputs": []
    },
    {
      "cell_type": "markdown",
      "metadata": {
        "id": "aK9Dxw3KGVkh",
        "colab_type": "text"
      },
      "source": [
        "<p><b>Core components: </b><br>\n",
        "Series = ordered list with single header (one column) <br>\n",
        "DataFrame = multi-dimensional table made of Series</p>\n",
        "<p>Lots of ways to make a DataFrame! <br>Simple way is a <i>dict</i></p>\n",
        "\n",
        "<p>Note: a group of pandas is called an \"embarassment\", apparently. Awww.</p>\n",
        "Data from: <a href=\"https://minecraft.gamepedia.com/Panda\">https://minecraft.gamepedia.com/Panda</a>"
      ]
    },
    {
      "cell_type": "code",
      "metadata": {
        "id": "sPpR-fhIGfWC",
        "colab_type": "code",
        "outputId": "b5d15ac3-bfaf-4127-f72a-fc5e4eed6016",
        "colab": {
          "base_uri": "https://localhost:8080/",
          "height": 204
        }
      },
      "source": [
        "minecraftPandaTypes = {\n",
        "    'behavior' : [\"lay on back\",\"hide face during thunder\",\"roll and jump\",\n",
        "                  \"attack when hit\", \"follow player holding bamboo\"],\n",
        "    'speed' : [\"slow\",\"normal\",\"normal\",\"normal with long reach\",\"normal\"], \n",
        "    'expression' : [\"smiling\",\"'puppy' eyes\", \"tongue out\", \"angry eyebrows\", \n",
        "                    \"frowning\"]  \n",
        "}\n",
        "\n",
        "embarassment = pd.DataFrame(minecraftPandaTypes) \n",
        "\n",
        "embarassment"
      ],
      "execution_count": 0,
      "outputs": [
        {
          "output_type": "execute_result",
          "data": {
            "text/html": [
              "<div>\n",
              "<style scoped>\n",
              "    .dataframe tbody tr th:only-of-type {\n",
              "        vertical-align: middle;\n",
              "    }\n",
              "\n",
              "    .dataframe tbody tr th {\n",
              "        vertical-align: top;\n",
              "    }\n",
              "\n",
              "    .dataframe thead th {\n",
              "        text-align: right;\n",
              "    }\n",
              "</style>\n",
              "<table border=\"1\" class=\"dataframe\">\n",
              "  <thead>\n",
              "    <tr style=\"text-align: right;\">\n",
              "      <th></th>\n",
              "      <th>behavior</th>\n",
              "      <th>speed</th>\n",
              "      <th>expression</th>\n",
              "    </tr>\n",
              "  </thead>\n",
              "  <tbody>\n",
              "    <tr>\n",
              "      <th>0</th>\n",
              "      <td>lay on back</td>\n",
              "      <td>slow</td>\n",
              "      <td>smiling</td>\n",
              "    </tr>\n",
              "    <tr>\n",
              "      <th>1</th>\n",
              "      <td>hide face during thunder</td>\n",
              "      <td>normal</td>\n",
              "      <td>'puppy' eyes</td>\n",
              "    </tr>\n",
              "    <tr>\n",
              "      <th>2</th>\n",
              "      <td>roll and jump</td>\n",
              "      <td>normal</td>\n",
              "      <td>tongue out</td>\n",
              "    </tr>\n",
              "    <tr>\n",
              "      <th>3</th>\n",
              "      <td>attack when hit</td>\n",
              "      <td>normal with long reach</td>\n",
              "      <td>angry eyebrows</td>\n",
              "    </tr>\n",
              "    <tr>\n",
              "      <th>4</th>\n",
              "      <td>follow player holding bamboo</td>\n",
              "      <td>normal</td>\n",
              "      <td>frowning</td>\n",
              "    </tr>\n",
              "  </tbody>\n",
              "</table>\n",
              "</div>"
            ],
            "text/plain": [
              "                       behavior                   speed      expression\n",
              "0                   lay on back                    slow         smiling\n",
              "1      hide face during thunder                  normal    'puppy' eyes\n",
              "2                 roll and jump                  normal      tongue out\n",
              "3               attack when hit  normal with long reach  angry eyebrows\n",
              "4  follow player holding bamboo                  normal        frowning"
            ]
          },
          "metadata": {
            "tags": []
          },
          "execution_count": 13
        }
      ]
    },
    {
      "cell_type": "markdown",
      "metadata": {
        "id": "X6zCJc4gH4-S",
        "colab_type": "text"
      },
      "source": [
        "In each <i>(key, value)</i> pair, the <i>key</i> is the header, and the <i>value</i> vector contains the numbers. The value vectors must all be the same length!"
      ]
    },
    {
      "cell_type": "code",
      "metadata": {
        "id": "7cp8_NutHo-y",
        "colab_type": "code",
        "outputId": "0ab1d2cd-5305-4243-b858-17af15ada44c",
        "colab": {
          "base_uri": "https://localhost:8080/",
          "height": 204
        }
      },
      "source": [
        "embarassment = pd.DataFrame(minecraftPandaTypes, index=['Lazy', 'Worried', \n",
        "                                                        'Playful', 'Aggressive',\n",
        "                                                       'Normal'])\n",
        "\n",
        "embarassment"
      ],
      "execution_count": 0,
      "outputs": [
        {
          "output_type": "execute_result",
          "data": {
            "text/html": [
              "<div>\n",
              "<style scoped>\n",
              "    .dataframe tbody tr th:only-of-type {\n",
              "        vertical-align: middle;\n",
              "    }\n",
              "\n",
              "    .dataframe tbody tr th {\n",
              "        vertical-align: top;\n",
              "    }\n",
              "\n",
              "    .dataframe thead th {\n",
              "        text-align: right;\n",
              "    }\n",
              "</style>\n",
              "<table border=\"1\" class=\"dataframe\">\n",
              "  <thead>\n",
              "    <tr style=\"text-align: right;\">\n",
              "      <th></th>\n",
              "      <th>behavior</th>\n",
              "      <th>speed</th>\n",
              "      <th>expression</th>\n",
              "    </tr>\n",
              "  </thead>\n",
              "  <tbody>\n",
              "    <tr>\n",
              "      <th>Lazy</th>\n",
              "      <td>lay on back</td>\n",
              "      <td>slow</td>\n",
              "      <td>smiling</td>\n",
              "    </tr>\n",
              "    <tr>\n",
              "      <th>Worried</th>\n",
              "      <td>hide face during thunder</td>\n",
              "      <td>normal</td>\n",
              "      <td>'puppy' eyes</td>\n",
              "    </tr>\n",
              "    <tr>\n",
              "      <th>Playful</th>\n",
              "      <td>roll and jump</td>\n",
              "      <td>normal</td>\n",
              "      <td>tongue out</td>\n",
              "    </tr>\n",
              "    <tr>\n",
              "      <th>Aggressive</th>\n",
              "      <td>attack when hit</td>\n",
              "      <td>normal with long reach</td>\n",
              "      <td>angry eyebrows</td>\n",
              "    </tr>\n",
              "    <tr>\n",
              "      <th>Normal</th>\n",
              "      <td>follow player holding bamboo</td>\n",
              "      <td>normal</td>\n",
              "      <td>frowning</td>\n",
              "    </tr>\n",
              "  </tbody>\n",
              "</table>\n",
              "</div>"
            ],
            "text/plain": [
              "                                behavior  ...      expression\n",
              "Lazy                         lay on back  ...         smiling\n",
              "Worried         hide face during thunder  ...    'puppy' eyes\n",
              "Playful                    roll and jump  ...      tongue out\n",
              "Aggressive               attack when hit  ...  angry eyebrows\n",
              "Normal      follow player holding bamboo  ...        frowning\n",
              "\n",
              "[5 rows x 3 columns]"
            ]
          },
          "metadata": {
            "tags": []
          },
          "execution_count": 14
        }
      ]
    },
    {
      "cell_type": "code",
      "metadata": {
        "id": "41n3hv9dIaji",
        "colab_type": "code",
        "outputId": "94737318-6967-4986-9afa-381a2a1c92fe",
        "colab": {
          "base_uri": "https://localhost:8080/",
          "height": 85
        }
      },
      "source": [
        "embarassment.loc['Playful']"
      ],
      "execution_count": 0,
      "outputs": [
        {
          "output_type": "execute_result",
          "data": {
            "text/plain": [
              "behavior      roll and jump\n",
              "speed                normal\n",
              "expression       tongue out\n",
              "Name: Playful, dtype: object"
            ]
          },
          "metadata": {
            "tags": []
          },
          "execution_count": 10
        }
      ]
    },
    {
      "cell_type": "code",
      "metadata": {
        "id": "xTIqXQpMIriC",
        "colab_type": "code",
        "outputId": "74d59ae0-bed9-4f9e-e7a9-f9d5f38d0eb4",
        "colab": {
          "base_uri": "https://localhost:8080/",
          "height": 34
        }
      },
      "source": [
        "embarassment.loc['Aggressive']['expression'] "
      ],
      "execution_count": 0,
      "outputs": [
        {
          "output_type": "execute_result",
          "data": {
            "text/plain": [
              "'angry eyebrows'"
            ]
          },
          "metadata": {
            "tags": []
          },
          "execution_count": 12
        }
      ]
    },
    {
      "cell_type": "markdown",
      "metadata": {
        "id": "1ZOCTTU6JZhL",
        "colab_type": "text"
      },
      "source": [
        "<br>\n",
        "\n",
        "<h3>But wait, there's more!</h3>\n",
        "\n",
        "<body>\n",
        "  Import from csv using read_csv() \n",
        "  \n",
        "  </body>\n",
        "  \n",
        "  <br>"
      ]
    },
    {
      "cell_type": "code",
      "metadata": {
        "id": "Y1sPwpABIvZC",
        "colab_type": "code",
        "outputId": "17f7fcd8-ac03-4241-c9ee-f999cc20c19a",
        "colab": {
          "base_uri": "https://localhost:8080/",
          "height": 1989
        }
      },
      "source": [
        "housing_dataframe = pd.read_csv('sample_data/california_housing_test.csv') \n",
        "\n",
        "housing_dataframe"
      ],
      "execution_count": 0,
      "outputs": [
        {
          "output_type": "execute_result",
          "data": {
            "text/html": [
              "<div>\n",
              "<style scoped>\n",
              "    .dataframe tbody tr th:only-of-type {\n",
              "        vertical-align: middle;\n",
              "    }\n",
              "\n",
              "    .dataframe tbody tr th {\n",
              "        vertical-align: top;\n",
              "    }\n",
              "\n",
              "    .dataframe thead th {\n",
              "        text-align: right;\n",
              "    }\n",
              "</style>\n",
              "<table border=\"1\" class=\"dataframe\">\n",
              "  <thead>\n",
              "    <tr style=\"text-align: right;\">\n",
              "      <th></th>\n",
              "      <th>longitude</th>\n",
              "      <th>latitude</th>\n",
              "      <th>housing_median_age</th>\n",
              "      <th>total_rooms</th>\n",
              "      <th>total_bedrooms</th>\n",
              "      <th>population</th>\n",
              "      <th>households</th>\n",
              "      <th>median_income</th>\n",
              "      <th>median_house_value</th>\n",
              "    </tr>\n",
              "  </thead>\n",
              "  <tbody>\n",
              "    <tr>\n",
              "      <th>0</th>\n",
              "      <td>-122.05</td>\n",
              "      <td>37.37</td>\n",
              "      <td>27.0</td>\n",
              "      <td>3885.0</td>\n",
              "      <td>661.0</td>\n",
              "      <td>1537.0</td>\n",
              "      <td>606.0</td>\n",
              "      <td>6.6085</td>\n",
              "      <td>344700.0</td>\n",
              "    </tr>\n",
              "    <tr>\n",
              "      <th>1</th>\n",
              "      <td>-118.30</td>\n",
              "      <td>34.26</td>\n",
              "      <td>43.0</td>\n",
              "      <td>1510.0</td>\n",
              "      <td>310.0</td>\n",
              "      <td>809.0</td>\n",
              "      <td>277.0</td>\n",
              "      <td>3.5990</td>\n",
              "      <td>176500.0</td>\n",
              "    </tr>\n",
              "    <tr>\n",
              "      <th>2</th>\n",
              "      <td>-117.81</td>\n",
              "      <td>33.78</td>\n",
              "      <td>27.0</td>\n",
              "      <td>3589.0</td>\n",
              "      <td>507.0</td>\n",
              "      <td>1484.0</td>\n",
              "      <td>495.0</td>\n",
              "      <td>5.7934</td>\n",
              "      <td>270500.0</td>\n",
              "    </tr>\n",
              "    <tr>\n",
              "      <th>3</th>\n",
              "      <td>-118.36</td>\n",
              "      <td>33.82</td>\n",
              "      <td>28.0</td>\n",
              "      <td>67.0</td>\n",
              "      <td>15.0</td>\n",
              "      <td>49.0</td>\n",
              "      <td>11.0</td>\n",
              "      <td>6.1359</td>\n",
              "      <td>330000.0</td>\n",
              "    </tr>\n",
              "    <tr>\n",
              "      <th>4</th>\n",
              "      <td>-119.67</td>\n",
              "      <td>36.33</td>\n",
              "      <td>19.0</td>\n",
              "      <td>1241.0</td>\n",
              "      <td>244.0</td>\n",
              "      <td>850.0</td>\n",
              "      <td>237.0</td>\n",
              "      <td>2.9375</td>\n",
              "      <td>81700.0</td>\n",
              "    </tr>\n",
              "    <tr>\n",
              "      <th>5</th>\n",
              "      <td>-119.56</td>\n",
              "      <td>36.51</td>\n",
              "      <td>37.0</td>\n",
              "      <td>1018.0</td>\n",
              "      <td>213.0</td>\n",
              "      <td>663.0</td>\n",
              "      <td>204.0</td>\n",
              "      <td>1.6635</td>\n",
              "      <td>67000.0</td>\n",
              "    </tr>\n",
              "    <tr>\n",
              "      <th>6</th>\n",
              "      <td>-121.43</td>\n",
              "      <td>38.63</td>\n",
              "      <td>43.0</td>\n",
              "      <td>1009.0</td>\n",
              "      <td>225.0</td>\n",
              "      <td>604.0</td>\n",
              "      <td>218.0</td>\n",
              "      <td>1.6641</td>\n",
              "      <td>67000.0</td>\n",
              "    </tr>\n",
              "    <tr>\n",
              "      <th>7</th>\n",
              "      <td>-120.65</td>\n",
              "      <td>35.48</td>\n",
              "      <td>19.0</td>\n",
              "      <td>2310.0</td>\n",
              "      <td>471.0</td>\n",
              "      <td>1341.0</td>\n",
              "      <td>441.0</td>\n",
              "      <td>3.2250</td>\n",
              "      <td>166900.0</td>\n",
              "    </tr>\n",
              "    <tr>\n",
              "      <th>8</th>\n",
              "      <td>-122.84</td>\n",
              "      <td>38.40</td>\n",
              "      <td>15.0</td>\n",
              "      <td>3080.0</td>\n",
              "      <td>617.0</td>\n",
              "      <td>1446.0</td>\n",
              "      <td>599.0</td>\n",
              "      <td>3.6696</td>\n",
              "      <td>194400.0</td>\n",
              "    </tr>\n",
              "    <tr>\n",
              "      <th>9</th>\n",
              "      <td>-118.02</td>\n",
              "      <td>34.08</td>\n",
              "      <td>31.0</td>\n",
              "      <td>2402.0</td>\n",
              "      <td>632.0</td>\n",
              "      <td>2830.0</td>\n",
              "      <td>603.0</td>\n",
              "      <td>2.3333</td>\n",
              "      <td>164200.0</td>\n",
              "    </tr>\n",
              "    <tr>\n",
              "      <th>10</th>\n",
              "      <td>-118.24</td>\n",
              "      <td>33.98</td>\n",
              "      <td>45.0</td>\n",
              "      <td>972.0</td>\n",
              "      <td>249.0</td>\n",
              "      <td>1288.0</td>\n",
              "      <td>261.0</td>\n",
              "      <td>2.2054</td>\n",
              "      <td>125000.0</td>\n",
              "    </tr>\n",
              "    <tr>\n",
              "      <th>11</th>\n",
              "      <td>-119.12</td>\n",
              "      <td>35.85</td>\n",
              "      <td>37.0</td>\n",
              "      <td>736.0</td>\n",
              "      <td>166.0</td>\n",
              "      <td>564.0</td>\n",
              "      <td>138.0</td>\n",
              "      <td>2.4167</td>\n",
              "      <td>58300.0</td>\n",
              "    </tr>\n",
              "    <tr>\n",
              "      <th>12</th>\n",
              "      <td>-121.93</td>\n",
              "      <td>37.25</td>\n",
              "      <td>36.0</td>\n",
              "      <td>1089.0</td>\n",
              "      <td>182.0</td>\n",
              "      <td>535.0</td>\n",
              "      <td>170.0</td>\n",
              "      <td>4.6900</td>\n",
              "      <td>252600.0</td>\n",
              "    </tr>\n",
              "    <tr>\n",
              "      <th>13</th>\n",
              "      <td>-117.03</td>\n",
              "      <td>32.97</td>\n",
              "      <td>16.0</td>\n",
              "      <td>3936.0</td>\n",
              "      <td>694.0</td>\n",
              "      <td>1935.0</td>\n",
              "      <td>659.0</td>\n",
              "      <td>4.5625</td>\n",
              "      <td>231200.0</td>\n",
              "    </tr>\n",
              "    <tr>\n",
              "      <th>14</th>\n",
              "      <td>-117.97</td>\n",
              "      <td>33.73</td>\n",
              "      <td>27.0</td>\n",
              "      <td>2097.0</td>\n",
              "      <td>325.0</td>\n",
              "      <td>1217.0</td>\n",
              "      <td>331.0</td>\n",
              "      <td>5.7121</td>\n",
              "      <td>222500.0</td>\n",
              "    </tr>\n",
              "    <tr>\n",
              "      <th>15</th>\n",
              "      <td>-117.99</td>\n",
              "      <td>33.81</td>\n",
              "      <td>42.0</td>\n",
              "      <td>161.0</td>\n",
              "      <td>40.0</td>\n",
              "      <td>157.0</td>\n",
              "      <td>50.0</td>\n",
              "      <td>2.2000</td>\n",
              "      <td>153100.0</td>\n",
              "    </tr>\n",
              "    <tr>\n",
              "      <th>16</th>\n",
              "      <td>-120.81</td>\n",
              "      <td>37.53</td>\n",
              "      <td>15.0</td>\n",
              "      <td>570.0</td>\n",
              "      <td>123.0</td>\n",
              "      <td>189.0</td>\n",
              "      <td>107.0</td>\n",
              "      <td>1.8750</td>\n",
              "      <td>181300.0</td>\n",
              "    </tr>\n",
              "    <tr>\n",
              "      <th>17</th>\n",
              "      <td>-121.20</td>\n",
              "      <td>38.69</td>\n",
              "      <td>26.0</td>\n",
              "      <td>3077.0</td>\n",
              "      <td>607.0</td>\n",
              "      <td>1603.0</td>\n",
              "      <td>595.0</td>\n",
              "      <td>2.7174</td>\n",
              "      <td>137500.0</td>\n",
              "    </tr>\n",
              "    <tr>\n",
              "      <th>18</th>\n",
              "      <td>-118.88</td>\n",
              "      <td>34.21</td>\n",
              "      <td>26.0</td>\n",
              "      <td>1590.0</td>\n",
              "      <td>196.0</td>\n",
              "      <td>654.0</td>\n",
              "      <td>199.0</td>\n",
              "      <td>6.5851</td>\n",
              "      <td>300000.0</td>\n",
              "    </tr>\n",
              "    <tr>\n",
              "      <th>19</th>\n",
              "      <td>-122.59</td>\n",
              "      <td>38.01</td>\n",
              "      <td>35.0</td>\n",
              "      <td>8814.0</td>\n",
              "      <td>1307.0</td>\n",
              "      <td>3450.0</td>\n",
              "      <td>1258.0</td>\n",
              "      <td>6.1724</td>\n",
              "      <td>414300.0</td>\n",
              "    </tr>\n",
              "    <tr>\n",
              "      <th>20</th>\n",
              "      <td>-122.15</td>\n",
              "      <td>37.75</td>\n",
              "      <td>40.0</td>\n",
              "      <td>1445.0</td>\n",
              "      <td>256.0</td>\n",
              "      <td>849.0</td>\n",
              "      <td>255.0</td>\n",
              "      <td>3.8913</td>\n",
              "      <td>126300.0</td>\n",
              "    </tr>\n",
              "    <tr>\n",
              "      <th>21</th>\n",
              "      <td>-121.37</td>\n",
              "      <td>38.68</td>\n",
              "      <td>36.0</td>\n",
              "      <td>1775.0</td>\n",
              "      <td>296.0</td>\n",
              "      <td>937.0</td>\n",
              "      <td>305.0</td>\n",
              "      <td>3.1786</td>\n",
              "      <td>83400.0</td>\n",
              "    </tr>\n",
              "    <tr>\n",
              "      <th>22</th>\n",
              "      <td>-118.16</td>\n",
              "      <td>34.07</td>\n",
              "      <td>47.0</td>\n",
              "      <td>2994.0</td>\n",
              "      <td>543.0</td>\n",
              "      <td>1651.0</td>\n",
              "      <td>561.0</td>\n",
              "      <td>3.8644</td>\n",
              "      <td>241500.0</td>\n",
              "    </tr>\n",
              "    <tr>\n",
              "      <th>23</th>\n",
              "      <td>-122.20</td>\n",
              "      <td>37.79</td>\n",
              "      <td>45.0</td>\n",
              "      <td>2021.0</td>\n",
              "      <td>528.0</td>\n",
              "      <td>1410.0</td>\n",
              "      <td>480.0</td>\n",
              "      <td>2.7788</td>\n",
              "      <td>115400.0</td>\n",
              "    </tr>\n",
              "    <tr>\n",
              "      <th>24</th>\n",
              "      <td>-117.28</td>\n",
              "      <td>33.28</td>\n",
              "      <td>13.0</td>\n",
              "      <td>6131.0</td>\n",
              "      <td>1040.0</td>\n",
              "      <td>4049.0</td>\n",
              "      <td>940.0</td>\n",
              "      <td>3.8156</td>\n",
              "      <td>150700.0</td>\n",
              "    </tr>\n",
              "    <tr>\n",
              "      <th>25</th>\n",
              "      <td>-118.03</td>\n",
              "      <td>34.16</td>\n",
              "      <td>36.0</td>\n",
              "      <td>1401.0</td>\n",
              "      <td>218.0</td>\n",
              "      <td>667.0</td>\n",
              "      <td>225.0</td>\n",
              "      <td>7.1615</td>\n",
              "      <td>484700.0</td>\n",
              "    </tr>\n",
              "    <tr>\n",
              "      <th>26</th>\n",
              "      <td>-122.42</td>\n",
              "      <td>37.76</td>\n",
              "      <td>52.0</td>\n",
              "      <td>3587.0</td>\n",
              "      <td>1030.0</td>\n",
              "      <td>2259.0</td>\n",
              "      <td>979.0</td>\n",
              "      <td>2.5403</td>\n",
              "      <td>250000.0</td>\n",
              "    </tr>\n",
              "    <tr>\n",
              "      <th>27</th>\n",
              "      <td>-118.39</td>\n",
              "      <td>33.99</td>\n",
              "      <td>32.0</td>\n",
              "      <td>2612.0</td>\n",
              "      <td>418.0</td>\n",
              "      <td>1030.0</td>\n",
              "      <td>402.0</td>\n",
              "      <td>6.6030</td>\n",
              "      <td>369200.0</td>\n",
              "    </tr>\n",
              "    <tr>\n",
              "      <th>28</th>\n",
              "      <td>-118.45</td>\n",
              "      <td>34.07</td>\n",
              "      <td>19.0</td>\n",
              "      <td>4845.0</td>\n",
              "      <td>1609.0</td>\n",
              "      <td>3751.0</td>\n",
              "      <td>1539.0</td>\n",
              "      <td>1.5830</td>\n",
              "      <td>350000.0</td>\n",
              "    </tr>\n",
              "    <tr>\n",
              "      <th>29</th>\n",
              "      <td>-118.48</td>\n",
              "      <td>34.01</td>\n",
              "      <td>30.0</td>\n",
              "      <td>3078.0</td>\n",
              "      <td>954.0</td>\n",
              "      <td>1561.0</td>\n",
              "      <td>901.0</td>\n",
              "      <td>3.4852</td>\n",
              "      <td>425000.0</td>\n",
              "    </tr>\n",
              "    <tr>\n",
              "      <th>...</th>\n",
              "      <td>...</td>\n",
              "      <td>...</td>\n",
              "      <td>...</td>\n",
              "      <td>...</td>\n",
              "      <td>...</td>\n",
              "      <td>...</td>\n",
              "      <td>...</td>\n",
              "      <td>...</td>\n",
              "      <td>...</td>\n",
              "    </tr>\n",
              "    <tr>\n",
              "      <th>2970</th>\n",
              "      <td>-122.47</td>\n",
              "      <td>37.77</td>\n",
              "      <td>52.0</td>\n",
              "      <td>2241.0</td>\n",
              "      <td>443.0</td>\n",
              "      <td>1042.0</td>\n",
              "      <td>377.0</td>\n",
              "      <td>4.1635</td>\n",
              "      <td>398400.0</td>\n",
              "    </tr>\n",
              "    <tr>\n",
              "      <th>2971</th>\n",
              "      <td>-120.93</td>\n",
              "      <td>35.76</td>\n",
              "      <td>11.0</td>\n",
              "      <td>8997.0</td>\n",
              "      <td>1698.0</td>\n",
              "      <td>1825.0</td>\n",
              "      <td>756.0</td>\n",
              "      <td>3.2300</td>\n",
              "      <td>154300.0</td>\n",
              "    </tr>\n",
              "    <tr>\n",
              "      <th>2972</th>\n",
              "      <td>-118.14</td>\n",
              "      <td>34.17</td>\n",
              "      <td>52.0</td>\n",
              "      <td>2667.0</td>\n",
              "      <td>486.0</td>\n",
              "      <td>1681.0</td>\n",
              "      <td>504.0</td>\n",
              "      <td>4.0524</td>\n",
              "      <td>173100.0</td>\n",
              "    </tr>\n",
              "    <tr>\n",
              "      <th>2973</th>\n",
              "      <td>-122.73</td>\n",
              "      <td>38.46</td>\n",
              "      <td>14.0</td>\n",
              "      <td>4042.0</td>\n",
              "      <td>1298.0</td>\n",
              "      <td>2323.0</td>\n",
              "      <td>1158.0</td>\n",
              "      <td>2.0651</td>\n",
              "      <td>135400.0</td>\n",
              "    </tr>\n",
              "    <tr>\n",
              "      <th>2974</th>\n",
              "      <td>-117.06</td>\n",
              "      <td>32.76</td>\n",
              "      <td>37.0</td>\n",
              "      <td>2356.0</td>\n",
              "      <td>476.0</td>\n",
              "      <td>1231.0</td>\n",
              "      <td>499.0</td>\n",
              "      <td>2.9650</td>\n",
              "      <td>155700.0</td>\n",
              "    </tr>\n",
              "    <tr>\n",
              "      <th>2975</th>\n",
              "      <td>-120.71</td>\n",
              "      <td>35.50</td>\n",
              "      <td>12.0</td>\n",
              "      <td>3098.0</td>\n",
              "      <td>453.0</td>\n",
              "      <td>1433.0</td>\n",
              "      <td>434.0</td>\n",
              "      <td>5.2508</td>\n",
              "      <td>292900.0</td>\n",
              "    </tr>\n",
              "    <tr>\n",
              "      <th>2976</th>\n",
              "      <td>-118.31</td>\n",
              "      <td>34.05</td>\n",
              "      <td>35.0</td>\n",
              "      <td>1692.0</td>\n",
              "      <td>423.0</td>\n",
              "      <td>1578.0</td>\n",
              "      <td>406.0</td>\n",
              "      <td>2.5313</td>\n",
              "      <td>305800.0</td>\n",
              "    </tr>\n",
              "    <tr>\n",
              "      <th>2977</th>\n",
              "      <td>-119.70</td>\n",
              "      <td>36.75</td>\n",
              "      <td>11.0</td>\n",
              "      <td>3626.0</td>\n",
              "      <td>779.0</td>\n",
              "      <td>1819.0</td>\n",
              "      <td>731.0</td>\n",
              "      <td>2.4956</td>\n",
              "      <td>87500.0</td>\n",
              "    </tr>\n",
              "    <tr>\n",
              "      <th>2978</th>\n",
              "      <td>-121.34</td>\n",
              "      <td>38.64</td>\n",
              "      <td>17.0</td>\n",
              "      <td>2761.0</td>\n",
              "      <td>501.0</td>\n",
              "      <td>1128.0</td>\n",
              "      <td>482.0</td>\n",
              "      <td>3.7562</td>\n",
              "      <td>139700.0</td>\n",
              "    </tr>\n",
              "    <tr>\n",
              "      <th>2979</th>\n",
              "      <td>-117.91</td>\n",
              "      <td>34.09</td>\n",
              "      <td>20.0</td>\n",
              "      <td>4327.0</td>\n",
              "      <td>1037.0</td>\n",
              "      <td>2296.0</td>\n",
              "      <td>963.0</td>\n",
              "      <td>3.0441</td>\n",
              "      <td>185400.0</td>\n",
              "    </tr>\n",
              "    <tr>\n",
              "      <th>2980</th>\n",
              "      <td>-119.76</td>\n",
              "      <td>36.79</td>\n",
              "      <td>32.0</td>\n",
              "      <td>2463.0</td>\n",
              "      <td>468.0</td>\n",
              "      <td>1261.0</td>\n",
              "      <td>486.0</td>\n",
              "      <td>3.3281</td>\n",
              "      <td>75100.0</td>\n",
              "    </tr>\n",
              "    <tr>\n",
              "      <th>2981</th>\n",
              "      <td>-120.66</td>\n",
              "      <td>35.49</td>\n",
              "      <td>17.0</td>\n",
              "      <td>4422.0</td>\n",
              "      <td>945.0</td>\n",
              "      <td>2307.0</td>\n",
              "      <td>885.0</td>\n",
              "      <td>2.8285</td>\n",
              "      <td>171300.0</td>\n",
              "    </tr>\n",
              "    <tr>\n",
              "      <th>2982</th>\n",
              "      <td>-118.28</td>\n",
              "      <td>34.08</td>\n",
              "      <td>42.0</td>\n",
              "      <td>1618.0</td>\n",
              "      <td>522.0</td>\n",
              "      <td>1454.0</td>\n",
              "      <td>440.0</td>\n",
              "      <td>3.1607</td>\n",
              "      <td>182000.0</td>\n",
              "    </tr>\n",
              "    <tr>\n",
              "      <th>2983</th>\n",
              "      <td>-122.54</td>\n",
              "      <td>37.90</td>\n",
              "      <td>48.0</td>\n",
              "      <td>2491.0</td>\n",
              "      <td>460.0</td>\n",
              "      <td>937.0</td>\n",
              "      <td>455.0</td>\n",
              "      <td>4.4375</td>\n",
              "      <td>370000.0</td>\n",
              "    </tr>\n",
              "    <tr>\n",
              "      <th>2984</th>\n",
              "      <td>-117.59</td>\n",
              "      <td>33.88</td>\n",
              "      <td>13.0</td>\n",
              "      <td>3239.0</td>\n",
              "      <td>849.0</td>\n",
              "      <td>2751.0</td>\n",
              "      <td>813.0</td>\n",
              "      <td>2.6111</td>\n",
              "      <td>107000.0</td>\n",
              "    </tr>\n",
              "    <tr>\n",
              "      <th>2985</th>\n",
              "      <td>-120.47</td>\n",
              "      <td>34.94</td>\n",
              "      <td>17.0</td>\n",
              "      <td>1368.0</td>\n",
              "      <td>308.0</td>\n",
              "      <td>642.0</td>\n",
              "      <td>303.0</td>\n",
              "      <td>1.8633</td>\n",
              "      <td>109400.0</td>\n",
              "    </tr>\n",
              "    <tr>\n",
              "      <th>2986</th>\n",
              "      <td>-118.25</td>\n",
              "      <td>33.93</td>\n",
              "      <td>42.0</td>\n",
              "      <td>819.0</td>\n",
              "      <td>233.0</td>\n",
              "      <td>899.0</td>\n",
              "      <td>228.0</td>\n",
              "      <td>1.1346</td>\n",
              "      <td>85400.0</td>\n",
              "    </tr>\n",
              "    <tr>\n",
              "      <th>2987</th>\n",
              "      <td>-121.97</td>\n",
              "      <td>37.29</td>\n",
              "      <td>25.0</td>\n",
              "      <td>4096.0</td>\n",
              "      <td>743.0</td>\n",
              "      <td>2027.0</td>\n",
              "      <td>741.0</td>\n",
              "      <td>5.3294</td>\n",
              "      <td>300300.0</td>\n",
              "    </tr>\n",
              "    <tr>\n",
              "      <th>2988</th>\n",
              "      <td>-122.01</td>\n",
              "      <td>36.97</td>\n",
              "      <td>43.0</td>\n",
              "      <td>2162.0</td>\n",
              "      <td>509.0</td>\n",
              "      <td>1208.0</td>\n",
              "      <td>464.0</td>\n",
              "      <td>2.5417</td>\n",
              "      <td>260900.0</td>\n",
              "    </tr>\n",
              "    <tr>\n",
              "      <th>2989</th>\n",
              "      <td>-122.02</td>\n",
              "      <td>37.60</td>\n",
              "      <td>32.0</td>\n",
              "      <td>1295.0</td>\n",
              "      <td>295.0</td>\n",
              "      <td>1097.0</td>\n",
              "      <td>328.0</td>\n",
              "      <td>3.2386</td>\n",
              "      <td>149600.0</td>\n",
              "    </tr>\n",
              "    <tr>\n",
              "      <th>2990</th>\n",
              "      <td>-118.23</td>\n",
              "      <td>34.09</td>\n",
              "      <td>49.0</td>\n",
              "      <td>1638.0</td>\n",
              "      <td>456.0</td>\n",
              "      <td>1500.0</td>\n",
              "      <td>430.0</td>\n",
              "      <td>2.6923</td>\n",
              "      <td>150000.0</td>\n",
              "    </tr>\n",
              "    <tr>\n",
              "      <th>2991</th>\n",
              "      <td>-117.17</td>\n",
              "      <td>34.28</td>\n",
              "      <td>13.0</td>\n",
              "      <td>4867.0</td>\n",
              "      <td>718.0</td>\n",
              "      <td>780.0</td>\n",
              "      <td>250.0</td>\n",
              "      <td>7.1997</td>\n",
              "      <td>253800.0</td>\n",
              "    </tr>\n",
              "    <tr>\n",
              "      <th>2992</th>\n",
              "      <td>-122.33</td>\n",
              "      <td>37.39</td>\n",
              "      <td>52.0</td>\n",
              "      <td>573.0</td>\n",
              "      <td>102.0</td>\n",
              "      <td>232.0</td>\n",
              "      <td>92.0</td>\n",
              "      <td>6.2263</td>\n",
              "      <td>500001.0</td>\n",
              "    </tr>\n",
              "    <tr>\n",
              "      <th>2993</th>\n",
              "      <td>-117.91</td>\n",
              "      <td>33.60</td>\n",
              "      <td>37.0</td>\n",
              "      <td>2088.0</td>\n",
              "      <td>510.0</td>\n",
              "      <td>673.0</td>\n",
              "      <td>390.0</td>\n",
              "      <td>5.1048</td>\n",
              "      <td>500001.0</td>\n",
              "    </tr>\n",
              "    <tr>\n",
              "      <th>2994</th>\n",
              "      <td>-117.93</td>\n",
              "      <td>33.86</td>\n",
              "      <td>35.0</td>\n",
              "      <td>931.0</td>\n",
              "      <td>181.0</td>\n",
              "      <td>516.0</td>\n",
              "      <td>174.0</td>\n",
              "      <td>5.5867</td>\n",
              "      <td>182500.0</td>\n",
              "    </tr>\n",
              "    <tr>\n",
              "      <th>2995</th>\n",
              "      <td>-119.86</td>\n",
              "      <td>34.42</td>\n",
              "      <td>23.0</td>\n",
              "      <td>1450.0</td>\n",
              "      <td>642.0</td>\n",
              "      <td>1258.0</td>\n",
              "      <td>607.0</td>\n",
              "      <td>1.1790</td>\n",
              "      <td>225000.0</td>\n",
              "    </tr>\n",
              "    <tr>\n",
              "      <th>2996</th>\n",
              "      <td>-118.14</td>\n",
              "      <td>34.06</td>\n",
              "      <td>27.0</td>\n",
              "      <td>5257.0</td>\n",
              "      <td>1082.0</td>\n",
              "      <td>3496.0</td>\n",
              "      <td>1036.0</td>\n",
              "      <td>3.3906</td>\n",
              "      <td>237200.0</td>\n",
              "    </tr>\n",
              "    <tr>\n",
              "      <th>2997</th>\n",
              "      <td>-119.70</td>\n",
              "      <td>36.30</td>\n",
              "      <td>10.0</td>\n",
              "      <td>956.0</td>\n",
              "      <td>201.0</td>\n",
              "      <td>693.0</td>\n",
              "      <td>220.0</td>\n",
              "      <td>2.2895</td>\n",
              "      <td>62000.0</td>\n",
              "    </tr>\n",
              "    <tr>\n",
              "      <th>2998</th>\n",
              "      <td>-117.12</td>\n",
              "      <td>34.10</td>\n",
              "      <td>40.0</td>\n",
              "      <td>96.0</td>\n",
              "      <td>14.0</td>\n",
              "      <td>46.0</td>\n",
              "      <td>14.0</td>\n",
              "      <td>3.2708</td>\n",
              "      <td>162500.0</td>\n",
              "    </tr>\n",
              "    <tr>\n",
              "      <th>2999</th>\n",
              "      <td>-119.63</td>\n",
              "      <td>34.42</td>\n",
              "      <td>42.0</td>\n",
              "      <td>1765.0</td>\n",
              "      <td>263.0</td>\n",
              "      <td>753.0</td>\n",
              "      <td>260.0</td>\n",
              "      <td>8.5608</td>\n",
              "      <td>500001.0</td>\n",
              "    </tr>\n",
              "  </tbody>\n",
              "</table>\n",
              "<p>3000 rows × 9 columns</p>\n",
              "</div>"
            ],
            "text/plain": [
              "      longitude  latitude  ...  median_income  median_house_value\n",
              "0       -122.05     37.37  ...         6.6085            344700.0\n",
              "1       -118.30     34.26  ...         3.5990            176500.0\n",
              "2       -117.81     33.78  ...         5.7934            270500.0\n",
              "3       -118.36     33.82  ...         6.1359            330000.0\n",
              "4       -119.67     36.33  ...         2.9375             81700.0\n",
              "5       -119.56     36.51  ...         1.6635             67000.0\n",
              "6       -121.43     38.63  ...         1.6641             67000.0\n",
              "7       -120.65     35.48  ...         3.2250            166900.0\n",
              "8       -122.84     38.40  ...         3.6696            194400.0\n",
              "9       -118.02     34.08  ...         2.3333            164200.0\n",
              "10      -118.24     33.98  ...         2.2054            125000.0\n",
              "11      -119.12     35.85  ...         2.4167             58300.0\n",
              "12      -121.93     37.25  ...         4.6900            252600.0\n",
              "13      -117.03     32.97  ...         4.5625            231200.0\n",
              "14      -117.97     33.73  ...         5.7121            222500.0\n",
              "15      -117.99     33.81  ...         2.2000            153100.0\n",
              "16      -120.81     37.53  ...         1.8750            181300.0\n",
              "17      -121.20     38.69  ...         2.7174            137500.0\n",
              "18      -118.88     34.21  ...         6.5851            300000.0\n",
              "19      -122.59     38.01  ...         6.1724            414300.0\n",
              "20      -122.15     37.75  ...         3.8913            126300.0\n",
              "21      -121.37     38.68  ...         3.1786             83400.0\n",
              "22      -118.16     34.07  ...         3.8644            241500.0\n",
              "23      -122.20     37.79  ...         2.7788            115400.0\n",
              "24      -117.28     33.28  ...         3.8156            150700.0\n",
              "25      -118.03     34.16  ...         7.1615            484700.0\n",
              "26      -122.42     37.76  ...         2.5403            250000.0\n",
              "27      -118.39     33.99  ...         6.6030            369200.0\n",
              "28      -118.45     34.07  ...         1.5830            350000.0\n",
              "29      -118.48     34.01  ...         3.4852            425000.0\n",
              "...         ...       ...  ...            ...                 ...\n",
              "2970    -122.47     37.77  ...         4.1635            398400.0\n",
              "2971    -120.93     35.76  ...         3.2300            154300.0\n",
              "2972    -118.14     34.17  ...         4.0524            173100.0\n",
              "2973    -122.73     38.46  ...         2.0651            135400.0\n",
              "2974    -117.06     32.76  ...         2.9650            155700.0\n",
              "2975    -120.71     35.50  ...         5.2508            292900.0\n",
              "2976    -118.31     34.05  ...         2.5313            305800.0\n",
              "2977    -119.70     36.75  ...         2.4956             87500.0\n",
              "2978    -121.34     38.64  ...         3.7562            139700.0\n",
              "2979    -117.91     34.09  ...         3.0441            185400.0\n",
              "2980    -119.76     36.79  ...         3.3281             75100.0\n",
              "2981    -120.66     35.49  ...         2.8285            171300.0\n",
              "2982    -118.28     34.08  ...         3.1607            182000.0\n",
              "2983    -122.54     37.90  ...         4.4375            370000.0\n",
              "2984    -117.59     33.88  ...         2.6111            107000.0\n",
              "2985    -120.47     34.94  ...         1.8633            109400.0\n",
              "2986    -118.25     33.93  ...         1.1346             85400.0\n",
              "2987    -121.97     37.29  ...         5.3294            300300.0\n",
              "2988    -122.01     36.97  ...         2.5417            260900.0\n",
              "2989    -122.02     37.60  ...         3.2386            149600.0\n",
              "2990    -118.23     34.09  ...         2.6923            150000.0\n",
              "2991    -117.17     34.28  ...         7.1997            253800.0\n",
              "2992    -122.33     37.39  ...         6.2263            500001.0\n",
              "2993    -117.91     33.60  ...         5.1048            500001.0\n",
              "2994    -117.93     33.86  ...         5.5867            182500.0\n",
              "2995    -119.86     34.42  ...         1.1790            225000.0\n",
              "2996    -118.14     34.06  ...         3.3906            237200.0\n",
              "2997    -119.70     36.30  ...         2.2895             62000.0\n",
              "2998    -117.12     34.10  ...         3.2708            162500.0\n",
              "2999    -119.63     34.42  ...         8.5608            500001.0\n",
              "\n",
              "[3000 rows x 9 columns]"
            ]
          },
          "metadata": {
            "tags": []
          },
          "execution_count": 17
        }
      ]
    },
    {
      "cell_type": "markdown",
      "metadata": {
        "id": "24LeV8xANGYz",
        "colab_type": "text"
      },
      "source": [
        "We can tell it which column is the index"
      ]
    },
    {
      "cell_type": "code",
      "metadata": {
        "id": "UE68-K61PKqg",
        "colab_type": "code",
        "outputId": "db1ff9b7-483e-4746-ed4e-1b42c40f7077",
        "colab": {
          "base_uri": "https://localhost:8080/",
          "height": 266
        }
      },
      "source": [
        "corgi_data_noIndex = pd.read_csv('corgi_test_data.csv')\n",
        "\n",
        "corgi_data_noIndex"
      ],
      "execution_count": 0,
      "outputs": [
        {
          "output_type": "execute_result",
          "data": {
            "text/html": [
              "<div>\n",
              "<style scoped>\n",
              "    .dataframe tbody tr th:only-of-type {\n",
              "        vertical-align: middle;\n",
              "    }\n",
              "\n",
              "    .dataframe tbody tr th {\n",
              "        vertical-align: top;\n",
              "    }\n",
              "\n",
              "    .dataframe thead th {\n",
              "        text-align: right;\n",
              "    }\n",
              "</style>\n",
              "<table border=\"1\" class=\"dataframe\">\n",
              "  <thead>\n",
              "    <tr style=\"text-align: right;\">\n",
              "      <th></th>\n",
              "      <th>Unnamed: 0</th>\n",
              "      <th>Source</th>\n",
              "      <th>Is this Real or Not Real?</th>\n",
              "    </tr>\n",
              "  </thead>\n",
              "  <tbody>\n",
              "    <tr>\n",
              "      <th>0</th>\n",
              "      <td>Holly</td>\n",
              "      <td>Queen of England</td>\n",
              "      <td>Real</td>\n",
              "    </tr>\n",
              "    <tr>\n",
              "      <th>1</th>\n",
              "      <td>Ralph</td>\n",
              "      <td>Instagram</td>\n",
              "      <td>Real</td>\n",
              "    </tr>\n",
              "    <tr>\n",
              "      <th>2</th>\n",
              "      <td>Molly (\"Thing of Evil\")</td>\n",
              "      <td>Stephen King</td>\n",
              "      <td>Real</td>\n",
              "    </tr>\n",
              "    <tr>\n",
              "      <th>3</th>\n",
              "      <td>Ein</td>\n",
              "      <td>Cowboy Bebop</td>\n",
              "      <td>Real</td>\n",
              "    </tr>\n",
              "    <tr>\n",
              "      <th>4</th>\n",
              "      <td>Loki</td>\n",
              "      <td>Instagram</td>\n",
              "      <td>Real</td>\n",
              "    </tr>\n",
              "    <tr>\n",
              "      <th>5</th>\n",
              "      <td>Rufus</td>\n",
              "      <td>Amazon.com</td>\n",
              "      <td>Real</td>\n",
              "    </tr>\n",
              "    <tr>\n",
              "      <th>6</th>\n",
              "      <td>Sutter Brown</td>\n",
              "      <td>Jerry Brown (gov of Cali)</td>\n",
              "      <td>Real</td>\n",
              "    </tr>\n",
              "  </tbody>\n",
              "</table>\n",
              "</div>"
            ],
            "text/plain": [
              "                Unnamed: 0                     Source Is this Real or Not Real?\n",
              "0                    Holly           Queen of England                      Real\n",
              "1                    Ralph                  Instagram                      Real\n",
              "2  Molly (\"Thing of Evil\")               Stephen King                      Real\n",
              "3                      Ein               Cowboy Bebop                      Real\n",
              "4                     Loki                  Instagram                      Real\n",
              "5                    Rufus                 Amazon.com                      Real\n",
              "6             Sutter Brown  Jerry Brown (gov of Cali)                      Real"
            ]
          },
          "metadata": {
            "tags": []
          },
          "execution_count": 3
        }
      ]
    },
    {
      "cell_type": "code",
      "metadata": {
        "id": "1w0ukHHuLGsT",
        "colab_type": "code",
        "outputId": "c010c0e7-e613-4f20-a5f9-8a96b388b260",
        "colab": {
          "base_uri": "https://localhost:8080/",
          "height": 266
        }
      },
      "source": [
        "corgi_data_index = pd.read_csv('corgi_test_data.csv', index_col = 0)  \n",
        "\n",
        "corgi_data_index"
      ],
      "execution_count": 0,
      "outputs": [
        {
          "output_type": "execute_result",
          "data": {
            "text/html": [
              "<div>\n",
              "<style scoped>\n",
              "    .dataframe tbody tr th:only-of-type {\n",
              "        vertical-align: middle;\n",
              "    }\n",
              "\n",
              "    .dataframe tbody tr th {\n",
              "        vertical-align: top;\n",
              "    }\n",
              "\n",
              "    .dataframe thead th {\n",
              "        text-align: right;\n",
              "    }\n",
              "</style>\n",
              "<table border=\"1\" class=\"dataframe\">\n",
              "  <thead>\n",
              "    <tr style=\"text-align: right;\">\n",
              "      <th></th>\n",
              "      <th>Source</th>\n",
              "      <th>Is this Real or Not Real?</th>\n",
              "    </tr>\n",
              "  </thead>\n",
              "  <tbody>\n",
              "    <tr>\n",
              "      <th>Holly</th>\n",
              "      <td>Queen of England</td>\n",
              "      <td>Real</td>\n",
              "    </tr>\n",
              "    <tr>\n",
              "      <th>Ralph</th>\n",
              "      <td>Instagram</td>\n",
              "      <td>Real</td>\n",
              "    </tr>\n",
              "    <tr>\n",
              "      <th>Molly (\"Thing of Evil\")</th>\n",
              "      <td>Stephen King</td>\n",
              "      <td>Real</td>\n",
              "    </tr>\n",
              "    <tr>\n",
              "      <th>Ein</th>\n",
              "      <td>Cowboy Bebop</td>\n",
              "      <td>Real</td>\n",
              "    </tr>\n",
              "    <tr>\n",
              "      <th>Loki</th>\n",
              "      <td>Instagram</td>\n",
              "      <td>Real</td>\n",
              "    </tr>\n",
              "    <tr>\n",
              "      <th>Rufus</th>\n",
              "      <td>Amazon.com</td>\n",
              "      <td>Real</td>\n",
              "    </tr>\n",
              "    <tr>\n",
              "      <th>Sutter Brown</th>\n",
              "      <td>Jerry Brown (gov of Cali)</td>\n",
              "      <td>Real</td>\n",
              "    </tr>\n",
              "  </tbody>\n",
              "</table>\n",
              "</div>"
            ],
            "text/plain": [
              "                                            Source Is this Real or Not Real?\n",
              "Holly                             Queen of England                      Real\n",
              "Ralph                                    Instagram                      Real\n",
              "Molly (\"Thing of Evil\")               Stephen King                      Real\n",
              "Ein                                   Cowboy Bebop                      Real\n",
              "Loki                                     Instagram                      Real\n",
              "Rufus                                   Amazon.com                      Real\n",
              "Sutter Brown             Jerry Brown (gov of Cali)                      Real"
            ]
          },
          "metadata": {
            "tags": []
          },
          "execution_count": 4
        }
      ]
    },
    {
      "cell_type": "markdown",
      "metadata": {
        "id": "r4-tI8KkNwfr",
        "colab_type": "text"
      },
      "source": [
        "Alternately, we can read from a json file (essentially a dictionary file storage format). Json knows how to nest things so we get the right index aautomagically."
      ]
    },
    {
      "cell_type": "code",
      "metadata": {
        "id": "Lbc28JtVNNTi",
        "colab_type": "code",
        "outputId": "5f8903bf-bd38-4ab1-8490-f36ece232a31",
        "colab": {
          "base_uri": "https://localhost:8080/",
          "height": 1413
        }
      },
      "source": [
        "anscombe_data = pd.read_json('sample_data/anscombe.json')\n",
        "\n",
        "anscombe_data"
      ],
      "execution_count": 0,
      "outputs": [
        {
          "output_type": "execute_result",
          "data": {
            "text/html": [
              "<div>\n",
              "<style scoped>\n",
              "    .dataframe tbody tr th:only-of-type {\n",
              "        vertical-align: middle;\n",
              "    }\n",
              "\n",
              "    .dataframe tbody tr th {\n",
              "        vertical-align: top;\n",
              "    }\n",
              "\n",
              "    .dataframe thead th {\n",
              "        text-align: right;\n",
              "    }\n",
              "</style>\n",
              "<table border=\"1\" class=\"dataframe\">\n",
              "  <thead>\n",
              "    <tr style=\"text-align: right;\">\n",
              "      <th></th>\n",
              "      <th>Series</th>\n",
              "      <th>X</th>\n",
              "      <th>Y</th>\n",
              "    </tr>\n",
              "  </thead>\n",
              "  <tbody>\n",
              "    <tr>\n",
              "      <th>0</th>\n",
              "      <td>I</td>\n",
              "      <td>10</td>\n",
              "      <td>8.04</td>\n",
              "    </tr>\n",
              "    <tr>\n",
              "      <th>1</th>\n",
              "      <td>I</td>\n",
              "      <td>8</td>\n",
              "      <td>6.95</td>\n",
              "    </tr>\n",
              "    <tr>\n",
              "      <th>2</th>\n",
              "      <td>I</td>\n",
              "      <td>13</td>\n",
              "      <td>7.58</td>\n",
              "    </tr>\n",
              "    <tr>\n",
              "      <th>3</th>\n",
              "      <td>I</td>\n",
              "      <td>9</td>\n",
              "      <td>8.81</td>\n",
              "    </tr>\n",
              "    <tr>\n",
              "      <th>4</th>\n",
              "      <td>I</td>\n",
              "      <td>11</td>\n",
              "      <td>8.33</td>\n",
              "    </tr>\n",
              "    <tr>\n",
              "      <th>5</th>\n",
              "      <td>I</td>\n",
              "      <td>14</td>\n",
              "      <td>9.96</td>\n",
              "    </tr>\n",
              "    <tr>\n",
              "      <th>6</th>\n",
              "      <td>I</td>\n",
              "      <td>6</td>\n",
              "      <td>7.24</td>\n",
              "    </tr>\n",
              "    <tr>\n",
              "      <th>7</th>\n",
              "      <td>I</td>\n",
              "      <td>4</td>\n",
              "      <td>4.26</td>\n",
              "    </tr>\n",
              "    <tr>\n",
              "      <th>8</th>\n",
              "      <td>I</td>\n",
              "      <td>12</td>\n",
              "      <td>10.84</td>\n",
              "    </tr>\n",
              "    <tr>\n",
              "      <th>9</th>\n",
              "      <td>I</td>\n",
              "      <td>7</td>\n",
              "      <td>4.81</td>\n",
              "    </tr>\n",
              "    <tr>\n",
              "      <th>10</th>\n",
              "      <td>I</td>\n",
              "      <td>5</td>\n",
              "      <td>5.68</td>\n",
              "    </tr>\n",
              "    <tr>\n",
              "      <th>11</th>\n",
              "      <td>II</td>\n",
              "      <td>10</td>\n",
              "      <td>9.14</td>\n",
              "    </tr>\n",
              "    <tr>\n",
              "      <th>12</th>\n",
              "      <td>II</td>\n",
              "      <td>8</td>\n",
              "      <td>8.14</td>\n",
              "    </tr>\n",
              "    <tr>\n",
              "      <th>13</th>\n",
              "      <td>II</td>\n",
              "      <td>13</td>\n",
              "      <td>8.74</td>\n",
              "    </tr>\n",
              "    <tr>\n",
              "      <th>14</th>\n",
              "      <td>II</td>\n",
              "      <td>9</td>\n",
              "      <td>8.77</td>\n",
              "    </tr>\n",
              "    <tr>\n",
              "      <th>15</th>\n",
              "      <td>II</td>\n",
              "      <td>11</td>\n",
              "      <td>9.26</td>\n",
              "    </tr>\n",
              "    <tr>\n",
              "      <th>16</th>\n",
              "      <td>II</td>\n",
              "      <td>14</td>\n",
              "      <td>8.10</td>\n",
              "    </tr>\n",
              "    <tr>\n",
              "      <th>17</th>\n",
              "      <td>II</td>\n",
              "      <td>6</td>\n",
              "      <td>6.13</td>\n",
              "    </tr>\n",
              "    <tr>\n",
              "      <th>18</th>\n",
              "      <td>II</td>\n",
              "      <td>4</td>\n",
              "      <td>3.10</td>\n",
              "    </tr>\n",
              "    <tr>\n",
              "      <th>19</th>\n",
              "      <td>II</td>\n",
              "      <td>12</td>\n",
              "      <td>9.13</td>\n",
              "    </tr>\n",
              "    <tr>\n",
              "      <th>20</th>\n",
              "      <td>II</td>\n",
              "      <td>7</td>\n",
              "      <td>7.26</td>\n",
              "    </tr>\n",
              "    <tr>\n",
              "      <th>21</th>\n",
              "      <td>II</td>\n",
              "      <td>5</td>\n",
              "      <td>4.74</td>\n",
              "    </tr>\n",
              "    <tr>\n",
              "      <th>22</th>\n",
              "      <td>III</td>\n",
              "      <td>10</td>\n",
              "      <td>7.46</td>\n",
              "    </tr>\n",
              "    <tr>\n",
              "      <th>23</th>\n",
              "      <td>III</td>\n",
              "      <td>8</td>\n",
              "      <td>6.77</td>\n",
              "    </tr>\n",
              "    <tr>\n",
              "      <th>24</th>\n",
              "      <td>III</td>\n",
              "      <td>13</td>\n",
              "      <td>12.74</td>\n",
              "    </tr>\n",
              "    <tr>\n",
              "      <th>25</th>\n",
              "      <td>III</td>\n",
              "      <td>9</td>\n",
              "      <td>7.11</td>\n",
              "    </tr>\n",
              "    <tr>\n",
              "      <th>26</th>\n",
              "      <td>III</td>\n",
              "      <td>11</td>\n",
              "      <td>7.81</td>\n",
              "    </tr>\n",
              "    <tr>\n",
              "      <th>27</th>\n",
              "      <td>III</td>\n",
              "      <td>14</td>\n",
              "      <td>8.84</td>\n",
              "    </tr>\n",
              "    <tr>\n",
              "      <th>28</th>\n",
              "      <td>III</td>\n",
              "      <td>6</td>\n",
              "      <td>6.08</td>\n",
              "    </tr>\n",
              "    <tr>\n",
              "      <th>29</th>\n",
              "      <td>III</td>\n",
              "      <td>4</td>\n",
              "      <td>5.39</td>\n",
              "    </tr>\n",
              "    <tr>\n",
              "      <th>30</th>\n",
              "      <td>III</td>\n",
              "      <td>12</td>\n",
              "      <td>8.15</td>\n",
              "    </tr>\n",
              "    <tr>\n",
              "      <th>31</th>\n",
              "      <td>III</td>\n",
              "      <td>7</td>\n",
              "      <td>6.42</td>\n",
              "    </tr>\n",
              "    <tr>\n",
              "      <th>32</th>\n",
              "      <td>III</td>\n",
              "      <td>5</td>\n",
              "      <td>5.73</td>\n",
              "    </tr>\n",
              "    <tr>\n",
              "      <th>33</th>\n",
              "      <td>IV</td>\n",
              "      <td>8</td>\n",
              "      <td>6.58</td>\n",
              "    </tr>\n",
              "    <tr>\n",
              "      <th>34</th>\n",
              "      <td>IV</td>\n",
              "      <td>8</td>\n",
              "      <td>5.76</td>\n",
              "    </tr>\n",
              "    <tr>\n",
              "      <th>35</th>\n",
              "      <td>IV</td>\n",
              "      <td>8</td>\n",
              "      <td>7.71</td>\n",
              "    </tr>\n",
              "    <tr>\n",
              "      <th>36</th>\n",
              "      <td>IV</td>\n",
              "      <td>8</td>\n",
              "      <td>8.84</td>\n",
              "    </tr>\n",
              "    <tr>\n",
              "      <th>37</th>\n",
              "      <td>IV</td>\n",
              "      <td>8</td>\n",
              "      <td>8.47</td>\n",
              "    </tr>\n",
              "    <tr>\n",
              "      <th>38</th>\n",
              "      <td>IV</td>\n",
              "      <td>8</td>\n",
              "      <td>7.04</td>\n",
              "    </tr>\n",
              "    <tr>\n",
              "      <th>39</th>\n",
              "      <td>IV</td>\n",
              "      <td>8</td>\n",
              "      <td>5.25</td>\n",
              "    </tr>\n",
              "    <tr>\n",
              "      <th>40</th>\n",
              "      <td>IV</td>\n",
              "      <td>19</td>\n",
              "      <td>12.50</td>\n",
              "    </tr>\n",
              "    <tr>\n",
              "      <th>41</th>\n",
              "      <td>IV</td>\n",
              "      <td>8</td>\n",
              "      <td>5.56</td>\n",
              "    </tr>\n",
              "    <tr>\n",
              "      <th>42</th>\n",
              "      <td>IV</td>\n",
              "      <td>8</td>\n",
              "      <td>7.91</td>\n",
              "    </tr>\n",
              "    <tr>\n",
              "      <th>43</th>\n",
              "      <td>IV</td>\n",
              "      <td>8</td>\n",
              "      <td>6.89</td>\n",
              "    </tr>\n",
              "  </tbody>\n",
              "</table>\n",
              "</div>"
            ],
            "text/plain": [
              "   Series   X      Y\n",
              "0       I  10   8.04\n",
              "1       I   8   6.95\n",
              "2       I  13   7.58\n",
              "3       I   9   8.81\n",
              "4       I  11   8.33\n",
              "5       I  14   9.96\n",
              "6       I   6   7.24\n",
              "7       I   4   4.26\n",
              "8       I  12  10.84\n",
              "9       I   7   4.81\n",
              "10      I   5   5.68\n",
              "11     II  10   9.14\n",
              "12     II   8   8.14\n",
              "13     II  13   8.74\n",
              "14     II   9   8.77\n",
              "15     II  11   9.26\n",
              "16     II  14   8.10\n",
              "17     II   6   6.13\n",
              "18     II   4   3.10\n",
              "19     II  12   9.13\n",
              "20     II   7   7.26\n",
              "21     II   5   4.74\n",
              "22    III  10   7.46\n",
              "23    III   8   6.77\n",
              "24    III  13  12.74\n",
              "25    III   9   7.11\n",
              "26    III  11   7.81\n",
              "27    III  14   8.84\n",
              "28    III   6   6.08\n",
              "29    III   4   5.39\n",
              "30    III  12   8.15\n",
              "31    III   7   6.42\n",
              "32    III   5   5.73\n",
              "33     IV   8   6.58\n",
              "34     IV   8   5.76\n",
              "35     IV   8   7.71\n",
              "36     IV   8   8.84\n",
              "37     IV   8   8.47\n",
              "38     IV   8   7.04\n",
              "39     IV   8   5.25\n",
              "40     IV  19  12.50\n",
              "41     IV   8   5.56\n",
              "42     IV   8   7.91\n",
              "43     IV   8   6.89"
            ]
          },
          "metadata": {
            "tags": []
          },
          "execution_count": 25
        }
      ]
    },
    {
      "cell_type": "markdown",
      "metadata": {
        "id": "4CNmsqs7OUJE",
        "colab_type": "text"
      },
      "source": [
        "And then, we can save as a csv or a json file (or sql but I'm not getting into that one just yet haha)."
      ]
    },
    {
      "cell_type": "code",
      "metadata": {
        "id": "JMXPVFMoN9Mp",
        "colab_type": "code",
        "outputId": "3ec0c385-b3ac-4223-a586-20541cff95d9",
        "colab": {
          "base_uri": "https://localhost:8080/",
          "height": 266
        }
      },
      "source": [
        "corgi_data_index.to_csv('saved_corgi_data.csv')\n",
        "imported_corgi_csv = pd.read_csv('saved_corgi_data.csv')\n",
        "\n",
        "imported_corgi_csv"
      ],
      "execution_count": 0,
      "outputs": [
        {
          "output_type": "execute_result",
          "data": {
            "text/html": [
              "<div>\n",
              "<style scoped>\n",
              "    .dataframe tbody tr th:only-of-type {\n",
              "        vertical-align: middle;\n",
              "    }\n",
              "\n",
              "    .dataframe tbody tr th {\n",
              "        vertical-align: top;\n",
              "    }\n",
              "\n",
              "    .dataframe thead th {\n",
              "        text-align: right;\n",
              "    }\n",
              "</style>\n",
              "<table border=\"1\" class=\"dataframe\">\n",
              "  <thead>\n",
              "    <tr style=\"text-align: right;\">\n",
              "      <th></th>\n",
              "      <th>Unnamed: 0</th>\n",
              "      <th>Source</th>\n",
              "      <th>Is this Real or Not Real?</th>\n",
              "    </tr>\n",
              "  </thead>\n",
              "  <tbody>\n",
              "    <tr>\n",
              "      <th>0</th>\n",
              "      <td>Holly</td>\n",
              "      <td>Queen of England</td>\n",
              "      <td>Real</td>\n",
              "    </tr>\n",
              "    <tr>\n",
              "      <th>1</th>\n",
              "      <td>Ralph</td>\n",
              "      <td>Instagram</td>\n",
              "      <td>Real</td>\n",
              "    </tr>\n",
              "    <tr>\n",
              "      <th>2</th>\n",
              "      <td>Molly (\"Thing of Evil\")</td>\n",
              "      <td>Stephen King</td>\n",
              "      <td>Real</td>\n",
              "    </tr>\n",
              "    <tr>\n",
              "      <th>3</th>\n",
              "      <td>Ein</td>\n",
              "      <td>Cowboy Bebop</td>\n",
              "      <td>Real</td>\n",
              "    </tr>\n",
              "    <tr>\n",
              "      <th>4</th>\n",
              "      <td>Loki</td>\n",
              "      <td>Instagram</td>\n",
              "      <td>Real</td>\n",
              "    </tr>\n",
              "    <tr>\n",
              "      <th>5</th>\n",
              "      <td>Rufus</td>\n",
              "      <td>Amazon.com</td>\n",
              "      <td>Real</td>\n",
              "    </tr>\n",
              "    <tr>\n",
              "      <th>6</th>\n",
              "      <td>Sutter Brown</td>\n",
              "      <td>Jerry Brown (gov of Cali)</td>\n",
              "      <td>Real</td>\n",
              "    </tr>\n",
              "  </tbody>\n",
              "</table>\n",
              "</div>"
            ],
            "text/plain": [
              "                Unnamed: 0                     Source Is this Real or Not Real?\n",
              "0                    Holly           Queen of England                      Real\n",
              "1                    Ralph                  Instagram                      Real\n",
              "2  Molly (\"Thing of Evil\")               Stephen King                      Real\n",
              "3                      Ein               Cowboy Bebop                      Real\n",
              "4                     Loki                  Instagram                      Real\n",
              "5                    Rufus                 Amazon.com                      Real\n",
              "6             Sutter Brown  Jerry Brown (gov of Cali)                      Real"
            ]
          },
          "metadata": {
            "tags": []
          },
          "execution_count": 7
        }
      ]
    },
    {
      "cell_type": "code",
      "metadata": {
        "id": "DYolYRWZOw60",
        "colab_type": "code",
        "outputId": "2dcc8722-7412-4a3b-fd66-092106075619",
        "colab": {
          "base_uri": "https://localhost:8080/",
          "height": 266
        }
      },
      "source": [
        "corgi_data_index.to_json('saved_corgi_data.json')\n",
        "imported_corgi_json = pd.read_json('saved_corgi_data.json')\n",
        "\n",
        "imported_corgi_json"
      ],
      "execution_count": 0,
      "outputs": [
        {
          "output_type": "execute_result",
          "data": {
            "text/html": [
              "<div>\n",
              "<style scoped>\n",
              "    .dataframe tbody tr th:only-of-type {\n",
              "        vertical-align: middle;\n",
              "    }\n",
              "\n",
              "    .dataframe tbody tr th {\n",
              "        vertical-align: top;\n",
              "    }\n",
              "\n",
              "    .dataframe thead th {\n",
              "        text-align: right;\n",
              "    }\n",
              "</style>\n",
              "<table border=\"1\" class=\"dataframe\">\n",
              "  <thead>\n",
              "    <tr style=\"text-align: right;\">\n",
              "      <th></th>\n",
              "      <th>Source</th>\n",
              "      <th>Is this Real or Not Real?</th>\n",
              "    </tr>\n",
              "  </thead>\n",
              "  <tbody>\n",
              "    <tr>\n",
              "      <th>Ein</th>\n",
              "      <td>Cowboy Bebop</td>\n",
              "      <td>Real</td>\n",
              "    </tr>\n",
              "    <tr>\n",
              "      <th>Holly</th>\n",
              "      <td>Queen of England</td>\n",
              "      <td>Real</td>\n",
              "    </tr>\n",
              "    <tr>\n",
              "      <th>Loki</th>\n",
              "      <td>Instagram</td>\n",
              "      <td>Real</td>\n",
              "    </tr>\n",
              "    <tr>\n",
              "      <th>Molly (\"Thing of Evil\")</th>\n",
              "      <td>Stephen King</td>\n",
              "      <td>Real</td>\n",
              "    </tr>\n",
              "    <tr>\n",
              "      <th>Ralph</th>\n",
              "      <td>Instagram</td>\n",
              "      <td>Real</td>\n",
              "    </tr>\n",
              "    <tr>\n",
              "      <th>Rufus</th>\n",
              "      <td>Amazon.com</td>\n",
              "      <td>Real</td>\n",
              "    </tr>\n",
              "    <tr>\n",
              "      <th>Sutter Brown</th>\n",
              "      <td>Jerry Brown (gov of Cali)</td>\n",
              "      <td>Real</td>\n",
              "    </tr>\n",
              "  </tbody>\n",
              "</table>\n",
              "</div>"
            ],
            "text/plain": [
              "                                            Source Is this Real or Not Real?\n",
              "Ein                                   Cowboy Bebop                      Real\n",
              "Holly                             Queen of England                      Real\n",
              "Loki                                     Instagram                      Real\n",
              "Molly (\"Thing of Evil\")               Stephen King                      Real\n",
              "Ralph                                    Instagram                      Real\n",
              "Rufus                                   Amazon.com                      Real\n",
              "Sutter Brown             Jerry Brown (gov of Cali)                      Real"
            ]
          },
          "metadata": {
            "tags": []
          },
          "execution_count": 6
        }
      ]
    },
    {
      "cell_type": "markdown",
      "metadata": {
        "id": "Do9yt3l0F38j",
        "colab_type": "text"
      },
      "source": [
        "<h3>Extra skills</h3>\n",
        "\n",
        "Specifying a column header\n",
        "\n",
        "This example shows taking any row and making it the header; I just wanted to be able to specify the header directly\n",
        "\n",
        "From: https://stackoverflow.com/questions/26147180/convert-row-to-column-header-for-pandas-dataframe "
      ]
    },
    {
      "cell_type": "code",
      "metadata": {
        "id": "uoGMXWnUO8QT",
        "colab_type": "code",
        "outputId": "1ad8375e-87c9-4153-9365-a28828197ea1",
        "colab": {
          "base_uri": "https://localhost:8080/",
          "height": 142
        }
      },
      "source": [
        "df = pd.DataFrame([(1,2,3), ('foo','bar','baz'), (4,5,6)])\n",
        "\n",
        "df"
      ],
      "execution_count": 0,
      "outputs": [
        {
          "output_type": "execute_result",
          "data": {
            "text/html": [
              "<div>\n",
              "<style scoped>\n",
              "    .dataframe tbody tr th:only-of-type {\n",
              "        vertical-align: middle;\n",
              "    }\n",
              "\n",
              "    .dataframe tbody tr th {\n",
              "        vertical-align: top;\n",
              "    }\n",
              "\n",
              "    .dataframe thead th {\n",
              "        text-align: right;\n",
              "    }\n",
              "</style>\n",
              "<table border=\"1\" class=\"dataframe\">\n",
              "  <thead>\n",
              "    <tr style=\"text-align: right;\">\n",
              "      <th></th>\n",
              "      <th>0</th>\n",
              "      <th>1</th>\n",
              "      <th>2</th>\n",
              "    </tr>\n",
              "  </thead>\n",
              "  <tbody>\n",
              "    <tr>\n",
              "      <th>0</th>\n",
              "      <td>1</td>\n",
              "      <td>2</td>\n",
              "      <td>3</td>\n",
              "    </tr>\n",
              "    <tr>\n",
              "      <th>1</th>\n",
              "      <td>foo</td>\n",
              "      <td>bar</td>\n",
              "      <td>baz</td>\n",
              "    </tr>\n",
              "    <tr>\n",
              "      <th>2</th>\n",
              "      <td>4</td>\n",
              "      <td>5</td>\n",
              "      <td>6</td>\n",
              "    </tr>\n",
              "  </tbody>\n",
              "</table>\n",
              "</div>"
            ],
            "text/plain": [
              "     0    1    2\n",
              "0    1    2    3\n",
              "1  foo  bar  baz\n",
              "2    4    5    6"
            ]
          },
          "metadata": {
            "tags": []
          },
          "execution_count": 4
        }
      ]
    },
    {
      "cell_type": "code",
      "metadata": {
        "id": "okOe7rogGMA3",
        "colab_type": "code",
        "outputId": "f1d115cb-f2bf-49f7-9fc9-5032dcf99d91",
        "colab": {
          "base_uri": "https://localhost:8080/",
          "height": 142
        }
      },
      "source": [
        "df.columns = df.iloc[1]\n",
        "\n",
        "df"
      ],
      "execution_count": 0,
      "outputs": [
        {
          "output_type": "execute_result",
          "data": {
            "text/html": [
              "<div>\n",
              "<style scoped>\n",
              "    .dataframe tbody tr th:only-of-type {\n",
              "        vertical-align: middle;\n",
              "    }\n",
              "\n",
              "    .dataframe tbody tr th {\n",
              "        vertical-align: top;\n",
              "    }\n",
              "\n",
              "    .dataframe thead th {\n",
              "        text-align: right;\n",
              "    }\n",
              "</style>\n",
              "<table border=\"1\" class=\"dataframe\">\n",
              "  <thead>\n",
              "    <tr style=\"text-align: right;\">\n",
              "      <th>1</th>\n",
              "      <th>foo</th>\n",
              "      <th>bar</th>\n",
              "      <th>baz</th>\n",
              "    </tr>\n",
              "  </thead>\n",
              "  <tbody>\n",
              "    <tr>\n",
              "      <th>0</th>\n",
              "      <td>1</td>\n",
              "      <td>2</td>\n",
              "      <td>3</td>\n",
              "    </tr>\n",
              "    <tr>\n",
              "      <th>1</th>\n",
              "      <td>foo</td>\n",
              "      <td>bar</td>\n",
              "      <td>baz</td>\n",
              "    </tr>\n",
              "    <tr>\n",
              "      <th>2</th>\n",
              "      <td>4</td>\n",
              "      <td>5</td>\n",
              "      <td>6</td>\n",
              "    </tr>\n",
              "  </tbody>\n",
              "</table>\n",
              "</div>"
            ],
            "text/plain": [
              "1  foo  bar  baz\n",
              "0    1    2    3\n",
              "1  foo  bar  baz\n",
              "2    4    5    6"
            ]
          },
          "metadata": {
            "tags": []
          },
          "execution_count": 5
        }
      ]
    },
    {
      "cell_type": "code",
      "metadata": {
        "id": "BT7x6CoWGcIX",
        "colab_type": "code",
        "outputId": "56c8557b-6771-4db9-8993-4a171f8c6140",
        "colab": {
          "base_uri": "https://localhost:8080/",
          "height": 111
        }
      },
      "source": [
        "df.reindex(df.index.drop(1))"
      ],
      "execution_count": 0,
      "outputs": [
        {
          "output_type": "execute_result",
          "data": {
            "text/html": [
              "<div>\n",
              "<style scoped>\n",
              "    .dataframe tbody tr th:only-of-type {\n",
              "        vertical-align: middle;\n",
              "    }\n",
              "\n",
              "    .dataframe tbody tr th {\n",
              "        vertical-align: top;\n",
              "    }\n",
              "\n",
              "    .dataframe thead th {\n",
              "        text-align: right;\n",
              "    }\n",
              "</style>\n",
              "<table border=\"1\" class=\"dataframe\">\n",
              "  <thead>\n",
              "    <tr style=\"text-align: right;\">\n",
              "      <th>1</th>\n",
              "      <th>foo</th>\n",
              "      <th>bar</th>\n",
              "      <th>baz</th>\n",
              "    </tr>\n",
              "  </thead>\n",
              "  <tbody>\n",
              "    <tr>\n",
              "      <th>0</th>\n",
              "      <td>1</td>\n",
              "      <td>2</td>\n",
              "      <td>3</td>\n",
              "    </tr>\n",
              "    <tr>\n",
              "      <th>2</th>\n",
              "      <td>4</td>\n",
              "      <td>5</td>\n",
              "      <td>6</td>\n",
              "    </tr>\n",
              "  </tbody>\n",
              "</table>\n",
              "</div>"
            ],
            "text/plain": [
              "1 foo bar baz\n",
              "0   1   2   3\n",
              "2   4   5   6"
            ]
          },
          "metadata": {
            "tags": []
          },
          "execution_count": 6
        }
      ]
    },
    {
      "cell_type": "markdown",
      "metadata": {
        "id": "owXNts2nGuy0",
        "colab_type": "text"
      },
      "source": [
        "Okay now let's try it"
      ]
    },
    {
      "cell_type": "code",
      "metadata": {
        "id": "omRTboOFGuhe",
        "colab_type": "code",
        "outputId": "07146b68-4083-4de0-840c-c3e54a6b6e2e",
        "colab": {
          "base_uri": "https://localhost:8080/",
          "height": 111
        }
      },
      "source": [
        "quadrants = [(\"matespriteship\", \"moirallegiance\"), \n",
        "             (\"kissmessisitude\", \"auspisticism\")]\n",
        "quad_col = (\"concupiscent\", \"conciliatory\")\n",
        "quad_ind = (\"red\", \"black\")\n",
        "\n",
        "quad_frame = pd.DataFrame(quadrants)\n",
        "quad_frame.columns = quad_col\n",
        "quad_frame.index = quad_ind\n",
        "\n",
        "quad_frame"
      ],
      "execution_count": 3,
      "outputs": [
        {
          "output_type": "execute_result",
          "data": {
            "text/html": [
              "<div>\n",
              "<style scoped>\n",
              "    .dataframe tbody tr th:only-of-type {\n",
              "        vertical-align: middle;\n",
              "    }\n",
              "\n",
              "    .dataframe tbody tr th {\n",
              "        vertical-align: top;\n",
              "    }\n",
              "\n",
              "    .dataframe thead th {\n",
              "        text-align: right;\n",
              "    }\n",
              "</style>\n",
              "<table border=\"1\" class=\"dataframe\">\n",
              "  <thead>\n",
              "    <tr style=\"text-align: right;\">\n",
              "      <th></th>\n",
              "      <th>concupiscent</th>\n",
              "      <th>conciliatory</th>\n",
              "    </tr>\n",
              "  </thead>\n",
              "  <tbody>\n",
              "    <tr>\n",
              "      <th>red</th>\n",
              "      <td>matespriteship</td>\n",
              "      <td>moirallegiance</td>\n",
              "    </tr>\n",
              "    <tr>\n",
              "      <th>black</th>\n",
              "      <td>kissmessisitude</td>\n",
              "      <td>auspisticism</td>\n",
              "    </tr>\n",
              "  </tbody>\n",
              "</table>\n",
              "</div>"
            ],
            "text/plain": [
              "          concupiscent    conciliatory\n",
              "red     matespriteship  moirallegiance\n",
              "black  kissmessisitude    auspisticism"
            ]
          },
          "metadata": {
            "tags": []
          },
          "execution_count": 3
        }
      ]
    },
    {
      "cell_type": "markdown",
      "metadata": {
        "id": "F45WNeDtEnOZ",
        "colab_type": "text"
      },
      "source": [
        "<h4>Accessing + selecting data from dataframe</h4>\n",
        "\n"
      ]
    },
    {
      "cell_type": "code",
      "metadata": {
        "id": "nFO8eGGsEmCW",
        "colab_type": "code",
        "colab": {
          "base_uri": "https://localhost:8080/",
          "height": 266
        },
        "outputId": "bb7ccb10-36db-4a5f-def7-588824738bcc"
      },
      "source": [
        "corgiFrame = pd.read_csv('corgi_test_data.csv')\n",
        "\n",
        "corgiFrame"
      ],
      "execution_count": 6,
      "outputs": [
        {
          "output_type": "execute_result",
          "data": {
            "text/html": [
              "<div>\n",
              "<style scoped>\n",
              "    .dataframe tbody tr th:only-of-type {\n",
              "        vertical-align: middle;\n",
              "    }\n",
              "\n",
              "    .dataframe tbody tr th {\n",
              "        vertical-align: top;\n",
              "    }\n",
              "\n",
              "    .dataframe thead th {\n",
              "        text-align: right;\n",
              "    }\n",
              "</style>\n",
              "<table border=\"1\" class=\"dataframe\">\n",
              "  <thead>\n",
              "    <tr style=\"text-align: right;\">\n",
              "      <th></th>\n",
              "      <th>Unnamed: 0</th>\n",
              "      <th>Source</th>\n",
              "      <th>Is this Real or Not Real?</th>\n",
              "    </tr>\n",
              "  </thead>\n",
              "  <tbody>\n",
              "    <tr>\n",
              "      <th>0</th>\n",
              "      <td>Holly</td>\n",
              "      <td>Queen of England</td>\n",
              "      <td>Real</td>\n",
              "    </tr>\n",
              "    <tr>\n",
              "      <th>1</th>\n",
              "      <td>Ralph</td>\n",
              "      <td>Instagram</td>\n",
              "      <td>Real</td>\n",
              "    </tr>\n",
              "    <tr>\n",
              "      <th>2</th>\n",
              "      <td>Molly (\"Thing of Evil\")</td>\n",
              "      <td>Stephen King</td>\n",
              "      <td>Real</td>\n",
              "    </tr>\n",
              "    <tr>\n",
              "      <th>3</th>\n",
              "      <td>Ein</td>\n",
              "      <td>Cowboy Bebop</td>\n",
              "      <td>Not Real</td>\n",
              "    </tr>\n",
              "    <tr>\n",
              "      <th>4</th>\n",
              "      <td>Loki</td>\n",
              "      <td>Instagram</td>\n",
              "      <td>Real</td>\n",
              "    </tr>\n",
              "    <tr>\n",
              "      <th>5</th>\n",
              "      <td>Rufus</td>\n",
              "      <td>Amazon.com</td>\n",
              "      <td>Real</td>\n",
              "    </tr>\n",
              "    <tr>\n",
              "      <th>6</th>\n",
              "      <td>Sutter Brown</td>\n",
              "      <td>Jerry Brown (gov of Cali)</td>\n",
              "      <td>Real</td>\n",
              "    </tr>\n",
              "  </tbody>\n",
              "</table>\n",
              "</div>"
            ],
            "text/plain": [
              "                Unnamed: 0                     Source Is this Real or Not Real?\n",
              "0                    Holly           Queen of England                      Real\n",
              "1                    Ralph                  Instagram                      Real\n",
              "2  Molly (\"Thing of Evil\")               Stephen King                      Real\n",
              "3                      Ein               Cowboy Bebop                  Not Real\n",
              "4                     Loki                  Instagram                      Real\n",
              "5                    Rufus                 Amazon.com                      Real\n",
              "6             Sutter Brown  Jerry Brown (gov of Cali)                      Real"
            ]
          },
          "metadata": {
            "tags": []
          },
          "execution_count": 6
        }
      ]
    },
    {
      "cell_type": "code",
      "metadata": {
        "id": "3GZNcwjoGAaQ",
        "colab_type": "code",
        "colab": {
          "base_uri": "https://localhost:8080/",
          "height": 85
        },
        "outputId": "7d1685df-8d5a-4e2e-d6d7-5019c259b043"
      },
      "source": [
        "corgiFrame.loc[0]"
      ],
      "execution_count": 7,
      "outputs": [
        {
          "output_type": "execute_result",
          "data": {
            "text/plain": [
              "Unnamed: 0                              Holly\n",
              "Source                       Queen of England\n",
              "Is this Real or Not Real?                Real\n",
              "Name: 0, dtype: object"
            ]
          },
          "metadata": {
            "tags": []
          },
          "execution_count": 7
        }
      ]
    },
    {
      "cell_type": "code",
      "metadata": {
        "id": "xHTzUAyZGMxz",
        "colab_type": "code",
        "colab": {
          "base_uri": "https://localhost:8080/",
          "height": 85
        },
        "outputId": "b94845e7-7069-4f74-ade7-7755091f9d16"
      },
      "source": [
        "corgiFrame.iloc[0]"
      ],
      "execution_count": 9,
      "outputs": [
        {
          "output_type": "execute_result",
          "data": {
            "text/plain": [
              "Unnamed: 0                              Holly\n",
              "Source                       Queen of England\n",
              "Is this Real or Not Real?                Real\n",
              "Name: 0, dtype: object"
            ]
          },
          "metadata": {
            "tags": []
          },
          "execution_count": 9
        }
      ]
    },
    {
      "cell_type": "code",
      "metadata": {
        "id": "TJIColIoGOsH",
        "colab_type": "code",
        "colab": {
          "base_uri": "https://localhost:8080/",
          "height": 85
        },
        "outputId": "6ee3a46f-552f-4a62-c2c0-9b59de679807"
      },
      "source": [
        "corgiFrame.loc[1]"
      ],
      "execution_count": 10,
      "outputs": [
        {
          "output_type": "execute_result",
          "data": {
            "text/plain": [
              "Unnamed: 0                       Ralph\n",
              "Source                       Instagram\n",
              "Is this Real or Not Real?         Real\n",
              "Name: 1, dtype: object"
            ]
          },
          "metadata": {
            "tags": []
          },
          "execution_count": 10
        }
      ]
    },
    {
      "cell_type": "code",
      "metadata": {
        "id": "ia6VC9SsGSUk",
        "colab_type": "code",
        "colab": {
          "base_uri": "https://localhost:8080/",
          "height": 85
        },
        "outputId": "eb8bae44-23ba-4799-ece4-9c1c211e2e87"
      },
      "source": [
        "corgiFrame.iloc[1]"
      ],
      "execution_count": 11,
      "outputs": [
        {
          "output_type": "execute_result",
          "data": {
            "text/plain": [
              "Unnamed: 0                       Ralph\n",
              "Source                       Instagram\n",
              "Is this Real or Not Real?         Real\n",
              "Name: 1, dtype: object"
            ]
          },
          "metadata": {
            "tags": []
          },
          "execution_count": 11
        }
      ]
    },
    {
      "cell_type": "code",
      "metadata": {
        "id": "elKwzLshGT5B",
        "colab_type": "code",
        "colab": {
          "base_uri": "https://localhost:8080/",
          "height": 204
        },
        "outputId": "27360daf-9344-423e-f794-ff04d5eb07bc"
      },
      "source": [
        "corgiFrame.loc[:4]"
      ],
      "execution_count": 12,
      "outputs": [
        {
          "output_type": "execute_result",
          "data": {
            "text/html": [
              "<div>\n",
              "<style scoped>\n",
              "    .dataframe tbody tr th:only-of-type {\n",
              "        vertical-align: middle;\n",
              "    }\n",
              "\n",
              "    .dataframe tbody tr th {\n",
              "        vertical-align: top;\n",
              "    }\n",
              "\n",
              "    .dataframe thead th {\n",
              "        text-align: right;\n",
              "    }\n",
              "</style>\n",
              "<table border=\"1\" class=\"dataframe\">\n",
              "  <thead>\n",
              "    <tr style=\"text-align: right;\">\n",
              "      <th></th>\n",
              "      <th>Unnamed: 0</th>\n",
              "      <th>Source</th>\n",
              "      <th>Is this Real or Not Real?</th>\n",
              "    </tr>\n",
              "  </thead>\n",
              "  <tbody>\n",
              "    <tr>\n",
              "      <th>0</th>\n",
              "      <td>Holly</td>\n",
              "      <td>Queen of England</td>\n",
              "      <td>Real</td>\n",
              "    </tr>\n",
              "    <tr>\n",
              "      <th>1</th>\n",
              "      <td>Ralph</td>\n",
              "      <td>Instagram</td>\n",
              "      <td>Real</td>\n",
              "    </tr>\n",
              "    <tr>\n",
              "      <th>2</th>\n",
              "      <td>Molly (\"Thing of Evil\")</td>\n",
              "      <td>Stephen King</td>\n",
              "      <td>Real</td>\n",
              "    </tr>\n",
              "    <tr>\n",
              "      <th>3</th>\n",
              "      <td>Ein</td>\n",
              "      <td>Cowboy Bebop</td>\n",
              "      <td>Not Real</td>\n",
              "    </tr>\n",
              "    <tr>\n",
              "      <th>4</th>\n",
              "      <td>Loki</td>\n",
              "      <td>Instagram</td>\n",
              "      <td>Real</td>\n",
              "    </tr>\n",
              "  </tbody>\n",
              "</table>\n",
              "</div>"
            ],
            "text/plain": [
              "                Unnamed: 0            Source Is this Real or Not Real?\n",
              "0                    Holly  Queen of England                      Real\n",
              "1                    Ralph         Instagram                      Real\n",
              "2  Molly (\"Thing of Evil\")      Stephen King                      Real\n",
              "3                      Ein      Cowboy Bebop                  Not Real\n",
              "4                     Loki         Instagram                      Real"
            ]
          },
          "metadata": {
            "tags": []
          },
          "execution_count": 12
        }
      ]
    },
    {
      "cell_type": "code",
      "metadata": {
        "id": "wZB7t80AGZVk",
        "colab_type": "code",
        "colab": {
          "base_uri": "https://localhost:8080/",
          "height": 173
        },
        "outputId": "9d49efe6-71cf-4268-ceed-b641826e0e9e"
      },
      "source": [
        "corgiFrame.iloc[:4]"
      ],
      "execution_count": 13,
      "outputs": [
        {
          "output_type": "execute_result",
          "data": {
            "text/html": [
              "<div>\n",
              "<style scoped>\n",
              "    .dataframe tbody tr th:only-of-type {\n",
              "        vertical-align: middle;\n",
              "    }\n",
              "\n",
              "    .dataframe tbody tr th {\n",
              "        vertical-align: top;\n",
              "    }\n",
              "\n",
              "    .dataframe thead th {\n",
              "        text-align: right;\n",
              "    }\n",
              "</style>\n",
              "<table border=\"1\" class=\"dataframe\">\n",
              "  <thead>\n",
              "    <tr style=\"text-align: right;\">\n",
              "      <th></th>\n",
              "      <th>Unnamed: 0</th>\n",
              "      <th>Source</th>\n",
              "      <th>Is this Real or Not Real?</th>\n",
              "    </tr>\n",
              "  </thead>\n",
              "  <tbody>\n",
              "    <tr>\n",
              "      <th>0</th>\n",
              "      <td>Holly</td>\n",
              "      <td>Queen of England</td>\n",
              "      <td>Real</td>\n",
              "    </tr>\n",
              "    <tr>\n",
              "      <th>1</th>\n",
              "      <td>Ralph</td>\n",
              "      <td>Instagram</td>\n",
              "      <td>Real</td>\n",
              "    </tr>\n",
              "    <tr>\n",
              "      <th>2</th>\n",
              "      <td>Molly (\"Thing of Evil\")</td>\n",
              "      <td>Stephen King</td>\n",
              "      <td>Real</td>\n",
              "    </tr>\n",
              "    <tr>\n",
              "      <th>3</th>\n",
              "      <td>Ein</td>\n",
              "      <td>Cowboy Bebop</td>\n",
              "      <td>Not Real</td>\n",
              "    </tr>\n",
              "  </tbody>\n",
              "</table>\n",
              "</div>"
            ],
            "text/plain": [
              "                Unnamed: 0            Source Is this Real or Not Real?\n",
              "0                    Holly  Queen of England                      Real\n",
              "1                    Ralph         Instagram                      Real\n",
              "2  Molly (\"Thing of Evil\")      Stephen King                      Real\n",
              "3                      Ein      Cowboy Bebop                  Not Real"
            ]
          },
          "metadata": {
            "tags": []
          },
          "execution_count": 13
        }
      ]
    },
    {
      "cell_type": "markdown",
      "metadata": {
        "id": "lo0lFlecGenn",
        "colab_type": "text"
      },
      "source": [
        "(why in the world would the inclusivity of the slice be different between .loc and .iloc?)"
      ]
    },
    {
      "cell_type": "code",
      "metadata": {
        "id": "o2fMYZjZGbKs",
        "colab_type": "code",
        "colab": {
          "base_uri": "https://localhost:8080/",
          "height": 266
        },
        "outputId": "20d04b50-6bc6-4a38-b766-248d92f1b1e5"
      },
      "source": [
        "corgiIndexed = pd.read_csv('corgi_test_data.csv', index_col=0)\n",
        "\n",
        "corgiIndexed"
      ],
      "execution_count": 15,
      "outputs": [
        {
          "output_type": "execute_result",
          "data": {
            "text/html": [
              "<div>\n",
              "<style scoped>\n",
              "    .dataframe tbody tr th:only-of-type {\n",
              "        vertical-align: middle;\n",
              "    }\n",
              "\n",
              "    .dataframe tbody tr th {\n",
              "        vertical-align: top;\n",
              "    }\n",
              "\n",
              "    .dataframe thead th {\n",
              "        text-align: right;\n",
              "    }\n",
              "</style>\n",
              "<table border=\"1\" class=\"dataframe\">\n",
              "  <thead>\n",
              "    <tr style=\"text-align: right;\">\n",
              "      <th></th>\n",
              "      <th>Source</th>\n",
              "      <th>Is this Real or Not Real?</th>\n",
              "    </tr>\n",
              "  </thead>\n",
              "  <tbody>\n",
              "    <tr>\n",
              "      <th>Holly</th>\n",
              "      <td>Queen of England</td>\n",
              "      <td>Real</td>\n",
              "    </tr>\n",
              "    <tr>\n",
              "      <th>Ralph</th>\n",
              "      <td>Instagram</td>\n",
              "      <td>Real</td>\n",
              "    </tr>\n",
              "    <tr>\n",
              "      <th>Molly (\"Thing of Evil\")</th>\n",
              "      <td>Stephen King</td>\n",
              "      <td>Real</td>\n",
              "    </tr>\n",
              "    <tr>\n",
              "      <th>Ein</th>\n",
              "      <td>Cowboy Bebop</td>\n",
              "      <td>Not Real</td>\n",
              "    </tr>\n",
              "    <tr>\n",
              "      <th>Loki</th>\n",
              "      <td>Instagram</td>\n",
              "      <td>Real</td>\n",
              "    </tr>\n",
              "    <tr>\n",
              "      <th>Rufus</th>\n",
              "      <td>Amazon.com</td>\n",
              "      <td>Real</td>\n",
              "    </tr>\n",
              "    <tr>\n",
              "      <th>Sutter Brown</th>\n",
              "      <td>Jerry Brown (gov of Cali)</td>\n",
              "      <td>Real</td>\n",
              "    </tr>\n",
              "  </tbody>\n",
              "</table>\n",
              "</div>"
            ],
            "text/plain": [
              "                                            Source Is this Real or Not Real?\n",
              "Holly                             Queen of England                      Real\n",
              "Ralph                                    Instagram                      Real\n",
              "Molly (\"Thing of Evil\")               Stephen King                      Real\n",
              "Ein                                   Cowboy Bebop                  Not Real\n",
              "Loki                                     Instagram                      Real\n",
              "Rufus                                   Amazon.com                      Real\n",
              "Sutter Brown             Jerry Brown (gov of Cali)                      Real"
            ]
          },
          "metadata": {
            "tags": []
          },
          "execution_count": 15
        }
      ]
    },
    {
      "cell_type": "code",
      "metadata": {
        "id": "URfCx6U8GtOK",
        "colab_type": "code",
        "colab": {
          "base_uri": "https://localhost:8080/",
          "height": 68
        },
        "outputId": "5ef6797b-54bb-46eb-fa92-8e1e98baea9b"
      },
      "source": [
        "corgiIndexed.loc['Ralph']"
      ],
      "execution_count": 17,
      "outputs": [
        {
          "output_type": "execute_result",
          "data": {
            "text/plain": [
              "Source                       Instagram\n",
              "Is this Real or Not Real?         Real\n",
              "Name: Ralph, dtype: object"
            ]
          },
          "metadata": {
            "tags": []
          },
          "execution_count": 17
        }
      ]
    },
    {
      "cell_type": "code",
      "metadata": {
        "id": "Rmi8M98SG12E",
        "colab_type": "code",
        "colab": {
          "base_uri": "https://localhost:8080/",
          "height": 68
        },
        "outputId": "5950b445-04b6-4ec7-a78c-4b453a99acd9"
      },
      "source": [
        "corgiIndexed.iloc[1]"
      ],
      "execution_count": 18,
      "outputs": [
        {
          "output_type": "execute_result",
          "data": {
            "text/plain": [
              "Source                       Instagram\n",
              "Is this Real or Not Real?         Real\n",
              "Name: Ralph, dtype: object"
            ]
          },
          "metadata": {
            "tags": []
          },
          "execution_count": 18
        }
      ]
    },
    {
      "cell_type": "code",
      "metadata": {
        "id": "bmDR9Mq9G6TU",
        "colab_type": "code",
        "colab": {
          "base_uri": "https://localhost:8080/",
          "height": 204
        },
        "outputId": "a2cda6f0-3e04-42b3-d0c4-59450a629e29"
      },
      "source": [
        "corgiIndexed.loc[:'Loki']"
      ],
      "execution_count": 20,
      "outputs": [
        {
          "output_type": "execute_result",
          "data": {
            "text/html": [
              "<div>\n",
              "<style scoped>\n",
              "    .dataframe tbody tr th:only-of-type {\n",
              "        vertical-align: middle;\n",
              "    }\n",
              "\n",
              "    .dataframe tbody tr th {\n",
              "        vertical-align: top;\n",
              "    }\n",
              "\n",
              "    .dataframe thead th {\n",
              "        text-align: right;\n",
              "    }\n",
              "</style>\n",
              "<table border=\"1\" class=\"dataframe\">\n",
              "  <thead>\n",
              "    <tr style=\"text-align: right;\">\n",
              "      <th></th>\n",
              "      <th>Source</th>\n",
              "      <th>Is this Real or Not Real?</th>\n",
              "    </tr>\n",
              "  </thead>\n",
              "  <tbody>\n",
              "    <tr>\n",
              "      <th>Holly</th>\n",
              "      <td>Queen of England</td>\n",
              "      <td>Real</td>\n",
              "    </tr>\n",
              "    <tr>\n",
              "      <th>Ralph</th>\n",
              "      <td>Instagram</td>\n",
              "      <td>Real</td>\n",
              "    </tr>\n",
              "    <tr>\n",
              "      <th>Molly (\"Thing of Evil\")</th>\n",
              "      <td>Stephen King</td>\n",
              "      <td>Real</td>\n",
              "    </tr>\n",
              "    <tr>\n",
              "      <th>Ein</th>\n",
              "      <td>Cowboy Bebop</td>\n",
              "      <td>Not Real</td>\n",
              "    </tr>\n",
              "    <tr>\n",
              "      <th>Loki</th>\n",
              "      <td>Instagram</td>\n",
              "      <td>Real</td>\n",
              "    </tr>\n",
              "  </tbody>\n",
              "</table>\n",
              "</div>"
            ],
            "text/plain": [
              "                                   Source Is this Real or Not Real?\n",
              "Holly                    Queen of England                      Real\n",
              "Ralph                           Instagram                      Real\n",
              "Molly (\"Thing of Evil\")      Stephen King                      Real\n",
              "Ein                          Cowboy Bebop                  Not Real\n",
              "Loki                            Instagram                      Real"
            ]
          },
          "metadata": {
            "tags": []
          },
          "execution_count": 20
        }
      ]
    },
    {
      "cell_type": "code",
      "metadata": {
        "id": "O2uCyoljG-bI",
        "colab_type": "code",
        "colab": {
          "base_uri": "https://localhost:8080/",
          "height": 173
        },
        "outputId": "56716803-469d-4961-d6a7-76e84ff2add5"
      },
      "source": [
        "corgiIndexed.iloc[:4]"
      ],
      "execution_count": 21,
      "outputs": [
        {
          "output_type": "execute_result",
          "data": {
            "text/html": [
              "<div>\n",
              "<style scoped>\n",
              "    .dataframe tbody tr th:only-of-type {\n",
              "        vertical-align: middle;\n",
              "    }\n",
              "\n",
              "    .dataframe tbody tr th {\n",
              "        vertical-align: top;\n",
              "    }\n",
              "\n",
              "    .dataframe thead th {\n",
              "        text-align: right;\n",
              "    }\n",
              "</style>\n",
              "<table border=\"1\" class=\"dataframe\">\n",
              "  <thead>\n",
              "    <tr style=\"text-align: right;\">\n",
              "      <th></th>\n",
              "      <th>Source</th>\n",
              "      <th>Is this Real or Not Real?</th>\n",
              "    </tr>\n",
              "  </thead>\n",
              "  <tbody>\n",
              "    <tr>\n",
              "      <th>Holly</th>\n",
              "      <td>Queen of England</td>\n",
              "      <td>Real</td>\n",
              "    </tr>\n",
              "    <tr>\n",
              "      <th>Ralph</th>\n",
              "      <td>Instagram</td>\n",
              "      <td>Real</td>\n",
              "    </tr>\n",
              "    <tr>\n",
              "      <th>Molly (\"Thing of Evil\")</th>\n",
              "      <td>Stephen King</td>\n",
              "      <td>Real</td>\n",
              "    </tr>\n",
              "    <tr>\n",
              "      <th>Ein</th>\n",
              "      <td>Cowboy Bebop</td>\n",
              "      <td>Not Real</td>\n",
              "    </tr>\n",
              "  </tbody>\n",
              "</table>\n",
              "</div>"
            ],
            "text/plain": [
              "                                   Source Is this Real or Not Real?\n",
              "Holly                    Queen of England                      Real\n",
              "Ralph                           Instagram                      Real\n",
              "Molly (\"Thing of Evil\")      Stephen King                      Real\n",
              "Ein                          Cowboy Bebop                  Not Real"
            ]
          },
          "metadata": {
            "tags": []
          },
          "execution_count": 21
        }
      ]
    },
    {
      "cell_type": "code",
      "metadata": {
        "id": "Aabp2MbjHD4l",
        "colab_type": "code",
        "colab": {
          "base_uri": "https://localhost:8080/",
          "height": 68
        },
        "outputId": "c4829c5d-dc75-487a-a7ef-8deb28bffe9f"
      },
      "source": [
        "corgiIndexed.loc['Loki']"
      ],
      "execution_count": 22,
      "outputs": [
        {
          "output_type": "execute_result",
          "data": {
            "text/plain": [
              "Source                       Instagram\n",
              "Is this Real or Not Real?         Real\n",
              "Name: Loki, dtype: object"
            ]
          },
          "metadata": {
            "tags": []
          },
          "execution_count": 22
        }
      ]
    },
    {
      "cell_type": "code",
      "metadata": {
        "id": "3w7hacFEHHe8",
        "colab_type": "code",
        "colab": {
          "base_uri": "https://localhost:8080/",
          "height": 34
        },
        "outputId": "59d2b9ed-76f0-4d9c-f771-f68f8e461e8b"
      },
      "source": [
        "corgiIndexed.index.get_loc('Loki')"
      ],
      "execution_count": 28,
      "outputs": [
        {
          "output_type": "execute_result",
          "data": {
            "text/plain": [
              "4"
            ]
          },
          "metadata": {
            "tags": []
          },
          "execution_count": 28
        }
      ]
    },
    {
      "cell_type": "code",
      "metadata": {
        "id": "uoafmeDFHWjq",
        "colab_type": "code",
        "colab": {
          "base_uri": "https://localhost:8080/",
          "height": 235
        },
        "outputId": "98583fce-30bf-4cde-b125-c505f9d36c62"
      },
      "source": [
        "corgiIndexed.loc[corgiIndexed['Is this Real or Not Real?'] == 'Real']"
      ],
      "execution_count": 30,
      "outputs": [
        {
          "output_type": "execute_result",
          "data": {
            "text/html": [
              "<div>\n",
              "<style scoped>\n",
              "    .dataframe tbody tr th:only-of-type {\n",
              "        vertical-align: middle;\n",
              "    }\n",
              "\n",
              "    .dataframe tbody tr th {\n",
              "        vertical-align: top;\n",
              "    }\n",
              "\n",
              "    .dataframe thead th {\n",
              "        text-align: right;\n",
              "    }\n",
              "</style>\n",
              "<table border=\"1\" class=\"dataframe\">\n",
              "  <thead>\n",
              "    <tr style=\"text-align: right;\">\n",
              "      <th></th>\n",
              "      <th>Source</th>\n",
              "      <th>Is this Real or Not Real?</th>\n",
              "    </tr>\n",
              "  </thead>\n",
              "  <tbody>\n",
              "    <tr>\n",
              "      <th>Holly</th>\n",
              "      <td>Queen of England</td>\n",
              "      <td>Real</td>\n",
              "    </tr>\n",
              "    <tr>\n",
              "      <th>Ralph</th>\n",
              "      <td>Instagram</td>\n",
              "      <td>Real</td>\n",
              "    </tr>\n",
              "    <tr>\n",
              "      <th>Molly (\"Thing of Evil\")</th>\n",
              "      <td>Stephen King</td>\n",
              "      <td>Real</td>\n",
              "    </tr>\n",
              "    <tr>\n",
              "      <th>Loki</th>\n",
              "      <td>Instagram</td>\n",
              "      <td>Real</td>\n",
              "    </tr>\n",
              "    <tr>\n",
              "      <th>Rufus</th>\n",
              "      <td>Amazon.com</td>\n",
              "      <td>Real</td>\n",
              "    </tr>\n",
              "    <tr>\n",
              "      <th>Sutter Brown</th>\n",
              "      <td>Jerry Brown (gov of Cali)</td>\n",
              "      <td>Real</td>\n",
              "    </tr>\n",
              "  </tbody>\n",
              "</table>\n",
              "</div>"
            ],
            "text/plain": [
              "                                            Source Is this Real or Not Real?\n",
              "Holly                             Queen of England                      Real\n",
              "Ralph                                    Instagram                      Real\n",
              "Molly (\"Thing of Evil\")               Stephen King                      Real\n",
              "Loki                                     Instagram                      Real\n",
              "Rufus                                   Amazon.com                      Real\n",
              "Sutter Brown             Jerry Brown (gov of Cali)                      Real"
            ]
          },
          "metadata": {
            "tags": []
          },
          "execution_count": 30
        }
      ]
    },
    {
      "cell_type": "code",
      "metadata": {
        "id": "LwOmngAXJT7u",
        "colab_type": "code",
        "colab": {
          "base_uri": "https://localhost:8080/",
          "height": 80
        },
        "outputId": "b02d66d9-0c06-4c5b-efda-9409509a718d"
      },
      "source": [
        "where_clause = corgiIndexed['Is this Real or Not Real?'] == 'Not Real'\n",
        "\n",
        "corgiIndexed.loc[where_clause]"
      ],
      "execution_count": 31,
      "outputs": [
        {
          "output_type": "execute_result",
          "data": {
            "text/html": [
              "<div>\n",
              "<style scoped>\n",
              "    .dataframe tbody tr th:only-of-type {\n",
              "        vertical-align: middle;\n",
              "    }\n",
              "\n",
              "    .dataframe tbody tr th {\n",
              "        vertical-align: top;\n",
              "    }\n",
              "\n",
              "    .dataframe thead th {\n",
              "        text-align: right;\n",
              "    }\n",
              "</style>\n",
              "<table border=\"1\" class=\"dataframe\">\n",
              "  <thead>\n",
              "    <tr style=\"text-align: right;\">\n",
              "      <th></th>\n",
              "      <th>Source</th>\n",
              "      <th>Is this Real or Not Real?</th>\n",
              "    </tr>\n",
              "  </thead>\n",
              "  <tbody>\n",
              "    <tr>\n",
              "      <th>Ein</th>\n",
              "      <td>Cowboy Bebop</td>\n",
              "      <td>Not Real</td>\n",
              "    </tr>\n",
              "  </tbody>\n",
              "</table>\n",
              "</div>"
            ],
            "text/plain": [
              "           Source Is this Real or Not Real?\n",
              "Ein  Cowboy Bebop                  Not Real"
            ]
          },
          "metadata": {
            "tags": []
          },
          "execution_count": 31
        }
      ]
    },
    {
      "cell_type": "code",
      "metadata": {
        "id": "iFjJGmp1Jkg0",
        "colab_type": "code",
        "colab": {
          "base_uri": "https://localhost:8080/",
          "height": 111
        },
        "outputId": "5a5b8416-6a8a-4d0d-db42-9d0174431bf9"
      },
      "source": [
        "def toFilter(frame, column, is_equal_to):\n",
        "  data_to_filter = frame[column]\n",
        "  clause = data_to_filter == is_equal_to\n",
        "  return (clause);\n",
        "\n",
        "where_instagram = toFilter(corgiIndexed, 'Source', 'Instagram')\n",
        "\n",
        "\n",
        "corgiIndexed.loc[where_instagram]"
      ],
      "execution_count": 33,
      "outputs": [
        {
          "output_type": "execute_result",
          "data": {
            "text/html": [
              "<div>\n",
              "<style scoped>\n",
              "    .dataframe tbody tr th:only-of-type {\n",
              "        vertical-align: middle;\n",
              "    }\n",
              "\n",
              "    .dataframe tbody tr th {\n",
              "        vertical-align: top;\n",
              "    }\n",
              "\n",
              "    .dataframe thead th {\n",
              "        text-align: right;\n",
              "    }\n",
              "</style>\n",
              "<table border=\"1\" class=\"dataframe\">\n",
              "  <thead>\n",
              "    <tr style=\"text-align: right;\">\n",
              "      <th></th>\n",
              "      <th>Source</th>\n",
              "      <th>Is this Real or Not Real?</th>\n",
              "    </tr>\n",
              "  </thead>\n",
              "  <tbody>\n",
              "    <tr>\n",
              "      <th>Ralph</th>\n",
              "      <td>Instagram</td>\n",
              "      <td>Real</td>\n",
              "    </tr>\n",
              "    <tr>\n",
              "      <th>Loki</th>\n",
              "      <td>Instagram</td>\n",
              "      <td>Real</td>\n",
              "    </tr>\n",
              "  </tbody>\n",
              "</table>\n",
              "</div>"
            ],
            "text/plain": [
              "          Source Is this Real or Not Real?\n",
              "Ralph  Instagram                      Real\n",
              "Loki   Instagram                      Real"
            ]
          },
          "metadata": {
            "tags": []
          },
          "execution_count": 33
        }
      ]
    },
    {
      "cell_type": "code",
      "metadata": {
        "id": "WYUGJppAKSPL",
        "colab_type": "code",
        "colab": {}
      },
      "source": [
        ""
      ],
      "execution_count": 0,
      "outputs": []
    }
  ]
}