{
  "nbformat": 4,
  "nbformat_minor": 0,
  "metadata": {
    "colab": {
      "name": "graphgenerator.ipynb",
      "provenance": [],
      "collapsed_sections": [],
      "toc_visible": true
    },
    "kernelspec": {
      "name": "python3",
      "display_name": "Python 3"
    }
  },
  "cells": [
    {
      "cell_type": "markdown",
      "metadata": {
        "id": "kW4PBqPvKEIN",
        "colab_type": "text"
      },
      "source": [
        "This module searches for uploaded .arff files, uses the graphable module to create the interactive graph for each, then triggers a browser download for each .html file generated.\n",
        "\n",
        "\n",
        ".arff files must have unique names, or the graphs will overwrite each other.\n",
        "\n",
        "\n",
        "Uses: \n",
        "* graphable.py\n",
        "* bark_to_byte.py"
      ]
    },
    {
      "cell_type": "markdown",
      "metadata": {
        "id": "3AFUsdd3ekfG",
        "colab_type": "text"
      },
      "source": [
        "To update graphable:\n",
        "\n",
        "Part 1 (in graphable notebook):\n",
        "* Comment out any install statements\n",
        "* Comment out any tests\n",
        "* Save file as .py\n",
        "\n",
        "\n",
        "Part 2 (in this notebook):\n",
        "* Reset all runtimes (so colab doesn't get confused between the new and old copies of the module)\n",
        "* Upload new graphable module, as well as other file dependencies\n",
        "* Re-compile all imports and methods"
      ]
    },
    {
      "cell_type": "markdown",
      "metadata": {
        "id": "lS5rf_gQKRuD",
        "colab_type": "text"
      },
      "source": [
        "#Imports"
      ]
    },
    {
      "cell_type": "code",
      "metadata": {
        "id": "RGP5Oca-YmO7",
        "colab_type": "code",
        "outputId": "b36d675b-779c-4a4c-9397-3e7394549ee8",
        "colab": {
          "base_uri": "https://localhost:8080/",
          "height": 190
        }
      },
      "source": [
        "# so we can parse the .arff file\n",
        "pip install liac_arff"
      ],
      "execution_count": 0,
      "outputs": [
        {
          "output_type": "stream",
          "text": [
            "Collecting liac_arff\n",
            "  Downloading https://files.pythonhosted.org/packages/e9/35/fbc9217cfa91d98888b43e1a19c03a50d716108c58494c558c65e308f372/liac-arff-2.4.0.tar.gz\n",
            "Building wheels for collected packages: liac-arff\n",
            "  Building wheel for liac-arff (setup.py) ... \u001b[?25l\u001b[?25hdone\n",
            "  Created wheel for liac-arff: filename=liac_arff-2.4.0-cp36-none-any.whl size=13333 sha256=8e8559210b321743a5e3a015e62b8c62b5a5890e163fcd3486e757e560b4dc08\n",
            "  Stored in directory: /root/.cache/pip/wheels/d1/6a/e7/529dc54d76ecede4346164a09ae3168df358945612710f5203\n",
            "Successfully built liac-arff\n",
            "Installing collected packages: liac-arff\n",
            "Successfully installed liac-arff-2.4.0\n"
          ],
          "name": "stdout"
        }
      ]
    },
    {
      "cell_type": "code",
      "metadata": {
        "id": "UIEKPB9ITaOc",
        "colab_type": "code",
        "colab": {}
      },
      "source": [
        "from google.colab import files\n",
        "import os\n",
        "import graphable as gr"
      ],
      "execution_count": 0,
      "outputs": []
    },
    {
      "cell_type": "markdown",
      "metadata": {
        "id": "CzqF2FVzinhC",
        "colab_type": "text"
      },
      "source": [
        "#Main Code Blocks\n",
        "* Get uploaded .arff files\n",
        "* Create a graph for each \n",
        "* Trigger browser download of each .html file "
      ]
    },
    {
      "cell_type": "markdown",
      "metadata": {
        "id": "NR-a_Bzii9Vl",
        "colab_type": "text"
      },
      "source": [
        "Iterate through files in current working directory; extract .arff files"
      ]
    },
    {
      "cell_type": "code",
      "metadata": {
        "id": "Syn04gNriqR2",
        "colab_type": "code",
        "colab": {}
      },
      "source": [
        "def search_for_ext(ext):\n",
        "  files_in_dir = os.listdir()\n",
        "  type_files = []\n",
        "  ext_length = len(ext)\n",
        "\n",
        "  for fn in files_in_dir:\n",
        "    name_length = len(fn)\n",
        "    ext_pos = name_length - ext_length\n",
        "    type_pos = fn.find(ext, ext_pos)\n",
        "    is_type = False\n",
        "  \n",
        "    if (type_pos >= 0):\n",
        "      is_type = True\n",
        "\n",
        "    if (is_type):\n",
        "      type_files.append(fn)\n",
        "    \n",
        "  return type_files"
      ],
      "execution_count": 0,
      "outputs": []
    },
    {
      "cell_type": "markdown",
      "metadata": {
        "id": "Jm6E4oyGjCUa",
        "colab_type": "text"
      },
      "source": [
        "Iterate through .arff files; create a graph for each, and save it as .html"
      ]
    },
    {
      "cell_type": "code",
      "metadata": {
        "id": "vftjJIm4jMUf",
        "colab_type": "code",
        "colab": {}
      },
      "source": [
        "# get the scenarios to graph\n",
        "arff_files = search_for_ext(\".arff\")\n",
        "data_sources = arff_files\n",
        "\n",
        "for src in data_sources:\n",
        "\n",
        "  # make a graph, setup to save\n",
        "  graph = gr.create_graph(src)\n",
        "  name = src.replace(\".arff\", \"\")\n",
        "\n",
        "  # if it worked, save the graph\n",
        "  try:\n",
        "    graph.save(name + \".html\")\n",
        "  except:\n",
        "    pass"
      ],
      "execution_count": 0,
      "outputs": []
    },
    {
      "cell_type": "markdown",
      "metadata": {
        "id": "tQpbTw7KjIN8",
        "colab_type": "text"
      },
      "source": [
        "Download .html files generated in previous block (search for existing files, in case above block times out)"
      ]
    },
    {
      "cell_type": "code",
      "metadata": {
        "id": "CUTE3Q6PjRec",
        "colab_type": "code",
        "colab": {}
      },
      "source": [
        "html_files = search_for_ext(\".html\")\n",
        "data_sources = html_files\n",
        "\n",
        "for src in data_sources:\n",
        "  files.download(src)"
      ],
      "execution_count": 0,
      "outputs": []
    },
    {
      "cell_type": "markdown",
      "metadata": {
        "id": "66G69sR-LQtv",
        "colab_type": "text"
      },
      "source": [
        "#Tests"
      ]
    },
    {
      "cell_type": "code",
      "metadata": {
        "id": "80Q3lVIXTcl9",
        "colab_type": "code",
        "outputId": "361e06f2-b270-4b34-b190-82c7af8962bc",
        "colab": {
          "base_uri": "https://localhost:8080/",
          "height": 368
        }
      },
      "source": [
        "gr.create_graph(\"abstracted_algorithm_runs.arff\")"
      ],
      "execution_count": 0,
      "outputs": [
        {
          "output_type": "execute_result",
          "data": {
            "text/plain": [
              "alt.Chart(...)"
            ],
            "text/html": [
              "<!DOCTYPE html>\n",
              "<html>\n",
              "<head>\n",
              "  <style>\n",
              "    .vega-actions a {\n",
              "        margin-right: 12px;\n",
              "        color: #757575;\n",
              "        font-weight: normal;\n",
              "        font-size: 13px;\n",
              "    }\n",
              "    .error {\n",
              "        color: red;\n",
              "    }\n",
              "  </style>\n",
              "  <script type=\"text/javascript\" src=\"https://cdn.jsdelivr.net/npm//vega@5\"></script>\n",
              "  <script type=\"text/javascript\" src=\"https://cdn.jsdelivr.net/npm//vega-lite@3.4.0\"></script>\n",
              "  <script type=\"text/javascript\" src=\"https://cdn.jsdelivr.net/npm//vega-embed@4\"></script>\n",
              "</head>\n",
              "<body>\n",
              "  <div id=\"altair-viz\"></div>\n",
              "  <script>\n",
              "    (function(vegaEmbed) {\n",
              "      var spec = {\"config\": {\"view\": {\"width\": 400, \"height\": 300}, \"mark\": {\"tooltip\": null}}, \"data\": {\"name\": \"data-da5c6bf6b32b3800509622e0dacb7bbb\"}, \"mark\": \"point\", \"encoding\": {\"x\": {\"type\": \"quantitative\", \"field\": \"runtime_algorithm_0\"}, \"y\": {\"type\": \"quantitative\", \"field\": \"runtime_algorithm_1\"}}, \"transform\": [{\"fold\": [\"runtime_algorithm_0\", \"runtime_algorithm_1\", \"runtime_id_algorithm_0\", \"runtime_id_algorithm_1\"], \"as\": [\"column_x\", \"value_x\"]}, {\"fold\": [\"runtime_algorithm_0\", \"runtime_algorithm_1\", \"runtime_id_algorithm_0\", \"runtime_id_algorithm_1\"], \"as\": [\"column_y\", \"value_y\"]}], \"$schema\": \"https://vega.github.io/schema/vega-lite/v3.4.0.json\", \"datasets\": {\"data-da5c6bf6b32b3800509622e0dacb7bbb\": [{\"instance_id\": \"Instance_0\", \"repetition_algorithm_0\": 1.0, \"repetition_algorithm_1\": 1.0, \"repetition_id_algorithm_0\": 1.0, \"repetition_id_algorithm_1\": 1.0, \"runtime_algorithm_0\": 3600.0, \"runtime_algorithm_1\": 3600.0, \"runtime_id_algorithm_0\": 311.863, \"runtime_id_algorithm_1\": 3600.0, \"runstatus_algorithm_0\": \"memout\", \"runstatus_algorithm_1\": \"memout\", \"runstatus_id_algorithm_0\": \"ok\", \"runstatus_id_algorithm_1\": \"timeout\"}, {\"instance_id\": \"Instance_1\", \"repetition_algorithm_0\": 1.0, \"repetition_algorithm_1\": 1.0, \"repetition_id_algorithm_0\": 1.0, \"repetition_id_algorithm_1\": 1.0, \"runtime_algorithm_0\": 3600.0, \"runtime_algorithm_1\": 3600.0, \"runtime_id_algorithm_0\": 78.121, \"runtime_id_algorithm_1\": 600.402, \"runstatus_algorithm_0\": \"memout\", \"runstatus_algorithm_1\": \"memout\", \"runstatus_id_algorithm_0\": \"ok\", \"runstatus_id_algorithm_1\": \"ok\"}, {\"instance_id\": \"Instance_2\", \"repetition_algorithm_0\": 1.0, \"repetition_algorithm_1\": 1.0, \"repetition_id_algorithm_0\": 1.0, \"repetition_id_algorithm_1\": 1.0, \"runtime_algorithm_0\": 3600.0, \"runtime_algorithm_1\": 3600.0, \"runtime_id_algorithm_0\": 0.012, \"runtime_id_algorithm_1\": 60.72, \"runstatus_algorithm_0\": \"memout\", \"runstatus_algorithm_1\": \"memout\", \"runstatus_id_algorithm_0\": \"ok\", \"runstatus_id_algorithm_1\": \"ok\"}, {\"instance_id\": \"Instance_3\", \"repetition_algorithm_0\": 1.0, \"repetition_algorithm_1\": 1.0, \"repetition_id_algorithm_0\": 1.0, \"repetition_id_algorithm_1\": 1.0, \"runtime_algorithm_0\": 3600.0, \"runtime_algorithm_1\": 92.986, \"runtime_id_algorithm_0\": 2031.039, \"runtime_id_algorithm_1\": 141.857, \"runstatus_algorithm_0\": \"memout\", \"runstatus_algorithm_1\": \"ok\", \"runstatus_id_algorithm_0\": \"ok\", \"runstatus_id_algorithm_1\": \"ok\"}, {\"instance_id\": \"Instance_4\", \"repetition_algorithm_0\": 1.0, \"repetition_algorithm_1\": 1.0, \"repetition_id_algorithm_0\": 1.0, \"repetition_id_algorithm_1\": 1.0, \"runtime_algorithm_0\": 3600.0, \"runtime_algorithm_1\": 3600.0, \"runtime_id_algorithm_0\": 422.53, \"runtime_id_algorithm_1\": 3600.0, \"runstatus_algorithm_0\": \"memout\", \"runstatus_algorithm_1\": \"memout\", \"runstatus_id_algorithm_0\": \"ok\", \"runstatus_id_algorithm_1\": \"timeout\"}, {\"instance_id\": \"Instance_5\", \"repetition_algorithm_0\": 1.0, \"repetition_algorithm_1\": 1.0, \"repetition_id_algorithm_0\": 1.0, \"repetition_id_algorithm_1\": 1.0, \"runtime_algorithm_0\": 182.019, \"runtime_algorithm_1\": 3600.0, \"runtime_id_algorithm_0\": 66.988, \"runtime_id_algorithm_1\": 249.488, \"runstatus_algorithm_0\": \"ok\", \"runstatus_algorithm_1\": \"memout\", \"runstatus_id_algorithm_0\": \"ok\", \"runstatus_id_algorithm_1\": \"ok\"}]}};\n",
              "      var embedOpt = {\"mode\": \"vega-lite\"};\n",
              "\n",
              "      function showError(el, error){\n",
              "          el.innerHTML = ('<div class=\"error\" style=\"color:red;\">'\n",
              "                          + '<p>JavaScript Error: ' + error.message + '</p>'\n",
              "                          + \"<p>This usually means there's a typo in your chart specification. \"\n",
              "                          + \"See the javascript console for the full traceback.</p>\"\n",
              "                          + '</div>');\n",
              "          throw error;\n",
              "      }\n",
              "      const el = document.getElementById('altair-viz');\n",
              "      vegaEmbed(\"#altair-viz\", spec, embedOpt)\n",
              "        .catch(error => showError(el, error));\n",
              "    })(vegaEmbed);\n",
              "\n",
              "  </script>\n",
              "</body>\n",
              "</html>"
            ]
          },
          "metadata": {
            "tags": []
          },
          "execution_count": 13
        }
      ]
    },
    {
      "cell_type": "code",
      "metadata": {
        "id": "AKDZQOLETd21",
        "colab_type": "code",
        "colab": {}
      },
      "source": [
        "graph = gr.create_graph(\"abstracted_algorithm_runs.arff\")\n",
        "\n",
        "graph.save(\"abstracted_algorithm_runs.html\")"
      ],
      "execution_count": 0,
      "outputs": []
    },
    {
      "cell_type": "code",
      "metadata": {
        "id": "DmaPNpC6WsiW",
        "colab_type": "code",
        "colab": {}
      },
      "source": [
        "data_sources = [\"sayNi.arff\", \"sayHey.arff\", \"abstracted_algorithm_runs.arff\"]"
      ],
      "execution_count": 0,
      "outputs": []
    },
    {
      "cell_type": "code",
      "metadata": {
        "id": "gsHQs2sIdmCy",
        "colab_type": "code",
        "colab": {}
      },
      "source": [
        "uploads = files.upload()\n",
        "\n",
        "arff_uploads = []\n",
        "\n",
        "for fn in uploaded.keys():\n",
        "  name_length = fn.len()\n",
        "  ext_pos = name_length - 5\n",
        "  is_arff = fn.find(\".arff\", ext_pos, )"
      ],
      "execution_count": 0,
      "outputs": []
    },
    {
      "cell_type": "code",
      "metadata": {
        "id": "DgSnOHTZeTt7",
        "colab_type": "code",
        "outputId": "563a599d-753f-4236-a3cc-f9bcb010455e",
        "colab": {
          "base_uri": "https://localhost:8080/",
          "height": 221
        }
      },
      "source": [
        "os.listdir()"
      ],
      "execution_count": 0,
      "outputs": [
        {
          "output_type": "execute_result",
          "data": {
            "text/plain": [
              "['.config',\n",
              " 'sayNi.html',\n",
              " 'sayEverything.arff',\n",
              " 'graphable.py',\n",
              " 'abstracted_algorithm_runs.arff',\n",
              " 'sayNi.arff',\n",
              " '__pycache__',\n",
              " 'sayHey.arff',\n",
              " 'abstracted_algorithm_runs.html',\n",
              " 'bark_to_byte.py',\n",
              " 'sayHey.html',\n",
              " 'sample_data']"
            ]
          },
          "metadata": {
            "tags": []
          },
          "execution_count": 17
        }
      ]
    },
    {
      "cell_type": "code",
      "metadata": {
        "id": "QWJ4NF6_fInm",
        "colab_type": "code",
        "outputId": "175d4a9a-d2a3-4811-a784-ffd91a5b9082",
        "colab": {
          "base_uri": "https://localhost:8080/",
          "height": 85
        }
      },
      "source": [
        "files_in_dir = os.listdir()\n",
        "arff_files = []\n",
        "\n",
        "print(\"method called\")\n",
        "\n",
        "for fn in files_in_dir:\n",
        "  name_length = len(fn)\n",
        "  ext_pos = name_length - 5\n",
        "  arff_pos = fn.find(\".arff\", ext_pos)\n",
        "  is_arff = False\n",
        "  \n",
        "  if (arff_pos >= 0):\n",
        "    is_arff = True\n",
        "    \n",
        "  if (is_arff):\n",
        "    arff_files.append(fn)\n",
        "    \n",
        "\n",
        "    \n",
        "arff_files"
      ],
      "execution_count": 0,
      "outputs": [
        {
          "output_type": "execute_result",
          "data": {
            "text/plain": [
              "['sayEverything.arff',\n",
              " 'abstracted_algorithm_runs.arff',\n",
              " 'sayNi.arff',\n",
              " 'sayHey.arff']"
            ]
          },
          "metadata": {
            "tags": []
          },
          "execution_count": 4
        }
      ]
    },
    {
      "cell_type": "code",
      "metadata": {
        "id": "g_YkQ6DNfWuu",
        "colab_type": "code",
        "outputId": "dd2a0ad8-7357-46da-dd74-6cdc72411695",
        "colab": {
          "base_uri": "https://localhost:8080/",
          "height": 34
        }
      },
      "source": [
        "file = \"sayHey.arff\"\n",
        "\n",
        "name_length = len(file)\n",
        "ext_pos = name_length - 5\n",
        "arff_pos = file.find(\".arff\", ext_pos)\n",
        "\n",
        "if (arff_pos >= 0):\n",
        "  is_arff = True\n",
        "else:\n",
        "  is_arff = False\n",
        "  \n",
        "is_arff"
      ],
      "execution_count": 0,
      "outputs": [
        {
          "output_type": "execute_result",
          "data": {
            "text/plain": [
              "True"
            ]
          },
          "metadata": {
            "tags": []
          },
          "execution_count": 28
        }
      ]
    },
    {
      "cell_type": "code",
      "metadata": {
        "id": "TPdIqNlCNy_a",
        "colab_type": "code",
        "colab": {}
      },
      "source": [
        "data_sources = arff_files\n",
        "\n",
        "for src in data_sources:\n",
        "  graph = gr.create_graph(src)\n",
        "  name = src.replace(\".arff\", \"\")\n",
        "  graph.save(name + \".html\")"
      ],
      "execution_count": 0,
      "outputs": []
    },
    {
      "cell_type": "code",
      "metadata": {
        "id": "URdaPjKSN_Tm",
        "colab_type": "code",
        "colab": {}
      },
      "source": [
        "for src in data_sources:\n",
        "  name = src.replace(\".arff\", \"\")\n",
        "  files.download(name + \".html\")"
      ],
      "execution_count": 0,
      "outputs": []
    },
    {
      "cell_type": "code",
      "metadata": {
        "id": "fzL1e5gwY5wK",
        "colab_type": "code",
        "outputId": "0cfd9f51-93c5-443e-d20a-05f151b2a373",
        "colab": {
          "base_uri": "https://localhost:8080/",
          "height": 34
        }
      },
      "source": [
        "print(\"text\")"
      ],
      "execution_count": 0,
      "outputs": [
        {
          "output_type": "stream",
          "text": [
            "text\n"
          ],
          "name": "stdout"
        }
      ]
    },
    {
      "cell_type": "code",
      "metadata": {
        "id": "P4HJu-sjJSAP",
        "colab_type": "code",
        "outputId": "bde75247-945b-444c-bc43-2c8362bdf2b6",
        "colab": {
          "base_uri": "https://localhost:8080/",
          "height": 34
        }
      },
      "source": [
        "gr.create_graph(\"sayHey.arff\")"
      ],
      "execution_count": 0,
      "outputs": [
        {
          "output_type": "stream",
          "text": [
            "sayHey.arff: Cannot create graph.\n"
          ],
          "name": "stdout"
        }
      ]
    },
    {
      "cell_type": "code",
      "metadata": {
        "id": "9oN5rG4r-oNT",
        "colab_type": "code",
        "colab": {}
      },
      "source": [
        ""
      ],
      "execution_count": 0,
      "outputs": []
    }
  ]
}