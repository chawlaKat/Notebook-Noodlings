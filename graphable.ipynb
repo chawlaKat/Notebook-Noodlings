{
  "nbformat": 4,
  "nbformat_minor": 0,
  "metadata": {
    "colab": {
      "name": "graphable.ipynb",
      "provenance": [],
      "collapsed_sections": [
        "hWWlehfCNPla",
        "YCzWIVQgOgd2",
        "Amh19VKiPOvh"
      ],
      "toc_visible": true
    },
    "kernelspec": {
      "name": "python3",
      "display_name": "Python 3"
    }
  },
  "cells": [
    {
      "cell_type": "markdown",
      "metadata": {
        "id": "yaelYoylOmzl",
        "colab_type": "text"
      },
      "source": [
        "The script that actually generates a graph. Must include the methods: \n",
        "* create_graph()"
      ]
    },
    {
      "cell_type": "markdown",
      "metadata": {
        "id": "X73-457jeMO2",
        "colab_type": "text"
      },
      "source": [
        "If the graph can be generated, returns an Altair scatter plot.<br>\n",
        "If not, prints error statement and returns an empty variable.<br> <br>\n",
        "Currently, it creates a graph comparing the first two algorithms' runtimes. It also displays a legend. The active tiles of the legend respond to user clicks, but not all titles are active yet. It is not linked to scatter yet."
      ]
    },
    {
      "cell_type": "markdown",
      "metadata": {
        "id": "BBBvP8jJeVyI",
        "colab_type": "text"
      },
      "source": [
        "To export:\n",
        "* Comment out pip install\n",
        "* Comment out tests\n",
        "* Download as .py\n",
        "* Upload file to graphgenerator environment"
      ]
    },
    {
      "cell_type": "markdown",
      "metadata": {
        "id": "hWWlehfCNPla",
        "colab_type": "text"
      },
      "source": [
        "#Imports"
      ]
    },
    {
      "cell_type": "code",
      "metadata": {
        "id": "2UYDv2ViVYPZ",
        "colab_type": "code",
        "outputId": "eca58c71-b6b7-46a9-9050-d9089baf3100",
        "colab": {
          "base_uri": "https://localhost:8080/",
          "height": 190
        }
      },
      "source": [
        "# pip install liac_arff"
      ],
      "execution_count": 0,
      "outputs": [
        {
          "output_type": "stream",
          "text": [
            "Collecting liac_arff\n",
            "  Downloading https://files.pythonhosted.org/packages/e9/35/fbc9217cfa91d98888b43e1a19c03a50d716108c58494c558c65e308f372/liac-arff-2.4.0.tar.gz\n",
            "Building wheels for collected packages: liac-arff\n",
            "  Building wheel for liac-arff (setup.py) ... \u001b[?25l\u001b[?25hdone\n",
            "  Created wheel for liac-arff: filename=liac_arff-2.4.0-cp36-none-any.whl size=13333 sha256=a415ad8aec3cc4e5ccd5a9f11903670f6ed61957b20bef8beb6cb8e45e264cbe\n",
            "  Stored in directory: /root/.cache/pip/wheels/d1/6a/e7/529dc54d76ecede4346164a09ae3168df358945612710f5203\n",
            "Successfully built liac-arff\n",
            "Installing collected packages: liac-arff\n",
            "Successfully installed liac-arff-2.4.0\n"
          ],
          "name": "stdout"
        }
      ]
    },
    {
      "cell_type": "code",
      "metadata": {
        "id": "yYh2cCTSNM1g",
        "colab_type": "code",
        "colab": {}
      },
      "source": [
        "import altair as alt\n",
        "import pandas as pd\n",
        "import bark_to_byte as bb"
      ],
      "execution_count": 0,
      "outputs": []
    },
    {
      "cell_type": "markdown",
      "metadata": {
        "id": "YCzWIVQgOgd2",
        "colab_type": "text"
      },
      "source": [
        "#Helpers"
      ]
    },
    {
      "cell_type": "markdown",
      "metadata": {
        "id": "bx0NBQxKYbs9",
        "colab_type": "text"
      },
      "source": [
        "Convert to dataframe<br>\n",
        "TODO: move bark_to_byte code here instead of importing module"
      ]
    },
    {
      "cell_type": "code",
      "metadata": {
        "id": "Sr_2ReTlYbWS",
        "colab_type": "code",
        "colab": {}
      },
      "source": [
        "def convert_to_dataframe(file_name):\n",
        "  df = bb.arff_to_dataframe(file_name)\n",
        "  return df"
      ],
      "execution_count": 0,
      "outputs": []
    },
    {
      "cell_type": "markdown",
      "metadata": {
        "id": "1CQWWQMppv1F",
        "colab_type": "text"
      },
      "source": [
        "STUB: Get performance measure; <i>should_run()</i> currently only checks for 'runtime'"
      ]
    },
    {
      "cell_type": "code",
      "metadata": {
        "id": "QkR81wp8pvi6",
        "colab_type": "code",
        "colab": {}
      },
      "source": [
        "def get_performance_measure(df):\n",
        "\n",
        "  possible_measures = ['runtime', 'solution_quality', 'PAR10']\n",
        "\n",
        "  columns = list(df.columns)\n",
        "\n",
        "  for pm in possible_measures:\n",
        "    if (pm in columns):\n",
        "      return pm\n",
        "\n",
        "  return None"
      ],
      "execution_count": 0,
      "outputs": []
    },
    {
      "cell_type": "markdown",
      "metadata": {
        "id": "MUesHd4d73HQ",
        "colab_type": "text"
      },
      "source": [
        "STUB: Check if current code will work or not"
      ]
    },
    {
      "cell_type": "code",
      "metadata": {
        "id": "TAUe-tCh722v",
        "colab_type": "code",
        "colab": {}
      },
      "source": [
        "# check if scenario uses runtime as performance measure\n",
        "# therefore also checks whether input is, in fact, a scenario\n",
        "\n",
        "def should_run(df):\n",
        "  perf_measure = get_performance_measure(df)\n",
        "  \n",
        "  if (perf_measure == 'runtime'):\n",
        "    return True\n",
        "\n",
        "  return False"
      ],
      "execution_count": 0,
      "outputs": []
    },
    {
      "cell_type": "markdown",
      "metadata": {
        "id": "KIGjPR_YPTLj",
        "colab_type": "text"
      },
      "source": [
        "STUB: Format data"
      ]
    },
    {
      "cell_type": "code",
      "metadata": {
        "id": "MYs-NJfkOhgu",
        "colab_type": "code",
        "colab": {}
      },
      "source": [
        "# formatting for FOLD technique\n",
        "# set up so each instance has only one row, with columns for (Column x Algorithm)\n",
        "\n",
        "def format_data(df):\n",
        "  df_by_instance = None\n",
        "  formatted_df = None\n",
        "\n",
        "  # reorganize using multi-indexing\n",
        "  df_by_instance = df.set_index(['instance_id', 'algorithm']).unstack()\n",
        "\n",
        "  # flatten headers so we can remove the multi-index but keep the shape\n",
        "  flattened_headers = []\n",
        "\n",
        "  for entry in df_by_instance.columns.values:\n",
        "    flattened_headers.append('_'.join(entry))\n",
        "\n",
        "  df_by_instance.columns = flattened_headers\n",
        "\n",
        "  # remove multi-index; make it a simple dataframe again\n",
        "  formatted_df = df_by_instance.reset_index()\n",
        "\n",
        "  return formatted_df"
      ],
      "execution_count": 0,
      "outputs": []
    },
    {
      "cell_type": "markdown",
      "metadata": {
        "id": "cmpxKds3il1p",
        "colab_type": "text"
      },
      "source": [
        "STUB: Get required info for graph setup<br>"
      ]
    },
    {
      "cell_type": "code",
      "metadata": {
        "id": "BO5xNEkBimui",
        "colab_type": "code",
        "colab": {}
      },
      "source": [
        "def get_algs(df):\n",
        "  algs = list(df['algorithm'].unique())\n",
        "  return algs"
      ],
      "execution_count": 0,
      "outputs": []
    },
    {
      "cell_type": "markdown",
      "metadata": {
        "id": "CAgzm7ih3t3R",
        "colab_type": "text"
      },
      "source": [
        "\n",
        "Currently creates a list of columns of the format: <br>\n",
        "<i>solution\\_measure</i> + '<i>\\_</i>' + <i>algorithm</i><br>\n",
        "That is, it gets the runtime column for each algorithm in the scenario."
      ]
    },
    {
      "cell_type": "code",
      "metadata": {
        "id": "rcLxfRFw3tUR",
        "colab_type": "code",
        "colab": {}
      },
      "source": [
        "def get_graphable_columns(df, solution_measure):\n",
        "  algs = get_algs(df)\n",
        "  cols = list(map(lambda al:(solution_measure+'_'+al), algs))\n",
        "  return cols"
      ],
      "execution_count": 0,
      "outputs": []
    },
    {
      "cell_type": "markdown",
      "metadata": {
        "id": "P3DtzQ8SPDhC",
        "colab_type": "text"
      },
      "source": [
        "STUB: Create graph object"
      ]
    },
    {
      "cell_type": "code",
      "metadata": {
        "id": "z_H2cXAROkL_",
        "colab_type": "code",
        "colab": {}
      },
      "source": [
        "def create_scatter(df, cols):\n",
        "  # TODO: assign axes from dataframe!\n",
        "  \n",
        "  # check if expected vals are actual columns in data frame\n",
        "  # cols = df.columns\n",
        "  # x_axis = ''\n",
        "  # y_axis = ''\n",
        "  \n",
        "  # if ('a' in cols):\n",
        "  #   x_axis = 'a'\n",
        "    \n",
        "  # if ('b' in cols):\n",
        "  #   y_axis = 'b'\n",
        "\n",
        "  # STUB: first two graphable columns\n",
        "  x_axis = cols[0]\n",
        "  y_axis = cols[1]\n",
        "\n",
        "  ## ...why does this work again???\n",
        "  ## value_x should be the list the user can select from right?\n",
        "  # gph = alt.Chart(df).mark_circle(size=60).transform_fold(\n",
        "  #     cols,\n",
        "  #     as_ = ['column_x', 'value_x']\n",
        "  # ).transform_fold(\n",
        "  #     cols,\n",
        "  #     as_ = ['column_y', 'value_y']\n",
        "  # ).encode(\n",
        "  #     x = x_axis+':Q',\n",
        "  #     y = y_axis+':Q'\n",
        "  # )\n",
        "\n",
        "  gph = alt.Chart(df).mark_circle(size = 60).encode(\n",
        "      x = x_axis + ':Q',\n",
        "      y = y_axis + ':Q'\n",
        "  )\n",
        "  \n",
        "  return gph"
      ],
      "execution_count": 0,
      "outputs": []
    },
    {
      "cell_type": "markdown",
      "metadata": {
        "id": "bVJq4sG7gLtz",
        "colab_type": "text"
      },
      "source": [
        "STUB: create algorithm selection legend"
      ]
    },
    {
      "cell_type": "code",
      "metadata": {
        "id": "NxwdxTLHgKz9",
        "colab_type": "code",
        "colab": {}
      },
      "source": [
        "def create_legend(src):\n",
        "\n",
        "  # set up user input listener (only selects one element at a time)\n",
        "  alg_select = alt.selection_single()\n",
        "\n",
        "  # set up listener response (change color on click)\n",
        "  alg_color = alt.condition(alg_select,\n",
        "                        alt.value('steelblue'),\n",
        "                        alt.value('lightgray'))\n",
        "\n",
        "  # create graph\n",
        "  lgd = alt.Chart(src).mark_rect().encode(\n",
        "      y = 'algorithm:N',\n",
        "      x = 'algorithm:N'\n",
        "  )\n",
        "\n",
        "  # activate listener\n",
        "  lgd_listening = lgd.encode(\n",
        "      color = alg_color\n",
        "  ).add_selection(alg_select)\n",
        "\n",
        "  return lgd_listening"
      ],
      "execution_count": 0,
      "outputs": []
    },
    {
      "cell_type": "markdown",
      "metadata": {
        "id": "Amh19VKiPOvh",
        "colab_type": "text"
      },
      "source": [
        "#Main Method"
      ]
    },
    {
      "cell_type": "code",
      "metadata": {
        "id": "IKp40GX1PPz-",
        "colab_type": "code",
        "colab": {}
      },
      "source": [
        "def create_graph(arff_file_name):\n",
        "  source = convert_to_dataframe(arff_file_name)\n",
        "\n",
        "  is_correct_sltn_measure = should_run(source)\n",
        "\n",
        "  if(is_correct_sltn_measure):\n",
        "    sltn_measure = get_performance_measure(source)\n",
        "    dataframe = format_data(source)\n",
        "    axis_cols = get_graphable_columns(source, sltn_measure)\n",
        "    scatter = create_scatter(dataframe, axis_cols)\n",
        "    legend = create_legend(source)\n",
        "\n",
        "    graph = legend | scatter\n",
        "\n",
        "  else:\n",
        "    print(arff_file_name + \": Cannot create graph.\")\n",
        "    graph = None\n",
        "  \n",
        "  return graph"
      ],
      "execution_count": 0,
      "outputs": []
    },
    {
      "cell_type": "markdown",
      "metadata": {
        "id": "85ZrbctPROvO",
        "colab_type": "text"
      },
      "source": [
        "#Tests"
      ]
    },
    {
      "cell_type": "code",
      "metadata": {
        "id": "ChxiFz3_RPgk",
        "colab_type": "code",
        "colab": {}
      },
      "source": [
        "# source = convert_to_dataframe(\"abstracted_algorithm_runs.arff\")\n",
        "# format_data(source)"
      ],
      "execution_count": 0,
      "outputs": []
    },
    {
      "cell_type": "code",
      "metadata": {
        "id": "VIM-jJvMRRgg",
        "colab_type": "code",
        "outputId": "bff4fe1a-e648-4af1-ce2f-f5397a1afb07",
        "colab": {
          "base_uri": "https://localhost:8080/",
          "height": 370
        }
      },
      "source": [
        "# create_graph(\"abstracted_algorithm_runs.arff\")"
      ],
      "execution_count": 0,
      "outputs": [
        {
          "output_type": "execute_result",
          "data": {
            "text/plain": [
              "alt.HConcatChart(...)"
            ],
            "text/html": [
              "<!DOCTYPE html>\n",
              "<html>\n",
              "<head>\n",
              "  <style>\n",
              "    .vega-actions a {\n",
              "        margin-right: 12px;\n",
              "        color: #757575;\n",
              "        font-weight: normal;\n",
              "        font-size: 13px;\n",
              "    }\n",
              "    .error {\n",
              "        color: red;\n",
              "    }\n",
              "  </style>\n",
              "  <script type=\"text/javascript\" src=\"https://cdn.jsdelivr.net/npm//vega@5\"></script>\n",
              "  <script type=\"text/javascript\" src=\"https://cdn.jsdelivr.net/npm//vega-lite@3.4.0\"></script>\n",
              "  <script type=\"text/javascript\" src=\"https://cdn.jsdelivr.net/npm//vega-embed@4\"></script>\n",
              "</head>\n",
              "<body>\n",
              "  <div id=\"altair-viz\"></div>\n",
              "  <script>\n",
              "    (function(vegaEmbed) {\n",
              "      var spec = {\"config\": {\"view\": {\"width\": 400, \"height\": 300}, \"mark\": {\"tooltip\": null}}, \"hconcat\": [{\"data\": {\"name\": \"data-c4275514345efec21b7aeb848c42e09b\"}, \"mark\": \"rect\", \"encoding\": {\"color\": {\"condition\": {\"value\": \"steelblue\", \"selection\": \"selector014\"}, \"value\": \"lightgray\"}, \"x\": {\"type\": \"nominal\", \"field\": \"algorithm\"}, \"y\": {\"type\": \"nominal\", \"field\": \"algorithm\"}}, \"selection\": {\"selector014\": {\"type\": \"single\"}}}, {\"data\": {\"name\": \"data-da5c6bf6b32b3800509622e0dacb7bbb\"}, \"mark\": {\"type\": \"circle\", \"size\": 60}, \"encoding\": {\"x\": {\"type\": \"quantitative\", \"field\": \"runtime_algorithm_0\"}, \"y\": {\"type\": \"quantitative\", \"field\": \"runtime_algorithm_1\"}}}], \"$schema\": \"https://vega.github.io/schema/vega-lite/v3.4.0.json\", \"datasets\": {\"data-c4275514345efec21b7aeb848c42e09b\": [{\"instance_id\": \"Instance_0\", \"repetition\": 1.0, \"algorithm\": \"algorithm_0\", \"runtime\": 3600.0, \"runstatus\": \"memout\"}, {\"instance_id\": \"Instance_0\", \"repetition\": 1.0, \"algorithm\": \"algorithm_1\", \"runtime\": 3600.0, \"runstatus\": \"memout\"}, {\"instance_id\": \"Instance_0\", \"repetition\": 1.0, \"algorithm\": \"id_algorithm_0\", \"runtime\": 311.863, \"runstatus\": \"ok\"}, {\"instance_id\": \"Instance_0\", \"repetition\": 1.0, \"algorithm\": \"id_algorithm_1\", \"runtime\": 3600.0, \"runstatus\": \"timeout\"}, {\"instance_id\": \"Instance_1\", \"repetition\": 1.0, \"algorithm\": \"algorithm_0\", \"runtime\": 3600.0, \"runstatus\": \"memout\"}, {\"instance_id\": \"Instance_1\", \"repetition\": 1.0, \"algorithm\": \"algorithm_1\", \"runtime\": 3600.0, \"runstatus\": \"memout\"}, {\"instance_id\": \"Instance_1\", \"repetition\": 1.0, \"algorithm\": \"id_algorithm_0\", \"runtime\": 78.121, \"runstatus\": \"ok\"}, {\"instance_id\": \"Instance_1\", \"repetition\": 1.0, \"algorithm\": \"id_algorithm_1\", \"runtime\": 600.402, \"runstatus\": \"ok\"}, {\"instance_id\": \"Instance_2\", \"repetition\": 1.0, \"algorithm\": \"algorithm_0\", \"runtime\": 3600.0, \"runstatus\": \"memout\"}, {\"instance_id\": \"Instance_2\", \"repetition\": 1.0, \"algorithm\": \"algorithm_1\", \"runtime\": 3600.0, \"runstatus\": \"memout\"}, {\"instance_id\": \"Instance_2\", \"repetition\": 1.0, \"algorithm\": \"id_algorithm_0\", \"runtime\": 0.012, \"runstatus\": \"ok\"}, {\"instance_id\": \"Instance_2\", \"repetition\": 1.0, \"algorithm\": \"id_algorithm_1\", \"runtime\": 60.72, \"runstatus\": \"ok\"}, {\"instance_id\": \"Instance_3\", \"repetition\": 1.0, \"algorithm\": \"algorithm_0\", \"runtime\": 3600.0, \"runstatus\": \"memout\"}, {\"instance_id\": \"Instance_3\", \"repetition\": 1.0, \"algorithm\": \"algorithm_1\", \"runtime\": 92.986, \"runstatus\": \"ok\"}, {\"instance_id\": \"Instance_3\", \"repetition\": 1.0, \"algorithm\": \"id_algorithm_0\", \"runtime\": 2031.039, \"runstatus\": \"ok\"}, {\"instance_id\": \"Instance_3\", \"repetition\": 1.0, \"algorithm\": \"id_algorithm_1\", \"runtime\": 141.857, \"runstatus\": \"ok\"}, {\"instance_id\": \"Instance_4\", \"repetition\": 1.0, \"algorithm\": \"algorithm_0\", \"runtime\": 3600.0, \"runstatus\": \"memout\"}, {\"instance_id\": \"Instance_4\", \"repetition\": 1.0, \"algorithm\": \"algorithm_1\", \"runtime\": 3600.0, \"runstatus\": \"memout\"}, {\"instance_id\": \"Instance_4\", \"repetition\": 1.0, \"algorithm\": \"id_algorithm_0\", \"runtime\": 422.53, \"runstatus\": \"ok\"}, {\"instance_id\": \"Instance_4\", \"repetition\": 1.0, \"algorithm\": \"id_algorithm_1\", \"runtime\": 3600.0, \"runstatus\": \"timeout\"}, {\"instance_id\": \"Instance_5\", \"repetition\": 1.0, \"algorithm\": \"algorithm_0\", \"runtime\": 182.019, \"runstatus\": \"ok\"}, {\"instance_id\": \"Instance_5\", \"repetition\": 1.0, \"algorithm\": \"algorithm_1\", \"runtime\": 3600.0, \"runstatus\": \"memout\"}, {\"instance_id\": \"Instance_5\", \"repetition\": 1.0, \"algorithm\": \"id_algorithm_0\", \"runtime\": 66.988, \"runstatus\": \"ok\"}, {\"instance_id\": \"Instance_5\", \"repetition\": 1.0, \"algorithm\": \"id_algorithm_1\", \"runtime\": 249.488, \"runstatus\": \"ok\"}], \"data-da5c6bf6b32b3800509622e0dacb7bbb\": [{\"instance_id\": \"Instance_0\", \"repetition_algorithm_0\": 1.0, \"repetition_algorithm_1\": 1.0, \"repetition_id_algorithm_0\": 1.0, \"repetition_id_algorithm_1\": 1.0, \"runtime_algorithm_0\": 3600.0, \"runtime_algorithm_1\": 3600.0, \"runtime_id_algorithm_0\": 311.863, \"runtime_id_algorithm_1\": 3600.0, \"runstatus_algorithm_0\": \"memout\", \"runstatus_algorithm_1\": \"memout\", \"runstatus_id_algorithm_0\": \"ok\", \"runstatus_id_algorithm_1\": \"timeout\"}, {\"instance_id\": \"Instance_1\", \"repetition_algorithm_0\": 1.0, \"repetition_algorithm_1\": 1.0, \"repetition_id_algorithm_0\": 1.0, \"repetition_id_algorithm_1\": 1.0, \"runtime_algorithm_0\": 3600.0, \"runtime_algorithm_1\": 3600.0, \"runtime_id_algorithm_0\": 78.121, \"runtime_id_algorithm_1\": 600.402, \"runstatus_algorithm_0\": \"memout\", \"runstatus_algorithm_1\": \"memout\", \"runstatus_id_algorithm_0\": \"ok\", \"runstatus_id_algorithm_1\": \"ok\"}, {\"instance_id\": \"Instance_2\", \"repetition_algorithm_0\": 1.0, \"repetition_algorithm_1\": 1.0, \"repetition_id_algorithm_0\": 1.0, \"repetition_id_algorithm_1\": 1.0, \"runtime_algorithm_0\": 3600.0, \"runtime_algorithm_1\": 3600.0, \"runtime_id_algorithm_0\": 0.012, \"runtime_id_algorithm_1\": 60.72, \"runstatus_algorithm_0\": \"memout\", \"runstatus_algorithm_1\": \"memout\", \"runstatus_id_algorithm_0\": \"ok\", \"runstatus_id_algorithm_1\": \"ok\"}, {\"instance_id\": \"Instance_3\", \"repetition_algorithm_0\": 1.0, \"repetition_algorithm_1\": 1.0, \"repetition_id_algorithm_0\": 1.0, \"repetition_id_algorithm_1\": 1.0, \"runtime_algorithm_0\": 3600.0, \"runtime_algorithm_1\": 92.986, \"runtime_id_algorithm_0\": 2031.039, \"runtime_id_algorithm_1\": 141.857, \"runstatus_algorithm_0\": \"memout\", \"runstatus_algorithm_1\": \"ok\", \"runstatus_id_algorithm_0\": \"ok\", \"runstatus_id_algorithm_1\": \"ok\"}, {\"instance_id\": \"Instance_4\", \"repetition_algorithm_0\": 1.0, \"repetition_algorithm_1\": 1.0, \"repetition_id_algorithm_0\": 1.0, \"repetition_id_algorithm_1\": 1.0, \"runtime_algorithm_0\": 3600.0, \"runtime_algorithm_1\": 3600.0, \"runtime_id_algorithm_0\": 422.53, \"runtime_id_algorithm_1\": 3600.0, \"runstatus_algorithm_0\": \"memout\", \"runstatus_algorithm_1\": \"memout\", \"runstatus_id_algorithm_0\": \"ok\", \"runstatus_id_algorithm_1\": \"timeout\"}, {\"instance_id\": \"Instance_5\", \"repetition_algorithm_0\": 1.0, \"repetition_algorithm_1\": 1.0, \"repetition_id_algorithm_0\": 1.0, \"repetition_id_algorithm_1\": 1.0, \"runtime_algorithm_0\": 182.019, \"runtime_algorithm_1\": 3600.0, \"runtime_id_algorithm_0\": 66.988, \"runtime_id_algorithm_1\": 249.488, \"runstatus_algorithm_0\": \"ok\", \"runstatus_algorithm_1\": \"memout\", \"runstatus_id_algorithm_0\": \"ok\", \"runstatus_id_algorithm_1\": \"ok\"}]}};\n",
              "      var embedOpt = {\"mode\": \"vega-lite\"};\n",
              "\n",
              "      function showError(el, error){\n",
              "          el.innerHTML = ('<div class=\"error\" style=\"color:red;\">'\n",
              "                          + '<p>JavaScript Error: ' + error.message + '</p>'\n",
              "                          + \"<p>This usually means there's a typo in your chart specification. \"\n",
              "                          + \"See the javascript console for the full traceback.</p>\"\n",
              "                          + '</div>');\n",
              "          throw error;\n",
              "      }\n",
              "      const el = document.getElementById('altair-viz');\n",
              "      vegaEmbed(\"#altair-viz\", spec, embedOpt)\n",
              "        .catch(error => showError(el, error));\n",
              "    })(vegaEmbed);\n",
              "\n",
              "  </script>\n",
              "</body>\n",
              "</html>"
            ]
          },
          "metadata": {
            "tags": []
          },
          "execution_count": 60
        }
      ]
    },
    {
      "cell_type": "code",
      "metadata": {
        "id": "JmXW8W-gRZyL",
        "colab_type": "code",
        "colab": {}
      },
      "source": [
        "# source = convert_to_dataframe(\"sayHey.arff\")\n",
        "# should_run(source)"
      ],
      "execution_count": 0,
      "outputs": []
    },
    {
      "cell_type": "code",
      "metadata": {
        "id": "ttrf5OQw8g1Y",
        "colab_type": "code",
        "colab": {}
      },
      "source": [
        "#  create_graph(\"sayHey.arff\")"
      ],
      "execution_count": 0,
      "outputs": []
    },
    {
      "cell_type": "code",
      "metadata": {
        "id": "K-fcjPeqa6iG",
        "colab_type": "code",
        "outputId": "4a3da4a6-368a-4072-ac16-95d83b128e7d",
        "colab": {
          "base_uri": "https://localhost:8080/",
          "height": 34
        }
      },
      "source": [
        "# # how does python work: can you check a var's value when it's assigned None?\n",
        "# # yes\n",
        "\n",
        "# empty_var = None\n",
        "# if (empty_var == 'twenty-two'):\n",
        "#   print(\"entered if\")\n",
        "# else:\n",
        "#   print(\"entered else\")\n"
      ],
      "execution_count": 0,
      "outputs": [
        {
          "output_type": "stream",
          "text": [
            "entered else\n"
          ],
          "name": "stdout"
        }
      ]
    },
    {
      "cell_type": "code",
      "metadata": {
        "id": "-GP3qnelyeIy",
        "colab_type": "code",
        "outputId": "32b2b43b-c6e1-427d-b885-3423a38b01f8",
        "colab": {
          "base_uri": "https://localhost:8080/",
          "height": 199
        }
      },
      "source": [
        "# source = convert_to_dataframe(\"abstracted_algorithm_runs.arff\")\n",
        "# legend = create_legend(source)\n",
        "\n",
        "# alg_select = alt.selection_single()\n",
        "# alg_color =     alg_color = alt.condition(alg_select,\n",
        "#                           alt.value('steelblue'),\n",
        "#                           alt.value('lightgray'))\n",
        "\n",
        "# legend_colored = legend.encode(color = alg_color)\n",
        "\n",
        "# legend_intacv = legend_colored.add_selection(alg_select)\n",
        "\n",
        "# legend_intacv"
      ],
      "execution_count": 0,
      "outputs": [
        {
          "output_type": "execute_result",
          "data": {
            "text/plain": [
              "alt.Chart(...)"
            ],
            "text/html": [
              "<!DOCTYPE html>\n",
              "<html>\n",
              "<head>\n",
              "  <style>\n",
              "    .vega-actions a {\n",
              "        margin-right: 12px;\n",
              "        color: #757575;\n",
              "        font-weight: normal;\n",
              "        font-size: 13px;\n",
              "    }\n",
              "    .error {\n",
              "        color: red;\n",
              "    }\n",
              "  </style>\n",
              "  <script type=\"text/javascript\" src=\"https://cdn.jsdelivr.net/npm//vega@5\"></script>\n",
              "  <script type=\"text/javascript\" src=\"https://cdn.jsdelivr.net/npm//vega-lite@3.4.0\"></script>\n",
              "  <script type=\"text/javascript\" src=\"https://cdn.jsdelivr.net/npm//vega-embed@4\"></script>\n",
              "</head>\n",
              "<body>\n",
              "  <div id=\"altair-viz\"></div>\n",
              "  <script>\n",
              "    (function(vegaEmbed) {\n",
              "      var spec = {\"config\": {\"view\": {\"width\": 400, \"height\": 300}, \"mark\": {\"tooltip\": null}}, \"data\": {\"name\": \"data-c4275514345efec21b7aeb848c42e09b\"}, \"mark\": \"rect\", \"encoding\": {\"color\": {\"condition\": {\"value\": \"steelblue\", \"selection\": \"selector012\"}, \"value\": \"lightgray\"}, \"x\": {\"type\": \"nominal\", \"field\": \"algorithm\"}, \"y\": {\"type\": \"nominal\", \"field\": \"algorithm\"}}, \"selection\": {\"selector011\": {\"type\": \"single\"}, \"selector012\": {\"type\": \"single\"}}, \"$schema\": \"https://vega.github.io/schema/vega-lite/v3.4.0.json\", \"datasets\": {\"data-c4275514345efec21b7aeb848c42e09b\": [{\"instance_id\": \"Instance_0\", \"repetition\": 1.0, \"algorithm\": \"algorithm_0\", \"runtime\": 3600.0, \"runstatus\": \"memout\"}, {\"instance_id\": \"Instance_0\", \"repetition\": 1.0, \"algorithm\": \"algorithm_1\", \"runtime\": 3600.0, \"runstatus\": \"memout\"}, {\"instance_id\": \"Instance_0\", \"repetition\": 1.0, \"algorithm\": \"id_algorithm_0\", \"runtime\": 311.863, \"runstatus\": \"ok\"}, {\"instance_id\": \"Instance_0\", \"repetition\": 1.0, \"algorithm\": \"id_algorithm_1\", \"runtime\": 3600.0, \"runstatus\": \"timeout\"}, {\"instance_id\": \"Instance_1\", \"repetition\": 1.0, \"algorithm\": \"algorithm_0\", \"runtime\": 3600.0, \"runstatus\": \"memout\"}, {\"instance_id\": \"Instance_1\", \"repetition\": 1.0, \"algorithm\": \"algorithm_1\", \"runtime\": 3600.0, \"runstatus\": \"memout\"}, {\"instance_id\": \"Instance_1\", \"repetition\": 1.0, \"algorithm\": \"id_algorithm_0\", \"runtime\": 78.121, \"runstatus\": \"ok\"}, {\"instance_id\": \"Instance_1\", \"repetition\": 1.0, \"algorithm\": \"id_algorithm_1\", \"runtime\": 600.402, \"runstatus\": \"ok\"}, {\"instance_id\": \"Instance_2\", \"repetition\": 1.0, \"algorithm\": \"algorithm_0\", \"runtime\": 3600.0, \"runstatus\": \"memout\"}, {\"instance_id\": \"Instance_2\", \"repetition\": 1.0, \"algorithm\": \"algorithm_1\", \"runtime\": 3600.0, \"runstatus\": \"memout\"}, {\"instance_id\": \"Instance_2\", \"repetition\": 1.0, \"algorithm\": \"id_algorithm_0\", \"runtime\": 0.012, \"runstatus\": \"ok\"}, {\"instance_id\": \"Instance_2\", \"repetition\": 1.0, \"algorithm\": \"id_algorithm_1\", \"runtime\": 60.72, \"runstatus\": \"ok\"}, {\"instance_id\": \"Instance_3\", \"repetition\": 1.0, \"algorithm\": \"algorithm_0\", \"runtime\": 3600.0, \"runstatus\": \"memout\"}, {\"instance_id\": \"Instance_3\", \"repetition\": 1.0, \"algorithm\": \"algorithm_1\", \"runtime\": 92.986, \"runstatus\": \"ok\"}, {\"instance_id\": \"Instance_3\", \"repetition\": 1.0, \"algorithm\": \"id_algorithm_0\", \"runtime\": 2031.039, \"runstatus\": \"ok\"}, {\"instance_id\": \"Instance_3\", \"repetition\": 1.0, \"algorithm\": \"id_algorithm_1\", \"runtime\": 141.857, \"runstatus\": \"ok\"}, {\"instance_id\": \"Instance_4\", \"repetition\": 1.0, \"algorithm\": \"algorithm_0\", \"runtime\": 3600.0, \"runstatus\": \"memout\"}, {\"instance_id\": \"Instance_4\", \"repetition\": 1.0, \"algorithm\": \"algorithm_1\", \"runtime\": 3600.0, \"runstatus\": \"memout\"}, {\"instance_id\": \"Instance_4\", \"repetition\": 1.0, \"algorithm\": \"id_algorithm_0\", \"runtime\": 422.53, \"runstatus\": \"ok\"}, {\"instance_id\": \"Instance_4\", \"repetition\": 1.0, \"algorithm\": \"id_algorithm_1\", \"runtime\": 3600.0, \"runstatus\": \"timeout\"}, {\"instance_id\": \"Instance_5\", \"repetition\": 1.0, \"algorithm\": \"algorithm_0\", \"runtime\": 182.019, \"runstatus\": \"ok\"}, {\"instance_id\": \"Instance_5\", \"repetition\": 1.0, \"algorithm\": \"algorithm_1\", \"runtime\": 3600.0, \"runstatus\": \"memout\"}, {\"instance_id\": \"Instance_5\", \"repetition\": 1.0, \"algorithm\": \"id_algorithm_0\", \"runtime\": 66.988, \"runstatus\": \"ok\"}, {\"instance_id\": \"Instance_5\", \"repetition\": 1.0, \"algorithm\": \"id_algorithm_1\", \"runtime\": 249.488, \"runstatus\": \"ok\"}]}};\n",
              "      var embedOpt = {\"mode\": \"vega-lite\"};\n",
              "\n",
              "      function showError(el, error){\n",
              "          el.innerHTML = ('<div class=\"error\" style=\"color:red;\">'\n",
              "                          + '<p>JavaScript Error: ' + error.message + '</p>'\n",
              "                          + \"<p>This usually means there's a typo in your chart specification. \"\n",
              "                          + \"See the javascript console for the full traceback.</p>\"\n",
              "                          + '</div>');\n",
              "          throw error;\n",
              "      }\n",
              "      const el = document.getElementById('altair-viz');\n",
              "      vegaEmbed(\"#altair-viz\", spec, embedOpt)\n",
              "        .catch(error => showError(el, error));\n",
              "    })(vegaEmbed);\n",
              "\n",
              "  </script>\n",
              "</body>\n",
              "</html>"
            ]
          },
          "metadata": {
            "tags": []
          },
          "execution_count": 51
        }
      ]
    }
  ]
}