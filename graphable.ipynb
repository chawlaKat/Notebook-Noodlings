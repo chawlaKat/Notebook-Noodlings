{
  "nbformat": 4,
  "nbformat_minor": 0,
  "metadata": {
    "colab": {
      "name": "graphable.ipynb",
      "provenance": [],
      "collapsed_sections": []
    },
    "kernelspec": {
      "name": "python3",
      "display_name": "Python 3"
    }
  },
  "cells": [
    {
      "cell_type": "markdown",
      "metadata": {
        "id": "yaelYoylOmzl",
        "colab_type": "text"
      },
      "source": [
        "The script that actually generates a graph. Must include the methods: \n",
        "* create_graph()"
      ]
    },
    {
      "cell_type": "markdown",
      "metadata": {
        "id": "X73-457jeMO2",
        "colab_type": "text"
      },
      "source": [
        "If the graph can be generated, returns an Altair scatter plot.<br>\n",
        "If not, prints error statement and returns an empty variable.<br> \n",
        "If the graphed performance measure isn't the one you expected, you can explicitly specify it by passing in the (exact) measure (not performance type) as a string.\n",
        "<br><br>\n",
        "Currently, it creates a graph comparing the first two algorithms' runtimes. It also displays a legend of algorithms and a legend of runstatuses."
      ]
    },
    {
      "cell_type": "markdown",
      "metadata": {
        "id": "BBBvP8jJeVyI",
        "colab_type": "text"
      },
      "source": [
        "To export:\n",
        "* Comment out pip install\n",
        "* Comment out tests\n",
        "* Download as .py\n",
        "* Upload file to graphgenerator environment"
      ]
    },
    {
      "cell_type": "markdown",
      "metadata": {
        "id": "hWWlehfCNPla",
        "colab_type": "text"
      },
      "source": [
        "#Imports"
      ]
    },
    {
      "cell_type": "code",
      "metadata": {
        "id": "2UYDv2ViVYPZ",
        "colab_type": "code",
        "outputId": "b6202aec-05c1-4484-be2e-93aa4b2639b1",
        "colab": {
          "base_uri": "https://localhost:8080/",
          "height": 190
        }
      },
      "source": [
        "# pip install liac_arff"
      ],
      "execution_count": 0,
      "outputs": [
        {
          "output_type": "stream",
          "text": [
            "Collecting liac_arff\n",
            "  Downloading https://files.pythonhosted.org/packages/e9/35/fbc9217cfa91d98888b43e1a19c03a50d716108c58494c558c65e308f372/liac-arff-2.4.0.tar.gz\n",
            "Building wheels for collected packages: liac-arff\n",
            "  Building wheel for liac-arff (setup.py) ... \u001b[?25l\u001b[?25hdone\n",
            "  Created wheel for liac-arff: filename=liac_arff-2.4.0-cp36-none-any.whl size=13333 sha256=cf2a83657db4687701dd19bc17603342c7aed22ea1c7427554ec95ec73e1ff9e\n",
            "  Stored in directory: /root/.cache/pip/wheels/d1/6a/e7/529dc54d76ecede4346164a09ae3168df358945612710f5203\n",
            "Successfully built liac-arff\n",
            "Installing collected packages: liac-arff\n",
            "Successfully installed liac-arff-2.4.0\n"
          ],
          "name": "stdout"
        }
      ]
    },
    {
      "cell_type": "code",
      "metadata": {
        "id": "yYh2cCTSNM1g",
        "colab_type": "code",
        "outputId": "7f87d36b-a592-438d-e1be-fa97788324b2",
        "colab": {
          "base_uri": "https://localhost:8080/",
          "height": 34
        }
      },
      "source": [
        "import altair as alt\n",
        "import pandas as pd\n",
        "import bark_to_byte as bb\n",
        "alt.data_transformers.disable_max_rows()"
      ],
      "execution_count": 0,
      "outputs": [
        {
          "output_type": "execute_result",
          "data": {
            "text/plain": [
              "DataTransformerRegistry.enable('default')"
            ]
          },
          "metadata": {
            "tags": []
          },
          "execution_count": 34
        }
      ]
    },
    {
      "cell_type": "markdown",
      "metadata": {
        "id": "YCzWIVQgOgd2",
        "colab_type": "text"
      },
      "source": [
        "#Helpers"
      ]
    },
    {
      "cell_type": "markdown",
      "metadata": {
        "id": "bx0NBQxKYbs9",
        "colab_type": "text"
      },
      "source": [
        "Convert to dataframe<br>\n",
        "TODO: move bark_to_byte code here instead of importing module"
      ]
    },
    {
      "cell_type": "code",
      "metadata": {
        "id": "Sr_2ReTlYbWS",
        "colab_type": "code",
        "colab": {}
      },
      "source": [
        "def convert_to_dataframe(file_name):\n",
        "  df = bb.arff_to_dataframe(file_name)\n",
        "  return df"
      ],
      "execution_count": 0,
      "outputs": []
    },
    {
      "cell_type": "markdown",
      "metadata": {
        "id": "WofybZI8-eRB",
        "colab_type": "text"
      },
      "source": [
        "Check if performance measure exists"
      ]
    },
    {
      "cell_type": "code",
      "metadata": {
        "id": "QkR81wp8pvi6",
        "colab_type": "code",
        "colab": {}
      },
      "source": [
        "def get_performance_measure(df):\n",
        "\n",
        "  possible_measures = ['runtime', 'solution_quality', 'PAR10', 'obj']\n",
        "\n",
        "  columns = list(df.columns)\n",
        "\n",
        "  for pm in possible_measures:\n",
        "    if (pm in columns):\n",
        "      return pm\n",
        "\n",
        "  return None"
      ],
      "execution_count": 0,
      "outputs": []
    },
    {
      "cell_type": "markdown",
      "metadata": {
        "id": "MUesHd4d73HQ",
        "colab_type": "text"
      },
      "source": [
        "Check if solution measure is present in source columns."
      ]
    },
    {
      "cell_type": "code",
      "metadata": {
        "id": "TAUe-tCh722v",
        "colab_type": "code",
        "colab": {}
      },
      "source": [
        "# check if scenario uses desired performance measure\n",
        "# therefore also checks whether input is, in fact, a scenario\n",
        "\n",
        "def should_run(df, sltn_msr):\n",
        "  if (sltn_msr):\n",
        "    return True\n",
        "  \n",
        "  return False"
      ],
      "execution_count": 0,
      "outputs": []
    },
    {
      "cell_type": "markdown",
      "metadata": {
        "id": "KIGjPR_YPTLj",
        "colab_type": "text"
      },
      "source": [
        "Formats data so graphing methods can manipulate it, using join technique."
      ]
    },
    {
      "cell_type": "code",
      "metadata": {
        "id": "aFVHUYuTykrn",
        "colab_type": "code",
        "colab": {}
      },
      "source": [
        "# formatting for JOIN technique\n",
        "# set up so each instance only has one row, with twice the original columns;\n",
        "#   each is of the format \"column_name\" + \"_x\" and \"column_name\" + \"_y\"\n",
        "def format_data_join(df):\n",
        "  # ensure keys are correct\n",
        "  df = df.set_index('instance_id')\n",
        "\n",
        "  # join set with itself, add \"_x\" suffix on left, \"_y\" suffix on right\n",
        "  df_joined = df.join(df, lsuffix='_x', rsuffix='_y')\n",
        "\n",
        "  # cleanup, re-flattens index\n",
        "  df_joined.reset_index(inplace=True)\n",
        "\n",
        "  return df_joined\n"
      ],
      "execution_count": 0,
      "outputs": []
    },
    {
      "cell_type": "markdown",
      "metadata": {
        "id": "xN-kLaCN-AhT",
        "colab_type": "text"
      },
      "source": [
        "Create scatter plot from joined data"
      ]
    },
    {
      "cell_type": "code",
      "metadata": {
        "id": "_c3cDPEE2Gq4",
        "colab_type": "code",
        "colab": {}
      },
      "source": [
        "def create_scatter_join(df, performance_measure, mkr_size = 60):\n",
        "  x_msr = performance_measure + '_x'\n",
        "  y_msr = performance_measure + '_y'\n",
        "\n",
        "  new_sctr = alt.Chart(df).mark_circle(size=mkr_size).encode(\n",
        "      x = x_msr,\n",
        "      y = y_msr,\n",
        "      tooltip = ['instance_id', 'algorithm_x', 'algorithm_y',\n",
        "                 x_msr, y_msr, 'runstatus_x', 'runstatus_y']\n",
        "  )\n",
        "\n",
        "  new_sctr = new_sctr.interactive()\n",
        "\n",
        "  return new_sctr"
      ],
      "execution_count": 0,
      "outputs": []
    },
    {
      "cell_type": "markdown",
      "metadata": {
        "id": "bVJq4sG7gLtz",
        "colab_type": "text"
      },
      "source": [
        "Create legend"
      ]
    },
    {
      "cell_type": "code",
      "metadata": {
        "id": "NxwdxTLHgKz9",
        "colab_type": "code",
        "colab": {}
      },
      "source": [
        "def create_legend(df, x_axis, y_axis):\n",
        "\n",
        "  new_lgd = alt.Chart(df).mark_rect().encode(\n",
        "      x = x_axis,\n",
        "      y = y_axis\n",
        "  )\n",
        "\n",
        "  return new_lgd"
      ],
      "execution_count": 0,
      "outputs": []
    },
    {
      "cell_type": "markdown",
      "metadata": {
        "id": "n3WC6GcxVUlo",
        "colab_type": "text"
      },
      "source": [
        "Define color change behavior when selector updates"
      ]
    },
    {
      "cell_type": "code",
      "metadata": {
        "id": "HchZbXqu2DkU",
        "colab_type": "code",
        "colab": {}
      },
      "source": [
        "def create_color_condition(selector, color_true = alt.value('steelblue'), \n",
        "                           color_false = alt.value('darkgray')):\n",
        "\n",
        "  condition = alt.condition(selector, color_true, color_false)\n",
        "\n",
        "  return condition"
      ],
      "execution_count": 0,
      "outputs": []
    },
    {
      "cell_type": "markdown",
      "metadata": {
        "id": "Amh19VKiPOvh",
        "colab_type": "text"
      },
      "source": [
        "#Main Method\n",
        "\n",
        "TODO: adjust custom performance measure error handling"
      ]
    },
    {
      "cell_type": "code",
      "metadata": {
        "id": "IKp40GX1PPz-",
        "colab_type": "code",
        "colab": {}
      },
      "source": [
        "def create_graph(arff_file_name, sltn_measure = ''):\n",
        "  source = convert_to_dataframe(arff_file_name)\n",
        "\n",
        "  # check if solution measure is present in source columns, otherwise don't bother\n",
        "  if (sltn_measure == ''):\n",
        "    sltn_measure = get_performance_measure(source)\n",
        "  is_correct_sltn_measure = should_run(source, sltn_measure)\n",
        "\n",
        "  if(is_correct_sltn_measure):\n",
        "    # format data\n",
        "    dataframe = format_data_join(source)\n",
        "\n",
        "    # create plots\n",
        "    scatter = create_scatter_join(dataframe, sltn_measure)\n",
        "    alg_legend = create_legend(dataframe, 'algorithm_x', 'algorithm_y')\n",
        "    stat_legend = create_legend(dataframe, 'runstatus_x', 'runstatus_y')\n",
        "\n",
        "    # add interactivity\n",
        "    alg_selector = alt.selection_single(fields = ['algorithm_x', 'algorithm_y'])\n",
        "    stat_selector = alt.selection_multi(fields = ['runstatus_x', 'runstatus_y'])\n",
        "\n",
        "    alg_legend = alg_legend.add_selection(alg_selector)\n",
        "    stat_legend = stat_legend.add_selection(stat_selector)\n",
        "\n",
        "    alg_colors = create_color_condition(alg_selector)\n",
        "    stat_colors = create_color_condition(stat_selector)\n",
        "\n",
        "    alg_legend = alg_legend.encode(color = alg_colors)\n",
        "    stat_legend = stat_legend.encode(color = stat_colors)\n",
        "\n",
        "    scatter = scatter.transform_filter(alg_selector)\n",
        "    scatter = scatter.transform_filter(stat_selector)\n",
        "\n",
        "    # concat finished plots\n",
        "    graph = (alg_legend & stat_legend) | scatter\n",
        "\n",
        "\n",
        "  else:\n",
        "    print(arff_file_name + \": Cannot create graph.\")\n",
        "    graph = None\n",
        "  \n",
        "  return graph"
      ],
      "execution_count": 0,
      "outputs": []
    },
    {
      "cell_type": "markdown",
      "metadata": {
        "id": "85ZrbctPROvO",
        "colab_type": "text"
      },
      "source": [
        "#Tests"
      ]
    },
    {
      "cell_type": "code",
      "metadata": {
        "id": "ChxiFz3_RPgk",
        "colab_type": "code",
        "colab": {}
      },
      "source": [
        "# source = convert_to_dataframe(\"abstracted_algorithm_runs.arff\")\n",
        "# format_data_join(source).head()"
      ],
      "execution_count": 0,
      "outputs": []
    },
    {
      "cell_type": "code",
      "metadata": {
        "id": "VIM-jJvMRRgg",
        "colab_type": "code",
        "colab": {}
      },
      "source": [
        "# create_graph(\"abstracted_algorithm_runs.arff\")"
      ],
      "execution_count": 0,
      "outputs": []
    },
    {
      "cell_type": "code",
      "metadata": {
        "id": "TAUyyvbP20iG",
        "colab_type": "code",
        "colab": {}
      },
      "source": [
        "# graph = create_graph(\"csp-mzn-2013_algorithm_runs.arff\", \"runtime\")\n",
        "# graph.save(\"csp-mzn-2013_algorithm_runs.html\")"
      ],
      "execution_count": 0,
      "outputs": []
    },
    {
      "cell_type": "code",
      "metadata": {
        "id": "wfreo4Pe4vQe",
        "colab_type": "code",
        "colab": {}
      },
      "source": [
        "# create_graph(\"csp-minizinc-obj-2016_algorithm_runs.arff\")"
      ],
      "execution_count": 0,
      "outputs": []
    },
    {
      "cell_type": "code",
      "metadata": {
        "id": "JmXW8W-gRZyL",
        "colab_type": "code",
        "colab": {}
      },
      "source": [
        "# source = convert_to_dataframe(\"sayHey.arff\")\n",
        "# should_run(source)"
      ],
      "execution_count": 0,
      "outputs": []
    },
    {
      "cell_type": "code",
      "metadata": {
        "id": "ttrf5OQw8g1Y",
        "colab_type": "code",
        "colab": {}
      },
      "source": [
        "#  create_graph(\"sayHey.arff\")"
      ],
      "execution_count": 0,
      "outputs": []
    },
    {
      "cell_type": "code",
      "metadata": {
        "id": "K-fcjPeqa6iG",
        "colab_type": "code",
        "colab": {}
      },
      "source": [
        "# # how does python work: can you check a var's value when it's assigned None?\n",
        "# # yes\n",
        "\n",
        "# empty_var = None\n",
        "# if (empty_var == 'twenty-two'):\n",
        "#   print(\"entered if\")\n",
        "# else:\n",
        "#   print(\"entered else\")\n"
      ],
      "execution_count": 0,
      "outputs": []
    },
    {
      "cell_type": "code",
      "metadata": {
        "id": "-GP3qnelyeIy",
        "colab_type": "code",
        "colab": {}
      },
      "source": [
        "# source = convert_to_dataframe(\"abstracted_algorithm_runs.arff\")\n",
        "# legend = create_legend(source)\n",
        "\n",
        "# alg_select = alt.selection_single()\n",
        "# alg_color =     alg_color = alt.condition(alg_select,\n",
        "#                           alt.value('steelblue'),\n",
        "#                           alt.value('lightgray'))\n",
        "\n",
        "# legend_colored = legend.encode(color = alg_color)\n",
        "\n",
        "# legend_intacv = legend_colored.add_selection(alg_select)\n",
        "\n",
        "# legend_intacv"
      ],
      "execution_count": 0,
      "outputs": []
    },
    {
      "cell_type": "code",
      "metadata": {
        "id": "4i2Ntb58lxHW",
        "colab_type": "code",
        "colab": {}
      },
      "source": [
        "# # making a dataframe with two identical columns, for legend\n",
        "# src = bb.arff_to_dataframe('abstracted_algorithm_runs.arff')\n",
        "# legend_src = pd.DataFrame()\n",
        "# # legend_src['alg_x'] = src['algorithm']\n",
        "# # legend_src['alg_y'] = src['algorithm']\n",
        "# # legend_src\n",
        "\n",
        "# # alt.Chart(legend_src).mark_rect().encode(\n",
        "# #     x = 'alg_x',\n",
        "# #     y = 'alg_y'\n",
        "# # )\n",
        "\n",
        "# format_src = format_data(src)\n",
        "# format_src\n",
        "\n",
        "# alt.Chart(format_src).encode()"
      ],
      "execution_count": 0,
      "outputs": []
    }
  ]
}